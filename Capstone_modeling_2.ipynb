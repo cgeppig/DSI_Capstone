{
 "cells": [
  {
   "cell_type": "code",
   "execution_count": 67,
   "metadata": {},
   "outputs": [],
   "source": [
    "import pandas as pd\n",
    "import numpy as np\n",
    "import csv\n",
    "from sklearn.feature_extraction.text import CountVectorizer\n",
    "from sklearn.feature_extraction.text import TfidfVectorizer\n",
    "import matplotlib.pyplot as plt\n",
    "%matplotlib inline\n",
    "import seaborn as sns\n",
    "from sklearn.cross_validation import train_test_split\n",
    "from sklearn.ensemble import RandomForestClassifier, ExtraTreesClassifier\n",
    "from sklearn.tree import DecisionTreeClassifier\n",
    "from sklearn.grid_search import GridSearchCV\n",
    "from sklearn.metrics import confusion_matrix, classification_report\n",
    "from sklearn.preprocessing import StandardScaler\n",
    "from sklearn.metrics import roc_curve, auc\n",
    "from sklearn.ensemble import GradientBoostingClassifier\n",
    "from sklearn.ensemble import AdaBoostClassifier\n",
    "from xgboost import XGBClassifier\n",
    "from sklearn.svm import SVC, NuSVC, LinearSVC\n",
    "\n",
    "from IPython.display import Image\n",
    "from sklearn import tree\n",
    "import pydotplus\n",
    "import os\n",
    "from os import system\n",
    "from sklearn.linear_model import LogisticRegression\n",
    "from datetime import datetime\n",
    "import pickle"
   ]
  },
  {
   "cell_type": "code",
   "execution_count": 82,
   "metadata": {
    "collapsed": true
   },
   "outputs": [],
   "source": [
    "shows = pd.read_csv('good_shows_data2.csv')"
   ]
  },
  {
   "cell_type": "code",
   "execution_count": 10,
   "metadata": {
    "collapsed": true
   },
   "outputs": [],
   "source": [
    "pd.set_option('max_seq_items', 200)"
   ]
  },
  {
   "cell_type": "code",
   "execution_count": 11,
   "metadata": {},
   "outputs": [
    {
     "data": {
      "text/plain": [
       "(2515, 168)"
      ]
     },
     "execution_count": 11,
     "metadata": {},
     "output_type": "execute_result"
    }
   ],
   "source": [
    "shows.shape"
   ]
  },
  {
   "cell_type": "code",
   "execution_count": 83,
   "metadata": {
    "scrolled": true
   },
   "outputs": [],
   "source": [
    "## dropping old shows\n",
    "shows = shows[shows['release_date']>=1980]"
   ]
  },
  {
   "cell_type": "code",
   "execution_count": 84,
   "metadata": {},
   "outputs": [],
   "source": [
    "## dropping shows where I don't know whether they were cancelled\n",
    "shows = shows[shows['seasons'] != 0]"
   ]
  },
  {
   "cell_type": "code",
   "execution_count": 85,
   "metadata": {},
   "outputs": [],
   "source": [
    "shows['release_date'] = shows['release_date'].dropna().apply(lambda x: datetime.strptime(x, '%Y-%m-%d'))\n",
    "shows['release_month'] = shows['release_date'].dropna().apply(lambda x: x.strftime('%m'))\n",
    "shows['release_month'] = shows['release_month'].dropna().apply(lambda x: int(x))\n",
    "shows['release_weekday'] = shows['release_date'].dropna().apply(lambda x: x.strftime('%w'))\n",
    "shows['release_weekday'] = shows['release_weekday'].dropna().apply(lambda x: int(x))\n",
    "\n",
    "shows['started_sunday'] = shows['release_weekday'].dropna().apply(lambda x: 1 if int(x)==0 else 0)\n",
    "shows['started_monday'] = shows['release_weekday'].dropna().apply(lambda x: 1 if int(x)==1 else 0)\n",
    "shows['started_tuesday'] = shows['release_weekday'].dropna().apply(lambda x: 1 if int(x)==2 else 0)\n",
    "shows['started_wednesday'] = shows['release_weekday'].dropna().apply(lambda x: 1 if int(x)==3 else 0)\n",
    "shows['started_thursday'] = shows['release_weekday'].dropna().apply(lambda x: 1 if int(x)==4 else 0)\n",
    "shows['started_friday'] = shows['release_weekday'].dropna().apply(lambda x: 1 if int(x)==5 else 0)\n",
    "shows['started_saturday'] = shows['release_weekday'].dropna().apply(lambda x: 1 if int(x)==6 else 0)"
   ]
  },
  {
   "cell_type": "code",
   "execution_count": 86,
   "metadata": {
    "collapsed": true
   },
   "outputs": [],
   "source": [
    "shows['started_on_first'] = shows['release_monthday'].dropna().apply(lambda x: 1 if x==1 else 0)"
   ]
  },
  {
   "cell_type": "code",
   "execution_count": 15,
   "metadata": {},
   "outputs": [
    {
     "data": {
      "text/plain": [
       "(2061, 168)"
      ]
     },
     "execution_count": 15,
     "metadata": {},
     "output_type": "execute_result"
    }
   ],
   "source": [
    "shows.shape"
   ]
  },
  {
   "cell_type": "code",
   "execution_count": 16,
   "metadata": {},
   "outputs": [
    {
     "data": {
      "text/plain": [
       "Index([u'json', u'title_rough', u'check', u'title', u'imdb_id', u'big_json',\n",
       "       u'seasons', u'cancelled', u'runtime', u'genres', u'imdb_rating',\n",
       "       u'release_date', u'plot', u'year', u'type', u'votes', u'keywords',\n",
       "       u'first_year', u'is_new', u'fixed_runtime', u'is_action',\n",
       "       u'is_adventure', u'is_animation', u'is_biography', u'is_comedy',\n",
       "       u'is_crime', u'is_documentary', u'is_drama', u'is_family',\n",
       "       u'is_fantasy', u'is_game', u'is_history', u'is_horror', u'is_music',\n",
       "       u'is_musical', u'is_mystery', u'is_news', u'is_reality', u'is_romance',\n",
       "       u'is_sci', u'is_short', u'is_sport', u'is_talk', u'is_thriller',\n",
       "       u'is_war', u'is_western', u'release_month', u'release_weekday',\n",
       "       u'release_monthday', u'stemmed_plot', u'stemmed_keywords',\n",
       "       u'keyword_adult', u'keyword_african', u'keyword_alien',\n",
       "       u'keyword_american', u'keyword_angel', u'keyword_anim', u'keyword_base',\n",
       "       u'keyword_best', u'keyword_black', u'keyword_book', u'keyword_boy',\n",
       "       u'keyword_boyfriend', u'keyword_brother', u'keyword_california',\n",
       "       u'keyword_celebr', u'keyword_charact', u'keyword_child',\n",
       "       u'keyword_citi', u'keyword_comedi', u'keyword_comedian',\n",
       "       u'keyword_comic', u'keyword_cult', u'keyword_daughter',\n",
       "       u'keyword_death', u'keyword_detect', u'keyword_doctor', u'keyword_evil',\n",
       "       u'keyword_famili', u'keyword_father', u'keyword_femal',\n",
       "       u'keyword_fiction', u'keyword_friend', u'keyword_friendship',\n",
       "       u'keyword_gay', u'keyword_girl', u'keyword_girlfriend', u'keyword_hero',\n",
       "       u'keyword_humor', u'keyword_husband', u'keyword_interraci',\n",
       "       u'keyword_interview', u'keyword_investig', u'keyword_joke',\n",
       "       u'keyword_life', u'keyword_live', u'keyword_love', u'keyword_male',\n",
       "       u'keyword_man', u'keyword_marriag', u'keyword_mother',\n",
       "       u'keyword_murder', u'keyword_new', u'keyword_offic', u'keyword_parent',\n",
       "       u'keyword_parodi', u'keyword_play', u'keyword_polic', u'keyword_power',\n",
       "       u'keyword_protagonist', u'keyword_relationship', u'keyword_satir',\n",
       "       u'keyword_school', u'keyword_secret', u'keyword_sex', u'keyword_share',\n",
       "       u'keyword_sister', u'keyword_sitcom', u'keyword_social', u'keyword_son',\n",
       "       u'keyword_spoken', u'keyword_spoof', u'keyword_stand',\n",
       "       u'keyword_student', u'keyword_superhero', u'keyword_supernatur',\n",
       "       u'keyword_surreal', u'keyword_teenag', u'keyword_versu',\n",
       "       u'keyword_villain', u'keyword_violenc', u'keyword_wife',\n",
       "       u'keyword_woman', u'keyword_york', u'plot_cleaned', u'network',\n",
       "       u'from_ABC', u'from_NBC', u'from_CBS', u'from_Fox', u'from_Nickelodeon',\n",
       "       u'from_Cartoon', u'from_Comedy', u'from_MTV', u'from_HBO',\n",
       "       u'from_Disney', u'from_WB', u'started_sunday', u'started_monday',\n",
       "       u'started_tuesday', u'started_wednesday', u'started_thursday',\n",
       "       u'started_friday', u'started_saturday', u'started_january',\n",
       "       u'started_february', u'started_march', u'started_april', u'started_may',\n",
       "       u'started_june', u'started_july', u'started_august',\n",
       "       u'started_september', u'started_october', u'started_november',\n",
       "       u'started_december', u'half_hour', u'full_hour'],\n",
       "      dtype='object')"
      ]
     },
     "execution_count": 16,
     "metadata": {},
     "output_type": "execute_result"
    }
   ],
   "source": [
    "shows.columns"
   ]
  },
  {
   "cell_type": "code",
   "execution_count": 17,
   "metadata": {},
   "outputs": [
    {
     "data": {
      "text/plain": [
       "json                         object\n",
       "title_rough                  object\n",
       "check                         int64\n",
       "title                        object\n",
       "imdb_id                      object\n",
       "big_json                     object\n",
       "seasons                       int64\n",
       "cancelled                     int64\n",
       "runtime                      object\n",
       "genres                       object\n",
       "imdb_rating                 float64\n",
       "release_date         datetime64[ns]\n",
       "plot                         object\n",
       "year                         object\n",
       "type                         object\n",
       "votes                        object\n",
       "keywords                     object\n",
       "first_year                    int64\n",
       "is_new                        int64\n",
       "fixed_runtime               float64\n",
       "is_action                     int64\n",
       "is_adventure                  int64\n",
       "is_animation                  int64\n",
       "is_biography                  int64\n",
       "is_comedy                     int64\n",
       "is_crime                      int64\n",
       "is_documentary                int64\n",
       "is_drama                      int64\n",
       "is_family                     int64\n",
       "is_fantasy                    int64\n",
       "                          ...      \n",
       "from_CBS                      int64\n",
       "from_Fox                      int64\n",
       "from_Nickelodeon              int64\n",
       "from_Cartoon                  int64\n",
       "from_Comedy                   int64\n",
       "from_MTV                      int64\n",
       "from_HBO                      int64\n",
       "from_Disney                   int64\n",
       "from_WB                       int64\n",
       "started_sunday                int64\n",
       "started_monday                int64\n",
       "started_tuesday               int64\n",
       "started_wednesday             int64\n",
       "started_thursday              int64\n",
       "started_friday                int64\n",
       "started_saturday              int64\n",
       "started_january               int64\n",
       "started_february              int64\n",
       "started_march                 int64\n",
       "started_april                 int64\n",
       "started_may                   int64\n",
       "started_june                  int64\n",
       "started_july                  int64\n",
       "started_august                int64\n",
       "started_september             int64\n",
       "started_october               int64\n",
       "started_november              int64\n",
       "started_december              int64\n",
       "half_hour                     int64\n",
       "full_hour                     int64\n",
       "dtype: object"
      ]
     },
     "execution_count": 17,
     "metadata": {},
     "output_type": "execute_result"
    }
   ],
   "source": [
    "shows.dtypes"
   ]
  },
  {
   "cell_type": "code",
   "execution_count": 87,
   "metadata": {},
   "outputs": [],
   "source": [
    "shows = shows.drop(['json', u'title_rough', u'check', u'title', 'imdb_id', u'big_json',\n",
    "       u'seasons', 'runtime', u'genres', u'imdb_rating',\n",
    "       u'release_date', u'plot', u'year', u'type', u'votes', u'keywords', u'is_new', \n",
    "        'stemmed_plot', u'stemmed_keywords', 'plot_cleaned', u'network', 'release_month', 'release_weekday', 'fixed_runtime', 'keyword_new'], axis=1)"
   ]
  },
  {
   "cell_type": "code",
   "execution_count": 19,
   "metadata": {},
   "outputs": [
    {
     "data": {
      "text/plain": [
       "(2061, 143)"
      ]
     },
     "execution_count": 19,
     "metadata": {},
     "output_type": "execute_result"
    }
   ],
   "source": [
    "shows.shape"
   ]
  },
  {
   "cell_type": "code",
   "execution_count": 20,
   "metadata": {},
   "outputs": [
    {
     "data": {
      "text/plain": [
       "Index([u'cancelled', u'first_year', u'is_action', u'is_adventure',\n",
       "       u'is_animation', u'is_biography', u'is_comedy', u'is_crime',\n",
       "       u'is_documentary', u'is_drama', u'is_family', u'is_fantasy', u'is_game',\n",
       "       u'is_history', u'is_horror', u'is_music', u'is_musical', u'is_mystery',\n",
       "       u'is_news', u'is_reality', u'is_romance', u'is_sci', u'is_short',\n",
       "       u'is_sport', u'is_talk', u'is_thriller', u'is_war', u'is_western',\n",
       "       u'release_monthday', u'keyword_adult', u'keyword_african',\n",
       "       u'keyword_alien', u'keyword_american', u'keyword_angel',\n",
       "       u'keyword_anim', u'keyword_base', u'keyword_best', u'keyword_black',\n",
       "       u'keyword_book', u'keyword_boy', u'keyword_boyfriend',\n",
       "       u'keyword_brother', u'keyword_california', u'keyword_celebr',\n",
       "       u'keyword_charact', u'keyword_child', u'keyword_citi',\n",
       "       u'keyword_comedi', u'keyword_comedian', u'keyword_comic',\n",
       "       u'keyword_cult', u'keyword_daughter', u'keyword_death',\n",
       "       u'keyword_detect', u'keyword_doctor', u'keyword_evil',\n",
       "       u'keyword_famili', u'keyword_father', u'keyword_femal',\n",
       "       u'keyword_fiction', u'keyword_friend', u'keyword_friendship',\n",
       "       u'keyword_gay', u'keyword_girl', u'keyword_girlfriend', u'keyword_hero',\n",
       "       u'keyword_humor', u'keyword_husband', u'keyword_interraci',\n",
       "       u'keyword_interview', u'keyword_investig', u'keyword_joke',\n",
       "       u'keyword_life', u'keyword_live', u'keyword_love', u'keyword_male',\n",
       "       u'keyword_man', u'keyword_marriag', u'keyword_mother',\n",
       "       u'keyword_murder', u'keyword_offic', u'keyword_parent',\n",
       "       u'keyword_parodi', u'keyword_play', u'keyword_polic', u'keyword_power',\n",
       "       u'keyword_protagonist', u'keyword_relationship', u'keyword_satir',\n",
       "       u'keyword_school', u'keyword_secret', u'keyword_sex', u'keyword_share',\n",
       "       u'keyword_sister', u'keyword_sitcom', u'keyword_social', u'keyword_son',\n",
       "       u'keyword_spoken', u'keyword_spoof', u'keyword_stand',\n",
       "       u'keyword_student', u'keyword_superhero', u'keyword_supernatur',\n",
       "       u'keyword_surreal', u'keyword_teenag', u'keyword_versu',\n",
       "       u'keyword_villain', u'keyword_violenc', u'keyword_wife',\n",
       "       u'keyword_woman', u'keyword_york', u'from_ABC', u'from_NBC',\n",
       "       u'from_CBS', u'from_Fox', u'from_Nickelodeon', u'from_Cartoon',\n",
       "       u'from_Comedy', u'from_MTV', u'from_HBO', u'from_Disney', u'from_WB',\n",
       "       u'started_sunday', u'started_monday', u'started_tuesday',\n",
       "       u'started_wednesday', u'started_thursday', u'started_friday',\n",
       "       u'started_saturday', u'started_january', u'started_february',\n",
       "       u'started_march', u'started_april', u'started_may', u'started_june',\n",
       "       u'started_july', u'started_august', u'started_september',\n",
       "       u'started_october', u'started_november', u'started_december',\n",
       "       u'half_hour', u'full_hour'],\n",
       "      dtype='object')"
      ]
     },
     "execution_count": 20,
     "metadata": {},
     "output_type": "execute_result"
    }
   ],
   "source": [
    "shows.columns"
   ]
  },
  {
   "cell_type": "code",
   "execution_count": 21,
   "metadata": {},
   "outputs": [
    {
     "data": {
      "text/plain": [
       "(2061, 143)"
      ]
     },
     "execution_count": 21,
     "metadata": {},
     "output_type": "execute_result"
    }
   ],
   "source": [
    "shows.shape"
   ]
  },
  {
   "cell_type": "code",
   "execution_count": 22,
   "metadata": {},
   "outputs": [
    {
     "data": {
      "text/plain": [
       "(2061, 143)"
      ]
     },
     "execution_count": 22,
     "metadata": {},
     "output_type": "execute_result"
    }
   ],
   "source": [
    "shows.dropna().shape"
   ]
  },
  {
   "cell_type": "code",
   "execution_count": 88,
   "metadata": {
    "collapsed": true
   },
   "outputs": [],
   "source": [
    "## defining dependent/independent variables\n",
    "y = shows['cancelled']\n",
    "x = shows.drop('cancelled', axis=1)"
   ]
  },
  {
   "cell_type": "code",
   "execution_count": 24,
   "metadata": {},
   "outputs": [
    {
     "data": {
      "text/plain": [
       "Index([u'first_year', u'is_action', u'is_adventure', u'is_animation',\n",
       "       u'is_biography', u'is_comedy', u'is_crime', u'is_documentary',\n",
       "       u'is_drama', u'is_family', u'is_fantasy', u'is_game', u'is_history',\n",
       "       u'is_horror', u'is_music', u'is_musical', u'is_mystery', u'is_news',\n",
       "       u'is_reality', u'is_romance', u'is_sci', u'is_short', u'is_sport',\n",
       "       u'is_talk', u'is_thriller', u'is_war', u'is_western',\n",
       "       u'release_monthday', u'keyword_adult', u'keyword_african',\n",
       "       u'keyword_alien', u'keyword_american', u'keyword_angel',\n",
       "       u'keyword_anim', u'keyword_base', u'keyword_best', u'keyword_black',\n",
       "       u'keyword_book', u'keyword_boy', u'keyword_boyfriend',\n",
       "       u'keyword_brother', u'keyword_california', u'keyword_celebr',\n",
       "       u'keyword_charact', u'keyword_child', u'keyword_citi',\n",
       "       u'keyword_comedi', u'keyword_comedian', u'keyword_comic',\n",
       "       u'keyword_cult', u'keyword_daughter', u'keyword_death',\n",
       "       u'keyword_detect', u'keyword_doctor', u'keyword_evil',\n",
       "       u'keyword_famili', u'keyword_father', u'keyword_femal',\n",
       "       u'keyword_fiction', u'keyword_friend', u'keyword_friendship',\n",
       "       u'keyword_gay', u'keyword_girl', u'keyword_girlfriend', u'keyword_hero',\n",
       "       u'keyword_humor', u'keyword_husband', u'keyword_interraci',\n",
       "       u'keyword_interview', u'keyword_investig', u'keyword_joke',\n",
       "       u'keyword_life', u'keyword_live', u'keyword_love', u'keyword_male',\n",
       "       u'keyword_man', u'keyword_marriag', u'keyword_mother',\n",
       "       u'keyword_murder', u'keyword_offic', u'keyword_parent',\n",
       "       u'keyword_parodi', u'keyword_play', u'keyword_polic', u'keyword_power',\n",
       "       u'keyword_protagonist', u'keyword_relationship', u'keyword_satir',\n",
       "       u'keyword_school', u'keyword_secret', u'keyword_sex', u'keyword_share',\n",
       "       u'keyword_sister', u'keyword_sitcom', u'keyword_social', u'keyword_son',\n",
       "       u'keyword_spoken', u'keyword_spoof', u'keyword_stand',\n",
       "       u'keyword_student', u'keyword_superhero', u'keyword_supernatur',\n",
       "       u'keyword_surreal', u'keyword_teenag', u'keyword_versu',\n",
       "       u'keyword_villain', u'keyword_violenc', u'keyword_wife',\n",
       "       u'keyword_woman', u'keyword_york', u'from_ABC', u'from_NBC',\n",
       "       u'from_CBS', u'from_Fox', u'from_Nickelodeon', u'from_Cartoon',\n",
       "       u'from_Comedy', u'from_MTV', u'from_HBO', u'from_Disney', u'from_WB',\n",
       "       u'started_sunday', u'started_monday', u'started_tuesday',\n",
       "       u'started_wednesday', u'started_thursday', u'started_friday',\n",
       "       u'started_saturday', u'started_january', u'started_february',\n",
       "       u'started_march', u'started_april', u'started_may', u'started_june',\n",
       "       u'started_july', u'started_august', u'started_september',\n",
       "       u'started_october', u'started_november', u'started_december',\n",
       "       u'half_hour', u'full_hour'],\n",
       "      dtype='object')"
      ]
     },
     "execution_count": 24,
     "metadata": {},
     "output_type": "execute_result"
    }
   ],
   "source": [
    "x.columns"
   ]
  },
  {
   "cell_type": "code",
   "execution_count": 25,
   "metadata": {},
   "outputs": [
    {
     "data": {
      "text/plain": [
       "0.39349830179524503"
      ]
     },
     "execution_count": 25,
     "metadata": {},
     "output_type": "execute_result"
    }
   ],
   "source": [
    "## Base probability\n",
    "y.mean()"
   ]
  },
  {
   "cell_type": "code",
   "execution_count": 89,
   "metadata": {
    "collapsed": true
   },
   "outputs": [],
   "source": [
    "## train/test split\n",
    "x_train, x_test, y_train, y_test = train_test_split(x,y)"
   ]
  },
  {
   "cell_type": "code",
   "execution_count": 27,
   "metadata": {},
   "outputs": [
    {
     "data": {
      "text/plain": [
       "(1545, 142)"
      ]
     },
     "execution_count": 27,
     "metadata": {},
     "output_type": "execute_result"
    }
   ],
   "source": [
    "x_train.shape"
   ]
  },
  {
   "cell_type": "code",
   "execution_count": 28,
   "metadata": {},
   "outputs": [
    {
     "data": {
      "text/plain": [
       "(516, 142)"
      ]
     },
     "execution_count": 28,
     "metadata": {},
     "output_type": "execute_result"
    }
   ],
   "source": [
    "x_test.shape"
   ]
  },
  {
   "cell_type": "code",
   "execution_count": 29,
   "metadata": {},
   "outputs": [
    {
     "data": {
      "text/plain": [
       "(1545,)"
      ]
     },
     "execution_count": 29,
     "metadata": {},
     "output_type": "execute_result"
    }
   ],
   "source": [
    "y_train.shape"
   ]
  },
  {
   "cell_type": "code",
   "execution_count": 30,
   "metadata": {
    "scrolled": true
   },
   "outputs": [
    {
     "data": {
      "text/plain": [
       "(516,)"
      ]
     },
     "execution_count": 30,
     "metadata": {},
     "output_type": "execute_result"
    }
   ],
   "source": [
    "y_test.shape"
   ]
  },
  {
   "cell_type": "code",
   "execution_count": 31,
   "metadata": {
    "collapsed": true
   },
   "outputs": [],
   "source": [
    "## runs model\n",
    "def run_model(x_train, y_train, x_test, y_test, model):\n",
    "    model.fit(x_train, y_train)\n",
    "    print \"Training set score: \", model.score(x_train, y_train)\n",
    "    print \"Test set score: \", model.score(x_test, y_test)\n",
    "    predictions = model.predict(x_test)\n",
    "    print \"\\nConfusion Matrix:\\n\", pd.DataFrame(confusion_matrix(y_test, predictions), \n",
    "                                              columns=['predicted_0', 'predicted_1'], index=['is_0', 'is_1'])\n",
    "    print \"\\nClassification Report:\\n\",classification_report(y_test, predictions)"
   ]
  },
  {
   "cell_type": "code",
   "execution_count": 32,
   "metadata": {
    "collapsed": true
   },
   "outputs": [],
   "source": [
    "## plots ROC curve\n",
    "def plot_roc(x_test, y_test, model):\n",
    "    fpr, tpr, _ = roc_curve(y_test, model.predict_proba(x_test)[:,1])\n",
    "    roc_auc = auc(fpr, tpr)\n",
    "    print 'ROC AUC: %0.2f' % roc_auc\n",
    "    plt.figure()\n",
    "    plt.plot(fpr, tpr, label='ROC curve (area = %0.2f)' % roc_auc)\n",
    "    plt.plot([0, 1], [0, 1], 'k--')\n",
    "    plt.xlim([0.0, 1.0])\n",
    "    plt.ylim([0.0, 1.05])\n",
    "    plt.xlabel('False Positive Rate')\n",
    "    plt.ylabel('True Positive Rate')\n",
    "    plt.title('ROC Curve')\n",
    "    plt.legend(loc=\"lower right\")\n",
    "    plt.show()"
   ]
  },
  {
   "cell_type": "markdown",
   "metadata": {},
   "source": [
    "## Random Forest"
   ]
  },
  {
   "cell_type": "code",
   "execution_count": 42,
   "metadata": {
    "collapsed": true
   },
   "outputs": [],
   "source": [
    "rf = RandomForestClassifier(min_samples_leaf=5)"
   ]
  },
  {
   "cell_type": "code",
   "execution_count": 92,
   "metadata": {
    "scrolled": false
   },
   "outputs": [
    {
     "name": "stdout",
     "output_type": "stream",
     "text": [
      "Training set score:  0.767637540453\n",
      "Test set score:  0.656976744186\n",
      "\n",
      "Confusion Matrix:\n",
      "      predicted_0  predicted_1\n",
      "is_0          254           60\n",
      "is_1          117           85\n",
      "\n",
      "Classification Report:\n",
      "             precision    recall  f1-score   support\n",
      "\n",
      "          0       0.68      0.81      0.74       314\n",
      "          1       0.59      0.42      0.49       202\n",
      "\n",
      "avg / total       0.65      0.66      0.64       516\n",
      "\n"
     ]
    }
   ],
   "source": [
    "run_model(x_train, y_train, x_test, y_test, rf)"
   ]
  },
  {
   "cell_type": "code",
   "execution_count": 44,
   "metadata": {
    "scrolled": true
   },
   "outputs": [
    {
     "data": {
      "text/plain": [
       "array([[ 0.7401443 ,  0.2598557 ],\n",
       "       [ 0.85002914,  0.14997086],\n",
       "       [ 0.58307736,  0.41692264],\n",
       "       ..., \n",
       "       [ 0.42027825,  0.57972175],\n",
       "       [ 0.62135925,  0.37864075],\n",
       "       [ 0.50122186,  0.49877814]])"
      ]
     },
     "execution_count": 44,
     "metadata": {},
     "output_type": "execute_result"
    }
   ],
   "source": [
    "rf.predict_proba(x_test)"
   ]
  },
  {
   "cell_type": "code",
   "execution_count": 93,
   "metadata": {},
   "outputs": [
    {
     "name": "stdout",
     "output_type": "stream",
     "text": [
      "ROC AUC: 0.69\n"
     ]
    },
    {
     "data": {
      "image/png": "[encoded data removed]",
      "text/plain": [
       "<matplotlib.figure.Figure at 0x112a813d0>"
      ]
     },
     "metadata": {},
     "output_type": "display_data"
    }
   ],
   "source": [
    "plot_roc(x_test, y_test, rf)"
   ]
  },
  {
   "cell_type": "markdown",
   "metadata": {},
   "source": [
    "## Random Forest with grid search"
   ]
  },
  {
   "cell_type": "code",
   "execution_count": 46,
   "metadata": {
    "collapsed": true
   },
   "outputs": [],
   "source": [
    "parameters = {\n",
    "    \"n_estimators\" : [10, 25, 50, 100],\n",
    "    \"max_depth\" : [5,7,10,15],\n",
    "    \"max_features\" : [0.25, 0.5, 0.75],\n",
    "    \"min_samples_leaf\" : [2,3,4,5]\n",
    "}"
   ]
  },
  {
   "cell_type": "code",
   "execution_count": 47,
   "metadata": {
    "collapsed": true
   },
   "outputs": [],
   "source": [
    "gs_rf = RandomForestClassifier()\n",
    "grid_search = GridSearchCV(gs_rf,param_grid=parameters, cv=7, n_jobs=-1)"
   ]
  },
  {
   "cell_type": "code",
   "execution_count": 48,
   "metadata": {
    "scrolled": false
   },
   "outputs": [
    {
     "data": {
      "text/plain": [
       "GridSearchCV(cv=7, error_score='raise',\n",
       "       estimator=RandomForestClassifier(bootstrap=True, class_weight=None, criterion='gini',\n",
       "            max_depth=None, max_features='auto', max_leaf_nodes=None,\n",
       "            min_impurity_split=1e-07, min_samples_leaf=1,\n",
       "            min_samples_split=2, min_weight_fraction_leaf=0.0,\n",
       "            n_estimators=10, n_jobs=1, oob_score=False, random_state=None,\n",
       "            verbose=0, warm_start=False),\n",
       "       fit_params={}, iid=True, n_jobs=-1,\n",
       "       param_grid={'n_estimators': [10, 25, 50, 100], 'max_features': [0.25, 0.5, 0.75], 'max_depth': [5, 7, 10, 15], 'min_samples_leaf': [2, 3, 4, 5]},\n",
       "       pre_dispatch='2*n_jobs', refit=True, scoring=None, verbose=0)"
      ]
     },
     "execution_count": 48,
     "metadata": {},
     "output_type": "execute_result"
    }
   ],
   "source": [
    "## 12:21 - 12:22\n",
    "grid_search.fit(x_train, y_train)"
   ]
  },
  {
   "cell_type": "code",
   "execution_count": 49,
   "metadata": {},
   "outputs": [
    {
     "data": {
      "text/plain": [
       "RandomForestClassifier(bootstrap=True, class_weight=None, criterion='gini',\n",
       "            max_depth=15, max_features=0.25, max_leaf_nodes=None,\n",
       "            min_impurity_split=1e-07, min_samples_leaf=4,\n",
       "            min_samples_split=2, min_weight_fraction_leaf=0.0,\n",
       "            n_estimators=50, n_jobs=1, oob_score=False, random_state=None,\n",
       "            verbose=0, warm_start=False)"
      ]
     },
     "execution_count": 49,
     "metadata": {},
     "output_type": "execute_result"
    }
   ],
   "source": [
    "grid_search.best_estimator_"
   ]
  },
  {
   "cell_type": "code",
   "execution_count": 50,
   "metadata": {},
   "outputs": [
    {
     "name": "stdout",
     "output_type": "stream",
     "text": [
      "Training set score:  0.840776699029\n",
      "Test set score:  0.687984496124\n",
      "\n",
      "Confusion Matrix:\n",
      "      predicted_0  predicted_1\n",
      "is_0          262           36\n",
      "is_1          125           93\n",
      "\n",
      "Classification Report:\n",
      "             precision    recall  f1-score   support\n",
      "\n",
      "          0       0.68      0.88      0.76       298\n",
      "          1       0.72      0.43      0.54       218\n",
      "\n",
      "avg / total       0.70      0.69      0.67       516\n",
      "\n"
     ]
    }
   ],
   "source": [
    "run_model(x_train, y_train, x_test, y_test, grid_search.best_estimator_)"
   ]
  },
  {
   "cell_type": "code",
   "execution_count": 51,
   "metadata": {},
   "outputs": [
    {
     "name": "stdout",
     "output_type": "stream",
     "text": [
      "ROC AUC: 0.73\n"
     ]
    },
    {
     "data": {
      "image/png": "[encoded data removed]",
      "text/plain": [
       "<matplotlib.figure.Figure at 0x112cb11d0>"
      ]
     },
     "metadata": {},
     "output_type": "display_data"
    }
   ],
   "source": [
    "plot_roc(x_test, y_test, grid_search.best_estimator_)"
   ]
  },
  {
   "cell_type": "code",
   "execution_count": 52,
   "metadata": {
    "scrolled": false
   },
   "outputs": [
    {
     "data": {
      "text/plain": [
       "array([[ 0.72481831,  0.27518169],\n",
       "       [ 0.78528649,  0.21471351],\n",
       "       [ 0.66240564,  0.33759436],\n",
       "       ..., \n",
       "       [ 0.34308213,  0.65691787],\n",
       "       [ 0.56759615,  0.43240385],\n",
       "       [ 0.53580001,  0.46419999]])"
      ]
     },
     "execution_count": 52,
     "metadata": {},
     "output_type": "execute_result"
    }
   ],
   "source": [
    "grid_search.best_estimator_.predict_proba(x_test)"
   ]
  },
  {
   "cell_type": "code",
   "execution_count": 842,
   "metadata": {},
   "outputs": [
    {
     "data": {
      "text/html": [
       "<div>\n",
       "<table border=\"1\" class=\"dataframe\">\n",
       "  <thead>\n",
       "    <tr style=\"text-align: right;\">\n",
       "      <th></th>\n",
       "      <th>importance</th>\n",
       "    </tr>\n",
       "  </thead>\n",
       "  <tbody>\n",
       "    <tr>\n",
       "      <th>first_year</th>\n",
       "      <td>0.104360</td>\n",
       "    </tr>\n",
       "    <tr>\n",
       "      <th>release_monthday</th>\n",
       "      <td>0.091434</td>\n",
       "    </tr>\n",
       "    <tr>\n",
       "      <th>keyword_charact</th>\n",
       "      <td>0.044341</td>\n",
       "    </tr>\n",
       "    <tr>\n",
       "      <th>keyword_relationship</th>\n",
       "      <td>0.029965</td>\n",
       "    </tr>\n",
       "    <tr>\n",
       "      <th>started_september</th>\n",
       "      <td>0.025797</td>\n",
       "    </tr>\n",
       "    <tr>\n",
       "      <th>from_ABC</th>\n",
       "      <td>0.023220</td>\n",
       "    </tr>\n",
       "    <tr>\n",
       "      <th>keyword_fiction</th>\n",
       "      <td>0.022120</td>\n",
       "    </tr>\n",
       "    <tr>\n",
       "      <th>half_hour</th>\n",
       "      <td>0.020877</td>\n",
       "    </tr>\n",
       "    <tr>\n",
       "      <th>keyword_man</th>\n",
       "      <td>0.018225</td>\n",
       "    </tr>\n",
       "    <tr>\n",
       "      <th>is_comedy</th>\n",
       "      <td>0.017349</td>\n",
       "    </tr>\n",
       "    <tr>\n",
       "      <th>started_saturday</th>\n",
       "      <td>0.015968</td>\n",
       "    </tr>\n",
       "    <tr>\n",
       "      <th>is_animation</th>\n",
       "      <td>0.015311</td>\n",
       "    </tr>\n",
       "    <tr>\n",
       "      <th>keyword_friend</th>\n",
       "      <td>0.014957</td>\n",
       "    </tr>\n",
       "    <tr>\n",
       "      <th>keyword_cult</th>\n",
       "      <td>0.013261</td>\n",
       "    </tr>\n",
       "    <tr>\n",
       "      <th>keyword_friendship</th>\n",
       "      <td>0.013232</td>\n",
       "    </tr>\n",
       "    <tr>\n",
       "      <th>started_thursday</th>\n",
       "      <td>0.013131</td>\n",
       "    </tr>\n",
       "    <tr>\n",
       "      <th>started_monday</th>\n",
       "      <td>0.012986</td>\n",
       "    </tr>\n",
       "    <tr>\n",
       "      <th>full_hour</th>\n",
       "      <td>0.011956</td>\n",
       "    </tr>\n",
       "    <tr>\n",
       "      <th>started_sunday</th>\n",
       "      <td>0.011698</td>\n",
       "    </tr>\n",
       "    <tr>\n",
       "      <th>keyword_base</th>\n",
       "      <td>0.011599</td>\n",
       "    </tr>\n",
       "  </tbody>\n",
       "</table>\n",
       "</div>"
      ],
      "text/plain": [
       "                      importance\n",
       "first_year              0.104360\n",
       "release_monthday        0.091434\n",
       "keyword_charact         0.044341\n",
       "keyword_relationship    0.029965\n",
       "started_september       0.025797\n",
       "from_ABC                0.023220\n",
       "keyword_fiction         0.022120\n",
       "half_hour               0.020877\n",
       "keyword_man             0.018225\n",
       "is_comedy               0.017349\n",
       "started_saturday        0.015968\n",
       "is_animation            0.015311\n",
       "keyword_friend          0.014957\n",
       "keyword_cult            0.013261\n",
       "keyword_friendship      0.013232\n",
       "started_thursday        0.013131\n",
       "started_monday          0.012986\n",
       "full_hour               0.011956\n",
       "started_sunday          0.011698\n",
       "keyword_base            0.011599"
      ]
     },
     "execution_count": 842,
     "metadata": {},
     "output_type": "execute_result"
    }
   ],
   "source": [
    "rf_feature_importances = pd.DataFrame(grid_search.best_estimator_.feature_importances_,\n",
    "                                   index = x_train.columns,\n",
    "                                    columns=['importance']).sort_values('importance',\n",
    "                                    ascending=False)\n",
    "rf_feature_importances.head(20)"
   ]
  },
  {
   "cell_type": "code",
   "execution_count": null,
   "metadata": {
    "collapsed": true
   },
   "outputs": [],
   "source": []
  },
  {
   "cell_type": "markdown",
   "metadata": {},
   "source": [
    "## Decision Tree"
   ]
  },
  {
   "cell_type": "code",
   "execution_count": 843,
   "metadata": {
    "collapsed": true
   },
   "outputs": [],
   "source": []
  },
  {
   "cell_type": "code",
   "execution_count": 844,
   "metadata": {
    "scrolled": true
   },
   "outputs": [
    {
     "data": {
      "text/plain": [
       "DecisionTreeClassifier(class_weight=None, criterion='gini', max_depth=None,\n",
       "            max_features=None, max_leaf_nodes=None, min_samples_leaf=1,\n",
       "            min_samples_split=2, min_weight_fraction_leaf=0.0,\n",
       "            presort=False, random_state=None, splitter='best')"
      ]
     },
     "execution_count": 844,
     "metadata": {},
     "output_type": "execute_result"
    }
   ],
   "source": [
    "DecisionTreeClassifier()"
   ]
  },
  {
   "cell_type": "code",
   "execution_count": 845,
   "metadata": {
    "collapsed": true
   },
   "outputs": [],
   "source": [
    "## tune hyperparameters here\n",
    "dt = DecisionTreeClassifier(\n",
    "    max_depth=15, \n",
    "    min_samples_leaf=4,\n",
    "    max_leaf_nodes=8,\n",
    "    criterion='gini'\n",
    ")"
   ]
  },
  {
   "cell_type": "code",
   "execution_count": 846,
   "metadata": {
    "scrolled": true
   },
   "outputs": [
    {
     "name": "stdout",
     "output_type": "stream",
     "text": [
      "Training set score:  0.631067961165\n",
      "Test set score:  0.606589147287\n",
      "\n",
      "Confusion Matrix:\n",
      "      predicted_0  predicted_1\n",
      "is_0          298           17\n",
      "is_1          186           15\n",
      "\n",
      "Classification Report:\n",
      "             precision    recall  f1-score   support\n",
      "\n",
      "          0       0.62      0.95      0.75       315\n",
      "          1       0.47      0.07      0.13       201\n",
      "\n",
      "avg / total       0.56      0.61      0.51       516\n",
      "\n"
     ]
    }
   ],
   "source": [
    "run_model(x_train, y_train, x_test, y_test, dt)"
   ]
  },
  {
   "cell_type": "code",
   "execution_count": 847,
   "metadata": {
    "scrolled": true
   },
   "outputs": [
    {
     "name": "stdout",
     "output_type": "stream",
     "text": [
      "ROC AUC: 0.57\n"
     ]
    },
    {
     "data": {
      "image/png": "[encoded data removed]",
      "text/plain": [
       "<matplotlib.figure.Figure at 0x13014e110>"
      ]
     },
     "metadata": {},
     "output_type": "display_data"
    }
   ],
   "source": [
    "plot_roc(x_test, y_test, dt)"
   ]
  },
  {
   "cell_type": "code",
   "execution_count": 848,
   "metadata": {
    "collapsed": true
   },
   "outputs": [],
   "source": [
    "def tune_predictions(model, x_test, y_test, probability):\n",
    "    predict = model.predict_proba(x_test)\n",
    "    new_predictions = []\n",
    "    for i in predict:\n",
    "        if i[1] >= probability:\n",
    "            new_predictions.append(1)\n",
    "        else:\n",
    "            new_predictions.append(0)\n",
    "    print \"Confusion Matrix:\\n\", pd.DataFrame(confusion_matrix(y_test, new_predictions), \n",
    "                                              columns=['predicted_0', 'predicted_1'], index=['is_0', 'is_1'])\n",
    "    print \"\\nClassification Report:\\n\", classification_report(y_test, new_predictions)\n",
    "    plt.hist(new_predictions)\n",
    "    plt.xlabel('New Predictions')\n",
    "    plt.ylabel('Frequency')\n",
    "    plt.title('Distribution of New Predictions')\n",
    "    plt.show()"
   ]
  },
  {
   "cell_type": "code",
   "execution_count": 849,
   "metadata": {
    "scrolled": true
   },
   "outputs": [
    {
     "name": "stdout",
     "output_type": "stream",
     "text": [
      "Confusion Matrix:\n",
      "      predicted_0  predicted_1\n",
      "is_0          149          166\n",
      "is_1           64          137\n",
      "\n",
      "Classification Report:\n",
      "             precision    recall  f1-score   support\n",
      "\n",
      "          0       0.70      0.47      0.56       315\n",
      "          1       0.45      0.68      0.54       201\n",
      "\n",
      "avg / total       0.60      0.55      0.56       516\n",
      "\n"
     ]
    },
    {
     "data": {
      "image/png": "[encoded data removed]",
      "text/plain": [
       "<matplotlib.figure.Figure at 0x136315310>"
      ]
     },
     "metadata": {},
     "output_type": "display_data"
    }
   ],
   "source": [
    "tune_predictions(dt, x_test, y_test, .30)"
   ]
  },
  {
   "cell_type": "code",
   "execution_count": 850,
   "metadata": {},
   "outputs": [
    {
     "name": "stdout",
     "output_type": "stream",
     "text": [
      "Confusion Matrix:\n",
      "      predicted_0  predicted_1\n",
      "is_0          305           10\n",
      "is_1          187           14\n",
      "\n",
      "Classification Report:\n",
      "             precision    recall  f1-score   support\n",
      "\n",
      "          0       0.62      0.97      0.76       315\n",
      "          1       0.58      0.07      0.12       201\n",
      "\n",
      "avg / total       0.61      0.62      0.51       516\n",
      "\n"
     ]
    },
    {
     "data": {
      "image/png": "[encoded data removed]",
      "text/plain": [
       "<matplotlib.figure.Figure at 0x1352dfdd0>"
      ]
     },
     "metadata": {},
     "output_type": "display_data"
    }
   ],
   "source": [
    "tune_predictions(dt, x_test, y_test, .60)"
   ]
  },
  {
   "cell_type": "code",
   "execution_count": 851,
   "metadata": {
    "collapsed": true
   },
   "outputs": [],
   "source": [
    "## plots the distribution of prediction probabilities for the 1 class\n",
    "def plot_proba(x_test, model):\n",
    "    predict = model.predict_proba(x_test)\n",
    "    plt.hist(predict[:,1], bins=40)\n",
    "    plt.ylabel('Frequency')\n",
    "    plt.xlabel('Class 1 Probability Cutoff')\n",
    "    plt.show()"
   ]
  },
  {
   "cell_type": "code",
   "execution_count": 852,
   "metadata": {},
   "outputs": [
    {
     "data": {
      "image/png": "[encoded data removed]",
      "text/plain": [
       "<matplotlib.figure.Figure at 0x13ab84890>"
      ]
     },
     "metadata": {},
     "output_type": "display_data"
    }
   ],
   "source": [
    "plot_proba(x_test, dt)"
   ]
  },
  {
   "cell_type": "code",
   "execution_count": 853,
   "metadata": {
    "scrolled": true
   },
   "outputs": [
    {
     "data": {
      "text/plain": [
       "(array([   7.,    0.,  200.,   17.,   17.,  186.,    0.,    0.,    0.,   89.]),\n",
       " array([ 0.125     ,  0.17825342,  0.23150685,  0.28476027,  0.3380137 ,\n",
       "         0.39126712,  0.44452055,  0.49777397,  0.5510274 ,  0.60428082,\n",
       "         0.65753425]),\n",
       " <a list of 10 Patch objects>)"
      ]
     },
     "execution_count": 853,
     "metadata": {},
     "output_type": "execute_result"
    },
    {
     "data": {
      "image/png": "[encoded data removed]",
      "text/plain": [
       "<matplotlib.figure.Figure at 0x1308e04d0>"
      ]
     },
     "metadata": {},
     "output_type": "display_data"
    }
   ],
   "source": [
    "plt.hist(predict[:,1])"
   ]
  },
  {
   "cell_type": "code",
   "execution_count": 854,
   "metadata": {},
   "outputs": [
    {
     "data": {
      "text/plain": [
       "([array([   0.,    0.,   89.,    0.,    0.,  186.,   17.,   61.,  156.,    7.]),\n",
       "  array([   7.,  156.,   61.,   17.,  186.,    0.,    0.,   89.,    0.,    0.])],\n",
       " array([ 0.125,  0.2  ,  0.275,  0.35 ,  0.425,  0.5  ,  0.575,  0.65 ,\n",
       "         0.725,  0.8  ,  0.875]),\n",
       " <a list of 2 Lists of Patches objects>)"
      ]
     },
     "execution_count": 854,
     "metadata": {},
     "output_type": "execute_result"
    },
    {
     "data": {
      "image/png": "[encoded data removed]",
      "text/plain": [
       "<matplotlib.figure.Figure at 0x13ce8ccd0>"
      ]
     },
     "metadata": {},
     "output_type": "display_data"
    }
   ],
   "source": [
    "plt.hist(predict)"
   ]
  },
  {
   "cell_type": "code",
   "execution_count": 855,
   "metadata": {},
   "outputs": [
    {
     "data": {
      "text/plain": [
       "(array([ 427.,    0.,    0.,    0.,    0.,    0.,    0.,    0.,    0.,   89.]),\n",
       " array([ 0. ,  0.1,  0.2,  0.3,  0.4,  0.5,  0.6,  0.7,  0.8,  0.9,  1. ]),\n",
       " <a list of 10 Patch objects>)"
      ]
     },
     "execution_count": 855,
     "metadata": {},
     "output_type": "execute_result"
    },
    {
     "data": {
      "image/png": "[encoded data removed]",
      "text/plain": [
       "<matplotlib.figure.Figure at 0x130140c50>"
      ]
     },
     "metadata": {},
     "output_type": "display_data"
    }
   ],
   "source": [
    "plt.hist(predictions_60)"
   ]
  },
  {
   "cell_type": "code",
   "execution_count": 856,
   "metadata": {},
   "outputs": [
    {
     "data": {
      "text/plain": [
       "[0,\n",
       " 1,\n",
       " 0,\n",
       " 0,\n",
       " 1,\n",
       " 0,\n",
       " 0,\n",
       " 0,\n",
       " 0,\n",
       " 1,\n",
       " 0,\n",
       " 1,\n",
       " 1,\n",
       " 0,\n",
       " 0,\n",
       " 0,\n",
       " 0,\n",
       " 0,\n",
       " 0,\n",
       " 0,\n",
       " 0,\n",
       " 1,\n",
       " 0,\n",
       " 0,\n",
       " 0,\n",
       " 0,\n",
       " 0,\n",
       " 0,\n",
       " 0,\n",
       " 1,\n",
       " 0,\n",
       " 0,\n",
       " 1,\n",
       " 0,\n",
       " 0,\n",
       " 0,\n",
       " 0,\n",
       " 0,\n",
       " 0,\n",
       " 0,\n",
       " 1,\n",
       " 1,\n",
       " 0,\n",
       " 0,\n",
       " 0,\n",
       " 0,\n",
       " 0,\n",
       " 0,\n",
       " 0,\n",
       " 0,\n",
       " 1,\n",
       " 0,\n",
       " 0,\n",
       " 0,\n",
       " 0,\n",
       " 0,\n",
       " 0,\n",
       " 1,\n",
       " 0,\n",
       " 0,\n",
       " 0,\n",
       " 0,\n",
       " 0,\n",
       " 1,\n",
       " 0,\n",
       " 1,\n",
       " 0,\n",
       " 0,\n",
       " 0,\n",
       " 0,\n",
       " 0,\n",
       " 0,\n",
       " 0,\n",
       " 0,\n",
       " 0,\n",
       " 0,\n",
       " 0,\n",
       " 0,\n",
       " 0,\n",
       " 0,\n",
       " 1,\n",
       " 0,\n",
       " 1,\n",
       " 1,\n",
       " 0,\n",
       " 1,\n",
       " 0,\n",
       " 1,\n",
       " 0,\n",
       " 0,\n",
       " 0,\n",
       " 0,\n",
       " 1,\n",
       " 1,\n",
       " 0,\n",
       " 0,\n",
       " 0,\n",
       " 0,\n",
       " 0,\n",
       " 0,\n",
       " 0,\n",
       " 0,\n",
       " 0,\n",
       " 0,\n",
       " 0,\n",
       " 0,\n",
       " 0,\n",
       " 1,\n",
       " 0,\n",
       " 1,\n",
       " 0,\n",
       " 0,\n",
       " 0,\n",
       " 0,\n",
       " 0,\n",
       " 0,\n",
       " 0,\n",
       " 0,\n",
       " 0,\n",
       " 0,\n",
       " 0,\n",
       " 0,\n",
       " 0,\n",
       " 0,\n",
       " 0,\n",
       " 0,\n",
       " 0,\n",
       " 0,\n",
       " 0,\n",
       " 0,\n",
       " 0,\n",
       " 0,\n",
       " 0,\n",
       " 0,\n",
       " 0,\n",
       " 1,\n",
       " 0,\n",
       " 0,\n",
       " 0,\n",
       " 0,\n",
       " 0,\n",
       " 0,\n",
       " 0,\n",
       " 0,\n",
       " 0,\n",
       " 0,\n",
       " 0,\n",
       " 0,\n",
       " 1,\n",
       " 0,\n",
       " 0,\n",
       " 0,\n",
       " 0,\n",
       " 0,\n",
       " 0,\n",
       " 0,\n",
       " 0,\n",
       " 0,\n",
       " 0,\n",
       " 0,\n",
       " 0,\n",
       " 0,\n",
       " 0,\n",
       " 0,\n",
       " 0,\n",
       " 0,\n",
       " 0,\n",
       " 0,\n",
       " 0,\n",
       " 1,\n",
       " 0,\n",
       " 0,\n",
       " 1,\n",
       " 1,\n",
       " 0,\n",
       " 0,\n",
       " 0,\n",
       " 0,\n",
       " 0,\n",
       " 0,\n",
       " 0,\n",
       " 0,\n",
       " 0,\n",
       " 1,\n",
       " 0,\n",
       " 1,\n",
       " 1,\n",
       " 0,\n",
       " 0,\n",
       " 0,\n",
       " 0,\n",
       " 0,\n",
       " 0,\n",
       " 0,\n",
       " 0,\n",
       " 0,\n",
       " 0,\n",
       " 0,\n",
       " 0,\n",
       " 1,\n",
       " 0,\n",
       " 0,\n",
       " 0,\n",
       " 0,\n",
       " 0,\n",
       " 1,\n",
       " 0,\n",
       " 0,\n",
       " 0,\n",
       " 0,\n",
       " 0,\n",
       " 0,\n",
       " 0,\n",
       " 0,\n",
       " 0,\n",
       " 0,\n",
       " 0,\n",
       " 0,\n",
       " 1,\n",
       " 1,\n",
       " 0,\n",
       " 0,\n",
       " 0,\n",
       " 0,\n",
       " 0,\n",
       " 0,\n",
       " 1,\n",
       " 0,\n",
       " 0,\n",
       " 1,\n",
       " 0,\n",
       " 0,\n",
       " 0,\n",
       " 0,\n",
       " 0,\n",
       " 0,\n",
       " 1,\n",
       " 0,\n",
       " 0,\n",
       " 0,\n",
       " 0,\n",
       " 0,\n",
       " 0,\n",
       " 0,\n",
       " 0,\n",
       " 1,\n",
       " 0,\n",
       " 0,\n",
       " 0,\n",
       " 0,\n",
       " 0,\n",
       " 0,\n",
       " 0,\n",
       " 0,\n",
       " 0,\n",
       " 0,\n",
       " 0,\n",
       " 0,\n",
       " 0,\n",
       " 0,\n",
       " 0,\n",
       " 0,\n",
       " 0,\n",
       " 0,\n",
       " 0,\n",
       " 0,\n",
       " 0,\n",
       " 0,\n",
       " 0,\n",
       " 0,\n",
       " 1,\n",
       " 1,\n",
       " 0,\n",
       " 0,\n",
       " 1,\n",
       " 0,\n",
       " 0,\n",
       " 0,\n",
       " 0,\n",
       " 0,\n",
       " 1,\n",
       " 0,\n",
       " 0,\n",
       " 1,\n",
       " 0,\n",
       " 0,\n",
       " 0,\n",
       " 0,\n",
       " 0,\n",
       " 0,\n",
       " 0,\n",
       " 0,\n",
       " 0,\n",
       " 0,\n",
       " 0,\n",
       " 0,\n",
       " 1,\n",
       " 0,\n",
       " 0,\n",
       " 0,\n",
       " 0,\n",
       " 0,\n",
       " 0,\n",
       " 0,\n",
       " 0,\n",
       " 0,\n",
       " 0,\n",
       " 0,\n",
       " 0,\n",
       " 1,\n",
       " 0,\n",
       " 0,\n",
       " 0,\n",
       " 0,\n",
       " 0,\n",
       " 0,\n",
       " 0,\n",
       " 0,\n",
       " 0,\n",
       " 1,\n",
       " 0,\n",
       " 0,\n",
       " 0,\n",
       " 1,\n",
       " 0,\n",
       " 0,\n",
       " 0,\n",
       " 1,\n",
       " 0,\n",
       " 0,\n",
       " 1,\n",
       " 0,\n",
       " 1,\n",
       " 1,\n",
       " 0,\n",
       " 0,\n",
       " 0,\n",
       " 0,\n",
       " 0,\n",
       " 1,\n",
       " 0,\n",
       " 0,\n",
       " 1,\n",
       " 0,\n",
       " 0,\n",
       " 0,\n",
       " 1,\n",
       " 0,\n",
       " 0,\n",
       " 0,\n",
       " 0,\n",
       " 0,\n",
       " 0,\n",
       " 0,\n",
       " 0,\n",
       " 0,\n",
       " 0,\n",
       " 0,\n",
       " 0,\n",
       " 0,\n",
       " 0,\n",
       " 1,\n",
       " 0,\n",
       " 1,\n",
       " 1,\n",
       " 0,\n",
       " 0,\n",
       " 0,\n",
       " 0,\n",
       " 0,\n",
       " 1,\n",
       " 0,\n",
       " 0,\n",
       " 0,\n",
       " 0,\n",
       " 1,\n",
       " 0,\n",
       " 0,\n",
       " 0,\n",
       " 0,\n",
       " 1,\n",
       " 0,\n",
       " 0,\n",
       " 0,\n",
       " 0,\n",
       " 0,\n",
       " 0,\n",
       " 0,\n",
       " 1,\n",
       " 0,\n",
       " 0,\n",
       " 0,\n",
       " 0,\n",
       " 1,\n",
       " 0,\n",
       " 0,\n",
       " 0,\n",
       " 0,\n",
       " 0,\n",
       " 0,\n",
       " 0,\n",
       " 0,\n",
       " 0,\n",
       " 0,\n",
       " 0,\n",
       " 0,\n",
       " 0,\n",
       " 0,\n",
       " 0,\n",
       " 0,\n",
       " 0,\n",
       " 0,\n",
       " 1,\n",
       " 0,\n",
       " 0,\n",
       " 0,\n",
       " 0,\n",
       " 0,\n",
       " 0,\n",
       " 1,\n",
       " 0,\n",
       " 0,\n",
       " 1,\n",
       " 0,\n",
       " 0,\n",
       " 0,\n",
       " 1,\n",
       " 0,\n",
       " 0,\n",
       " 0,\n",
       " 0,\n",
       " 0,\n",
       " 0,\n",
       " 0,\n",
       " 0,\n",
       " 0,\n",
       " 0,\n",
       " 1,\n",
       " 0,\n",
       " 0,\n",
       " 0,\n",
       " 0,\n",
       " 0,\n",
       " 0,\n",
       " 0,\n",
       " 0,\n",
       " 1,\n",
       " 0,\n",
       " 1,\n",
       " 1,\n",
       " 0,\n",
       " 0,\n",
       " 1,\n",
       " 0,\n",
       " 1,\n",
       " 0,\n",
       " 1,\n",
       " 0,\n",
       " 0,\n",
       " 0,\n",
       " 1,\n",
       " 0,\n",
       " 0,\n",
       " 0,\n",
       " 1,\n",
       " 1,\n",
       " 0,\n",
       " 0,\n",
       " 0,\n",
       " 1,\n",
       " 1,\n",
       " 0,\n",
       " 0,\n",
       " 0,\n",
       " 0,\n",
       " 0,\n",
       " 0,\n",
       " 0,\n",
       " 0,\n",
       " 1,\n",
       " 0,\n",
       " 0,\n",
       " 0,\n",
       " 0,\n",
       " 1,\n",
       " 0,\n",
       " 1,\n",
       " 1,\n",
       " 0,\n",
       " 0,\n",
       " 0,\n",
       " 1,\n",
       " 0,\n",
       " 0,\n",
       " 0,\n",
       " 0,\n",
       " 0,\n",
       " 0,\n",
       " 0,\n",
       " 1,\n",
       " 0,\n",
       " 1,\n",
       " 0,\n",
       " 1,\n",
       " 1,\n",
       " 0,\n",
       " 0,\n",
       " 0,\n",
       " 0,\n",
       " 0,\n",
       " 0,\n",
       " 0,\n",
       " 0,\n",
       " 0,\n",
       " 1,\n",
       " 0]"
      ]
     },
     "execution_count": 856,
     "metadata": {},
     "output_type": "execute_result"
    }
   ],
   "source": [
    "predictions_60"
   ]
  },
  {
   "cell_type": "code",
   "execution_count": 857,
   "metadata": {},
   "outputs": [
    {
     "data": {
      "text/plain": [
       "array([[253,  62],\n",
       "       [174,  27]])"
      ]
     },
     "execution_count": 857,
     "metadata": {},
     "output_type": "execute_result"
    }
   ],
   "source": [
    "confusion_matrix(y_test, predictions_60)"
   ]
  },
  {
   "cell_type": "code",
   "execution_count": 858,
   "metadata": {
    "scrolled": true
   },
   "outputs": [
    {
     "name": "stdout",
     "output_type": "stream",
     "text": [
      "Confusion Matrix:\n",
      "      predicted_0  predicted_1\n",
      "is_0          149          166\n",
      "is_1           64          137\n",
      "\n",
      "Classification Report:\n",
      "             precision    recall  f1-score   support\n",
      "\n",
      "          0       0.70      0.47      0.56       315\n",
      "          1       0.45      0.68      0.54       201\n",
      "\n",
      "avg / total       0.60      0.55      0.56       516\n",
      "\n"
     ]
    },
    {
     "data": {
      "image/png": "[encoded data removed]",
      "text/plain": [
       "<matplotlib.figure.Figure at 0x138425a10>"
      ]
     },
     "metadata": {},
     "output_type": "display_data"
    }
   ],
   "source": [
    "tune_predictions(dt, x_test, y_test, .30)"
   ]
  },
  {
   "cell_type": "code",
   "execution_count": 859,
   "metadata": {
    "scrolled": true
   },
   "outputs": [
    {
     "name": "stdout",
     "output_type": "stream",
     "text": [
      "Confusion Matrix:\n",
      "      predicted_0  predicted_1\n",
      "is_0          149          166\n",
      "is_1           64          137\n",
      "\n",
      "Classification Report:\n",
      "             precision    recall  f1-score   support\n",
      "\n",
      "          0       0.70      0.47      0.56       315\n",
      "          1       0.45      0.68      0.54       201\n",
      "\n",
      "avg / total       0.60      0.55      0.56       516\n",
      "\n"
     ]
    },
    {
     "data": {
      "image/png": "[encoded data removed]",
      "text/plain": [
       "<matplotlib.figure.Figure at 0x138425d10>"
      ]
     },
     "metadata": {},
     "output_type": "display_data"
    }
   ],
   "source": [
    "tune_predictions(dt, x_test, y_test, .40)"
   ]
  },
  {
   "cell_type": "markdown",
   "metadata": {},
   "source": [
    "## grid-searching the decision tree"
   ]
  },
  {
   "cell_type": "code",
   "execution_count": 860,
   "metadata": {
    "collapsed": true
   },
   "outputs": [],
   "source": [
    "dt_for_gs = DecisionTreeClassifier()"
   ]
  },
  {
   "cell_type": "code",
   "execution_count": 861,
   "metadata": {
    "collapsed": true
   },
   "outputs": [],
   "source": [
    "params_dt = {\n",
    "    \"max_depth\":[10,15,20],\n",
    "    \"min_samples_leaf\":[2,3,4,5],\n",
    "    \"max_leaf_nodes\":[4,6,8,10],\n",
    "    \"criterion\":['gini', 'entropy']\n",
    "}"
   ]
  },
  {
   "cell_type": "code",
   "execution_count": 862,
   "metadata": {},
   "outputs": [],
   "source": [
    "gs_dt = GridSearchCV(dt_for_gs, params_dt)"
   ]
  },
  {
   "cell_type": "code",
   "execution_count": 863,
   "metadata": {
    "scrolled": true
   },
   "outputs": [
    {
     "data": {
      "text/plain": [
       "GridSearchCV(cv=None, error_score='raise',\n",
       "       estimator=DecisionTreeClassifier(class_weight=None, criterion='gini', max_depth=None,\n",
       "            max_features=None, max_leaf_nodes=None, min_samples_leaf=1,\n",
       "            min_samples_split=2, min_weight_fraction_leaf=0.0,\n",
       "            presort=False, random_state=None, splitter='best'),\n",
       "       fit_params={}, iid=True, n_jobs=1,\n",
       "       param_grid={'max_leaf_nodes': [4, 6, 8, 10], 'criterion': ['gini', 'entropy'], 'max_depth': [10, 15, 20], 'min_samples_leaf': [2, 3, 4, 5]},\n",
       "       pre_dispatch='2*n_jobs', refit=True, scoring=None, verbose=0)"
      ]
     },
     "execution_count": 863,
     "metadata": {},
     "output_type": "execute_result"
    }
   ],
   "source": [
    "gs_dt.fit(x_train, y_train)"
   ]
  },
  {
   "cell_type": "code",
   "execution_count": 864,
   "metadata": {
    "scrolled": true
   },
   "outputs": [
    {
     "data": {
      "text/plain": [
       "DecisionTreeClassifier(class_weight=None, criterion='gini', max_depth=15,\n",
       "            max_features=None, max_leaf_nodes=10, min_samples_leaf=4,\n",
       "            min_samples_split=2, min_weight_fraction_leaf=0.0,\n",
       "            presort=False, random_state=None, splitter='best')"
      ]
     },
     "execution_count": 864,
     "metadata": {},
     "output_type": "execute_result"
    }
   ],
   "source": [
    "gs_dt.best_estimator_"
   ]
  },
  {
   "cell_type": "code",
   "execution_count": 865,
   "metadata": {
    "scrolled": true
   },
   "outputs": [
    {
     "name": "stdout",
     "output_type": "stream",
     "text": [
      "Training set score:  0.649190938511\n",
      "Test set score:  0.624031007752\n",
      "\n",
      "Confusion Matrix:\n",
      "      predicted_0  predicted_1\n",
      "is_0          293           22\n",
      "is_1          172           29\n",
      "\n",
      "Classification Report:\n",
      "             precision    recall  f1-score   support\n",
      "\n",
      "          0       0.63      0.93      0.75       315\n",
      "          1       0.57      0.14      0.23       201\n",
      "\n",
      "avg / total       0.61      0.62      0.55       516\n",
      "\n"
     ]
    }
   ],
   "source": [
    "run_model(x_train, y_train, x_test, y_test, gs_dt.best_estimator_)"
   ]
  },
  {
   "cell_type": "code",
   "execution_count": null,
   "metadata": {
    "collapsed": true
   },
   "outputs": [],
   "source": []
  },
  {
   "cell_type": "code",
   "execution_count": 866,
   "metadata": {},
   "outputs": [
    {
     "data": {
      "image/png": "[encoded data removed]",
      "text/plain": [
       "<matplotlib.figure.Figure at 0x13b344ad0>"
      ]
     },
     "metadata": {},
     "output_type": "display_data"
    }
   ],
   "source": [
    "## in the original model, the false negatives were higher than the true positives. This is terrible, and needs fixing.\n",
    "\n",
    "\n",
    "plot_proba(x_test, gs_dt.best_estimator_)"
   ]
  },
  {
   "cell_type": "code",
   "execution_count": 867,
   "metadata": {
    "scrolled": true
   },
   "outputs": [
    {
     "name": "stdout",
     "output_type": "stream",
     "text": [
      "Confusion Matrix:\n",
      "      predicted_0  predicted_1\n",
      "is_0          150          165\n",
      "is_1           64          137\n",
      "\n",
      "Classification Report:\n",
      "             precision    recall  f1-score   support\n",
      "\n",
      "          0       0.70      0.48      0.57       315\n",
      "          1       0.45      0.68      0.54       201\n",
      "\n",
      "avg / total       0.60      0.56      0.56       516\n",
      "\n"
     ]
    },
    {
     "data": {
      "image/png": "[encoded data removed]",
      "text/plain": [
       "<matplotlib.figure.Figure at 0x139c7a9d0>"
      ]
     },
     "metadata": {},
     "output_type": "display_data"
    }
   ],
   "source": [
    "## with probability=0.4, model score is 0.62. the false negatives are down, but the false positives are up.\n",
    "tune_predictions(gs_dt, x_test, y_test, .40)"
   ]
  },
  {
   "cell_type": "code",
   "execution_count": 868,
   "metadata": {
    "scrolled": true
   },
   "outputs": [
    {
     "data": {
      "text/plain": [
       "array([[253,  62],\n",
       "       [174,  27]])"
      ]
     },
     "execution_count": 868,
     "metadata": {},
     "output_type": "execute_result"
    }
   ],
   "source": [
    "confusion_matrix(y_test, predictions_60)"
   ]
  },
  {
   "cell_type": "code",
   "execution_count": 869,
   "metadata": {
    "collapsed": true
   },
   "outputs": [],
   "source": [
    "cmatrix = confusion_matrix(y_test, predictions_60)"
   ]
  },
  {
   "cell_type": "code",
   "execution_count": 870,
   "metadata": {
    "scrolled": true
   },
   "outputs": [
    {
     "data": {
      "text/plain": [
       "253"
      ]
     },
     "execution_count": 870,
     "metadata": {},
     "output_type": "execute_result"
    }
   ],
   "source": [
    "cmatrix[0,0]"
   ]
  },
  {
   "cell_type": "code",
   "execution_count": 871,
   "metadata": {},
   "outputs": [],
   "source": [
    "def get_predictions(model, x_test, y_test, probability):\n",
    "    predict = model.predict_proba(x_test)\n",
    "    new_predictions = []\n",
    "    for i in predict:\n",
    "        if i[1] >= probability:\n",
    "            new_predictions.append(1)\n",
    "        else:\n",
    "            new_predictions.append(0)\n",
    "    return new_predictions"
   ]
  },
  {
   "cell_type": "code",
   "execution_count": 872,
   "metadata": {
    "scrolled": true
   },
   "outputs": [],
   "source": [
    "def find_optimal_probability(model, x_test, y_test):\n",
    "    probabilities = range(1,101)\n",
    "    new_probabilities = []\n",
    "    for i in probabilities:\n",
    "        new_probabilities.append(float(i)/100)\n",
    "    range_of_scores = []\n",
    "    for i in new_probabilities:\n",
    "        new_preds = get_predictions(model, x_test, y_test, i)\n",
    "        cmatrix = confusion_matrix(y_test, new_preds)\n",
    "        new_model_score = (cmatrix[0,0] + cmatrix[1,1])/float(np.sum(cmatrix))\n",
    "        range_of_scores.append(new_model_score)\n",
    "    \n",
    "    plt.plot(new_probabilities, range_of_scores)\n",
    "    plt.title(\"Model Scores at Different Cutoff Probabilities\")\n",
    "    plt.xlabel(\"Probability Cutoff\")\n",
    "    plt.ylabel(\"Model Score\")\n",
    "    plt.show()"
   ]
  },
  {
   "cell_type": "code",
   "execution_count": 873,
   "metadata": {
    "scrolled": true
   },
   "outputs": [
    {
     "data": {
      "image/png": "[encoded data removed]",
      "text/plain": [
       "<matplotlib.figure.Figure at 0x11fed95d0>"
      ]
     },
     "metadata": {},
     "output_type": "display_data"
    }
   ],
   "source": [
    "find_optimal_probability(dt, x_test, y_test)"
   ]
  },
  {
   "cell_type": "markdown",
   "metadata": {},
   "source": [
    "## Gradient Boosting"
   ]
  },
  {
   "cell_type": "code",
   "execution_count": 874,
   "metadata": {
    "collapsed": true
   },
   "outputs": [],
   "source": []
  },
  {
   "cell_type": "code",
   "execution_count": 54,
   "metadata": {
    "scrolled": true
   },
   "outputs": [
    {
     "data": {
      "text/plain": [
       "GradientBoostingClassifier(criterion='friedman_mse', init=None,\n",
       "              learning_rate=0.1, loss='deviance', max_depth=3,\n",
       "              max_features=None, max_leaf_nodes=None,\n",
       "              min_impurity_split=1e-07, min_samples_leaf=1,\n",
       "              min_samples_split=2, min_weight_fraction_leaf=0.0,\n",
       "              n_estimators=100, presort='auto', random_state=None,\n",
       "              subsample=1.0, verbose=0, warm_start=False)"
      ]
     },
     "execution_count": 54,
     "metadata": {},
     "output_type": "execute_result"
    }
   ],
   "source": [
    "GradientBoostingClassifier()"
   ]
  },
  {
   "cell_type": "code",
   "execution_count": 55,
   "metadata": {
    "collapsed": true
   },
   "outputs": [],
   "source": [
    "boost_default = GradientBoostingClassifier()"
   ]
  },
  {
   "cell_type": "code",
   "execution_count": 56,
   "metadata": {},
   "outputs": [],
   "source": [
    "boost = GradientBoostingClassifier(\n",
    "    n_estimators=500, \n",
    "    max_depth= 6,\n",
    "    learning_rate= 0.1, \n",
    "    min_samples_leaf=2\n",
    "    )"
   ]
  },
  {
   "cell_type": "code",
   "execution_count": 94,
   "metadata": {},
   "outputs": [
    {
     "name": "stdout",
     "output_type": "stream",
     "text": [
      "Training set score:  0.999352750809\n",
      "Test set score:  0.68992248062\n",
      "\n",
      "Confusion Matrix:\n",
      "      predicted_0  predicted_1\n",
      "is_0          245           69\n",
      "is_1           91          111\n",
      "\n",
      "Classification Report:\n",
      "             precision    recall  f1-score   support\n",
      "\n",
      "          0       0.73      0.78      0.75       314\n",
      "          1       0.62      0.55      0.58       202\n",
      "\n",
      "avg / total       0.69      0.69      0.69       516\n",
      "\n"
     ]
    }
   ],
   "source": [
    "run_model(x_train, y_train, x_test, y_test, boost)"
   ]
  },
  {
   "cell_type": "code",
   "execution_count": 95,
   "metadata": {
    "scrolled": true
   },
   "outputs": [
    {
     "name": "stdout",
     "output_type": "stream",
     "text": [
      "Training set score:  0.803883495146\n",
      "Test set score:  0.670542635659\n",
      "\n",
      "Confusion Matrix:\n",
      "      predicted_0  predicted_1\n",
      "is_0          252           62\n",
      "is_1          108           94\n",
      "\n",
      "Classification Report:\n",
      "             precision    recall  f1-score   support\n",
      "\n",
      "          0       0.70      0.80      0.75       314\n",
      "          1       0.60      0.47      0.53       202\n",
      "\n",
      "avg / total       0.66      0.67      0.66       516\n",
      "\n"
     ]
    }
   ],
   "source": [
    "run_model(x_train, y_train, x_test, y_test, boost_default)"
   ]
  },
  {
   "cell_type": "code",
   "execution_count": 880,
   "metadata": {
    "scrolled": true
   },
   "outputs": [
    {
     "data": {
      "text/html": [
       "<div>\n",
       "<table border=\"1\" class=\"dataframe\">\n",
       "  <thead>\n",
       "    <tr style=\"text-align: right;\">\n",
       "      <th></th>\n",
       "      <th>importance</th>\n",
       "    </tr>\n",
       "  </thead>\n",
       "  <tbody>\n",
       "    <tr>\n",
       "      <th>first_year</th>\n",
       "      <td>0.124028</td>\n",
       "    </tr>\n",
       "    <tr>\n",
       "      <th>release_monthday</th>\n",
       "      <td>0.068787</td>\n",
       "    </tr>\n",
       "    <tr>\n",
       "      <th>from_ABC</th>\n",
       "      <td>0.035520</td>\n",
       "    </tr>\n",
       "    <tr>\n",
       "      <th>keyword_charact</th>\n",
       "      <td>0.034160</td>\n",
       "    </tr>\n",
       "    <tr>\n",
       "      <th>is_documentary</th>\n",
       "      <td>0.021511</td>\n",
       "    </tr>\n",
       "    <tr>\n",
       "      <th>keyword_fiction</th>\n",
       "      <td>0.021280</td>\n",
       "    </tr>\n",
       "    <tr>\n",
       "      <th>started_september</th>\n",
       "      <td>0.021012</td>\n",
       "    </tr>\n",
       "    <tr>\n",
       "      <th>keyword_friend</th>\n",
       "      <td>0.020070</td>\n",
       "    </tr>\n",
       "    <tr>\n",
       "      <th>keyword_cult</th>\n",
       "      <td>0.018948</td>\n",
       "    </tr>\n",
       "    <tr>\n",
       "      <th>full_hour</th>\n",
       "      <td>0.018384</td>\n",
       "    </tr>\n",
       "    <tr>\n",
       "      <th>half_hour</th>\n",
       "      <td>0.018093</td>\n",
       "    </tr>\n",
       "    <tr>\n",
       "      <th>started_saturday</th>\n",
       "      <td>0.017168</td>\n",
       "    </tr>\n",
       "    <tr>\n",
       "      <th>keyword_relationship</th>\n",
       "      <td>0.016600</td>\n",
       "    </tr>\n",
       "    <tr>\n",
       "      <th>is_game</th>\n",
       "      <td>0.015351</td>\n",
       "    </tr>\n",
       "    <tr>\n",
       "      <th>is_comedy</th>\n",
       "      <td>0.014773</td>\n",
       "    </tr>\n",
       "    <tr>\n",
       "      <th>is_animation</th>\n",
       "      <td>0.013483</td>\n",
       "    </tr>\n",
       "    <tr>\n",
       "      <th>keyword_man</th>\n",
       "      <td>0.013468</td>\n",
       "    </tr>\n",
       "    <tr>\n",
       "      <th>keyword_femal</th>\n",
       "      <td>0.012652</td>\n",
       "    </tr>\n",
       "    <tr>\n",
       "      <th>started_january</th>\n",
       "      <td>0.012213</td>\n",
       "    </tr>\n",
       "    <tr>\n",
       "      <th>is_reality</th>\n",
       "      <td>0.012077</td>\n",
       "    </tr>\n",
       "  </tbody>\n",
       "</table>\n",
       "</div>"
      ],
      "text/plain": [
       "                      importance\n",
       "first_year              0.124028\n",
       "release_monthday        0.068787\n",
       "from_ABC                0.035520\n",
       "keyword_charact         0.034160\n",
       "is_documentary          0.021511\n",
       "keyword_fiction         0.021280\n",
       "started_september       0.021012\n",
       "keyword_friend          0.020070\n",
       "keyword_cult            0.018948\n",
       "full_hour               0.018384\n",
       "half_hour               0.018093\n",
       "started_saturday        0.017168\n",
       "keyword_relationship    0.016600\n",
       "is_game                 0.015351\n",
       "is_comedy               0.014773\n",
       "is_animation            0.013483\n",
       "keyword_man             0.013468\n",
       "keyword_femal           0.012652\n",
       "started_january         0.012213\n",
       "is_reality              0.012077"
      ]
     },
     "execution_count": 880,
     "metadata": {},
     "output_type": "execute_result"
    }
   ],
   "source": [
    "boost_feature_importances = pd.DataFrame(boost_default.feature_importances_,\n",
    "                                   index = x_train.columns,\n",
    "                                    columns=['importance']).sort_values('importance',\n",
    "                                    ascending=False)\n",
    "boost_feature_importances.head(20)"
   ]
  },
  {
   "cell_type": "markdown",
   "metadata": {},
   "source": [
    "# XGBoost"
   ]
  },
  {
   "cell_type": "code",
   "execution_count": 59,
   "metadata": {
    "collapsed": true
   },
   "outputs": [],
   "source": [
    "xgb = XGBClassifier()"
   ]
  },
  {
   "cell_type": "code",
   "execution_count": 96,
   "metadata": {},
   "outputs": [
    {
     "name": "stdout",
     "output_type": "stream",
     "text": [
      "Training set score:  0.794822006472\n",
      "Test set score:  0.674418604651\n",
      "\n",
      "Confusion Matrix:\n",
      "      predicted_0  predicted_1\n",
      "is_0          254           60\n",
      "is_1          108           94\n",
      "\n",
      "Classification Report:\n",
      "             precision    recall  f1-score   support\n",
      "\n",
      "          0       0.70      0.81      0.75       314\n",
      "          1       0.61      0.47      0.53       202\n",
      "\n",
      "avg / total       0.67      0.67      0.66       516\n",
      "\n"
     ]
    }
   ],
   "source": [
    "run_model(x_train, y_train, x_test, y_test, xgb)"
   ]
  },
  {
   "cell_type": "markdown",
   "metadata": {},
   "source": [
    "## ADA Boosting"
   ]
  },
  {
   "cell_type": "code",
   "execution_count": 107,
   "metadata": {
    "collapsed": true
   },
   "outputs": [],
   "source": [
    "rfc = RandomForestClassifier(min_samples_leaf=4)"
   ]
  },
  {
   "cell_type": "code",
   "execution_count": 101,
   "metadata": {},
   "outputs": [],
   "source": [
    "ada_default = AdaBoostClassifier()"
   ]
  },
  {
   "cell_type": "code",
   "execution_count": 111,
   "metadata": {
    "collapsed": true
   },
   "outputs": [],
   "source": [
    "ada = AdaBoostClassifier(base_estimator=rfc, n_estimators=100)"
   ]
  },
  {
   "cell_type": "code",
   "execution_count": 61,
   "metadata": {
    "collapsed": true
   },
   "outputs": [],
   "source": [
    "ada_boost = AdaBoostClassifier(n_estimators=100)"
   ]
  },
  {
   "cell_type": "code",
   "execution_count": 103,
   "metadata": {
    "scrolled": true
   },
   "outputs": [
    {
     "data": {
      "text/plain": [
       "AdaBoostClassifier(algorithm='SAMME.R', base_estimator=None,\n",
       "          learning_rate=1.0, n_estimators=50, random_state=None)"
      ]
     },
     "execution_count": 103,
     "metadata": {},
     "output_type": "execute_result"
    }
   ],
   "source": [
    "ada_default"
   ]
  },
  {
   "cell_type": "code",
   "execution_count": 109,
   "metadata": {
    "scrolled": true
   },
   "outputs": [
    {
     "name": "stdout",
     "output_type": "stream",
     "text": [
      "Training set score:  0.730097087379\n",
      "Test set score:  0.662790697674\n",
      "\n",
      "Confusion Matrix:\n",
      "      predicted_0  predicted_1\n",
      "is_0          240           74\n",
      "is_1          100          102\n",
      "\n",
      "Classification Report:\n",
      "             precision    recall  f1-score   support\n",
      "\n",
      "          0       0.71      0.76      0.73       314\n",
      "          1       0.58      0.50      0.54       202\n",
      "\n",
      "avg / total       0.66      0.66      0.66       516\n",
      "\n"
     ]
    }
   ],
   "source": [
    "run_model(x_train, y_train, x_test, y_test, ada_default)"
   ]
  },
  {
   "cell_type": "code",
   "execution_count": 112,
   "metadata": {},
   "outputs": [
    {
     "name": "stdout",
     "output_type": "stream",
     "text": [
      "Training set score:  0.999352750809\n",
      "Test set score:  0.668604651163\n",
      "\n",
      "Confusion Matrix:\n",
      "      predicted_0  predicted_1\n",
      "is_0          248           66\n",
      "is_1          105           97\n",
      "\n",
      "Classification Report:\n",
      "             precision    recall  f1-score   support\n",
      "\n",
      "          0       0.70      0.79      0.74       314\n",
      "          1       0.60      0.48      0.53       202\n",
      "\n",
      "avg / total       0.66      0.67      0.66       516\n",
      "\n"
     ]
    }
   ],
   "source": [
    "run_model(x_train, y_train, x_test, y_test, ada)"
   ]
  },
  {
   "cell_type": "code",
   "execution_count": 99,
   "metadata": {
    "scrolled": false
   },
   "outputs": [
    {
     "name": "stdout",
     "output_type": "stream",
     "text": [
      "Training set score:  0.736569579288\n",
      "Test set score:  0.676356589147\n",
      "\n",
      "Confusion Matrix:\n",
      "      predicted_0  predicted_1\n",
      "is_0          243           71\n",
      "is_1           96          106\n",
      "\n",
      "Classification Report:\n",
      "             precision    recall  f1-score   support\n",
      "\n",
      "          0       0.72      0.77      0.74       314\n",
      "          1       0.60      0.52      0.56       202\n",
      "\n",
      "avg / total       0.67      0.68      0.67       516\n",
      "\n"
     ]
    }
   ],
   "source": [
    "run_model(x_train, y_train, x_test, y_test, ada_boost)"
   ]
  },
  {
   "cell_type": "code",
   "execution_count": 113,
   "metadata": {
    "scrolled": true
   },
   "outputs": [
    {
     "data": {
      "text/plain": [
       "AdaBoostClassifier(algorithm='SAMME.R', base_estimator=None,\n",
       "          learning_rate=1.0, n_estimators=100, random_state=None)"
      ]
     },
     "execution_count": 113,
     "metadata": {},
     "output_type": "execute_result"
    }
   ],
   "source": [
    "ada_boost.fit(x_train, y_train)"
   ]
  },
  {
   "cell_type": "code",
   "execution_count": 114,
   "metadata": {},
   "outputs": [
    {
     "data": {
      "text/plain": [
       "0.73656957928802591"
      ]
     },
     "execution_count": 114,
     "metadata": {},
     "output_type": "execute_result"
    }
   ],
   "source": [
    "ada_boost.score(x_train, y_train)"
   ]
  },
  {
   "cell_type": "code",
   "execution_count": 115,
   "metadata": {},
   "outputs": [
    {
     "data": {
      "text/plain": [
       "0.6763565891472868"
      ]
     },
     "execution_count": 115,
     "metadata": {},
     "output_type": "execute_result"
    }
   ],
   "source": [
    "ada_boost.score(x_test, y_test)"
   ]
  },
  {
   "cell_type": "markdown",
   "metadata": {},
   "source": [
    "## pickling adaboost"
   ]
  },
  {
   "cell_type": "code",
   "execution_count": null,
   "metadata": {
    "collapsed": true
   },
   "outputs": [],
   "source": [
    "ada_boost_pickle_path = 'ada_boost_pickle.pkl'\n",
    "ada_boost_pickle = open(ada_boost_pickle_path, 'wb')\n",
    "pickle.dump(numbers_list, list_pickle)\n",
    "list_pickle.close()"
   ]
  },
  {
   "cell_type": "code",
   "execution_count": 100,
   "metadata": {
    "scrolled": true
   },
   "outputs": [
    {
     "name": "stdout",
     "output_type": "stream",
     "text": [
      "ROC AUC: 0.70\n"
     ]
    },
    {
     "data": {
      "image/png": "[encoded data removed]",
      "text/plain": [
       "<matplotlib.figure.Figure at 0x112a79e90>"
      ]
     },
     "metadata": {},
     "output_type": "display_data"
    }
   ],
   "source": [
    "plot_roc(x_test, y_test, ada_boost)"
   ]
  },
  {
   "cell_type": "code",
   "execution_count": 885,
   "metadata": {
    "scrolled": true
   },
   "outputs": [
    {
     "data": {
      "image/png": "[encoded data removed]",
      "text/plain": [
       "<matplotlib.figure.Figure at 0x1209b1750>"
      ]
     },
     "metadata": {},
     "output_type": "display_data"
    }
   ],
   "source": [
    "find_optimal_probability(ada_boost, x_test, y_test)"
   ]
  },
  {
   "cell_type": "code",
   "execution_count": 65,
   "metadata": {
    "scrolled": true
   },
   "outputs": [
    {
     "data": {
      "text/html": [
       "<div>\n",
       "<table border=\"1\" class=\"dataframe\">\n",
       "  <thead>\n",
       "    <tr style=\"text-align: right;\">\n",
       "      <th></th>\n",
       "      <th>importance</th>\n",
       "    </tr>\n",
       "  </thead>\n",
       "  <tbody>\n",
       "    <tr>\n",
       "      <th>first_year</th>\n",
       "      <td>0.13</td>\n",
       "    </tr>\n",
       "    <tr>\n",
       "      <th>half_hour</th>\n",
       "      <td>0.03</td>\n",
       "    </tr>\n",
       "    <tr>\n",
       "      <th>release_monthday</th>\n",
       "      <td>0.03</td>\n",
       "    </tr>\n",
       "    <tr>\n",
       "      <th>is_reality</th>\n",
       "      <td>0.02</td>\n",
       "    </tr>\n",
       "    <tr>\n",
       "      <th>from_ABC</th>\n",
       "      <td>0.02</td>\n",
       "    </tr>\n",
       "    <tr>\n",
       "      <th>keyword_relationship</th>\n",
       "      <td>0.02</td>\n",
       "    </tr>\n",
       "    <tr>\n",
       "      <th>keyword_girl</th>\n",
       "      <td>0.02</td>\n",
       "    </tr>\n",
       "    <tr>\n",
       "      <th>keyword_death</th>\n",
       "      <td>0.02</td>\n",
       "    </tr>\n",
       "    <tr>\n",
       "      <th>keyword_charact</th>\n",
       "      <td>0.02</td>\n",
       "    </tr>\n",
       "    <tr>\n",
       "      <th>full_hour</th>\n",
       "      <td>0.02</td>\n",
       "    </tr>\n",
       "    <tr>\n",
       "      <th>is_documentary</th>\n",
       "      <td>0.02</td>\n",
       "    </tr>\n",
       "    <tr>\n",
       "      <th>keyword_famili</th>\n",
       "      <td>0.01</td>\n",
       "    </tr>\n",
       "    <tr>\n",
       "      <th>from_Cartoon</th>\n",
       "      <td>0.01</td>\n",
       "    </tr>\n",
       "    <tr>\n",
       "      <th>from_Comedy</th>\n",
       "      <td>0.01</td>\n",
       "    </tr>\n",
       "    <tr>\n",
       "      <th>from_HBO</th>\n",
       "      <td>0.01</td>\n",
       "    </tr>\n",
       "    <tr>\n",
       "      <th>keyword_fiction</th>\n",
       "      <td>0.01</td>\n",
       "    </tr>\n",
       "    <tr>\n",
       "      <th>keyword_femal</th>\n",
       "      <td>0.01</td>\n",
       "    </tr>\n",
       "    <tr>\n",
       "      <th>from_Disney</th>\n",
       "      <td>0.01</td>\n",
       "    </tr>\n",
       "    <tr>\n",
       "      <th>from_WB</th>\n",
       "      <td>0.01</td>\n",
       "    </tr>\n",
       "    <tr>\n",
       "      <th>started_friday</th>\n",
       "      <td>0.01</td>\n",
       "    </tr>\n",
       "  </tbody>\n",
       "</table>\n",
       "</div>"
      ],
      "text/plain": [
       "                      importance\n",
       "first_year                  0.13\n",
       "half_hour                   0.03\n",
       "release_monthday            0.03\n",
       "is_reality                  0.02\n",
       "from_ABC                    0.02\n",
       "keyword_relationship        0.02\n",
       "keyword_girl                0.02\n",
       "keyword_death               0.02\n",
       "keyword_charact             0.02\n",
       "full_hour                   0.02\n",
       "is_documentary              0.02\n",
       "keyword_famili              0.01\n",
       "from_Cartoon                0.01\n",
       "from_Comedy                 0.01\n",
       "from_HBO                    0.01\n",
       "keyword_fiction             0.01\n",
       "keyword_femal               0.01\n",
       "from_Disney                 0.01\n",
       "from_WB                     0.01\n",
       "started_friday              0.01"
      ]
     },
     "execution_count": 65,
     "metadata": {},
     "output_type": "execute_result"
    }
   ],
   "source": [
    "adaboost_feature_importances = pd.DataFrame(ada_boost.feature_importances_,\n",
    "                                   index = x_train.columns,\n",
    "                                    columns=['importance']).sort_values('importance',\n",
    "                                    ascending=False)\n",
    "adaboost_feature_importances.head(20)"
   ]
  },
  {
   "cell_type": "code",
   "execution_count": null,
   "metadata": {},
   "outputs": [],
   "source": []
  },
  {
   "cell_type": "markdown",
   "metadata": {},
   "source": [
    "## Decision tree for show"
   ]
  },
  {
   "cell_type": "code",
   "execution_count": 887,
   "metadata": {
    "collapsed": true
   },
   "outputs": [],
   "source": [
    "## this will create a single decision tree from the whole dataset that is readable by humans. \n",
    "## for display purposes only. it will be tuned to have approximately the same score as the AdaBoost model\n",
    "\n",
    "dt_for_show = DecisionTreeClassifier(\n",
    "                    max_depth=7,\n",
    "                    min_samples_leaf=5,\n",
    "#                     max_leaf_nodes=10\n",
    "#     class_weight=None, criterion='gini', max_depth=10,\n",
    "#             max_features=None, max_leaf_nodes=10, min_samples_leaf=2,\n",
    "#             min_samples_split=2, min_weight_fraction_leaf=0.0,\n",
    "#             presort=False, random_state=None, splitter='best'\n",
    ")"
   ]
  },
  {
   "cell_type": "code",
   "execution_count": 888,
   "metadata": {},
   "outputs": [
    {
     "data": {
      "text/plain": [
       "DecisionTreeClassifier(class_weight=None, criterion='gini', max_depth=7,\n",
       "            max_features=None, max_leaf_nodes=None, min_samples_leaf=5,\n",
       "            min_samples_split=2, min_weight_fraction_leaf=0.0,\n",
       "            presort=False, random_state=None, splitter='best')"
      ]
     },
     "execution_count": 888,
     "metadata": {},
     "output_type": "execute_result"
    }
   ],
   "source": [
    "dt_for_show.fit(x,y)"
   ]
  },
  {
   "cell_type": "code",
   "execution_count": 889,
   "metadata": {
    "scrolled": false
   },
   "outputs": [
    {
     "data": {
      "text/plain": [
       "0.69820475497331391"
      ]
     },
     "execution_count": 889,
     "metadata": {},
     "output_type": "execute_result"
    }
   ],
   "source": [
    "dt_for_show.score(x,y)"
   ]
  },
  {
   "cell_type": "code",
   "execution_count": null,
   "metadata": {
    "collapsed": true
   },
   "outputs": [],
   "source": []
  },
  {
   "cell_type": "code",
   "execution_count": null,
   "metadata": {
    "collapsed": true
   },
   "outputs": [],
   "source": []
  },
  {
   "cell_type": "code",
   "execution_count": 890,
   "metadata": {},
   "outputs": [
    {
     "data": {
      "text/plain": [
       "0"
      ]
     },
     "execution_count": 890,
     "metadata": {},
     "output_type": "execute_result"
    }
   ],
   "source": [
    "## exporting decision tree to png\n",
    "\n",
    "dtree = dt_for_show.fit(x, y)\n",
    "\n",
    "dotfile = open(\"dtree2.dot\", 'w')\n",
    "tree.export_graphviz(dtree, \n",
    "                     out_file = dotfile, \n",
    "                     feature_names = x.columns, \n",
    "                     class_names=['renewed', 'cancelled'],  \n",
    "                     filled=True, \n",
    "                     rounded=True,\n",
    "                     special_characters=True,\n",
    "                     impurity=False,\n",
    "                     label='none'\n",
    "                    )\n",
    "dotfile.close()\n",
    "\n",
    "system('dot -Tpng dtree2.dot -o dtree2.png')"
   ]
  },
  {
   "cell_type": "code",
   "execution_count": 891,
   "metadata": {},
   "outputs": [
    {
     "data": {
      "text/html": [
       "<div>\n",
       "<table border=\"1\" class=\"dataframe\">\n",
       "  <thead>\n",
       "    <tr style=\"text-align: right;\">\n",
       "      <th></th>\n",
       "      <th>importance</th>\n",
       "    </tr>\n",
       "  </thead>\n",
       "  <tbody>\n",
       "    <tr>\n",
       "      <th>keyword_relationship</th>\n",
       "      <td>0.148957</td>\n",
       "    </tr>\n",
       "    <tr>\n",
       "      <th>release_monthday</th>\n",
       "      <td>0.099691</td>\n",
       "    </tr>\n",
       "    <tr>\n",
       "      <th>keyword_charact</th>\n",
       "      <td>0.080150</td>\n",
       "    </tr>\n",
       "    <tr>\n",
       "      <th>keyword_fiction</th>\n",
       "      <td>0.070069</td>\n",
       "    </tr>\n",
       "    <tr>\n",
       "      <th>started_september</th>\n",
       "      <td>0.070020</td>\n",
       "    </tr>\n",
       "    <tr>\n",
       "      <th>half_hour</th>\n",
       "      <td>0.049042</td>\n",
       "    </tr>\n",
       "    <tr>\n",
       "      <th>is_comedy</th>\n",
       "      <td>0.042127</td>\n",
       "    </tr>\n",
       "    <tr>\n",
       "      <th>first_year</th>\n",
       "      <td>0.040699</td>\n",
       "    </tr>\n",
       "    <tr>\n",
       "      <th>keyword_cult</th>\n",
       "      <td>0.030586</td>\n",
       "    </tr>\n",
       "    <tr>\n",
       "      <th>started_sunday</th>\n",
       "      <td>0.028156</td>\n",
       "    </tr>\n",
       "    <tr>\n",
       "      <th>keyword_friend</th>\n",
       "      <td>0.024357</td>\n",
       "    </tr>\n",
       "    <tr>\n",
       "      <th>keyword_polic</th>\n",
       "      <td>0.023664</td>\n",
       "    </tr>\n",
       "    <tr>\n",
       "      <th>keyword_superhero</th>\n",
       "      <td>0.022226</td>\n",
       "    </tr>\n",
       "    <tr>\n",
       "      <th>from_ABC</th>\n",
       "      <td>0.021045</td>\n",
       "    </tr>\n",
       "    <tr>\n",
       "      <th>started_october</th>\n",
       "      <td>0.020915</td>\n",
       "    </tr>\n",
       "    <tr>\n",
       "      <th>keyword_base</th>\n",
       "      <td>0.019047</td>\n",
       "    </tr>\n",
       "    <tr>\n",
       "      <th>is_documentary</th>\n",
       "      <td>0.017799</td>\n",
       "    </tr>\n",
       "    <tr>\n",
       "      <th>keyword_friendship</th>\n",
       "      <td>0.016156</td>\n",
       "    </tr>\n",
       "    <tr>\n",
       "      <th>keyword_detect</th>\n",
       "      <td>0.015608</td>\n",
       "    </tr>\n",
       "    <tr>\n",
       "      <th>keyword_death</th>\n",
       "      <td>0.015056</td>\n",
       "    </tr>\n",
       "  </tbody>\n",
       "</table>\n",
       "</div>"
      ],
      "text/plain": [
       "                      importance\n",
       "keyword_relationship    0.148957\n",
       "release_monthday        0.099691\n",
       "keyword_charact         0.080150\n",
       "keyword_fiction         0.070069\n",
       "started_september       0.070020\n",
       "half_hour               0.049042\n",
       "is_comedy               0.042127\n",
       "first_year              0.040699\n",
       "keyword_cult            0.030586\n",
       "started_sunday          0.028156\n",
       "keyword_friend          0.024357\n",
       "keyword_polic           0.023664\n",
       "keyword_superhero       0.022226\n",
       "from_ABC                0.021045\n",
       "started_october         0.020915\n",
       "keyword_base            0.019047\n",
       "is_documentary          0.017799\n",
       "keyword_friendship      0.016156\n",
       "keyword_detect          0.015608\n",
       "keyword_death           0.015056"
      ]
     },
     "execution_count": 891,
     "metadata": {},
     "output_type": "execute_result"
    }
   ],
   "source": [
    "dt_show_feature_importances = pd.DataFrame(dt_for_show.feature_importances_,\n",
    "                                   index = x_train.columns,\n",
    "                                    columns=['importance']).sort_values('importance',\n",
    "                                    ascending=False)\n",
    "dt_show_feature_importances.head(20)"
   ]
  },
  {
   "cell_type": "markdown",
   "metadata": {},
   "source": [
    "## Logistic regression"
   ]
  },
  {
   "cell_type": "code",
   "execution_count": 77,
   "metadata": {},
   "outputs": [],
   "source": [
    "lr = LogisticRegression()"
   ]
  },
  {
   "cell_type": "code",
   "execution_count": 78,
   "metadata": {},
   "outputs": [
    {
     "name": "stdout",
     "output_type": "stream",
     "text": [
      "Training set score:  0.732686084142\n",
      "Test set score:  0.68023255814\n",
      "\n",
      "Confusion Matrix:\n",
      "      predicted_0  predicted_1\n",
      "is_0          239           59\n",
      "is_1          106          112\n",
      "\n",
      "Classification Report:\n",
      "             precision    recall  f1-score   support\n",
      "\n",
      "          0       0.69      0.80      0.74       298\n",
      "          1       0.65      0.51      0.58       218\n",
      "\n",
      "avg / total       0.68      0.68      0.67       516\n",
      "\n"
     ]
    }
   ],
   "source": [
    "run_model(x_train, y_train, x_test, y_test, lr)"
   ]
  },
  {
   "cell_type": "code",
   "execution_count": 894,
   "metadata": {},
   "outputs": [],
   "source": [
    "coefficients = lr.coef_"
   ]
  },
  {
   "cell_type": "code",
   "execution_count": 895,
   "metadata": {
    "scrolled": true
   },
   "outputs": [
    {
     "data": {
      "text/plain": [
       "array([-0.04140225])"
      ]
     },
     "execution_count": 895,
     "metadata": {},
     "output_type": "execute_result"
    }
   ],
   "source": [
    "coefficients[:,1]"
   ]
  },
  {
   "cell_type": "code",
   "execution_count": 896,
   "metadata": {
    "scrolled": false
   },
   "outputs": [
    {
     "data": {
      "text/plain": [
       "'first_year'"
      ]
     },
     "execution_count": 896,
     "metadata": {},
     "output_type": "execute_result"
    }
   ],
   "source": [
    "x.columns[0]"
   ]
  },
  {
   "cell_type": "code",
   "execution_count": 897,
   "metadata": {},
   "outputs": [
    {
     "data": {
      "text/plain": [
       "[('first_year', 0.00040729768503373789),\n",
       " ('is_action', -0.04140224700450304),\n",
       " ('is_adventure', 0.10050973059922792),\n",
       " ('is_animation', -0.68682640953826768),\n",
       " ('is_biography', 0.18950135740757371),\n",
       " ('is_comedy', 0.048066003849153376),\n",
       " ('is_crime', -0.48580813535638456),\n",
       " ('is_documentary', -1.0072959273252255),\n",
       " ('is_drama', 0.13796202920031395),\n",
       " ('is_family', -0.38326177114638488),\n",
       " ('is_fantasy', -0.23577153410982282),\n",
       " ('is_game', -1.0575812714994706),\n",
       " ('is_history', -0.040687256182800995),\n",
       " ('is_horror', 0.011381754802275049),\n",
       " ('is_music', -0.20565156497266859),\n",
       " ('is_musical', -0.086836697828643686),\n",
       " ('is_mystery', -0.79724998371177935),\n",
       " ('is_news', -0.46647666961019468),\n",
       " ('is_reality', -0.59091199494758229),\n",
       " ('is_romance', -0.80816985998865731),\n",
       " ('is_sci', 0.21013906120910508),\n",
       " ('is_short', 0.0),\n",
       " ('is_sport', -0.24890147923938727),\n",
       " ('is_talk', -1.00898152958582),\n",
       " ('is_thriller', 0.1410874635872722),\n",
       " ('is_war', -0.068318840862162403),\n",
       " ('is_western', 0.19041145974637566),\n",
       " ('release_monthday', 0.001184486929773892),\n",
       " ('keyword_adult', -0.43499089728550422),\n",
       " ('keyword_african', 0.10095493047723901),\n",
       " ('keyword_alien', -0.11486283963722398),\n",
       " ('keyword_american', 0.23848175759106358),\n",
       " ('keyword_angel', -0.14711934460561865),\n",
       " ('keyword_anim', 0.21313739826045369),\n",
       " ('keyword_base', 0.10586133849585846),\n",
       " ('keyword_best', -0.35467083167226909),\n",
       " ('keyword_black', -0.42152286130474159),\n",
       " ('keyword_book', -0.068678203652348349),\n",
       " ('keyword_boy', -0.28800154783680132),\n",
       " ('keyword_boyfriend', 0.050497084937897271),\n",
       " ('keyword_brother', 0.16382841231689407),\n",
       " ('keyword_california', -0.17210659149000412),\n",
       " ('keyword_celebr', 0.30008503540620729),\n",
       " ('keyword_charact', -0.64284148687334597),\n",
       " ('keyword_child', 0.29682881415884105),\n",
       " ('keyword_citi', -0.027045832443278413),\n",
       " ('keyword_comedi', 0.26643052257351307),\n",
       " ('keyword_comedian', -0.0013625226690489717),\n",
       " ('keyword_comic', 0.77623424117565687),\n",
       " ('keyword_cult', -0.35285161677292276),\n",
       " ('keyword_daughter', -0.32343848506400824),\n",
       " ('keyword_death', -0.46825606338103171),\n",
       " ('keyword_detect', 0.47226404404901878),\n",
       " ('keyword_doctor', -0.19614348766334022),\n",
       " ('keyword_evil', -0.37788033558759693),\n",
       " ('keyword_famili', -0.47253953213204802),\n",
       " ('keyword_father', 0.22353810799735388),\n",
       " ('keyword_femal', -0.41078026367991927),\n",
       " ('keyword_fiction', -0.62412731098115559),\n",
       " ('keyword_friend', -0.13050606973025941),\n",
       " ('keyword_friendship', -0.26299552182395874),\n",
       " ('keyword_gay', -0.25830737792488762),\n",
       " ('keyword_girl', 0.022564694896611771),\n",
       " ('keyword_girlfriend', 0.67162338869382188),\n",
       " ('keyword_hero', -0.21050651359599226),\n",
       " ('keyword_humor', -0.48400383331266988),\n",
       " ('keyword_husband', -0.40324815718933088),\n",
       " ('keyword_interraci', -0.16128794104265309),\n",
       " ('keyword_interview', -0.10400186761080131),\n",
       " ('keyword_investig', 0.58069765600464196),\n",
       " ('keyword_joke', -0.2628614140567358),\n",
       " ('keyword_life', -0.22130749651512535),\n",
       " ('keyword_live', 0.31525000071704629),\n",
       " ('keyword_love', -0.30753830204093263),\n",
       " ('keyword_male', -0.059695526283975849),\n",
       " ('keyword_man', -0.10324641269921768),\n",
       " ('keyword_marriag', 0.32195224991404614),\n",
       " ('keyword_mother', -0.03910107625357543),\n",
       " ('keyword_murder', 0.27236432126340676),\n",
       " ('keyword_offic', -0.78448659956299349),\n",
       " ('keyword_parent', -0.24904296703604972),\n",
       " ('keyword_parodi', -0.16373396883822161),\n",
       " ('keyword_play', -0.18535356674673778),\n",
       " ('keyword_polic', -0.50523385166342905),\n",
       " ('keyword_power', 0.31004546424817025),\n",
       " ('keyword_protagonist', -0.35366870143130058),\n",
       " ('keyword_relationship', -0.16902009647107266),\n",
       " ('keyword_satir', -0.5779862966404864),\n",
       " ('keyword_school', -0.063454211833890425),\n",
       " ('keyword_secret', 0.46524048648220478),\n",
       " ('keyword_sex', -0.023466571020868309),\n",
       " ('keyword_share', -0.64036849387450923),\n",
       " ('keyword_sister', -0.16220814421378468),\n",
       " ('keyword_sitcom', -0.44382666603559068),\n",
       " ('keyword_social', -0.45531093329501887),\n",
       " ('keyword_son', 0.086053816065378888),\n",
       " ('keyword_spoken', -0.21216113766873188),\n",
       " ('keyword_spoof', 0.74511277076563665),\n",
       " ('keyword_stand', -0.37363304371252143),\n",
       " ('keyword_student', -0.11225427644221542),\n",
       " ('keyword_superhero', 0.52592212420777706),\n",
       " ('keyword_supernatur', -0.30272727409922662),\n",
       " ('keyword_surreal', -0.022637390610250469),\n",
       " ('keyword_teenag', -0.1637506195127538),\n",
       " ('keyword_versu', -0.46145260553224404),\n",
       " ('keyword_villain', 0.056199048035512907),\n",
       " ('keyword_violenc', -0.19966399348312816),\n",
       " ('keyword_wife', -0.28691250020688341),\n",
       " ('keyword_woman', -0.3585195583488891),\n",
       " ('keyword_york', -0.60633692078506107),\n",
       " ('from_ABC', 0.92442230031414474),\n",
       " ('from_NBC', 0.52704619606058367),\n",
       " ('from_CBS', 0.54542169785066752),\n",
       " ('from_Fox', 0.69777014436322893),\n",
       " ('from_Nickelodeon', -0.63176301148222258),\n",
       " ('from_Cartoon', -0.80551299972526358),\n",
       " ('from_Comedy', 0.42278228718236099),\n",
       " ('from_MTV', 0.10414789423962301),\n",
       " ('from_HBO', -0.69027836503442175),\n",
       " ('from_Disney', -0.40985653232398889),\n",
       " ('from_WB', 0.059110802702196152),\n",
       " ('started_sunday', -0.023090802796211),\n",
       " ('started_monday', -0.0018488614483359799),\n",
       " ('started_tuesday', 0.01817344435167691),\n",
       " ('started_wednesday', 0.059132340021388098),\n",
       " ('started_thursday', 0.3439960266147033),\n",
       " ('started_friday', 0.14026913138057037),\n",
       " ('started_saturday', -0.53184111619804308),\n",
       " ('started_january', -0.1503052299800037),\n",
       " ('started_february', 0.22659011438722423),\n",
       " ('started_march', -0.32608999686871432),\n",
       " ('started_april', -0.12990594955928789),\n",
       " ('started_may', 0.11636908520846984),\n",
       " ('started_june', 0.032450215846323162),\n",
       " ('started_july', -0.076701115915051493),\n",
       " ('started_august', -0.21033958986909784),\n",
       " ('started_september', 0.49373185481327386),\n",
       " ('started_october', 0.1095018742459037),\n",
       " ('started_november', -0.045426666865980035),\n",
       " ('started_december', -0.035084433517280668),\n",
       " ('half_hour', -0.72917909246555368),\n",
       " ('full_hour', -0.46715958639241906)]"
      ]
     },
     "execution_count": 897,
     "metadata": {},
     "output_type": "execute_result"
    }
   ],
   "source": [
    "zip(x.columns, coefficients[0])"
   ]
  },
  {
   "cell_type": "code",
   "execution_count": 898,
   "metadata": {},
   "outputs": [
    {
     "data": {
      "text/plain": [
       "259"
      ]
     },
     "execution_count": 898,
     "metadata": {},
     "output_type": "execute_result"
    }
   ],
   "source": [
    "x['started_saturday'].sum()"
   ]
  },
  {
   "cell_type": "code",
   "execution_count": 942,
   "metadata": {},
   "outputs": [
    {
     "data": {
      "text/plain": [
       "(2061, 142)"
      ]
     },
     "execution_count": 942,
     "metadata": {},
     "output_type": "execute_result"
    }
   ],
   "source": [
    "x.shape"
   ]
  },
  {
   "cell_type": "code",
   "execution_count": 945,
   "metadata": {},
   "outputs": [
    {
     "data": {
      "text/plain": [
       "0    1250\n",
       "1     811\n",
       "Name: cancelled, dtype: int64"
      ]
     },
     "execution_count": 945,
     "metadata": {},
     "output_type": "execute_result"
    }
   ],
   "source": [
    "y.value_counts()"
   ]
  },
  {
   "cell_type": "markdown",
   "metadata": {
    "collapsed": true
   },
   "source": [
    "# Support Vector Machines"
   ]
  },
  {
   "cell_type": "code",
   "execution_count": 68,
   "metadata": {
    "collapsed": true
   },
   "outputs": [],
   "source": [
    "svc = SVC(verbose=True)\n",
    "nusvc = NuSVC()\n",
    "linsvc = LinearSVC()"
   ]
  },
  {
   "cell_type": "code",
   "execution_count": 69,
   "metadata": {},
   "outputs": [
    {
     "name": "stdout",
     "output_type": "stream",
     "text": [
      "[LibSVM]Training set score:  0.638187702265\n",
      "Test set score:  0.577519379845\n",
      "\n",
      "Confusion Matrix:\n",
      "      predicted_0  predicted_1\n",
      "is_0          293            5\n",
      "is_1          213            5\n",
      "\n",
      "Classification Report:\n",
      "             precision    recall  f1-score   support\n",
      "\n",
      "          0       0.58      0.98      0.73       298\n",
      "          1       0.50      0.02      0.04       218\n",
      "\n",
      "avg / total       0.55      0.58      0.44       516\n",
      "\n"
     ]
    }
   ],
   "source": [
    "run_model(x_train, y_train, x_test, y_test, svc)"
   ]
  },
  {
   "cell_type": "code",
   "execution_count": 76,
   "metadata": {},
   "outputs": [
    {
     "name": "stdout",
     "output_type": "stream",
     "text": [
      "Training set score:  0.90355987055\n",
      "Test set score:  0.668604651163\n",
      "\n",
      "Confusion Matrix:\n",
      "      predicted_0  predicted_1\n",
      "is_0          238           60\n",
      "is_1          111          107\n",
      "\n",
      "Classification Report:\n",
      "             precision    recall  f1-score   support\n",
      "\n",
      "          0       0.68      0.80      0.74       298\n",
      "          1       0.64      0.49      0.56       218\n",
      "\n",
      "avg / total       0.66      0.67      0.66       516\n",
      "\n"
     ]
    }
   ],
   "source": [
    "run_model(x_train, y_train, x_test, y_test, nusvc)"
   ]
  },
  {
   "cell_type": "code",
   "execution_count": 75,
   "metadata": {},
   "outputs": [
    {
     "name": "stdout",
     "output_type": "stream",
     "text": [
      "Training set score:  0.383818770227\n",
      "Test set score:  0.422480620155\n",
      "\n",
      "Confusion Matrix:\n",
      "      predicted_0  predicted_1\n",
      "is_0            0          298\n",
      "is_1            0          218\n",
      "\n",
      "Classification Report:\n",
      "             precision    recall  f1-score   support\n",
      "\n",
      "          0       0.00      0.00      0.00       298\n",
      "          1       0.42      1.00      0.59       218\n",
      "\n",
      "avg / total       0.18      0.42      0.25       516\n",
      "\n"
     ]
    }
   ],
   "source": [
    "run_model(x_train, y_train, x_test, y_test, linsvc)"
   ]
  },
  {
   "cell_type": "code",
   "execution_count": null,
   "metadata": {
    "collapsed": true
   },
   "outputs": [],
   "source": []
  }
 ],
 "metadata": {
  "anaconda-cloud": {},
  "kernelspec": {
   "display_name": "Python [Root]",
   "language": "python",
   "name": "Python [Root]"
  },
  "language_info": {
   "codemirror_mode": {
    "name": "ipython",
    "version": 2
   },
   "file_extension": ".py",
   "mimetype": "text/x-python",
   "name": "python",
   "nbconvert_exporter": "python",
   "pygments_lexer": "ipython2",
   "version": "2.7.12"
  }
 },
 "nbformat": 4,
 "nbformat_minor": 1
}
