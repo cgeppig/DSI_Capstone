{
 "cells": [
  {
   "cell_type": "code",
   "execution_count": 1,
   "metadata": {},
   "outputs": [
    {
     "name": "stderr",
     "output_type": "stream",
     "text": [
      "/Users/christophereppig/anaconda/lib/python2.7/site-packages/sklearn/cross_validation.py:44: DeprecationWarning: This module was deprecated in version 0.18 in favor of the model_selection module into which all the refactored classes and functions are moved. Also note that the interface of the new CV iterators are different from that of this module. This module will be removed in 0.20.\n",
      "  \"This module will be removed in 0.20.\", DeprecationWarning)\n",
      "/Users/christophereppig/anaconda/lib/python2.7/site-packages/sklearn/grid_search.py:43: DeprecationWarning: This module was deprecated in version 0.18 in favor of the model_selection module into which all the refactored classes and functions are moved. This module will be removed in 0.20.\n",
      "  DeprecationWarning)\n"
     ]
    }
   ],
   "source": [
    "import pandas as pd\n",
    "import numpy as np\n",
    "import csv\n",
    "from sklearn.feature_extraction.text import CountVectorizer\n",
    "from sklearn.feature_extraction.text import TfidfVectorizer\n",
    "import matplotlib.pyplot as plt\n",
    "%matplotlib inline\n",
    "import seaborn as sns\n",
    "from sklearn.cross_validation import train_test_split\n",
    "from sklearn.ensemble import RandomForestClassifier, ExtraTreesClassifier\n",
    "from sklearn.tree import DecisionTreeClassifier\n",
    "from sklearn.grid_search import GridSearchCV\n",
    "from sklearn.metrics import confusion_matrix, classification_report\n",
    "from sklearn.preprocessing import StandardScaler\n",
    "from sklearn.metrics import roc_curve, auc\n",
    "from sklearn.ensemble import GradientBoostingClassifier\n",
    "from sklearn.ensemble import AdaBoostClassifier\n",
    "from xgboost import XGBClassifier\n",
    "from sklearn.svm import SVC, NuSVC, LinearSVC\n",
    "\n",
    "from IPython.display import Image\n",
    "from sklearn import tree\n",
    "import pydotplus\n",
    "import os\n",
    "from os import system\n",
    "from sklearn.linear_model import LogisticRegression\n",
    "from datetime import datetime\n",
    "import pickle"
   ]
  },
  {
   "cell_type": "code",
   "execution_count": 2,
   "metadata": {
    "collapsed": true
   },
   "outputs": [],
   "source": [
    "pd.set_option('max_seq_items', 200)"
   ]
  },
  {
   "cell_type": "code",
   "execution_count": 3,
   "metadata": {
    "collapsed": true
   },
   "outputs": [],
   "source": [
    "shows = pd.read_csv('good_shows_data2.csv')"
   ]
  },
  {
   "cell_type": "code",
   "execution_count": 4,
   "metadata": {},
   "outputs": [
    {
     "data": {
      "text/plain": [
       "Index([u'json', u'title_rough', u'check', u'title', u'imdb_id', u'big_json',\n",
       "       u'seasons', u'cancelled', u'runtime', u'genres', u'imdb_rating',\n",
       "       u'release_date', u'plot', u'year', u'type', u'votes', u'keywords',\n",
       "       u'first_year', u'is_new', u'fixed_runtime', u'is_action',\n",
       "       u'is_adventure', u'is_animation', u'is_biography', u'is_comedy',\n",
       "       u'is_crime', u'is_documentary', u'is_drama', u'is_family',\n",
       "       u'is_fantasy', u'is_game', u'is_history', u'is_horror', u'is_music',\n",
       "       u'is_musical', u'is_mystery', u'is_news', u'is_reality', u'is_romance',\n",
       "       u'is_sci', u'is_short', u'is_sport', u'is_talk', u'is_thriller',\n",
       "       u'is_war', u'is_western', u'release_month', u'release_weekday',\n",
       "       u'release_monthday', u'stemmed_plot', u'stemmed_keywords',\n",
       "       u'keyword_adult', u'keyword_african', u'keyword_alien',\n",
       "       u'keyword_american', u'keyword_angel', u'keyword_anim', u'keyword_base',\n",
       "       u'keyword_best', u'keyword_black', u'keyword_book', u'keyword_boy',\n",
       "       u'keyword_boyfriend', u'keyword_brother', u'keyword_california',\n",
       "       u'keyword_celebr', u'keyword_charact', u'keyword_child',\n",
       "       u'keyword_citi', u'keyword_comedi', u'keyword_comedian',\n",
       "       u'keyword_comic', u'keyword_cult', u'keyword_daughter',\n",
       "       u'keyword_death', u'keyword_detect', u'keyword_doctor', u'keyword_evil',\n",
       "       u'keyword_famili', u'keyword_father', u'keyword_femal',\n",
       "       u'keyword_fiction', u'keyword_friend', u'keyword_friendship',\n",
       "       u'keyword_gay', u'keyword_girl', u'keyword_girlfriend', u'keyword_hero',\n",
       "       u'keyword_humor', u'keyword_husband', u'keyword_interraci',\n",
       "       u'keyword_interview', u'keyword_investig', u'keyword_joke',\n",
       "       u'keyword_life', u'keyword_live', u'keyword_love', u'keyword_male',\n",
       "       u'keyword_man', u'keyword_marriag', u'keyword_mother',\n",
       "       u'keyword_murder', u'keyword_new', u'keyword_offic', u'keyword_parent',\n",
       "       u'keyword_parodi', u'keyword_play', u'keyword_polic', u'keyword_power',\n",
       "       u'keyword_protagonist', u'keyword_relationship', u'keyword_satir',\n",
       "       u'keyword_school', u'keyword_secret', u'keyword_sex', u'keyword_share',\n",
       "       u'keyword_sister', u'keyword_sitcom', u'keyword_social', u'keyword_son',\n",
       "       u'keyword_spoken', u'keyword_spoof', u'keyword_stand',\n",
       "       u'keyword_student', u'keyword_superhero', u'keyword_supernatur',\n",
       "       u'keyword_surreal', u'keyword_teenag', u'keyword_versu',\n",
       "       u'keyword_villain', u'keyword_violenc', u'keyword_wife',\n",
       "       u'keyword_woman', u'keyword_york', u'plot_cleaned', u'network',\n",
       "       u'from_ABC', u'from_NBC', u'from_CBS', u'from_Fox', u'from_Nickelodeon',\n",
       "       u'from_Cartoon', u'from_Comedy', u'from_MTV', u'from_HBO',\n",
       "       u'from_Disney', u'from_WB', u'started_sunday', u'started_monday',\n",
       "       u'started_tuesday', u'started_wednesday', u'started_thursday',\n",
       "       u'started_friday', u'started_saturday', u'started_january',\n",
       "       u'started_february', u'started_march', u'started_april', u'started_may',\n",
       "       u'started_june', u'started_july', u'started_august',\n",
       "       u'started_september', u'started_october', u'started_november',\n",
       "       u'started_december', u'half_hour', u'full_hour'],\n",
       "      dtype='object')"
      ]
     },
     "execution_count": 4,
     "metadata": {},
     "output_type": "execute_result"
    }
   ],
   "source": [
    "shows.columns"
   ]
  },
  {
   "cell_type": "code",
   "execution_count": 5,
   "metadata": {
    "collapsed": true,
    "scrolled": true
   },
   "outputs": [],
   "source": [
    "## dropping old shows\n",
    "shows = shows[shows['release_date']>=1980]"
   ]
  },
  {
   "cell_type": "code",
   "execution_count": 6,
   "metadata": {
    "collapsed": true
   },
   "outputs": [],
   "source": [
    "## dropping shows where I don't know whether they were cancelled\n",
    "shows = shows[shows['seasons'] != 0]"
   ]
  },
  {
   "cell_type": "code",
   "execution_count": 7,
   "metadata": {
    "collapsed": true
   },
   "outputs": [],
   "source": [
    "shows['release_date'] = shows['release_date'].dropna().apply(lambda x: datetime.strptime(x, '%Y-%m-%d'))\n",
    "shows['release_month'] = shows['release_date'].dropna().apply(lambda x: x.strftime('%m'))\n",
    "shows['release_month'] = shows['release_month'].dropna().apply(lambda x: int(x))\n",
    "shows['release_weekday'] = shows['release_date'].dropna().apply(lambda x: x.strftime('%w'))\n",
    "shows['release_weekday'] = shows['release_weekday'].dropna().apply(lambda x: int(x))\n",
    "\n",
    "shows['started_sunday'] = shows['release_weekday'].dropna().apply(lambda x: 1 if int(x)==0 else 0)\n",
    "shows['started_monday'] = shows['release_weekday'].dropna().apply(lambda x: 1 if int(x)==1 else 0)\n",
    "shows['started_tuesday'] = shows['release_weekday'].dropna().apply(lambda x: 1 if int(x)==2 else 0)\n",
    "shows['started_wednesday'] = shows['release_weekday'].dropna().apply(lambda x: 1 if int(x)==3 else 0)\n",
    "shows['started_thursday'] = shows['release_weekday'].dropna().apply(lambda x: 1 if int(x)==4 else 0)\n",
    "shows['started_friday'] = shows['release_weekday'].dropna().apply(lambda x: 1 if int(x)==5 else 0)\n",
    "shows['started_saturday'] = shows['release_weekday'].dropna().apply(lambda x: 1 if int(x)==6 else 0)"
   ]
  },
  {
   "cell_type": "code",
   "execution_count": 8,
   "metadata": {
    "collapsed": true
   },
   "outputs": [],
   "source": [
    "shows['started_on_first'] = shows['release_monthday'].dropna().apply(lambda x: 1 if x==1 else 0)"
   ]
  },
  {
   "cell_type": "code",
   "execution_count": 9,
   "metadata": {},
   "outputs": [
    {
     "data": {
      "text/plain": [
       "Index([u'json', u'title_rough', u'check', u'title', u'imdb_id', u'big_json',\n",
       "       u'seasons', u'cancelled', u'runtime', u'genres', u'imdb_rating',\n",
       "       u'release_date', u'plot', u'year', u'type', u'votes', u'keywords',\n",
       "       u'first_year', u'is_new', u'fixed_runtime', u'is_action',\n",
       "       u'is_adventure', u'is_animation', u'is_biography', u'is_comedy',\n",
       "       u'is_crime', u'is_documentary', u'is_drama', u'is_family',\n",
       "       u'is_fantasy', u'is_game', u'is_history', u'is_horror', u'is_music',\n",
       "       u'is_musical', u'is_mystery', u'is_news', u'is_reality', u'is_romance',\n",
       "       u'is_sci', u'is_short', u'is_sport', u'is_talk', u'is_thriller',\n",
       "       u'is_war', u'is_western', u'release_month', u'release_weekday',\n",
       "       u'release_monthday', u'stemmed_plot', u'stemmed_keywords',\n",
       "       u'keyword_adult', u'keyword_african', u'keyword_alien',\n",
       "       u'keyword_american', u'keyword_angel', u'keyword_anim', u'keyword_base',\n",
       "       u'keyword_best', u'keyword_black', u'keyword_book', u'keyword_boy',\n",
       "       u'keyword_boyfriend', u'keyword_brother', u'keyword_california',\n",
       "       u'keyword_celebr', u'keyword_charact', u'keyword_child',\n",
       "       u'keyword_citi', u'keyword_comedi', u'keyword_comedian',\n",
       "       u'keyword_comic', u'keyword_cult', u'keyword_daughter',\n",
       "       u'keyword_death', u'keyword_detect', u'keyword_doctor', u'keyword_evil',\n",
       "       u'keyword_famili', u'keyword_father', u'keyword_femal',\n",
       "       u'keyword_fiction', u'keyword_friend', u'keyword_friendship',\n",
       "       u'keyword_gay', u'keyword_girl', u'keyword_girlfriend', u'keyword_hero',\n",
       "       u'keyword_humor', u'keyword_husband', u'keyword_interraci',\n",
       "       u'keyword_interview', u'keyword_investig', u'keyword_joke',\n",
       "       u'keyword_life', u'keyword_live', u'keyword_love', u'keyword_male',\n",
       "       u'keyword_man', u'keyword_marriag', u'keyword_mother',\n",
       "       u'keyword_murder', u'keyword_new', u'keyword_offic', u'keyword_parent',\n",
       "       u'keyword_parodi', u'keyword_play', u'keyword_polic', u'keyword_power',\n",
       "       u'keyword_protagonist', u'keyword_relationship', u'keyword_satir',\n",
       "       u'keyword_school', u'keyword_secret', u'keyword_sex', u'keyword_share',\n",
       "       u'keyword_sister', u'keyword_sitcom', u'keyword_social', u'keyword_son',\n",
       "       u'keyword_spoken', u'keyword_spoof', u'keyword_stand',\n",
       "       u'keyword_student', u'keyword_superhero', u'keyword_supernatur',\n",
       "       u'keyword_surreal', u'keyword_teenag', u'keyword_versu',\n",
       "       u'keyword_villain', u'keyword_violenc', u'keyword_wife',\n",
       "       u'keyword_woman', u'keyword_york', u'plot_cleaned', u'network',\n",
       "       u'from_ABC', u'from_NBC', u'from_CBS', u'from_Fox', u'from_Nickelodeon',\n",
       "       u'from_Cartoon', u'from_Comedy', u'from_MTV', u'from_HBO',\n",
       "       u'from_Disney', u'from_WB', u'started_sunday', u'started_monday',\n",
       "       u'started_tuesday', u'started_wednesday', u'started_thursday',\n",
       "       u'started_friday', u'started_saturday', u'started_january',\n",
       "       u'started_february', u'started_march', u'started_april', u'started_may',\n",
       "       u'started_june', u'started_july', u'started_august',\n",
       "       u'started_september', u'started_october', u'started_november',\n",
       "       u'started_december', u'half_hour', u'full_hour', u'started_on_first'],\n",
       "      dtype='object')"
      ]
     },
     "execution_count": 9,
     "metadata": {},
     "output_type": "execute_result"
    }
   ],
   "source": [
    "shows.columns"
   ]
  },
  {
   "cell_type": "code",
   "execution_count": 10,
   "metadata": {
    "collapsed": true
   },
   "outputs": [],
   "source": [
    "shows = shows.drop(['json', u'title_rough', u'check', u'big_json',\n",
    "       u'seasons', 'runtime', u'genres', u'imdb_rating',\n",
    "       u'release_date', u'plot', u'year', u'type', u'votes', u'keywords', u'is_new', \n",
    "        'stemmed_plot', u'stemmed_keywords', 'plot_cleaned', u'network', 'release_month', \n",
    "                    'release_weekday', 'fixed_runtime', 'keyword_new'], axis=1)\n"
   ]
  },
  {
   "cell_type": "code",
   "execution_count": 11,
   "metadata": {
    "collapsed": true
   },
   "outputs": [],
   "source": [
    "## export clean modeling data\n",
    "\n",
    "# shows.to_csv('clean_modeling_data.csv')\n"
   ]
  },
  {
   "cell_type": "code",
   "execution_count": 12,
   "metadata": {
    "collapsed": true
   },
   "outputs": [],
   "source": [
    "shows = shows.drop(['title', 'imdb_id'], axis=1)"
   ]
  },
  {
   "cell_type": "code",
   "execution_count": 13,
   "metadata": {},
   "outputs": [
    {
     "data": {
      "text/plain": [
       "(2061, 144)"
      ]
     },
     "execution_count": 13,
     "metadata": {},
     "output_type": "execute_result"
    }
   ],
   "source": [
    "shows.shape"
   ]
  },
  {
   "cell_type": "code",
   "execution_count": 14,
   "metadata": {
    "collapsed": true
   },
   "outputs": [],
   "source": [
    "# shows.columns"
   ]
  },
  {
   "cell_type": "code",
   "execution_count": 15,
   "metadata": {},
   "outputs": [
    {
     "data": {
      "text/plain": [
       "(2061, 144)"
      ]
     },
     "execution_count": 15,
     "metadata": {},
     "output_type": "execute_result"
    }
   ],
   "source": [
    "shows.shape"
   ]
  },
  {
   "cell_type": "code",
   "execution_count": 16,
   "metadata": {},
   "outputs": [
    {
     "data": {
      "text/plain": [
       "(2061, 144)"
      ]
     },
     "execution_count": 16,
     "metadata": {},
     "output_type": "execute_result"
    }
   ],
   "source": [
    "shows.dropna().shape"
   ]
  },
  {
   "cell_type": "code",
   "execution_count": 17,
   "metadata": {
    "collapsed": true
   },
   "outputs": [],
   "source": [
    "## defining dependent/independent variables\n",
    "y = shows['cancelled']\n",
    "x = shows.drop('cancelled', axis=1)"
   ]
  },
  {
   "cell_type": "code",
   "execution_count": 18,
   "metadata": {
    "collapsed": true
   },
   "outputs": [],
   "source": [
    "# x.columns"
   ]
  },
  {
   "cell_type": "code",
   "execution_count": 19,
   "metadata": {},
   "outputs": [
    {
     "data": {
      "text/plain": [
       "0.39349830179524503"
      ]
     },
     "execution_count": 19,
     "metadata": {},
     "output_type": "execute_result"
    }
   ],
   "source": [
    "## Base probability\n",
    "y.mean()"
   ]
  },
  {
   "cell_type": "code",
   "execution_count": 20,
   "metadata": {
    "collapsed": true
   },
   "outputs": [],
   "source": [
    "## train/test split\n",
    "x_train, x_test, y_train, y_test = train_test_split(x,y)"
   ]
  },
  {
   "cell_type": "code",
   "execution_count": 21,
   "metadata": {
    "collapsed": true
   },
   "outputs": [],
   "source": [
    "# x_train.shape"
   ]
  },
  {
   "cell_type": "code",
   "execution_count": 22,
   "metadata": {
    "collapsed": true
   },
   "outputs": [],
   "source": [
    "# x_test.shape"
   ]
  },
  {
   "cell_type": "code",
   "execution_count": 23,
   "metadata": {
    "collapsed": true
   },
   "outputs": [],
   "source": [
    "# y_train.shape"
   ]
  },
  {
   "cell_type": "code",
   "execution_count": 24,
   "metadata": {
    "collapsed": true,
    "scrolled": true
   },
   "outputs": [],
   "source": [
    "# y_test.shape"
   ]
  },
  {
   "cell_type": "code",
   "execution_count": 25,
   "metadata": {
    "collapsed": true
   },
   "outputs": [],
   "source": [
    "## runs model\n",
    "def run_model(x_train, y_train, x_test, y_test, model):\n",
    "    model.fit(x_train, y_train)\n",
    "    print \"Training set score: \", model.score(x_train, y_train)\n",
    "    print \"Test set score: \", model.score(x_test, y_test)\n",
    "    predictions = model.predict(x_test)\n",
    "    print \"\\nConfusion Matrix:\\n\", pd.DataFrame(confusion_matrix(y_test, predictions), \n",
    "                                              columns=['predicted_0', 'predicted_1'], index=['is_0', 'is_1'])\n",
    "    print \"\\nClassification Report:\\n\",classification_report(y_test, predictions)"
   ]
  },
  {
   "cell_type": "code",
   "execution_count": 26,
   "metadata": {
    "collapsed": true
   },
   "outputs": [],
   "source": [
    "## plots ROC curve\n",
    "def plot_roc(x_test, y_test, model):\n",
    "    fpr, tpr, _ = roc_curve(y_test, model.predict_proba(x_test)[:,1])\n",
    "    roc_auc = auc(fpr, tpr)\n",
    "    print 'ROC AUC: %0.2f' % roc_auc\n",
    "    plt.figure()\n",
    "    plt.plot(fpr, tpr, label='ROC curve (area = %0.2f)' % roc_auc)\n",
    "    plt.plot([0, 1], [0, 1], 'k--')\n",
    "    plt.xlim([0.0, 1.0])\n",
    "    plt.ylim([0.0, 1.05])\n",
    "    plt.xlabel('False Positive Rate')\n",
    "    plt.ylabel('True Positive Rate')\n",
    "    plt.title('ROC Curve')\n",
    "    plt.legend(loc=\"lower right\")\n",
    "    plt.show()"
   ]
  },
  {
   "cell_type": "markdown",
   "metadata": {},
   "source": [
    "## Random Forest"
   ]
  },
  {
   "cell_type": "code",
   "execution_count": 27,
   "metadata": {
    "collapsed": true
   },
   "outputs": [],
   "source": [
    "rf = RandomForestClassifier(min_samples_leaf=5)"
   ]
  },
  {
   "cell_type": "code",
   "execution_count": 28,
   "metadata": {
    "scrolled": false
   },
   "outputs": [
    {
     "name": "stdout",
     "output_type": "stream",
     "text": [
      "Training set score:  0.76569579288\n",
      "Test set score:  0.668604651163\n",
      "\n",
      "Confusion Matrix:\n",
      "      predicted_0  predicted_1\n",
      "is_0          263           52\n",
      "is_1          119           82\n",
      "\n",
      "Classification Report:\n",
      "             precision    recall  f1-score   support\n",
      "\n",
      "          0       0.69      0.83      0.75       315\n",
      "          1       0.61      0.41      0.49       201\n",
      "\n",
      "avg / total       0.66      0.67      0.65       516\n",
      "\n"
     ]
    }
   ],
   "source": [
    "run_model(x_train, y_train, x_test, y_test, rf)"
   ]
  },
  {
   "cell_type": "code",
   "execution_count": 148,
   "metadata": {
    "scrolled": true
   },
   "outputs": [
    {
     "data": {
      "text/plain": [
       "array([[ 0.6037591 ,  0.3962409 ],\n",
       "       [ 0.60745273,  0.39254727],\n",
       "       [ 0.48892697,  0.51107303],\n",
       "       ..., \n",
       "       [ 0.48127501,  0.51872499],\n",
       "       [ 0.44443611,  0.55556389],\n",
       "       [ 0.55474529,  0.44525471]])"
      ]
     },
     "execution_count": 148,
     "metadata": {},
     "output_type": "execute_result"
    }
   ],
   "source": [
    "rf.predict_proba(x_test)"
   ]
  },
  {
   "cell_type": "code",
   "execution_count": 29,
   "metadata": {
    "scrolled": true
   },
   "outputs": [
    {
     "name": "stdout",
     "output_type": "stream",
     "text": [
      "ROC AUC: 0.71\n"
     ]
    },
    {
     "data": {
      "image/png": "[encoded data removed]",
      "text/plain": [
       "<matplotlib.figure.Figure at 0x1045dd250>"
      ]
     },
     "metadata": {},
     "output_type": "display_data"
    }
   ],
   "source": [
    "plot_roc(x_test, y_test, rf)"
   ]
  },
  {
   "cell_type": "code",
   "execution_count": 215,
   "metadata": {},
   "outputs": [
    {
     "data": {
      "text/plain": [
       "(1545, 143)"
      ]
     },
     "execution_count": 215,
     "metadata": {},
     "output_type": "execute_result"
    }
   ],
   "source": [
    "x_train.shape"
   ]
  },
  {
   "cell_type": "markdown",
   "metadata": {},
   "source": [
    "## Random Forest with grid search"
   ]
  },
  {
   "cell_type": "code",
   "execution_count": 30,
   "metadata": {
    "collapsed": true
   },
   "outputs": [],
   "source": [
    " parameters = {\n",
    "     \"n_estimators\" : [10, 25, 50, 100],\n",
    "    \"max_depth\" : [5,7,10,15],\n",
    "     \"max_features\" : [0.25, 0.5, 0.75],\n",
    "     \"min_samples_leaf\" : [2,3,4,5]\n",
    " }"
   ]
  },
  {
   "cell_type": "code",
   "execution_count": 38,
   "metadata": {
    "collapsed": true
   },
   "outputs": [],
   "source": [
    "gs_rf = RandomForestClassifier()\n",
    "grid_search = GridSearchCV(gs_rf,param_grid=parameters, cv=7, n_jobs=-1, scoring='recall')"
   ]
  },
  {
   "cell_type": "code",
   "execution_count": null,
   "metadata": {},
   "outputs": [],
   "source": []
  },
  {
   "cell_type": "code",
   "execution_count": 39,
   "metadata": {
    "scrolled": false
   },
   "outputs": [
    {
     "data": {
      "text/plain": [
       "GridSearchCV(cv=7, error_score='raise',\n",
       "       estimator=RandomForestClassifier(bootstrap=True, class_weight=None, criterion='gini',\n",
       "            max_depth=None, max_features='auto', max_leaf_nodes=None,\n",
       "            min_impurity_split=1e-07, min_samples_leaf=1,\n",
       "            min_samples_split=2, min_weight_fraction_leaf=0.0,\n",
       "            n_estimators=10, n_jobs=1, oob_score=False, random_state=None,\n",
       "            verbose=0, warm_start=False),\n",
       "       fit_params={}, iid=True, n_jobs=-1,\n",
       "       param_grid={'n_estimators': [10, 25, 50, 100], 'max_features': [0.25, 0.5, 0.75], 'max_depth': [5, 7, 10, 15], 'min_samples_leaf': [2, 3, 4, 5]},\n",
       "       pre_dispatch='2*n_jobs', refit=True, scoring='recall', verbose=0)"
      ]
     },
     "execution_count": 39,
     "metadata": {},
     "output_type": "execute_result"
    }
   ],
   "source": [
    "## 12:21 - 12:22\n",
    "grid_search.fit(x_train, y_train)"
   ]
  },
  {
   "cell_type": "code",
   "execution_count": 35,
   "metadata": {},
   "outputs": [
    {
     "data": {
      "text/plain": [
       "RandomForestClassifier(bootstrap=True, class_weight=None, criterion='gini',\n",
       "            max_depth=10, max_features=0.5, max_leaf_nodes=None,\n",
       "            min_impurity_split=1e-07, min_samples_leaf=4,\n",
       "            min_samples_split=2, min_weight_fraction_leaf=0.0,\n",
       "            n_estimators=10, n_jobs=1, oob_score=False, random_state=None,\n",
       "            verbose=0, warm_start=False)"
      ]
     },
     "execution_count": 35,
     "metadata": {},
     "output_type": "execute_result"
    }
   ],
   "source": [
    "grid_search.best_estimator_"
   ]
  },
  {
   "cell_type": "code",
   "execution_count": 40,
   "metadata": {},
   "outputs": [
    {
     "name": "stdout",
     "output_type": "stream",
     "text": [
      "Training set score:  0.913268608414\n",
      "Test set score:  0.668604651163\n",
      "\n",
      "Confusion Matrix:\n",
      "      predicted_0  predicted_1\n",
      "is_0          247           68\n",
      "is_1          103           98\n",
      "\n",
      "Classification Report:\n",
      "             precision    recall  f1-score   support\n",
      "\n",
      "          0       0.71      0.78      0.74       315\n",
      "          1       0.59      0.49      0.53       201\n",
      "\n",
      "avg / total       0.66      0.67      0.66       516\n",
      "\n"
     ]
    }
   ],
   "source": [
    "run_model(x_train, y_train, x_test, y_test, grid_search.best_estimator_)"
   ]
  },
  {
   "cell_type": "code",
   "execution_count": 41,
   "metadata": {},
   "outputs": [
    {
     "name": "stdout",
     "output_type": "stream",
     "text": [
      "ROC AUC: 0.72\n"
     ]
    },
    {
     "data": {
      "image/png": "[encoded data removed]",
      "text/plain": [
       "<matplotlib.figure.Figure at 0x112d50e10>"
      ]
     },
     "metadata": {},
     "output_type": "display_data"
    }
   ],
   "source": [
    "plot_roc(x_test, y_test, grid_search.best_estimator_)\n"
   ]
  },
  {
   "cell_type": "code",
   "execution_count": 42,
   "metadata": {
    "collapsed": true
   },
   "outputs": [],
   "source": [
    "gsrf_pickle_path = 'model_implementation/gsrf_pickle.pkl'\n",
    "gsrf_pickle = open(gsrf_pickle_path, 'wb')\n",
    "pickle.dump(grid_search.best_estimator_, gsrf_pickle)\n",
    "gsrf_pickle.close()"
   ]
  },
  {
   "cell_type": "code",
   "execution_count": 156,
   "metadata": {
    "collapsed": true,
    "scrolled": false
   },
   "outputs": [],
   "source": [
    "# grid_search.best_estimator_.predict_proba(x_test)"
   ]
  },
  {
   "cell_type": "code",
   "execution_count": 157,
   "metadata": {
    "collapsed": true
   },
   "outputs": [],
   "source": [
    "# rf_feature_importances = pd.DataFrame(grid_search.best_estimator_.feature_importances_,\n",
    "#                                    index = x_train.columns,\n",
    "#                                     columns=['importance']).sort_values('importance',\n",
    "#                                     ascending=False)\n",
    "# rf_feature_importances.head(20)"
   ]
  },
  {
   "cell_type": "code",
   "execution_count": null,
   "metadata": {
    "collapsed": true
   },
   "outputs": [],
   "source": []
  },
  {
   "cell_type": "markdown",
   "metadata": {},
   "source": [
    "## Decision Tree"
   ]
  },
  {
   "cell_type": "code",
   "execution_count": null,
   "metadata": {
    "collapsed": true
   },
   "outputs": [],
   "source": []
  },
  {
   "cell_type": "code",
   "execution_count": 158,
   "metadata": {
    "collapsed": true,
    "scrolled": true
   },
   "outputs": [],
   "source": [
    "# DecisionTreeClassifier()"
   ]
  },
  {
   "cell_type": "code",
   "execution_count": 159,
   "metadata": {
    "collapsed": true
   },
   "outputs": [],
   "source": [
    "## tune hyperparameters here\n",
    "# dt = DecisionTreeClassifier(\n",
    "#     max_depth=15, \n",
    "#     min_samples_leaf=4,\n",
    "#     max_leaf_nodes=8,\n",
    "#     criterion='gini'\n",
    "# )"
   ]
  },
  {
   "cell_type": "code",
   "execution_count": 160,
   "metadata": {
    "collapsed": true,
    "scrolled": true
   },
   "outputs": [],
   "source": [
    "# run_model(x_train, y_train, x_test, y_test, dt)"
   ]
  },
  {
   "cell_type": "code",
   "execution_count": 161,
   "metadata": {
    "collapsed": true,
    "scrolled": true
   },
   "outputs": [],
   "source": [
    "# plot_roc(x_test, y_test, dt)"
   ]
  },
  {
   "cell_type": "code",
   "execution_count": 162,
   "metadata": {
    "collapsed": true
   },
   "outputs": [],
   "source": [
    "def tune_predictions(model, x_test, y_test, probability):\n",
    "    predict = model.predict_proba(x_test)\n",
    "    new_predictions = []\n",
    "    for i in predict:\n",
    "        if i[1] >= probability:\n",
    "            new_predictions.append(1)\n",
    "        else:\n",
    "            new_predictions.append(0)\n",
    "    print \"Confusion Matrix:\\n\", pd.DataFrame(confusion_matrix(y_test, new_predictions), \n",
    "                                              columns=['predicted_0', 'predicted_1'], index=['is_0', 'is_1'])\n",
    "    print \"\\nClassification Report:\\n\", classification_report(y_test, new_predictions)\n",
    "    plt.hist(new_predictions)\n",
    "    plt.xlabel('New Predictions')\n",
    "    plt.ylabel('Frequency')\n",
    "    plt.title('Distribution of New Predictions')\n",
    "    plt.show()"
   ]
  },
  {
   "cell_type": "code",
   "execution_count": 163,
   "metadata": {
    "collapsed": true,
    "scrolled": true
   },
   "outputs": [],
   "source": [
    "# tune_predictions(dt, x_test, y_test, .30)"
   ]
  },
  {
   "cell_type": "code",
   "execution_count": 164,
   "metadata": {
    "collapsed": true
   },
   "outputs": [],
   "source": [
    "# tune_predictions(dt, x_test, y_test, .60)"
   ]
  },
  {
   "cell_type": "code",
   "execution_count": 165,
   "metadata": {
    "collapsed": true
   },
   "outputs": [],
   "source": [
    "## plots the distribution of prediction probabilities for the 1 class\n",
    "# def plot_proba(x_test, model):\n",
    "#     predict = model.predict_proba(x_test)\n",
    "#     plt.hist(predict[:,1], bins=40)\n",
    "#     plt.ylabel('Frequency')\n",
    "#     plt.xlabel('Class 1 Probability Cutoff')\n",
    "#     plt.show()"
   ]
  },
  {
   "cell_type": "code",
   "execution_count": 166,
   "metadata": {
    "collapsed": true
   },
   "outputs": [],
   "source": [
    "# plot_proba(x_test, dt)"
   ]
  },
  {
   "cell_type": "code",
   "execution_count": 167,
   "metadata": {
    "collapsed": true,
    "scrolled": true
   },
   "outputs": [],
   "source": [
    "# plt.hist(predict[:,1])"
   ]
  },
  {
   "cell_type": "code",
   "execution_count": 168,
   "metadata": {
    "collapsed": true
   },
   "outputs": [],
   "source": [
    "# plt.hist(predict)"
   ]
  },
  {
   "cell_type": "code",
   "execution_count": 169,
   "metadata": {
    "collapsed": true
   },
   "outputs": [],
   "source": [
    "# plt.hist(predictions_60)"
   ]
  },
  {
   "cell_type": "code",
   "execution_count": 170,
   "metadata": {
    "collapsed": true
   },
   "outputs": [],
   "source": [
    "# confusion_matrix(y_test, predictions_60)"
   ]
  },
  {
   "cell_type": "code",
   "execution_count": 171,
   "metadata": {
    "collapsed": true,
    "scrolled": true
   },
   "outputs": [],
   "source": [
    "# tune_predictions(dt, x_test, y_test, .30)"
   ]
  },
  {
   "cell_type": "code",
   "execution_count": 172,
   "metadata": {
    "collapsed": true,
    "scrolled": true
   },
   "outputs": [],
   "source": [
    "# tune_predictions(dt, x_test, y_test, .40)"
   ]
  },
  {
   "cell_type": "markdown",
   "metadata": {},
   "source": [
    "## grid-searching the decision tree"
   ]
  },
  {
   "cell_type": "code",
   "execution_count": 173,
   "metadata": {
    "collapsed": true
   },
   "outputs": [],
   "source": [
    "# dt_for_gs = DecisionTreeClassifier()"
   ]
  },
  {
   "cell_type": "code",
   "execution_count": 174,
   "metadata": {
    "collapsed": true
   },
   "outputs": [],
   "source": [
    "# params_dt = {\n",
    "#     \"max_depth\":[10,15,20],\n",
    "#     \"min_samples_leaf\":[2,3,4,5],\n",
    "#     \"max_leaf_nodes\":[4,6,8,10],\n",
    "#     \"criterion\":['gini', 'entropy']\n",
    "# }"
   ]
  },
  {
   "cell_type": "code",
   "execution_count": 175,
   "metadata": {
    "collapsed": true
   },
   "outputs": [],
   "source": [
    "# gs_dt = GridSearchCV(dt_for_gs, params_dt)"
   ]
  },
  {
   "cell_type": "code",
   "execution_count": 176,
   "metadata": {
    "collapsed": true,
    "scrolled": true
   },
   "outputs": [],
   "source": [
    "# gs_dt.fit(x_train, y_train)"
   ]
  },
  {
   "cell_type": "code",
   "execution_count": 177,
   "metadata": {
    "collapsed": true,
    "scrolled": true
   },
   "outputs": [],
   "source": [
    "# gs_dt.best_estimator_"
   ]
  },
  {
   "cell_type": "code",
   "execution_count": 178,
   "metadata": {
    "collapsed": true,
    "scrolled": true
   },
   "outputs": [],
   "source": [
    "# run_model(x_train, y_train, x_test, y_test, gs_dt.best_estimator_)"
   ]
  },
  {
   "cell_type": "code",
   "execution_count": null,
   "metadata": {
    "collapsed": true
   },
   "outputs": [],
   "source": []
  },
  {
   "cell_type": "code",
   "execution_count": 179,
   "metadata": {
    "collapsed": true
   },
   "outputs": [],
   "source": [
    "## in the original model, the false negatives were higher than the true positives. This is terrible, and needs fixing.\n",
    "\n",
    "\n",
    "# plot_proba(x_test, gs_dt.best_estimator_)"
   ]
  },
  {
   "cell_type": "code",
   "execution_count": 180,
   "metadata": {
    "collapsed": true,
    "scrolled": true
   },
   "outputs": [],
   "source": [
    "## with probability=0.4, model score is 0.62. the false negatives are down, but the false positives are up.\n",
    "# tune_predictions(gs_dt, x_test, y_test, .40)"
   ]
  },
  {
   "cell_type": "code",
   "execution_count": 181,
   "metadata": {
    "collapsed": true,
    "scrolled": true
   },
   "outputs": [],
   "source": [
    "# confusion_matrix(y_test, predictions_60)"
   ]
  },
  {
   "cell_type": "code",
   "execution_count": 182,
   "metadata": {
    "collapsed": true
   },
   "outputs": [],
   "source": [
    "def get_predictions(model, x_test, y_test, probability):\n",
    "    predict = model.predict_proba(x_test)\n",
    "    new_predictions = []\n",
    "    for i in predict:\n",
    "        if i[1] >= probability:\n",
    "            new_predictions.append(1)\n",
    "        else:\n",
    "            new_predictions.append(0)\n",
    "    return new_predictions"
   ]
  },
  {
   "cell_type": "code",
   "execution_count": 183,
   "metadata": {
    "collapsed": true,
    "scrolled": true
   },
   "outputs": [],
   "source": [
    "def find_optimal_probability(model, x_test, y_test):\n",
    "    probabilities = range(1,101)\n",
    "    new_probabilities = []\n",
    "    for i in probabilities:\n",
    "        new_probabilities.append(float(i)/100)\n",
    "    range_of_scores = []\n",
    "    for i in new_probabilities:\n",
    "        new_preds = get_predictions(model, x_test, y_test, i)\n",
    "        cmatrix = confusion_matrix(y_test, new_preds)\n",
    "        new_model_score = (cmatrix[0,0] + cmatrix[1,1])/float(np.sum(cmatrix))\n",
    "        range_of_scores.append(new_model_score)\n",
    "    \n",
    "    plt.plot(new_probabilities, range_of_scores)\n",
    "    plt.title(\"Model Scores at Different Cutoff Probabilities\")\n",
    "    plt.xlabel(\"Probability Cutoff\")\n",
    "    plt.ylabel(\"Model Score\")\n",
    "    plt.show()"
   ]
  },
  {
   "cell_type": "code",
   "execution_count": 184,
   "metadata": {
    "collapsed": true,
    "scrolled": true
   },
   "outputs": [],
   "source": [
    "# find_optimal_probability(dt, x_test, y_test)"
   ]
  },
  {
   "cell_type": "markdown",
   "metadata": {},
   "source": [
    "## Gradient Boosting"
   ]
  },
  {
   "cell_type": "code",
   "execution_count": null,
   "metadata": {
    "collapsed": true
   },
   "outputs": [],
   "source": []
  },
  {
   "cell_type": "code",
   "execution_count": 185,
   "metadata": {
    "collapsed": true,
    "scrolled": true
   },
   "outputs": [],
   "source": [
    "# GradientBoostingClassifier()"
   ]
  },
  {
   "cell_type": "code",
   "execution_count": 186,
   "metadata": {
    "collapsed": true
   },
   "outputs": [],
   "source": [
    "# boost_default = GradientBoostingClassifier()"
   ]
  },
  {
   "cell_type": "code",
   "execution_count": 187,
   "metadata": {
    "collapsed": true
   },
   "outputs": [],
   "source": [
    "# boost = GradientBoostingClassifier(\n",
    "#     n_estimators=500, \n",
    "#     max_depth= 6,\n",
    "#     learning_rate= 0.1, \n",
    "#     min_samples_leaf=2\n",
    "#     )"
   ]
  },
  {
   "cell_type": "code",
   "execution_count": 188,
   "metadata": {
    "collapsed": true
   },
   "outputs": [],
   "source": [
    "# run_model(x_train, y_train, x_test, y_test, boost)"
   ]
  },
  {
   "cell_type": "code",
   "execution_count": 189,
   "metadata": {
    "collapsed": true,
    "scrolled": true
   },
   "outputs": [],
   "source": [
    "# run_model(x_train, y_train, x_test, y_test, boost_default)"
   ]
  },
  {
   "cell_type": "code",
   "execution_count": 190,
   "metadata": {
    "collapsed": true,
    "scrolled": true
   },
   "outputs": [],
   "source": [
    "# boost_feature_importances = pd.DataFrame(boost_default.feature_importances_,\n",
    "#                                    index = x_train.columns,\n",
    "#                                     columns=['importance']).sort_values('importance',\n",
    "#                                     ascending=False)\n",
    "# boost_feature_importances.head(20)"
   ]
  },
  {
   "cell_type": "markdown",
   "metadata": {},
   "source": [
    "# XGBoost"
   ]
  },
  {
   "cell_type": "code",
   "execution_count": 191,
   "metadata": {
    "collapsed": true
   },
   "outputs": [],
   "source": [
    "# xgb = XGBClassifier()"
   ]
  },
  {
   "cell_type": "code",
   "execution_count": 192,
   "metadata": {
    "collapsed": true
   },
   "outputs": [],
   "source": [
    "# run_model(x_train, y_train, x_test, y_test, xgb)"
   ]
  },
  {
   "cell_type": "markdown",
   "metadata": {},
   "source": [
    "## ADA Boosting"
   ]
  },
  {
   "cell_type": "code",
   "execution_count": 193,
   "metadata": {
    "collapsed": true
   },
   "outputs": [],
   "source": [
    "rfc = RandomForestClassifier(min_samples_leaf=4)"
   ]
  },
  {
   "cell_type": "code",
   "execution_count": 194,
   "metadata": {
    "collapsed": true
   },
   "outputs": [],
   "source": [
    "ada_default = AdaBoostClassifier()"
   ]
  },
  {
   "cell_type": "code",
   "execution_count": 195,
   "metadata": {
    "collapsed": true
   },
   "outputs": [],
   "source": [
    "ada = AdaBoostClassifier(base_estimator=rfc, n_estimators=100)"
   ]
  },
  {
   "cell_type": "code",
   "execution_count": 196,
   "metadata": {
    "collapsed": true
   },
   "outputs": [],
   "source": [
    "ada_boost = AdaBoostClassifier(n_estimators=100)"
   ]
  },
  {
   "cell_type": "code",
   "execution_count": 197,
   "metadata": {
    "scrolled": true
   },
   "outputs": [
    {
     "data": {
      "text/plain": [
       "AdaBoostClassifier(algorithm='SAMME.R', base_estimator=None,\n",
       "          learning_rate=1.0, n_estimators=50, random_state=None)"
      ]
     },
     "execution_count": 197,
     "metadata": {},
     "output_type": "execute_result"
    }
   ],
   "source": [
    "ada_default"
   ]
  },
  {
   "cell_type": "code",
   "execution_count": 198,
   "metadata": {
    "scrolled": true
   },
   "outputs": [
    {
     "name": "stdout",
     "output_type": "stream",
     "text": [
      "Training set score:  0.708737864078\n",
      "Test set score:  0.682170542636\n",
      "\n",
      "Confusion Matrix:\n",
      "      predicted_0  predicted_1\n",
      "is_0          234           82\n",
      "is_1           82          118\n",
      "\n",
      "Classification Report:\n",
      "             precision    recall  f1-score   support\n",
      "\n",
      "          0       0.74      0.74      0.74       316\n",
      "          1       0.59      0.59      0.59       200\n",
      "\n",
      "avg / total       0.68      0.68      0.68       516\n",
      "\n"
     ]
    }
   ],
   "source": [
    "run_model(x_train, y_train, x_test, y_test, ada_default)"
   ]
  },
  {
   "cell_type": "code",
   "execution_count": 199,
   "metadata": {},
   "outputs": [
    {
     "name": "stdout",
     "output_type": "stream",
     "text": [
      "Training set score:  1.0\n",
      "Test set score:  0.695736434109\n",
      "\n",
      "Confusion Matrix:\n",
      "      predicted_0  predicted_1\n",
      "is_0          251           65\n",
      "is_1           92          108\n",
      "\n",
      "Classification Report:\n",
      "             precision    recall  f1-score   support\n",
      "\n",
      "          0       0.73      0.79      0.76       316\n",
      "          1       0.62      0.54      0.58       200\n",
      "\n",
      "avg / total       0.69      0.70      0.69       516\n",
      "\n"
     ]
    }
   ],
   "source": [
    "run_model(x_train, y_train, x_test, y_test, ada)"
   ]
  },
  {
   "cell_type": "code",
   "execution_count": 200,
   "metadata": {
    "scrolled": false
   },
   "outputs": [
    {
     "name": "stdout",
     "output_type": "stream",
     "text": [
      "Training set score:  0.725566343042\n",
      "Test set score:  0.68992248062\n",
      "\n",
      "Confusion Matrix:\n",
      "      predicted_0  predicted_1\n",
      "is_0          239           77\n",
      "is_1           83          117\n",
      "\n",
      "Classification Report:\n",
      "             precision    recall  f1-score   support\n",
      "\n",
      "          0       0.74      0.76      0.75       316\n",
      "          1       0.60      0.58      0.59       200\n",
      "\n",
      "avg / total       0.69      0.69      0.69       516\n",
      "\n"
     ]
    }
   ],
   "source": [
    "run_model(x_train, y_train, x_test, y_test, ada_boost)"
   ]
  },
  {
   "cell_type": "code",
   "execution_count": 201,
   "metadata": {
    "scrolled": true
   },
   "outputs": [
    {
     "data": {
      "text/plain": [
       "AdaBoostClassifier(algorithm='SAMME.R', base_estimator=None,\n",
       "          learning_rate=1.0, n_estimators=100, random_state=None)"
      ]
     },
     "execution_count": 201,
     "metadata": {},
     "output_type": "execute_result"
    }
   ],
   "source": [
    "ada_boost.fit(x_train, y_train)"
   ]
  },
  {
   "cell_type": "code",
   "execution_count": 202,
   "metadata": {},
   "outputs": [
    {
     "data": {
      "text/plain": [
       "0.72556634304207124"
      ]
     },
     "execution_count": 202,
     "metadata": {},
     "output_type": "execute_result"
    }
   ],
   "source": [
    "ada_boost.score(x_train, y_train)"
   ]
  },
  {
   "cell_type": "code",
   "execution_count": 203,
   "metadata": {},
   "outputs": [
    {
     "data": {
      "text/plain": [
       "0.68992248062015504"
      ]
     },
     "execution_count": 203,
     "metadata": {},
     "output_type": "execute_result"
    }
   ],
   "source": [
    "ada_boost.score(x_test, y_test)"
   ]
  },
  {
   "cell_type": "code",
   "execution_count": 204,
   "metadata": {},
   "outputs": [
    {
     "data": {
      "text/plain": [
       "array([0, 1, 1, 1, 0, 1, 0, 1, 0, 0, 0, 0, 1, 1, 1, 0, 0, 1, 0, 1, 1, 1, 1,\n",
       "       0, 0, 0, 1, 0, 0, 0, 0, 1, 1, 0, 1, 0, 0, 0, 0, 0, 0, 0, 1, 1, 1, 0,\n",
       "       1, 0, 0, 0, 0, 1, 1, 0, 0, 0, 0, 0, 0, 0, 1, 0, 0, 0, 1, 0, 1, 1, 0,\n",
       "       0, 0, 0, 0, 1, 0, 1, 1, 0, 1, 1, 1, 0, 0, 0, 1, 1, 1, 0, 1, 0, 0, 1,\n",
       "       1, 1, 0, 0, 0, 0, 1, 0, 0, 0, 0, 0, 1, 0, 0, 1, 0, 0, 0, 0, 1, 1, 1,\n",
       "       0, 0, 0, 1, 0, 0, 0, 1, 0, 1, 1, 1, 0, 1, 0, 1, 1, 1, 0, 0, 1, 0, 1,\n",
       "       1, 0, 1, 1, 0, 1, 0, 0, 1, 1, 1, 0, 0, 0, 1, 1, 0, 1, 1, 1, 0, 0, 0,\n",
       "       1, 0, 1, 1, 1, 1, 0, 0, 0, 1, 1, 0, 0, 0, 0, 0, 1, 0, 1, 1, 1, 0, 0,\n",
       "       0, 0, 1, 0, 1, 0, 1, 0, 0, 0, 0, 1, 0, 0, 0, 1, 0, 0, 0, 0, 0, 0, 1,\n",
       "       0, 0, 0, 1, 0, 0, 0, 1, 1, 0, 0, 1, 0, 1, 0, 1, 0, 0, 0, 0, 0, 0, 0,\n",
       "       0, 0, 0, 0, 0, 0, 0, 0, 0, 0, 1, 0, 0, 0, 0, 1, 1, 0, 0, 1, 0, 1, 1,\n",
       "       0, 0, 0, 1, 0, 0, 1, 0, 1, 0, 0, 1, 1, 0, 0, 0, 0, 0, 1, 1, 1, 0, 0,\n",
       "       0, 1, 0, 1, 1, 0, 1, 0, 1, 0, 0, 0, 1, 0, 1, 1, 0, 1, 1, 0, 0, 1, 1,\n",
       "       1, 0, 0, 0, 0, 0, 1, 0, 0, 0, 0, 0, 0, 0, 0, 1, 1, 0, 0, 0, 0, 0, 0,\n",
       "       0, 0, 1, 0, 0, 1, 0, 0, 1, 0, 1, 0, 0, 0, 1, 0, 0, 0, 0, 0, 1, 1, 0,\n",
       "       0, 0, 0, 0, 0, 0, 0, 1, 1, 0, 1, 1, 1, 0, 0, 0, 0, 1, 1, 0, 0, 1, 1,\n",
       "       1, 0, 0, 0, 1, 0, 1, 0, 1, 0, 0, 0, 0, 0, 0, 0, 1, 1, 0, 0, 0, 1, 0,\n",
       "       0, 0, 0, 1, 1, 1, 0, 0, 0, 0, 0, 0, 1, 0, 1, 0, 1, 1, 0, 0, 0, 1, 0,\n",
       "       0, 1, 0, 1, 0, 0, 1, 1, 0, 1, 0, 1, 0, 0, 1, 0, 0, 0, 0, 0, 1, 0, 1,\n",
       "       0, 0, 1, 1, 0, 0, 1, 0, 0, 1, 1, 0, 0, 1, 1, 0, 1, 1, 0, 1, 1, 0, 1,\n",
       "       0, 0, 0, 1, 1, 1, 0, 0, 1, 1, 0, 0, 0, 0, 1, 0, 0, 1, 1, 0, 0, 0, 0,\n",
       "       0, 0, 0, 0, 1, 0, 0, 0, 1, 0, 1, 0, 0, 1, 0, 1, 0, 1, 0, 0, 1, 1, 0,\n",
       "       0, 0, 0, 0, 0, 1, 1, 0, 1, 1])"
      ]
     },
     "execution_count": 204,
     "metadata": {},
     "output_type": "execute_result"
    }
   ],
   "source": [
    "ada_boost.predict(x_test)"
   ]
  },
  {
   "cell_type": "markdown",
   "metadata": {},
   "source": [
    "## pickling adaboost"
   ]
  },
  {
   "cell_type": "code",
   "execution_count": 205,
   "metadata": {
    "collapsed": true
   },
   "outputs": [],
   "source": [
    "ada_boost_pickle_path = 'model_implementation/ada_boost_pickle.pkl'\n",
    "ada_boost_pickle = open(ada_boost_pickle_path, 'wb')\n",
    "pickle.dump(ada_boost, ada_boost_pickle)\n",
    "ada_boost_pickle.close()"
   ]
  },
  {
   "cell_type": "code",
   "execution_count": 206,
   "metadata": {
    "scrolled": true
   },
   "outputs": [
    {
     "name": "stdout",
     "output_type": "stream",
     "text": [
      "ROC AUC: 0.74\n"
     ]
    },
    {
     "data": {
      "image/png": "[encoded data removed]",
      "text/plain": [
       "<matplotlib.figure.Figure at 0x112aea690>"
      ]
     },
     "metadata": {},
     "output_type": "display_data"
    }
   ],
   "source": [
    "plot_roc(x_test, y_test, ada_boost)"
   ]
  },
  {
   "cell_type": "code",
   "execution_count": 207,
   "metadata": {
    "collapsed": true,
    "scrolled": true
   },
   "outputs": [],
   "source": [
    "# find_optimal_probability(ada_boost, x_test, y_test)"
   ]
  },
  {
   "cell_type": "code",
   "execution_count": 208,
   "metadata": {
    "scrolled": true
   },
   "outputs": [
    {
     "data": {
      "text/html": [
       "<div>\n",
       "<table border=\"1\" class=\"dataframe\">\n",
       "  <thead>\n",
       "    <tr style=\"text-align: right;\">\n",
       "      <th></th>\n",
       "      <th>importance</th>\n",
       "    </tr>\n",
       "  </thead>\n",
       "  <tbody>\n",
       "    <tr>\n",
       "      <th>first_year</th>\n",
       "      <td>0.13</td>\n",
       "    </tr>\n",
       "    <tr>\n",
       "      <th>release_monthday</th>\n",
       "      <td>0.05</td>\n",
       "    </tr>\n",
       "    <tr>\n",
       "      <th>half_hour</th>\n",
       "      <td>0.03</td>\n",
       "    </tr>\n",
       "    <tr>\n",
       "      <th>is_reality</th>\n",
       "      <td>0.03</td>\n",
       "    </tr>\n",
       "    <tr>\n",
       "      <th>keyword_spoof</th>\n",
       "      <td>0.02</td>\n",
       "    </tr>\n",
       "    <tr>\n",
       "      <th>from_Nickelodeon</th>\n",
       "      <td>0.02</td>\n",
       "    </tr>\n",
       "    <tr>\n",
       "      <th>from_Fox</th>\n",
       "      <td>0.02</td>\n",
       "    </tr>\n",
       "    <tr>\n",
       "      <th>keyword_relationship</th>\n",
       "      <td>0.02</td>\n",
       "    </tr>\n",
       "    <tr>\n",
       "      <th>from_ABC</th>\n",
       "      <td>0.02</td>\n",
       "    </tr>\n",
       "    <tr>\n",
       "      <th>full_hour</th>\n",
       "      <td>0.02</td>\n",
       "    </tr>\n",
       "    <tr>\n",
       "      <th>is_documentary</th>\n",
       "      <td>0.02</td>\n",
       "    </tr>\n",
       "    <tr>\n",
       "      <th>keyword_father</th>\n",
       "      <td>0.01</td>\n",
       "    </tr>\n",
       "    <tr>\n",
       "      <th>keyword_girl</th>\n",
       "      <td>0.01</td>\n",
       "    </tr>\n",
       "    <tr>\n",
       "      <th>keyword_sister</th>\n",
       "      <td>0.01</td>\n",
       "    </tr>\n",
       "    <tr>\n",
       "      <th>keyword_friendship</th>\n",
       "      <td>0.01</td>\n",
       "    </tr>\n",
       "    <tr>\n",
       "      <th>from_Cartoon</th>\n",
       "      <td>0.01</td>\n",
       "    </tr>\n",
       "    <tr>\n",
       "      <th>keyword_fiction</th>\n",
       "      <td>0.01</td>\n",
       "    </tr>\n",
       "    <tr>\n",
       "      <th>keyword_femal</th>\n",
       "      <td>0.01</td>\n",
       "    </tr>\n",
       "    <tr>\n",
       "      <th>keyword_stand</th>\n",
       "      <td>0.01</td>\n",
       "    </tr>\n",
       "    <tr>\n",
       "      <th>keyword_girlfriend</th>\n",
       "      <td>0.01</td>\n",
       "    </tr>\n",
       "  </tbody>\n",
       "</table>\n",
       "</div>"
      ],
      "text/plain": [
       "                      importance\n",
       "first_year                  0.13\n",
       "release_monthday            0.05\n",
       "half_hour                   0.03\n",
       "is_reality                  0.03\n",
       "keyword_spoof               0.02\n",
       "from_Nickelodeon            0.02\n",
       "from_Fox                    0.02\n",
       "keyword_relationship        0.02\n",
       "from_ABC                    0.02\n",
       "full_hour                   0.02\n",
       "is_documentary              0.02\n",
       "keyword_father              0.01\n",
       "keyword_girl                0.01\n",
       "keyword_sister              0.01\n",
       "keyword_friendship          0.01\n",
       "from_Cartoon                0.01\n",
       "keyword_fiction             0.01\n",
       "keyword_femal               0.01\n",
       "keyword_stand               0.01\n",
       "keyword_girlfriend          0.01"
      ]
     },
     "execution_count": 208,
     "metadata": {},
     "output_type": "execute_result"
    }
   ],
   "source": [
    "adaboost_feature_importances = pd.DataFrame(ada_boost.feature_importances_,\n",
    "                                   index = x_train.columns,\n",
    "                                    columns=['importance']).sort_values('importance',\n",
    "                                    ascending=False)\n",
    "adaboost_feature_importances.head(20)"
   ]
  },
  {
   "cell_type": "code",
   "execution_count": 210,
   "metadata": {},
   "outputs": [
    {
     "data": {
      "text/plain": [
       "(516, 143)"
      ]
     },
     "execution_count": 210,
     "metadata": {},
     "output_type": "execute_result"
    }
   ],
   "source": [
    "x_test.shape"
   ]
  },
  {
   "cell_type": "code",
   "execution_count": 227,
   "metadata": {},
   "outputs": [
    {
     "data": {
      "text/plain": [
       "'keyword_offic'"
      ]
     },
     "execution_count": 227,
     "metadata": {},
     "output_type": "execute_result"
    }
   ],
   "source": [
    "x_test.columns.sort_values()[91]"
   ]
  },
  {
   "cell_type": "code",
   "execution_count": 228,
   "metadata": {},
   "outputs": [
    {
     "data": {
      "text/plain": [
       "Index([u'first_year', u'from_ABC', u'from_CBS', u'from_Cartoon',\n",
       "       u'from_Comedy', u'from_Disney', u'from_Fox', u'from_HBO', u'from_MTV',\n",
       "       u'from_NBC', u'from_Nickelodeon', u'from_WB', u'full_hour',\n",
       "       u'half_hour', u'is_action', u'is_adventure', u'is_animation',\n",
       "       u'is_biography', u'is_comedy', u'is_crime', u'is_documentary',\n",
       "       u'is_drama', u'is_family', u'is_fantasy', u'is_game', u'is_history',\n",
       "       u'is_horror', u'is_music', u'is_musical', u'is_mystery', u'is_news',\n",
       "       u'is_reality', u'is_romance', u'is_sci', u'is_short', u'is_sport',\n",
       "       u'is_talk', u'is_thriller', u'is_war', u'is_western', u'keyword_adult',\n",
       "       u'keyword_african', u'keyword_alien', u'keyword_american',\n",
       "       u'keyword_angel', u'keyword_anim', u'keyword_base', u'keyword_best',\n",
       "       u'keyword_black', u'keyword_book', u'keyword_boy', u'keyword_boyfriend',\n",
       "       u'keyword_brother', u'keyword_california', u'keyword_celebr',\n",
       "       u'keyword_charact', u'keyword_child', u'keyword_citi',\n",
       "       u'keyword_comedi', u'keyword_comedian', u'keyword_comic',\n",
       "       u'keyword_cult', u'keyword_daughter', u'keyword_death',\n",
       "       u'keyword_detect', u'keyword_doctor', u'keyword_evil',\n",
       "       u'keyword_famili', u'keyword_father', u'keyword_femal',\n",
       "       u'keyword_fiction', u'keyword_friend', u'keyword_friendship',\n",
       "       u'keyword_gay', u'keyword_girl', u'keyword_girlfriend', u'keyword_hero',\n",
       "       u'keyword_humor', u'keyword_husband', u'keyword_interraci',\n",
       "       u'keyword_interview', u'keyword_investig', u'keyword_joke',\n",
       "       u'keyword_life', u'keyword_live', u'keyword_love', u'keyword_male',\n",
       "       u'keyword_man', u'keyword_marriag', u'keyword_mother',\n",
       "       u'keyword_murder', u'keyword_offic', u'keyword_parent',\n",
       "       u'keyword_parodi', u'keyword_play', u'keyword_polic', u'keyword_power',\n",
       "       u'keyword_protagonist', u'keyword_relationship', u'keyword_satir',\n",
       "       u'keyword_school', u'keyword_secret', u'keyword_sex', u'keyword_share',\n",
       "       u'keyword_sister', u'keyword_sitcom', u'keyword_social', u'keyword_son',\n",
       "       u'keyword_spoken', u'keyword_spoof', u'keyword_stand',\n",
       "       u'keyword_student', u'keyword_superhero', u'keyword_supernatur',\n",
       "       u'keyword_surreal', u'keyword_teenag', u'keyword_versu',\n",
       "       u'keyword_villain', u'keyword_violenc', u'keyword_wife',\n",
       "       u'keyword_woman', u'keyword_york', u'release_monthday',\n",
       "       u'started_april', u'started_august', u'started_december',\n",
       "       u'started_february', u'started_friday', u'started_january',\n",
       "       u'started_july', u'started_june', u'started_march', u'started_may',\n",
       "       u'started_monday', u'started_november', u'started_october',\n",
       "       u'started_on_first', u'started_saturday', u'started_september',\n",
       "       u'started_sunday', u'started_thursday', u'started_tuesday',\n",
       "       u'started_wednesday'],\n",
       "      dtype='object')"
      ]
     },
     "execution_count": 228,
     "metadata": {},
     "output_type": "execute_result"
    }
   ],
   "source": [
    "x_test.columns.sort_values()"
   ]
  },
  {
   "cell_type": "markdown",
   "metadata": {},
   "source": [
    "## Decision tree for show"
   ]
  },
  {
   "cell_type": "code",
   "execution_count": 209,
   "metadata": {},
   "outputs": [
    {
     "ename": "SyntaxError",
     "evalue": "invalid syntax (<ipython-input-209-bdb49d72b0bf>, line 12)",
     "output_type": "error",
     "traceback": [
      "\u001b[0;36m  File \u001b[0;32m\"<ipython-input-209-bdb49d72b0bf>\"\u001b[0;36m, line \u001b[0;32m12\u001b[0m\n\u001b[0;31m    )\u001b[0m\n\u001b[0m    ^\u001b[0m\n\u001b[0;31mSyntaxError\u001b[0m\u001b[0;31m:\u001b[0m invalid syntax\n"
     ]
    }
   ],
   "source": [
    "## this will create a single decision tree from the whole dataset that is readable by humans. \n",
    "## for display purposes only. it will be tuned to have approximately the same score as the AdaBoost model\n",
    "\n",
    "# dt_for_show = DecisionTreeClassifier(\n",
    "#                     max_depth=7,\n",
    "#                     min_samples_leaf=5,\n",
    "#                     max_leaf_nodes=10\n",
    "#     class_weight=None, criterion='gini', max_depth=10,\n",
    "#             max_features=None, max_leaf_nodes=10, min_samples_leaf=2,\n",
    "#             min_samples_split=2, min_weight_fraction_leaf=0.0,\n",
    "#             presort=False, random_state=None, splitter='best'\n",
    ")"
   ]
  },
  {
   "cell_type": "code",
   "execution_count": null,
   "metadata": {
    "collapsed": true
   },
   "outputs": [],
   "source": [
    "# dt_for_show.fit(x,y)"
   ]
  },
  {
   "cell_type": "code",
   "execution_count": null,
   "metadata": {
    "collapsed": true,
    "scrolled": false
   },
   "outputs": [],
   "source": [
    "# dt_for_show.score(x,y)"
   ]
  },
  {
   "cell_type": "code",
   "execution_count": null,
   "metadata": {
    "collapsed": true
   },
   "outputs": [],
   "source": []
  },
  {
   "cell_type": "code",
   "execution_count": null,
   "metadata": {
    "collapsed": true
   },
   "outputs": [],
   "source": []
  },
  {
   "cell_type": "code",
   "execution_count": null,
   "metadata": {
    "collapsed": true
   },
   "outputs": [],
   "source": [
    "## exporting decision tree to png\n",
    "\n",
    "# dtree = dt_for_show.fit(x, y)\n",
    "\n",
    "# dotfile = open(\"dtree2.dot\", 'w')\n",
    "# tree.export_graphviz(dtree, \n",
    "#                      out_file = dotfile, \n",
    "#                      feature_names = x.columns, \n",
    "#                      class_names=['renewed', 'cancelled'],  \n",
    "#                      filled=True, \n",
    "#                      rounded=True,\n",
    "#                      special_characters=True,\n",
    "#                      impurity=False,\n",
    "#                      label='none'\n",
    "#                     )\n",
    "# dotfile.close()\n",
    "\n",
    "# system('dot -Tpng dtree2.dot -o dtree2.png')"
   ]
  },
  {
   "cell_type": "code",
   "execution_count": null,
   "metadata": {
    "collapsed": true
   },
   "outputs": [],
   "source": [
    "# dt_show_feature_importances = pd.DataFrame(dt_for_show.feature_importances_,\n",
    "#                                    index = x_train.columns,\n",
    "#                                     columns=['importance']).sort_values('importance',\n",
    "#                                     ascending=False)\n",
    "# dt_show_feature_importances.head(20)"
   ]
  },
  {
   "cell_type": "markdown",
   "metadata": {},
   "source": [
    "## Logistic regression"
   ]
  },
  {
   "cell_type": "code",
   "execution_count": null,
   "metadata": {
    "collapsed": true
   },
   "outputs": [],
   "source": [
    "# lr = LogisticRegression()"
   ]
  },
  {
   "cell_type": "code",
   "execution_count": null,
   "metadata": {
    "collapsed": true
   },
   "outputs": [],
   "source": [
    "# run_model(x_train, y_train, x_test, y_test, lr)"
   ]
  },
  {
   "cell_type": "code",
   "execution_count": null,
   "metadata": {
    "collapsed": true
   },
   "outputs": [],
   "source": [
    "# x['started_saturday'].sum()"
   ]
  },
  {
   "cell_type": "markdown",
   "metadata": {
    "collapsed": true
   },
   "source": [
    "# Support Vector Machines"
   ]
  },
  {
   "cell_type": "code",
   "execution_count": null,
   "metadata": {
    "collapsed": true
   },
   "outputs": [],
   "source": [
    "# svc = SVC(verbose=True)\n",
    "# nusvc = NuSVC()\n",
    "# linsvc = LinearSVC()"
   ]
  },
  {
   "cell_type": "code",
   "execution_count": null,
   "metadata": {
    "collapsed": true
   },
   "outputs": [],
   "source": [
    "# run_model(x_train, y_train, x_test, y_test, svc)"
   ]
  },
  {
   "cell_type": "code",
   "execution_count": null,
   "metadata": {
    "collapsed": true
   },
   "outputs": [],
   "source": [
    "# run_model(x_train, y_train, x_test, y_test, nusvc)"
   ]
  },
  {
   "cell_type": "code",
   "execution_count": null,
   "metadata": {
    "collapsed": true
   },
   "outputs": [],
   "source": [
    "# run_model(x_train, y_train, x_test, y_test, linsvc)"
   ]
  },
  {
   "cell_type": "code",
   "execution_count": null,
   "metadata": {
    "collapsed": true
   },
   "outputs": [],
   "source": []
  }
 ],
 "metadata": {
  "anaconda-cloud": {},
  "kernelspec": {
   "display_name": "Python [Root]",
   "language": "python",
   "name": "Python [Root]"
  },
  "language_info": {
   "codemirror_mode": {
    "name": "ipython",
    "version": 2
   },
   "file_extension": ".py",
   "mimetype": "text/x-python",
   "name": "python",
   "nbconvert_exporter": "python",
   "pygments_lexer": "ipython2",
   "version": "2.7.12"
  }
 },
 "nbformat": 4,
 "nbformat_minor": 1
}
