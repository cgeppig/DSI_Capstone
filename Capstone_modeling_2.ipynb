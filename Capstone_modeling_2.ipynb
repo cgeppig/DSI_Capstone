{
 "cells": [
  {
   "cell_type": "code",
   "execution_count": 397,
   "metadata": {
    "collapsed": false
   },
   "outputs": [],
   "source": [
    "import pandas as pd\n",
    "import numpy as np\n",
    "import csv\n",
    "from sklearn.feature_extraction.text import CountVectorizer\n",
    "from sklearn.feature_extraction.text import TfidfVectorizer\n",
    "import matplotlib.pyplot as plt\n",
    "%matplotlib inline\n",
    "import seaborn as sns\n",
    "from sklearn.cross_validation import train_test_split\n",
    "from sklearn.ensemble import RandomForestClassifier, ExtraTreesClassifier\n",
    "from sklearn.tree import DecisionTreeClassifier\n",
    "from sklearn.grid_search import GridSearchCV\n",
    "from sklearn.metrics import confusion_matrix, classification_report\n",
    "from sklearn.preprocessing import StandardScaler\n",
    "from sklearn.metrics import roc_curve, auc\n",
    "from sklearn.ensemble import GradientBoostingClassifier\n",
    "from sklearn.ensemble import AdaBoostClassifier\n",
    "from IPython.display import Image\n",
    "from sklearn import tree\n",
    "import pydotplus\n",
    "import os\n",
    "from os import system"
   ]
  },
  {
   "cell_type": "code",
   "execution_count": 418,
   "metadata": {
    "collapsed": true
   },
   "outputs": [],
   "source": [
    "shows = pd.read_csv('good_shows_data2.csv')"
   ]
  },
  {
   "cell_type": "code",
   "execution_count": 24,
   "metadata": {
    "collapsed": true
   },
   "outputs": [],
   "source": [
    "pd.set_option('max_seq_items', 200)"
   ]
  },
  {
   "cell_type": "code",
   "execution_count": 25,
   "metadata": {
    "collapsed": false
   },
   "outputs": [
    {
     "data": {
      "text/plain": [
       "(2515, 168)"
      ]
     },
     "execution_count": 25,
     "metadata": {},
     "output_type": "execute_result"
    }
   ],
   "source": [
    "shows.shape"
   ]
  },
  {
   "cell_type": "code",
   "execution_count": 419,
   "metadata": {
    "collapsed": false,
    "scrolled": true
   },
   "outputs": [],
   "source": [
    "## dropping old shows\n",
    "shows = shows[shows['release_date']>=1980]"
   ]
  },
  {
   "cell_type": "code",
   "execution_count": 420,
   "metadata": {
    "collapsed": false
   },
   "outputs": [],
   "source": [
    "## dropping shows where I don't know whether they were cancelled\n",
    "shows = shows[shows['seasons'] != 0]"
   ]
  },
  {
   "cell_type": "code",
   "execution_count": 28,
   "metadata": {
    "collapsed": false
   },
   "outputs": [
    {
     "data": {
      "text/plain": [
       "(2061, 168)"
      ]
     },
     "execution_count": 28,
     "metadata": {},
     "output_type": "execute_result"
    }
   ],
   "source": [
    "shows.shape"
   ]
  },
  {
   "cell_type": "code",
   "execution_count": 29,
   "metadata": {
    "collapsed": false
   },
   "outputs": [
    {
     "data": {
      "text/plain": [
       "Index([u'json', u'title_rough', u'check', u'title', u'imdb_id', u'big_json',\n",
       "       u'seasons', u'cancelled', u'runtime', u'genres', u'imdb_rating',\n",
       "       u'release_date', u'plot', u'year', u'type', u'votes', u'keywords',\n",
       "       u'first_year', u'is_new', u'fixed_runtime', u'is_action',\n",
       "       u'is_adventure', u'is_animation', u'is_biography', u'is_comedy',\n",
       "       u'is_crime', u'is_documentary', u'is_drama', u'is_family',\n",
       "       u'is_fantasy', u'is_game', u'is_history', u'is_horror', u'is_music',\n",
       "       u'is_musical', u'is_mystery', u'is_news', u'is_reality', u'is_romance',\n",
       "       u'is_sci', u'is_short', u'is_sport', u'is_talk', u'is_thriller',\n",
       "       u'is_war', u'is_western', u'release_month', u'release_weekday',\n",
       "       u'release_monthday', u'stemmed_plot', u'stemmed_keywords',\n",
       "       u'keyword_adult', u'keyword_african', u'keyword_alien',\n",
       "       u'keyword_american', u'keyword_angel', u'keyword_anim', u'keyword_base',\n",
       "       u'keyword_best', u'keyword_black', u'keyword_book', u'keyword_boy',\n",
       "       u'keyword_boyfriend', u'keyword_brother', u'keyword_california',\n",
       "       u'keyword_celebr', u'keyword_charact', u'keyword_child',\n",
       "       u'keyword_citi', u'keyword_comedi', u'keyword_comedian',\n",
       "       u'keyword_comic', u'keyword_cult', u'keyword_daughter',\n",
       "       u'keyword_death', u'keyword_detect', u'keyword_doctor', u'keyword_evil',\n",
       "       u'keyword_famili', u'keyword_father', u'keyword_femal',\n",
       "       u'keyword_fiction', u'keyword_friend', u'keyword_friendship',\n",
       "       u'keyword_gay', u'keyword_girl', u'keyword_girlfriend', u'keyword_hero',\n",
       "       u'keyword_humor', u'keyword_husband', u'keyword_interraci',\n",
       "       u'keyword_interview', u'keyword_investig', u'keyword_joke',\n",
       "       u'keyword_life', u'keyword_live', u'keyword_love', u'keyword_male',\n",
       "       u'keyword_man', u'keyword_marriag', u'keyword_mother',\n",
       "       u'keyword_murder', u'keyword_new', u'keyword_offic', u'keyword_parent',\n",
       "       u'keyword_parodi', u'keyword_play', u'keyword_polic', u'keyword_power',\n",
       "       u'keyword_protagonist', u'keyword_relationship', u'keyword_satir',\n",
       "       u'keyword_school', u'keyword_secret', u'keyword_sex', u'keyword_share',\n",
       "       u'keyword_sister', u'keyword_sitcom', u'keyword_social', u'keyword_son',\n",
       "       u'keyword_spoken', u'keyword_spoof', u'keyword_stand',\n",
       "       u'keyword_student', u'keyword_superhero', u'keyword_supernatur',\n",
       "       u'keyword_surreal', u'keyword_teenag', u'keyword_versu',\n",
       "       u'keyword_villain', u'keyword_violenc', u'keyword_wife',\n",
       "       u'keyword_woman', u'keyword_york', u'plot_cleaned', u'network',\n",
       "       u'from_ABC', u'from_NBC', u'from_CBS', u'from_Fox', u'from_Nickelodeon',\n",
       "       u'from_Cartoon', u'from_Comedy', u'from_MTV', u'from_HBO',\n",
       "       u'from_Disney', u'from_WB', u'started_sunday', u'started_monday',\n",
       "       u'started_tuesday', u'started_wednesday', u'started_thursday',\n",
       "       u'started_friday', u'started_saturday', u'started_january',\n",
       "       u'started_february', u'started_march', u'started_april', u'started_may',\n",
       "       u'started_june', u'started_july', u'started_august',\n",
       "       u'started_september', u'started_october', u'started_november',\n",
       "       u'started_december', u'half_hour', u'full_hour'],\n",
       "      dtype='object')"
      ]
     },
     "execution_count": 29,
     "metadata": {},
     "output_type": "execute_result"
    }
   ],
   "source": [
    "shows.columns"
   ]
  },
  {
   "cell_type": "code",
   "execution_count": 30,
   "metadata": {
    "collapsed": false
   },
   "outputs": [
    {
     "data": {
      "text/plain": [
       "json                  object\n",
       "title_rough           object\n",
       "check                  int64\n",
       "title                 object\n",
       "imdb_id               object\n",
       "big_json              object\n",
       "seasons                int64\n",
       "cancelled              int64\n",
       "runtime               object\n",
       "genres                object\n",
       "imdb_rating          float64\n",
       "release_date          object\n",
       "plot                  object\n",
       "year                  object\n",
       "type                  object\n",
       "votes                 object\n",
       "keywords              object\n",
       "first_year             int64\n",
       "is_new                 int64\n",
       "fixed_runtime        float64\n",
       "is_action              int64\n",
       "is_adventure           int64\n",
       "is_animation           int64\n",
       "is_biography           int64\n",
       "is_comedy              int64\n",
       "is_crime               int64\n",
       "is_documentary         int64\n",
       "is_drama               int64\n",
       "is_family              int64\n",
       "is_fantasy             int64\n",
       "                      ...   \n",
       "from_CBS               int64\n",
       "from_Fox               int64\n",
       "from_Nickelodeon       int64\n",
       "from_Cartoon           int64\n",
       "from_Comedy            int64\n",
       "from_MTV               int64\n",
       "from_HBO               int64\n",
       "from_Disney            int64\n",
       "from_WB                int64\n",
       "started_sunday         int64\n",
       "started_monday         int64\n",
       "started_tuesday        int64\n",
       "started_wednesday      int64\n",
       "started_thursday       int64\n",
       "started_friday         int64\n",
       "started_saturday       int64\n",
       "started_january        int64\n",
       "started_february       int64\n",
       "started_march          int64\n",
       "started_april          int64\n",
       "started_may            int64\n",
       "started_june           int64\n",
       "started_july           int64\n",
       "started_august         int64\n",
       "started_september      int64\n",
       "started_october        int64\n",
       "started_november       int64\n",
       "started_december       int64\n",
       "half_hour              int64\n",
       "full_hour              int64\n",
       "dtype: object"
      ]
     },
     "execution_count": 30,
     "metadata": {},
     "output_type": "execute_result"
    }
   ],
   "source": [
    "shows.dtypes"
   ]
  },
  {
   "cell_type": "code",
   "execution_count": 421,
   "metadata": {
    "collapsed": false
   },
   "outputs": [],
   "source": [
    "shows = shows.drop(['json', u'title_rough', u'check', u'title', 'imdb_id', u'big_json',\n",
    "       u'seasons', 'runtime', u'genres', u'imdb_rating',\n",
    "       u'release_date', u'plot', u'year', u'type', u'votes', u'keywords', u'is_new', \n",
    "        'stemmed_plot', u'stemmed_keywords', 'plot_cleaned', u'network', 'release_month'], axis=1)"
   ]
  },
  {
   "cell_type": "code",
   "execution_count": 422,
   "metadata": {
    "collapsed": true
   },
   "outputs": [],
   "source": [
    "shows.drop('fixed_runtime', inplace=True, axis=1)"
   ]
  },
  {
   "cell_type": "code",
   "execution_count": 423,
   "metadata": {
    "collapsed": true
   },
   "outputs": [],
   "source": [
    "shows.drop('keyword_new', inplace=True, axis=1)"
   ]
  },
  {
   "cell_type": "code",
   "execution_count": 35,
   "metadata": {
    "collapsed": false
   },
   "outputs": [
    {
     "data": {
      "text/plain": [
       "(2061, 146)"
      ]
     },
     "execution_count": 35,
     "metadata": {},
     "output_type": "execute_result"
    }
   ],
   "source": [
    "shows.shape"
   ]
  },
  {
   "cell_type": "code",
   "execution_count": 40,
   "metadata": {
    "collapsed": false
   },
   "outputs": [
    {
     "data": {
      "text/plain": [
       "Index([u'cancelled', u'first_year', u'is_action', u'is_adventure',\n",
       "       u'is_animation', u'is_biography', u'is_comedy', u'is_crime',\n",
       "       u'is_documentary', u'is_drama', u'is_family', u'is_fantasy', u'is_game',\n",
       "       u'is_history', u'is_horror', u'is_music', u'is_musical', u'is_mystery',\n",
       "       u'is_news', u'is_reality', u'is_romance', u'is_sci', u'is_short',\n",
       "       u'is_sport', u'is_talk', u'is_thriller', u'is_war', u'is_western',\n",
       "       u'release_month', u'release_weekday', u'release_monthday',\n",
       "       u'keyword_adult', u'keyword_african', u'keyword_alien',\n",
       "       u'keyword_american', u'keyword_angel', u'keyword_anim', u'keyword_base',\n",
       "       u'keyword_best', u'keyword_black', u'keyword_book', u'keyword_boy',\n",
       "       u'keyword_boyfriend', u'keyword_brother', u'keyword_california',\n",
       "       u'keyword_celebr', u'keyword_charact', u'keyword_child',\n",
       "       u'keyword_citi', u'keyword_comedi', u'keyword_comedian',\n",
       "       u'keyword_comic', u'keyword_cult', u'keyword_daughter',\n",
       "       u'keyword_death', u'keyword_detect', u'keyword_doctor', u'keyword_evil',\n",
       "       u'keyword_famili', u'keyword_father', u'keyword_femal',\n",
       "       u'keyword_fiction', u'keyword_friend', u'keyword_friendship',\n",
       "       u'keyword_gay', u'keyword_girl', u'keyword_girlfriend', u'keyword_hero',\n",
       "       u'keyword_humor', u'keyword_husband', u'keyword_interraci',\n",
       "       u'keyword_interview', u'keyword_investig', u'keyword_joke',\n",
       "       u'keyword_life', u'keyword_live', u'keyword_love', u'keyword_male',\n",
       "       u'keyword_man', u'keyword_marriag', u'keyword_mother',\n",
       "       u'keyword_murder', u'keyword_offic', u'keyword_parent',\n",
       "       u'keyword_parodi', u'keyword_play', u'keyword_polic', u'keyword_power',\n",
       "       u'keyword_protagonist', u'keyword_relationship', u'keyword_satir',\n",
       "       u'keyword_school', u'keyword_secret', u'keyword_sex', u'keyword_share',\n",
       "       u'keyword_sister', u'keyword_sitcom', u'keyword_social', u'keyword_son',\n",
       "       u'keyword_spoken', u'keyword_spoof', u'keyword_stand',\n",
       "       u'keyword_student', u'keyword_superhero', u'keyword_supernatur',\n",
       "       u'keyword_surreal', u'keyword_teenag', u'keyword_versu',\n",
       "       u'keyword_villain', u'keyword_violenc', u'keyword_wife',\n",
       "       u'keyword_woman', u'keyword_york', u'from_ABC', u'from_NBC',\n",
       "       u'from_CBS', u'from_Fox', u'from_Nickelodeon', u'from_Cartoon',\n",
       "       u'from_Comedy', u'from_MTV', u'from_HBO', u'from_Disney', u'from_WB',\n",
       "       u'started_sunday', u'started_monday', u'started_tuesday',\n",
       "       u'started_wednesday', u'started_thursday', u'started_friday',\n",
       "       u'started_saturday', u'started_january', u'started_february',\n",
       "       u'started_march', u'started_april', u'started_may', u'started_june',\n",
       "       u'started_july', u'started_august', u'started_september',\n",
       "       u'started_october', u'started_november', u'started_december',\n",
       "       u'half_hour', u'full_hour'],\n",
       "      dtype='object')"
      ]
     },
     "execution_count": 40,
     "metadata": {},
     "output_type": "execute_result"
    }
   ],
   "source": [
    "shows.columns"
   ]
  },
  {
   "cell_type": "code",
   "execution_count": 37,
   "metadata": {
    "collapsed": false
   },
   "outputs": [
    {
     "data": {
      "text/plain": [
       "(2061, 146)"
      ]
     },
     "execution_count": 37,
     "metadata": {},
     "output_type": "execute_result"
    }
   ],
   "source": [
    "shows.shape"
   ]
  },
  {
   "cell_type": "code",
   "execution_count": 38,
   "metadata": {
    "collapsed": false
   },
   "outputs": [
    {
     "data": {
      "text/plain": [
       "(2061, 146)"
      ]
     },
     "execution_count": 38,
     "metadata": {},
     "output_type": "execute_result"
    }
   ],
   "source": [
    "shows.dropna().shape"
   ]
  },
  {
   "cell_type": "code",
   "execution_count": 424,
   "metadata": {
    "collapsed": true
   },
   "outputs": [],
   "source": [
    "## defining dependent/independent variables\n",
    "y = shows['cancelled']\n",
    "x = shows.drop('cancelled', axis=1)"
   ]
  },
  {
   "cell_type": "code",
   "execution_count": 425,
   "metadata": {
    "collapsed": false
   },
   "outputs": [
    {
     "data": {
      "text/plain": [
       "0.39349830179524503"
      ]
     },
     "execution_count": 425,
     "metadata": {},
     "output_type": "execute_result"
    }
   ],
   "source": [
    "## Base probability\n",
    "y.mean()"
   ]
  },
  {
   "cell_type": "code",
   "execution_count": 426,
   "metadata": {
    "collapsed": true
   },
   "outputs": [],
   "source": [
    "## splitting data\n",
    "x_train, x_test, y_train, y_test = train_test_split(x,y)"
   ]
  },
  {
   "cell_type": "code",
   "execution_count": 427,
   "metadata": {
    "collapsed": false
   },
   "outputs": [
    {
     "data": {
      "text/plain": [
       "(1545, 143)"
      ]
     },
     "execution_count": 427,
     "metadata": {},
     "output_type": "execute_result"
    }
   ],
   "source": [
    "x_train.shape"
   ]
  },
  {
   "cell_type": "code",
   "execution_count": 428,
   "metadata": {
    "collapsed": false
   },
   "outputs": [
    {
     "data": {
      "text/plain": [
       "(516, 143)"
      ]
     },
     "execution_count": 428,
     "metadata": {},
     "output_type": "execute_result"
    }
   ],
   "source": [
    "x_test.shape"
   ]
  },
  {
   "cell_type": "code",
   "execution_count": 429,
   "metadata": {
    "collapsed": false
   },
   "outputs": [
    {
     "data": {
      "text/plain": [
       "(1545,)"
      ]
     },
     "execution_count": 429,
     "metadata": {},
     "output_type": "execute_result"
    }
   ],
   "source": [
    "y_train.shape"
   ]
  },
  {
   "cell_type": "code",
   "execution_count": 430,
   "metadata": {
    "collapsed": false,
    "scrolled": true
   },
   "outputs": [
    {
     "data": {
      "text/plain": [
       "(516,)"
      ]
     },
     "execution_count": 430,
     "metadata": {},
     "output_type": "execute_result"
    }
   ],
   "source": [
    "y_test.shape"
   ]
  },
  {
   "cell_type": "code",
   "execution_count": 290,
   "metadata": {
    "collapsed": true
   },
   "outputs": [],
   "source": [
    "## runs model\n",
    "def run_model(x_train, y_train, x_test, y_test, model):\n",
    "    model.fit(x_train, y_train)\n",
    "    print \"Training set score: \", model.score(x_train, y_train)\n",
    "    print \"Test set score: \", model.score(x_test, y_test)\n",
    "    predictions = model.predict(x_test)\n",
    "    print \"\\nConfusion Matrix:\\n\", pd.DataFrame(confusion_matrix(y_test, predictions), \n",
    "                                              columns=['predicted_0', 'predicted_1'], index=['is_0', 'is_1'])\n",
    "    print \"\\nClassification Report:\\n\",classification_report(y_test, predictions)"
   ]
  },
  {
   "cell_type": "code",
   "execution_count": 100,
   "metadata": {
    "collapsed": true
   },
   "outputs": [],
   "source": [
    "## plots ROC curve\n",
    "def plot_roc(x_test, y_test, model):\n",
    "    fpr, tpr, _ = roc_curve(y_test, model.predict_proba(x_test)[:,1])\n",
    "    roc_auc = auc(fpr, tpr)\n",
    "    print 'ROC AUC: %0.2f' % roc_auc\n",
    "    plt.figure()\n",
    "    plt.plot(fpr, tpr, label='ROC curve (area = %0.2f)' % roc_auc)\n",
    "    plt.plot([0, 1], [0, 1], 'k--')\n",
    "    plt.xlim([0.0, 1.0])\n",
    "    plt.ylim([0.0, 1.05])\n",
    "    plt.xlabel('False Positive Rate')\n",
    "    plt.ylabel('True Positive Rate')\n",
    "    plt.title('ROC Curve')\n",
    "    plt.legend(loc=\"lower right\")\n",
    "    plt.show()"
   ]
  },
  {
   "cell_type": "markdown",
   "metadata": {},
   "source": [
    "## Random Forest"
   ]
  },
  {
   "cell_type": "code",
   "execution_count": 43,
   "metadata": {
    "collapsed": true
   },
   "outputs": [],
   "source": [
    "rf = RandomForestClassifier()"
   ]
  },
  {
   "cell_type": "code",
   "execution_count": 65,
   "metadata": {
    "collapsed": false,
    "scrolled": false
   },
   "outputs": [
    {
     "name": "stdout",
     "output_type": "stream",
     "text": [
      "Training set score:  0.981877022654\n",
      "Test set score:  0.643410852713\n",
      "\n",
      "Confusion Matrix:\n",
      "[[263  54]\n",
      " [130  69]]\n",
      "\n",
      "\n",
      "             precision    recall  f1-score   support\n",
      "\n",
      "          0       0.67      0.83      0.74       317\n",
      "          1       0.56      0.35      0.43       199\n",
      "\n",
      "avg / total       0.63      0.64      0.62       516\n",
      "\n"
     ]
    }
   ],
   "source": [
    "run_model(x_train, y_train, x_test, y_test, rf)"
   ]
  },
  {
   "cell_type": "code",
   "execution_count": 95,
   "metadata": {
    "collapsed": false,
    "scrolled": true
   },
   "outputs": [
    {
     "data": {
      "text/plain": [
       "array([[ 0.7,  0.3],\n",
       "       [ 0.4,  0.6],\n",
       "       [ 1. ,  0. ],\n",
       "       ..., \n",
       "       [ 0.5,  0.5],\n",
       "       [ 0.4,  0.6],\n",
       "       [ 0.9,  0.1]])"
      ]
     },
     "execution_count": 95,
     "metadata": {},
     "output_type": "execute_result"
    }
   ],
   "source": [
    "rf.predict_proba(x_test)"
   ]
  },
  {
   "cell_type": "code",
   "execution_count": 101,
   "metadata": {
    "collapsed": false
   },
   "outputs": [
    {
     "name": "stdout",
     "output_type": "stream",
     "text": [
      "ROC AUC: 0.65\n"
     ]
    },
    {
     "data": {
      "image/png": "[encoded data removed]",
      "text/plain": [
       "<matplotlib.figure.Figure at 0x11797c790>"
      ]
     },
     "metadata": {},
     "output_type": "display_data"
    }
   ],
   "source": [
    "plot_roc(x_test, y_test, rf)"
   ]
  },
  {
   "cell_type": "markdown",
   "metadata": {},
   "source": [
    "## Random Forest with grid search"
   ]
  },
  {
   "cell_type": "code",
   "execution_count": 111,
   "metadata": {
    "collapsed": true
   },
   "outputs": [],
   "source": [
    "parameters = {\n",
    "    \"n_estimators\" : [10, 25, 50, 100],\n",
    "    \"max_depth\" : [5,7,10,15],\n",
    "    \"max_features\" : [0.25, 0.5, 0.75],\n",
    "    \"min_samples_leaf\" : [2,4]\n",
    "}"
   ]
  },
  {
   "cell_type": "code",
   "execution_count": 114,
   "metadata": {
    "collapsed": true
   },
   "outputs": [],
   "source": [
    "gs_rf = RandomForestClassifier()\n",
    "grid_search = GridSearchCV(gs_rf,param_grid=parameters, cv=7, n_jobs=-1)"
   ]
  },
  {
   "cell_type": "code",
   "execution_count": 115,
   "metadata": {
    "collapsed": false,
    "scrolled": false
   },
   "outputs": [
    {
     "data": {
      "text/plain": [
       "GridSearchCV(cv=7, error_score='raise',\n",
       "       estimator=RandomForestClassifier(bootstrap=True, class_weight=None, criterion='gini',\n",
       "            max_depth=None, max_features='auto', max_leaf_nodes=None,\n",
       "            min_samples_leaf=1, min_samples_split=2,\n",
       "            min_weight_fraction_leaf=0.0, n_estimators=10, n_jobs=1,\n",
       "            oob_score=False, random_state=None, verbose=0,\n",
       "            warm_start=False),\n",
       "       fit_params={}, iid=True, n_jobs=-1,\n",
       "       param_grid={'n_estimators': [10, 25, 50, 100], 'max_features': [0.25, 0.5, 0.75], 'max_depth': [5, 7, 10, 15], 'min_samples_leaf': [2, 4]},\n",
       "       pre_dispatch='2*n_jobs', refit=True, scoring=None, verbose=0)"
      ]
     },
     "execution_count": 115,
     "metadata": {},
     "output_type": "execute_result"
    }
   ],
   "source": [
    "## 12:21 - 12:22\n",
    "grid_search.fit(x_train, y_train)"
   ]
  },
  {
   "cell_type": "code",
   "execution_count": 117,
   "metadata": {
    "collapsed": false
   },
   "outputs": [
    {
     "data": {
      "text/plain": [
       "RandomForestClassifier(bootstrap=True, class_weight=None, criterion='gini',\n",
       "            max_depth=10, max_features=0.25, max_leaf_nodes=None,\n",
       "            min_samples_leaf=2, min_samples_split=2,\n",
       "            min_weight_fraction_leaf=0.0, n_estimators=100, n_jobs=1,\n",
       "            oob_score=False, random_state=None, verbose=0,\n",
       "            warm_start=False)"
      ]
     },
     "execution_count": 117,
     "metadata": {},
     "output_type": "execute_result"
    }
   ],
   "source": [
    "grid_search.best_estimator_"
   ]
  },
  {
   "cell_type": "code",
   "execution_count": 118,
   "metadata": {
    "collapsed": false
   },
   "outputs": [
    {
     "name": "stdout",
     "output_type": "stream",
     "text": [
      "Training set score:  0.851779935275\n",
      "Test set score:  0.703488372093\n",
      "\n",
      "Confusion Matrix:\n",
      "[[280  37]\n",
      " [116  83]] \n",
      "\n",
      "Classification Report:\n",
      "             precision    recall  f1-score   support\n",
      "\n",
      "          0       0.71      0.88      0.79       317\n",
      "          1       0.69      0.42      0.52       199\n",
      "\n",
      "avg / total       0.70      0.70      0.68       516\n",
      "\n"
     ]
    }
   ],
   "source": [
    "run_model(x_train, y_train, x_test, y_test, grid_search.best_estimator_)"
   ]
  },
  {
   "cell_type": "code",
   "execution_count": 119,
   "metadata": {
    "collapsed": false
   },
   "outputs": [
    {
     "name": "stdout",
     "output_type": "stream",
     "text": [
      "ROC AUC: 0.75\n"
     ]
    },
    {
     "data": {
      "image/png": "[encoded data removed]",
      "text/plain": [
       "<matplotlib.figure.Figure at 0x117d41e90>"
      ]
     },
     "metadata": {},
     "output_type": "display_data"
    }
   ],
   "source": [
    "plot_roc(x_test, y_test, grid_search.best_estimator_)"
   ]
  },
  {
   "cell_type": "code",
   "execution_count": 148,
   "metadata": {
    "collapsed": false,
    "scrolled": true
   },
   "outputs": [
    {
     "data": {
      "text/plain": [
       "array([[ 0.63662594,  0.36337406],\n",
       "       [ 0.52271847,  0.47728153],\n",
       "       [ 0.64042652,  0.35957348],\n",
       "       ..., \n",
       "       [ 0.57551721,  0.42448279],\n",
       "       [ 0.41865311,  0.58134689],\n",
       "       [ 0.66359584,  0.33640416]])"
      ]
     },
     "execution_count": 148,
     "metadata": {},
     "output_type": "execute_result"
    }
   ],
   "source": [
    "grid_search.best_estimator_.predict_proba(x_test)"
   ]
  },
  {
   "cell_type": "code",
   "execution_count": null,
   "metadata": {
    "collapsed": true
   },
   "outputs": [],
   "source": [
    "## ^^ write a function that will iterate over these and reclassify them based on a new cutoff"
   ]
  },
  {
   "cell_type": "markdown",
   "metadata": {},
   "source": [
    "## Decision Tree"
   ]
  },
  {
   "cell_type": "code",
   "execution_count": 295,
   "metadata": {
    "collapsed": true
   },
   "outputs": [],
   "source": [
    "DecisionTreeClassifier?"
   ]
  },
  {
   "cell_type": "code",
   "execution_count": 131,
   "metadata": {
    "collapsed": false,
    "scrolled": true
   },
   "outputs": [
    {
     "data": {
      "text/plain": [
       "DecisionTreeClassifier(class_weight=None, criterion='gini', max_depth=None,\n",
       "            max_features=None, max_leaf_nodes=None, min_samples_leaf=1,\n",
       "            min_samples_split=2, min_weight_fraction_leaf=0.0,\n",
       "            presort=False, random_state=None, splitter='best')"
      ]
     },
     "execution_count": 131,
     "metadata": {},
     "output_type": "execute_result"
    }
   ],
   "source": [
    "DecisionTreeClassifier()"
   ]
  },
  {
   "cell_type": "code",
   "execution_count": 298,
   "metadata": {
    "collapsed": true
   },
   "outputs": [],
   "source": [
    "## tune hyperparameters here\n",
    "dt = DecisionTreeClassifier(\n",
    "    max_depth=15, \n",
    "    min_samples_leaf=4,\n",
    "    max_leaf_nodes=8,\n",
    "    criterion='gini'\n",
    ")"
   ]
  },
  {
   "cell_type": "code",
   "execution_count": 299,
   "metadata": {
    "collapsed": false,
    "scrolled": true
   },
   "outputs": [
    {
     "name": "stdout",
     "output_type": "stream",
     "text": [
      "Training set score:  0.663430420712\n",
      "Test set score:  0.65503875969\n",
      "\n",
      "Confusion Matrix:\n",
      "      predicted_0  predicted_1\n",
      "is_0          283           34\n",
      "is_1          144           55\n",
      "\n",
      "Classification Report:\n",
      "             precision    recall  f1-score   support\n",
      "\n",
      "          0       0.66      0.89      0.76       317\n",
      "          1       0.62      0.28      0.38       199\n",
      "\n",
      "avg / total       0.65      0.66      0.61       516\n",
      "\n"
     ]
    }
   ],
   "source": [
    "run_model(x_train, y_train, x_test, y_test, dt)"
   ]
  },
  {
   "cell_type": "code",
   "execution_count": 128,
   "metadata": {
    "collapsed": false,
    "scrolled": true
   },
   "outputs": [
    {
     "name": "stdout",
     "output_type": "stream",
     "text": [
      "ROC AUC: 0.64\n"
     ]
    },
    {
     "data": {
      "image/png": "[encoded data removed]",
      "text/plain": [
       "<matplotlib.figure.Figure at 0x117e266d0>"
      ]
     },
     "metadata": {},
     "output_type": "display_data"
    }
   ],
   "source": [
    "plot_roc(x_test, y_test, dt)"
   ]
  },
  {
   "cell_type": "code",
   "execution_count": 256,
   "metadata": {
    "collapsed": true
   },
   "outputs": [],
   "source": [
    "def tune_predictions(model, x_test, y_test, probability):\n",
    "    predict = model.predict_proba(x_test)\n",
    "    new_predictions = []\n",
    "    for i in predict:\n",
    "        if i[1] >= probability:\n",
    "            new_predictions.append(1)\n",
    "        else:\n",
    "            new_predictions.append(0)\n",
    "    print \"Confusion Matrix:\\n\", pd.DataFrame(confusion_matrix(y_test, new_predictions), \n",
    "                                              columns=['predicted_0', 'predicted_1'], index=['is_0', 'is_1'])\n",
    "    print \"\\nClassification Report:\\n\", classification_report(y_test, new_predictions)\n",
    "    plt.hist(new_predictions)\n",
    "    plt.xlabel('New Predictions')\n",
    "    plt.ylabel('Frequency')\n",
    "    plt.title('Distribution of New Predictions')\n",
    "    plt.show()"
   ]
  },
  {
   "cell_type": "code",
   "execution_count": 255,
   "metadata": {
    "collapsed": false,
    "scrolled": true
   },
   "outputs": [
    {
     "name": "stdout",
     "output_type": "stream",
     "text": [
      "Confusion Matrix:\n",
      "      predicted_0  predicted_1\n",
      "is_0          159          158\n",
      "is_1           48          151\n",
      "\n",
      "Classification Report:\n",
      "             precision    recall  f1-score   support\n",
      "\n",
      "          0       0.77      0.50      0.61       317\n",
      "          1       0.49      0.76      0.59       199\n",
      "\n",
      "avg / total       0.66      0.60      0.60       516\n",
      "\n"
     ]
    },
    {
     "data": {
      "image/png": "[encoded data removed]",
      "text/plain": [
       "<matplotlib.figure.Figure at 0x11d4cb4d0>"
      ]
     },
     "metadata": {},
     "output_type": "display_data"
    }
   ],
   "source": [
    "tune_predictions(dt, x_test, y_test, .30)"
   ]
  },
  {
   "cell_type": "code",
   "execution_count": 294,
   "metadata": {
    "collapsed": false
   },
   "outputs": [
    {
     "name": "stdout",
     "output_type": "stream",
     "text": [
      "Confusion Matrix:\n",
      "      predicted_0  predicted_1\n",
      "is_0          283           34\n",
      "is_1          144           55\n",
      "\n",
      "Classification Report:\n",
      "             precision    recall  f1-score   support\n",
      "\n",
      "          0       0.66      0.89      0.76       317\n",
      "          1       0.62      0.28      0.38       199\n",
      "\n",
      "avg / total       0.65      0.66      0.61       516\n",
      "\n"
     ]
    },
    {
     "data": {
      "image/png": "[encoded data removed]",
      "text/plain": [
       "<matplotlib.figure.Figure at 0x11d717a90>"
      ]
     },
     "metadata": {},
     "output_type": "display_data"
    }
   ],
   "source": [
    "tune_predictions(dt, x_test, y_test, .60)"
   ]
  },
  {
   "cell_type": "code",
   "execution_count": 309,
   "metadata": {
    "collapsed": true
   },
   "outputs": [],
   "source": [
    "## plots the distribution of prediction probabilities for the 1 class\n",
    "def plot_proba(x_test, model):\n",
    "    predict = model.predict_proba(x_test)\n",
    "    plt.hist(predict[:,1], bins=40)\n",
    "    plt.ylabel('Frequency')\n",
    "    plt.xlabel('Class 1 Probability Cutoff')\n",
    "    plt.show()"
   ]
  },
  {
   "cell_type": "code",
   "execution_count": 310,
   "metadata": {
    "collapsed": false
   },
   "outputs": [
    {
     "data": {
      "image/png": "[encoded data removed]",
      "text/plain": [
       "<matplotlib.figure.Figure at 0x11d4b6690>"
      ]
     },
     "metadata": {},
     "output_type": "display_data"
    }
   ],
   "source": [
    "plot_proba(x_test, dt)"
   ]
  },
  {
   "cell_type": "code",
   "execution_count": 198,
   "metadata": {
    "collapsed": false,
    "scrolled": true
   },
   "outputs": [
    {
     "data": {
      "text/plain": [
       "(array([   7.,    0.,  200.,   17.,   17.,  186.,    0.,    0.,    0.,   89.]),\n",
       " array([ 0.125     ,  0.17825342,  0.23150685,  0.28476027,  0.3380137 ,\n",
       "         0.39126712,  0.44452055,  0.49777397,  0.5510274 ,  0.60428082,\n",
       "         0.65753425]),\n",
       " <a list of 10 Patch objects>)"
      ]
     },
     "execution_count": 198,
     "metadata": {},
     "output_type": "execute_result"
    },
    {
     "data": {
      "image/png": "[encoded data removed]",
      "text/plain": [
       "<matplotlib.figure.Figure at 0x1181f8250>"
      ]
     },
     "metadata": {},
     "output_type": "display_data"
    }
   ],
   "source": [
    "plt.hist(predict[:,1])"
   ]
  },
  {
   "cell_type": "code",
   "execution_count": 222,
   "metadata": {
    "collapsed": false
   },
   "outputs": [
    {
     "data": {
      "text/plain": [
       "([array([   0.,    0.,   89.,    0.,    0.,  186.,   17.,   61.,  156.,    7.]),\n",
       "  array([   7.,  156.,   61.,   17.,  186.,    0.,    0.,   89.,    0.,    0.])],\n",
       " array([ 0.125,  0.2  ,  0.275,  0.35 ,  0.425,  0.5  ,  0.575,  0.65 ,\n",
       "         0.725,  0.8  ,  0.875]),\n",
       " <a list of 2 Lists of Patches objects>)"
      ]
     },
     "execution_count": 222,
     "metadata": {},
     "output_type": "execute_result"
    },
    {
     "data": {
      "image/png": "[encoded data removed]",
      "text/plain": [
       "<matplotlib.figure.Figure at 0x11c35bd90>"
      ]
     },
     "metadata": {},
     "output_type": "display_data"
    }
   ],
   "source": [
    "plt.hist(predict)"
   ]
  },
  {
   "cell_type": "code",
   "execution_count": 178,
   "metadata": {
    "collapsed": false
   },
   "outputs": [
    {
     "data": {
      "text/plain": [
       "(array([ 427.,    0.,    0.,    0.,    0.,    0.,    0.,    0.,    0.,   89.]),\n",
       " array([ 0. ,  0.1,  0.2,  0.3,  0.4,  0.5,  0.6,  0.7,  0.8,  0.9,  1. ]),\n",
       " <a list of 10 Patch objects>)"
      ]
     },
     "execution_count": 178,
     "metadata": {},
     "output_type": "execute_result"
    },
    {
     "data": {
      "image/png": "[encoded data removed]",
      "text/plain": [
       "<matplotlib.figure.Figure at 0x117e5eb90>"
      ]
     },
     "metadata": {},
     "output_type": "display_data"
    }
   ],
   "source": [
    "plt.hist(predictions_60)"
   ]
  },
  {
   "cell_type": "code",
   "execution_count": 176,
   "metadata": {
    "collapsed": false
   },
   "outputs": [
    {
     "data": {
      "text/plain": [
       "[]"
      ]
     },
     "execution_count": 176,
     "metadata": {},
     "output_type": "execute_result"
    }
   ],
   "source": [
    "predictions_60"
   ]
  },
  {
   "cell_type": "code",
   "execution_count": 199,
   "metadata": {
    "collapsed": false
   },
   "outputs": [
    {
     "data": {
      "text/plain": [
       "array([[283,  34],\n",
       "       [144,  55]])"
      ]
     },
     "execution_count": 199,
     "metadata": {},
     "output_type": "execute_result"
    }
   ],
   "source": [
    "confusion_matrix(y_test, predictions_60)"
   ]
  },
  {
   "cell_type": "code",
   "execution_count": 226,
   "metadata": {
    "collapsed": false,
    "scrolled": true
   },
   "outputs": [
    {
     "name": "stdout",
     "output_type": "stream",
     "text": [
      "Confusion Matrix:\n",
      "[[159 158]\n",
      " [ 48 151]] \n",
      "\n",
      "Classification Report:\n",
      "             precision    recall  f1-score   support\n",
      "\n",
      "          0       0.77      0.50      0.61       317\n",
      "          1       0.49      0.76      0.59       199\n",
      "\n",
      "avg / total       0.66      0.60      0.60       516\n",
      "\n"
     ]
    }
   ],
   "source": [
    "tune_predictions(dt, x_test, y_test, .30)"
   ]
  },
  {
   "cell_type": "code",
   "execution_count": 227,
   "metadata": {
    "collapsed": false,
    "scrolled": true
   },
   "outputs": [
    {
     "name": "stdout",
     "output_type": "stream",
     "text": [
      "Confusion Matrix:\n",
      "[[176 141]\n",
      " [ 65 134]] \n",
      "\n",
      "Classification Report:\n",
      "             precision    recall  f1-score   support\n",
      "\n",
      "          0       0.73      0.56      0.63       317\n",
      "          1       0.49      0.67      0.57       199\n",
      "\n",
      "avg / total       0.64      0.60      0.61       516\n",
      "\n"
     ]
    }
   ],
   "source": [
    "tune_predictions(dt, x_test, y_test, .40)"
   ]
  },
  {
   "cell_type": "markdown",
   "metadata": {},
   "source": [
    "## grid-searching the decision tree"
   ]
  },
  {
   "cell_type": "code",
   "execution_count": 300,
   "metadata": {
    "collapsed": true
   },
   "outputs": [],
   "source": [
    "dt_for_gs = DecisionTreeClassifier()"
   ]
  },
  {
   "cell_type": "code",
   "execution_count": 302,
   "metadata": {
    "collapsed": true
   },
   "outputs": [],
   "source": [
    "params_dt = {\n",
    "    \"max_depth\":[10,15,20],\n",
    "    \"min_samples_leaf\":[2,3,4,5],\n",
    "    \"max_leaf_nodes\":[4,6,8,10],\n",
    "    \"criterion\":['gini', 'entropy']\n",
    "}"
   ]
  },
  {
   "cell_type": "code",
   "execution_count": 303,
   "metadata": {
    "collapsed": false
   },
   "outputs": [],
   "source": [
    "gs_dt = GridSearchCV(dt_for_gs, params_dt)"
   ]
  },
  {
   "cell_type": "code",
   "execution_count": 304,
   "metadata": {
    "collapsed": false,
    "scrolled": true
   },
   "outputs": [
    {
     "data": {
      "text/plain": [
       "GridSearchCV(cv=None, error_score='raise',\n",
       "       estimator=DecisionTreeClassifier(class_weight=None, criterion='gini', max_depth=None,\n",
       "            max_features=None, max_leaf_nodes=None, min_samples_leaf=1,\n",
       "            min_samples_split=2, min_weight_fraction_leaf=0.0,\n",
       "            presort=False, random_state=None, splitter='best'),\n",
       "       fit_params={}, iid=True, n_jobs=1,\n",
       "       param_grid={'max_leaf_nodes': [4, 6, 8, 10], 'criterion': ['gini', 'entropy'], 'max_depth': [10, 15, 20], 'min_samples_leaf': [2, 3, 4, 5]},\n",
       "       pre_dispatch='2*n_jobs', refit=True, scoring=None, verbose=0)"
      ]
     },
     "execution_count": 304,
     "metadata": {},
     "output_type": "execute_result"
    }
   ],
   "source": [
    "gs_dt.fit(x_train, y_train)"
   ]
  },
  {
   "cell_type": "code",
   "execution_count": 305,
   "metadata": {
    "collapsed": false,
    "scrolled": true
   },
   "outputs": [
    {
     "data": {
      "text/plain": [
       "DecisionTreeClassifier(class_weight=None, criterion='gini', max_depth=10,\n",
       "            max_features=None, max_leaf_nodes=10, min_samples_leaf=2,\n",
       "            min_samples_split=2, min_weight_fraction_leaf=0.0,\n",
       "            presort=False, random_state=None, splitter='best')"
      ]
     },
     "execution_count": 305,
     "metadata": {},
     "output_type": "execute_result"
    }
   ],
   "source": [
    "gs_dt.best_estimator_"
   ]
  },
  {
   "cell_type": "code",
   "execution_count": 306,
   "metadata": {
    "collapsed": false,
    "scrolled": false
   },
   "outputs": [
    {
     "name": "stdout",
     "output_type": "stream",
     "text": [
      "Training set score:  0.668608414239\n",
      "Test set score:  0.651162790698\n",
      "\n",
      "Confusion Matrix:\n",
      "      predicted_0  predicted_1\n",
      "is_0          286           31\n",
      "is_1          149           50\n",
      "\n",
      "Classification Report:\n",
      "             precision    recall  f1-score   support\n",
      "\n",
      "          0       0.66      0.90      0.76       317\n",
      "          1       0.62      0.25      0.36       199\n",
      "\n",
      "avg / total       0.64      0.65      0.61       516\n",
      "\n"
     ]
    }
   ],
   "source": [
    "run_model(x_train, y_train, x_test, y_test, gs_dt.best_estimator_)"
   ]
  },
  {
   "cell_type": "code",
   "execution_count": 313,
   "metadata": {
    "collapsed": false
   },
   "outputs": [
    {
     "data": {
      "image/png": "[encoded data removed]",
      "text/plain": [
       "<matplotlib.figure.Figure at 0x11d77f610>"
      ]
     },
     "metadata": {},
     "output_type": "display_data"
    }
   ],
   "source": [
    "## in the original model, the false negatives were higher than the true positives. This is terrible, and needs fixing.\n",
    "\n",
    "\n",
    "plot_proba(x_test, gs_dt.best_estimator_)"
   ]
  },
  {
   "cell_type": "code",
   "execution_count": 311,
   "metadata": {
    "collapsed": false,
    "scrolled": true
   },
   "outputs": [
    {
     "name": "stdout",
     "output_type": "stream",
     "text": [
      "Confusion Matrix:\n",
      "      predicted_0  predicted_1\n",
      "is_0          204          113\n",
      "is_1           79          120\n",
      "\n",
      "Classification Report:\n",
      "             precision    recall  f1-score   support\n",
      "\n",
      "          0       0.72      0.64      0.68       317\n",
      "          1       0.52      0.60      0.56       199\n",
      "\n",
      "avg / total       0.64      0.63      0.63       516\n",
      "\n"
     ]
    },
    {
     "data": {
      "image/png": "[encoded data removed]",
      "text/plain": [
       "<matplotlib.figure.Figure at 0x11c832550>"
      ]
     },
     "metadata": {},
     "output_type": "display_data"
    }
   ],
   "source": [
    "## with probability=0.4, model score is 0.62. the false negatives are down, but the false positives are up.\n",
    "tune_predictions(gs_dt, x_test, y_test, .40)"
   ]
  },
  {
   "cell_type": "code",
   "execution_count": 319,
   "metadata": {
    "collapsed": false,
    "scrolled": true
   },
   "outputs": [
    {
     "data": {
      "text/plain": [
       "array([[283,  34],\n",
       "       [144,  55]])"
      ]
     },
     "execution_count": 319,
     "metadata": {},
     "output_type": "execute_result"
    }
   ],
   "source": [
    "confusion_matrix(y_test, predictions_60)"
   ]
  },
  {
   "cell_type": "code",
   "execution_count": 320,
   "metadata": {
    "collapsed": true
   },
   "outputs": [],
   "source": [
    "cmatrix = confusion_matrix(y_test, predictions_60)"
   ]
  },
  {
   "cell_type": "code",
   "execution_count": 323,
   "metadata": {
    "collapsed": false,
    "scrolled": true
   },
   "outputs": [
    {
     "data": {
      "text/plain": [
       "283"
      ]
     },
     "execution_count": 323,
     "metadata": {},
     "output_type": "execute_result"
    }
   ],
   "source": [
    "cmatrix[0,0]"
   ]
  },
  {
   "cell_type": "code",
   "execution_count": 328,
   "metadata": {
    "collapsed": false
   },
   "outputs": [],
   "source": [
    "def get_predictions(model, x_test, y_test, probability):\n",
    "    predict = model.predict_proba(x_test)\n",
    "    new_predictions = []\n",
    "    for i in predict:\n",
    "        if i[1] >= probability:\n",
    "            new_predictions.append(1)\n",
    "        else:\n",
    "            new_predictions.append(0)\n",
    "    return new_predictions"
   ]
  },
  {
   "cell_type": "code",
   "execution_count": 344,
   "metadata": {
    "collapsed": false,
    "scrolled": true
   },
   "outputs": [],
   "source": [
    "def find_optimal_probability(model, x_test, y_test):\n",
    "    probabilities = range(1,101)\n",
    "    new_probabilities = []\n",
    "    for i in probabilities:\n",
    "        new_probabilities.append(float(i)/100)\n",
    "    range_of_scores = []\n",
    "    for i in new_probabilities:\n",
    "        new_preds = get_predictions(model, x_test, y_test, i)\n",
    "        cmatrix = confusion_matrix(y_test, new_preds)\n",
    "        new_model_score = (cmatrix[0,0] + cmatrix[1,1])/float(np.sum(cmatrix))\n",
    "        range_of_scores.append(new_model_score)\n",
    "    \n",
    "    plt.plot(new_probabilities, range_of_scores)\n",
    "    plt.title(\"Model Scores at Different Cutoff Probabilities\")\n",
    "    plt.xlabel(\"Probability Cutoff\")\n",
    "    plt.ylabel(\"Model Score\")\n",
    "    plt.show()"
   ]
  },
  {
   "cell_type": "code",
   "execution_count": 345,
   "metadata": {
    "collapsed": false,
    "scrolled": true
   },
   "outputs": [
    {
     "data": {
      "image/png": "[encoded data removed]",
      "text/plain": [
       "<matplotlib.figure.Figure at 0x11c776dd0>"
      ]
     },
     "metadata": {},
     "output_type": "display_data"
    }
   ],
   "source": [
    "find_optimal_probability(dt, x_test, y_test)"
   ]
  },
  {
   "cell_type": "markdown",
   "metadata": {},
   "source": [
    "## Gradient Boosting"
   ]
  },
  {
   "cell_type": "code",
   "execution_count": 228,
   "metadata": {
    "collapsed": true
   },
   "outputs": [],
   "source": [
    "GradientBoostingClassifier?"
   ]
  },
  {
   "cell_type": "code",
   "execution_count": 211,
   "metadata": {
    "collapsed": false,
    "scrolled": true
   },
   "outputs": [
    {
     "data": {
      "text/plain": [
       "GradientBoostingClassifier(init=None, learning_rate=0.1, loss='deviance',\n",
       "              max_depth=3, max_features=None, max_leaf_nodes=None,\n",
       "              min_samples_leaf=1, min_samples_split=2,\n",
       "              min_weight_fraction_leaf=0.0, n_estimators=100,\n",
       "              presort='auto', random_state=None, subsample=1.0, verbose=0,\n",
       "              warm_start=False)"
      ]
     },
     "execution_count": 211,
     "metadata": {},
     "output_type": "execute_result"
    }
   ],
   "source": [
    "GradientBoostingClassifier()"
   ]
  },
  {
   "cell_type": "code",
   "execution_count": 219,
   "metadata": {
    "collapsed": true
   },
   "outputs": [],
   "source": [
    "boost_default = GradientBoostingClassifier()"
   ]
  },
  {
   "cell_type": "code",
   "execution_count": 229,
   "metadata": {
    "collapsed": false
   },
   "outputs": [],
   "source": [
    "boost = GradientBoostingClassifier(\n",
    "    n_estimators=500, \n",
    "    max_depth= 6,\n",
    "    learning_rate= 0.1, \n",
    "    min_samples_leaf=2\n",
    "    )"
   ]
  },
  {
   "cell_type": "code",
   "execution_count": 292,
   "metadata": {
    "collapsed": false
   },
   "outputs": [
    {
     "name": "stdout",
     "output_type": "stream",
     "text": [
      "Training set score:  1.0\n",
      "Test set score:  0.713178294574\n",
      "\n",
      "Confusion Matrix:\n",
      "      predicted_0  predicted_1\n",
      "is_0          260           57\n",
      "is_1           91          108\n",
      "\n",
      "Classification Report:\n",
      "             precision    recall  f1-score   support\n",
      "\n",
      "          0       0.74      0.82      0.78       317\n",
      "          1       0.65      0.54      0.59       199\n",
      "\n",
      "avg / total       0.71      0.71      0.71       516\n",
      "\n"
     ]
    }
   ],
   "source": [
    "run_model(x_train, y_train, x_test, y_test, boost)"
   ]
  },
  {
   "cell_type": "code",
   "execution_count": 293,
   "metadata": {
    "collapsed": false
   },
   "outputs": [
    {
     "name": "stdout",
     "output_type": "stream",
     "text": [
      "Training set score:  0.791585760518\n",
      "Test set score:  0.701550387597\n",
      "\n",
      "Confusion Matrix:\n",
      "      predicted_0  predicted_1\n",
      "is_0          267           50\n",
      "is_1          104           95\n",
      "\n",
      "Classification Report:\n",
      "             precision    recall  f1-score   support\n",
      "\n",
      "          0       0.72      0.84      0.78       317\n",
      "          1       0.66      0.48      0.55       199\n",
      "\n",
      "avg / total       0.69      0.70      0.69       516\n",
      "\n"
     ]
    }
   ],
   "source": [
    "run_model(x_train, y_train, x_test, y_test, boost_default)"
   ]
  },
  {
   "cell_type": "markdown",
   "metadata": {},
   "source": [
    "## ADA Boosting"
   ]
  },
  {
   "cell_type": "code",
   "execution_count": 451,
   "metadata": {
    "collapsed": false
   },
   "outputs": [],
   "source": [
    "AdaBoostClassifier?"
   ]
  },
  {
   "cell_type": "code",
   "execution_count": 449,
   "metadata": {
    "collapsed": true
   },
   "outputs": [],
   "source": [
    "ada_boost = AdaBoostClassifier(n_estimators=100)"
   ]
  },
  {
   "cell_type": "code",
   "execution_count": 450,
   "metadata": {
    "collapsed": false
   },
   "outputs": [
    {
     "name": "stdout",
     "output_type": "stream",
     "text": [
      "Training set score:  0.720388349515\n",
      "Test set score:  0.684108527132\n",
      "\n",
      "Confusion Matrix:\n",
      "      predicted_0  predicted_1\n",
      "is_0          241           75\n",
      "is_1           88          112\n",
      "\n",
      "Classification Report:\n",
      "             precision    recall  f1-score   support\n",
      "\n",
      "          0       0.73      0.76      0.75       316\n",
      "          1       0.60      0.56      0.58       200\n",
      "\n",
      "avg / total       0.68      0.68      0.68       516\n",
      "\n"
     ]
    }
   ],
   "source": [
    "run_model(x_train, y_train, x_test, y_test, ada_boost)"
   ]
  },
  {
   "cell_type": "markdown",
   "metadata": {},
   "source": [
    "## Decision tree for show"
   ]
  },
  {
   "cell_type": "code",
   "execution_count": 439,
   "metadata": {
    "collapsed": true
   },
   "outputs": [],
   "source": [
    "## this will create a single decision tree from the whole dataset that is readable by humans. \n",
    "## for display purposes only. it will be tuned to have approximately the same score as the AdaBoost model\n",
    "\n",
    "dt_for_show = DecisionTreeClassifier(\n",
    "                    max_depth=7,\n",
    "                    min_samples_leaf=5,\n",
    "#                     max_leaf_nodes=10\n",
    "#     class_weight=None, criterion='gini', max_depth=10,\n",
    "#             max_features=None, max_leaf_nodes=10, min_samples_leaf=2,\n",
    "#             min_samples_split=2, min_weight_fraction_leaf=0.0,\n",
    "#             presort=False, random_state=None, splitter='best'\n",
    ")"
   ]
  },
  {
   "cell_type": "code",
   "execution_count": 440,
   "metadata": {
    "collapsed": false
   },
   "outputs": [
    {
     "data": {
      "text/plain": [
       "DecisionTreeClassifier(class_weight=None, criterion='gini', max_depth=7,\n",
       "            max_features=None, max_leaf_nodes=None, min_samples_leaf=5,\n",
       "            min_samples_split=2, min_weight_fraction_leaf=0.0,\n",
       "            presort=False, random_state=None, splitter='best')"
      ]
     },
     "execution_count": 440,
     "metadata": {},
     "output_type": "execute_result"
    }
   ],
   "source": [
    "dt_for_show.fit(x,y)"
   ]
  },
  {
   "cell_type": "code",
   "execution_count": 441,
   "metadata": {
    "collapsed": false,
    "scrolled": false
   },
   "outputs": [
    {
     "data": {
      "text/plain": [
       "0.70014556040756915"
      ]
     },
     "execution_count": 441,
     "metadata": {},
     "output_type": "execute_result"
    }
   ],
   "source": [
    "dt_for_show.score(x,y)"
   ]
  },
  {
   "cell_type": "code",
   "execution_count": null,
   "metadata": {
    "collapsed": true
   },
   "outputs": [],
   "source": []
  },
  {
   "cell_type": "code",
   "execution_count": 442,
   "metadata": {
    "collapsed": true
   },
   "outputs": [],
   "source": []
  },
  {
   "cell_type": "code",
   "execution_count": 443,
   "metadata": {
    "collapsed": false
   },
   "outputs": [],
   "source": [
    "## exporting decision tree to png\n",
    "\n",
    "dtree = dt_for_show.fit(x, y)\n",
    "\n",
    "dotfile = open(\"dtree2.dot\", 'w')\n",
    "tree.export_graphviz(dtree, \n",
    "                     out_file = dotfile, \n",
    "                     feature_names = x.columns, \n",
    "                     class_names=['renewed', 'cancelled'],  \n",
    "                     filled=True, \n",
    "                     rounded=True,\n",
    "                     special_characters=True,\n",
    "                     impurity=False,\n",
    "                     label='none'\n",
    "                    )\n",
    "dotfile.close()\n",
    "\n",
    "system('dot -Tpng dtree2.dot -o dtree2.png')"
   ]
  },
  {
   "cell_type": "code",
   "execution_count": null,
   "metadata": {
    "collapsed": false
   },
   "outputs": [],
   "source": []
  },
  {
   "cell_type": "code",
   "execution_count": null,
   "metadata": {
    "collapsed": false
   },
   "outputs": [],
   "source": []
  },
  {
   "cell_type": "code",
   "execution_count": null,
   "metadata": {
    "collapsed": true
   },
   "outputs": [],
   "source": []
  }
 ],
 "metadata": {
  "anaconda-cloud": {},
  "kernelspec": {
   "display_name": "Python [Root]",
   "language": "python",
   "name": "Python [Root]"
  },
  "language_info": {
   "codemirror_mode": {
    "name": "ipython",
    "version": 2
   },
   "file_extension": ".py",
   "mimetype": "text/x-python",
   "name": "python",
   "nbconvert_exporter": "python",
   "pygments_lexer": "ipython2",
   "version": "2.7.12"
  }
 },
 "nbformat": 4,
 "nbformat_minor": 0
}
