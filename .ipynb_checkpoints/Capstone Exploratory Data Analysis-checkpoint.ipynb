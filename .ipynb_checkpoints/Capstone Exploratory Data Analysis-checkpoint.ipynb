{
 "cells": [
  {
   "cell_type": "code",
   "execution_count": 1,
   "metadata": {
    "collapsed": true
   },
   "outputs": [],
   "source": [
    "import pandas as pd\n",
    "import numpy as np\n",
    "import urllib2\n",
    "from bs4 import BeautifulSoup\n",
    "from imdbpie import Imdb\n",
    "from time import sleep\n",
    "import time\n",
    "import requests\n",
    "import string\n",
    "import csv\n",
    "import json\n",
    "from sklearn.feature_extraction.text import CountVectorizer\n",
    "import matplotlib.pyplot as plt\n",
    "%matplotlib inline\n",
    "import seaborn as sns"
   ]
  },
  {
   "cell_type": "code",
   "execution_count": 2,
   "metadata": {
    "collapsed": true
   },
   "outputs": [],
   "source": [
    "shows = pd.read_csv('scraped_data3.csv')\n",
    "shows.drop('Unnamed: 0', inplace=True, axis=1)"
   ]
  },
  {
   "cell_type": "code",
   "execution_count": 3,
   "metadata": {
    "collapsed": false,
    "scrolled": true
   },
   "outputs": [
    {
     "data": {
      "text/html": [
       "<div>\n",
       "<table border=\"1\" class=\"dataframe\">\n",
       "  <thead>\n",
       "    <tr style=\"text-align: right;\">\n",
       "      <th></th>\n",
       "      <th>json</th>\n",
       "      <th>title_rough</th>\n",
       "      <th>check</th>\n",
       "      <th>title</th>\n",
       "      <th>imdb_id</th>\n",
       "      <th>big_json</th>\n",
       "      <th>seasons</th>\n",
       "      <th>cancelled</th>\n",
       "      <th>runtime</th>\n",
       "      <th>genres</th>\n",
       "      <th>...</th>\n",
       "      <th>imdb_rating</th>\n",
       "      <th>release_date</th>\n",
       "      <th>plot</th>\n",
       "      <th>year</th>\n",
       "      <th>type</th>\n",
       "      <th>votes</th>\n",
       "      <th>metascore</th>\n",
       "      <th>keywords</th>\n",
       "      <th>first_year</th>\n",
       "      <th>is_new</th>\n",
       "    </tr>\n",
       "  </thead>\n",
       "  <tbody>\n",
       "    <tr>\n",
       "      <th>0</th>\n",
       "      <td>{u'imdbID': u'tt3523560', u'Title': u'Little C...</td>\n",
       "      <td>January 12 - Little Charmers</td>\n",
       "      <td>1</td>\n",
       "      <td>Little Charmers</td>\n",
       "      <td>tt3523560</td>\n",
       "      <td>{u'totalSeasons': u'2', u'Plot': u'Hip and edg...</td>\n",
       "      <td>2</td>\n",
       "      <td>0</td>\n",
       "      <td>NaN</td>\n",
       "      <td>Animation</td>\n",
       "      <td>...</td>\n",
       "      <td>6.4</td>\n",
       "      <td>12 Jan 2015</td>\n",
       "      <td>Hip and edge animation that welcomes to a worl...</td>\n",
       "      <td>2015–</td>\n",
       "      <td>series</td>\n",
       "      <td>65</td>\n",
       "      <td>NaN</td>\n",
       "      <td>[]</td>\n",
       "      <td>2015</td>\n",
       "      <td>1</td>\n",
       "    </tr>\n",
       "    <tr>\n",
       "      <th>1</th>\n",
       "      <td>{u'imdbID': u'tt3596178', u'Title': u'Bella an...</td>\n",
       "      <td>January 17 - Bella and the Bulldogs</td>\n",
       "      <td>1</td>\n",
       "      <td>Bella and the Bulldogs</td>\n",
       "      <td>tt3596178</td>\n",
       "      <td>{u'totalSeasons': u'2', u'Plot': u'Follows a p...</td>\n",
       "      <td>2</td>\n",
       "      <td>0</td>\n",
       "      <td>30 min</td>\n",
       "      <td>Comedy, Family</td>\n",
       "      <td>...</td>\n",
       "      <td>5.1</td>\n",
       "      <td>17 Jan 2015</td>\n",
       "      <td>Follows a perky head cheerleader named Bella w...</td>\n",
       "      <td>2015–2016</td>\n",
       "      <td>series</td>\n",
       "      <td>848</td>\n",
       "      <td>NaN</td>\n",
       "      <td>[texas, cheerleader, high school football, foo...</td>\n",
       "      <td>2015</td>\n",
       "      <td>1</td>\n",
       "    </tr>\n",
       "    <tr>\n",
       "      <th>2</th>\n",
       "      <td>{u'imdbID': u'tt3521854', u'Title': u'Power Ra...</td>\n",
       "      <td>February 7 - Power Rangers Dino Charge</td>\n",
       "      <td>1</td>\n",
       "      <td>Power Rangers Dino Charge</td>\n",
       "      <td>tt3521854</td>\n",
       "      <td>{u'totalSeasons': u'2', u'Plot': u'On prehisto...</td>\n",
       "      <td>2</td>\n",
       "      <td>0</td>\n",
       "      <td>21 min</td>\n",
       "      <td>Action, Adventure, Fantasy</td>\n",
       "      <td>...</td>\n",
       "      <td>7.0</td>\n",
       "      <td>07 Feb 2015</td>\n",
       "      <td>On prehistoric Earth, an alien entrusted power...</td>\n",
       "      <td>2015–</td>\n",
       "      <td>series</td>\n",
       "      <td>547</td>\n",
       "      <td>NaN</td>\n",
       "      <td>[power rangers]</td>\n",
       "      <td>2015</td>\n",
       "      <td>1</td>\n",
       "    </tr>\n",
       "    <tr>\n",
       "      <th>3</th>\n",
       "      <td>{u'imdbID': u'tt3219170', u'Title': u'Harvey B...</td>\n",
       "      <td>March 29 - Harvey Beaks</td>\n",
       "      <td>1</td>\n",
       "      <td>Harvey Beaks</td>\n",
       "      <td>tt3219170</td>\n",
       "      <td>{u'totalSeasons': u'2', u'Plot': u'A mild-mann...</td>\n",
       "      <td>2</td>\n",
       "      <td>0</td>\n",
       "      <td>22 min</td>\n",
       "      <td>Animation, Comedy, Family</td>\n",
       "      <td>...</td>\n",
       "      <td>6.9</td>\n",
       "      <td>29 Mar 2015</td>\n",
       "      <td>A mild-mannered young bird and his best friend...</td>\n",
       "      <td>2015–</td>\n",
       "      <td>series</td>\n",
       "      <td>646</td>\n",
       "      <td>NaN</td>\n",
       "      <td>[]</td>\n",
       "      <td>2015</td>\n",
       "      <td>1</td>\n",
       "    </tr>\n",
       "    <tr>\n",
       "      <th>4</th>\n",
       "      <td>{u'imdbID': u'tt4502154', u'Title': u'Make It ...</td>\n",
       "      <td>April 9 - Make It Pop</td>\n",
       "      <td>1</td>\n",
       "      <td>Make It Pop</td>\n",
       "      <td>tt4502154</td>\n",
       "      <td>{u'totalSeasons': u'3', u'Plot': u'Sun Hi, Jod...</td>\n",
       "      <td>3</td>\n",
       "      <td>0</td>\n",
       "      <td>30 min</td>\n",
       "      <td>Comedy, Drama, Musical</td>\n",
       "      <td>...</td>\n",
       "      <td>5.7</td>\n",
       "      <td>26 Mar 2015</td>\n",
       "      <td>Sun Hi, Jodi and Corki are three girls with di...</td>\n",
       "      <td>2015–</td>\n",
       "      <td>series</td>\n",
       "      <td>364</td>\n",
       "      <td>NaN</td>\n",
       "      <td>[]</td>\n",
       "      <td>2015</td>\n",
       "      <td>1</td>\n",
       "    </tr>\n",
       "    <tr>\n",
       "      <th>5</th>\n",
       "      <td>{u'imdbID': u'tt4452630', u'Title': u'Code Bla...</td>\n",
       "      <td>September 30 - Code Black</td>\n",
       "      <td>1</td>\n",
       "      <td>Code Black</td>\n",
       "      <td>tt4452630</td>\n",
       "      <td>{u'totalSeasons': u'2', u'Plot': u'This show i...</td>\n",
       "      <td>2</td>\n",
       "      <td>0</td>\n",
       "      <td>42 min</td>\n",
       "      <td>Drama</td>\n",
       "      <td>...</td>\n",
       "      <td>7.8</td>\n",
       "      <td>30 Sep 2015</td>\n",
       "      <td>This show is based on the award-winning docume...</td>\n",
       "      <td>2015–</td>\n",
       "      <td>series</td>\n",
       "      <td>4,931</td>\n",
       "      <td>NaN</td>\n",
       "      <td>[hospital, medical, los angeles california, la...</td>\n",
       "      <td>2015</td>\n",
       "      <td>1</td>\n",
       "    </tr>\n",
       "    <tr>\n",
       "      <th>6</th>\n",
       "      <td>{u'imdbID': u'tt3443274', u'Title': u'Every Wi...</td>\n",
       "      <td>January 1 - Every Witch Way</td>\n",
       "      <td>1</td>\n",
       "      <td>Every Witch Way</td>\n",
       "      <td>tt3443274</td>\n",
       "      <td>{u'totalSeasons': u'4', u'Plot': u'When Emma a...</td>\n",
       "      <td>4</td>\n",
       "      <td>0</td>\n",
       "      <td>23 min</td>\n",
       "      <td>Comedy, Drama, Family</td>\n",
       "      <td>...</td>\n",
       "      <td>4.8</td>\n",
       "      <td>01 Jan 2014</td>\n",
       "      <td>When Emma and her single father move to a new ...</td>\n",
       "      <td>2014–2015</td>\n",
       "      <td>series</td>\n",
       "      <td>1,324</td>\n",
       "      <td>NaN</td>\n",
       "      <td>[witch]</td>\n",
       "      <td>2014</td>\n",
       "      <td>0</td>\n",
       "    </tr>\n",
       "    <tr>\n",
       "      <th>7</th>\n",
       "      <td>{u'imdbID': u'tt2657258', u'Title': u'Killer W...</td>\n",
       "      <td>January 7 - Killer Women</td>\n",
       "      <td>1</td>\n",
       "      <td>Killer Women</td>\n",
       "      <td>tt2657258</td>\n",
       "      <td>{u'totalSeasons': u'1', u'Plot': u'Centers on ...</td>\n",
       "      <td>1</td>\n",
       "      <td>1</td>\n",
       "      <td>60 min</td>\n",
       "      <td>Drama, Western</td>\n",
       "      <td>...</td>\n",
       "      <td>6.0</td>\n",
       "      <td>07 Jan 2014</td>\n",
       "      <td>Centers on Molly Parker, one of only two women...</td>\n",
       "      <td>2014</td>\n",
       "      <td>series</td>\n",
       "      <td>1,802</td>\n",
       "      <td>NaN</td>\n",
       "      <td>[texas ranger, female lead, remake, based on t...</td>\n",
       "      <td>2014</td>\n",
       "      <td>0</td>\n",
       "    </tr>\n",
       "    <tr>\n",
       "      <th>8</th>\n",
       "      <td>{u'imdbID': u'tt2693776', u'Title': u'Intellig...</td>\n",
       "      <td>January 8 - Intelligence</td>\n",
       "      <td>1</td>\n",
       "      <td>Intelligence</td>\n",
       "      <td>tt2693776</td>\n",
       "      <td>{u'totalSeasons': u'1', u'Plot': u'A drama cen...</td>\n",
       "      <td>1</td>\n",
       "      <td>1</td>\n",
       "      <td>42 min</td>\n",
       "      <td>Action, Drama, Sci-Fi</td>\n",
       "      <td>...</td>\n",
       "      <td>7.0</td>\n",
       "      <td>07 Jan 2014</td>\n",
       "      <td>A drama centered on a high-tech intelligence o...</td>\n",
       "      <td>2014</td>\n",
       "      <td>series</td>\n",
       "      <td>16,210</td>\n",
       "      <td>NaN</td>\n",
       "      <td>[chip in head]</td>\n",
       "      <td>2014</td>\n",
       "      <td>0</td>\n",
       "    </tr>\n",
       "    <tr>\n",
       "      <th>9</th>\n",
       "      <td>{u'imdbID': u'tt2758950', u'Title': u'Helix', ...</td>\n",
       "      <td>January 10 - Helix</td>\n",
       "      <td>1</td>\n",
       "      <td>Helix</td>\n",
       "      <td>tt2758950</td>\n",
       "      <td>{u'totalSeasons': u'2', u'Plot': u'A team of s...</td>\n",
       "      <td>2</td>\n",
       "      <td>0</td>\n",
       "      <td>40 min</td>\n",
       "      <td>Sci-Fi, Thriller</td>\n",
       "      <td>...</td>\n",
       "      <td>6.9</td>\n",
       "      <td>10 Jan 2014</td>\n",
       "      <td>A team of scientists are thrust into a potenti...</td>\n",
       "      <td>2014–2015</td>\n",
       "      <td>series</td>\n",
       "      <td>23,792</td>\n",
       "      <td>NaN</td>\n",
       "      <td>[scientist, cdc, outbreak, arctic, pandemic, c...</td>\n",
       "      <td>2014</td>\n",
       "      <td>0</td>\n",
       "    </tr>\n",
       "  </tbody>\n",
       "</table>\n",
       "<p>10 rows × 21 columns</p>\n",
       "</div>"
      ],
      "text/plain": [
       "                                                json  \\\n",
       "0  {u'imdbID': u'tt3523560', u'Title': u'Little C...   \n",
       "1  {u'imdbID': u'tt3596178', u'Title': u'Bella an...   \n",
       "2  {u'imdbID': u'tt3521854', u'Title': u'Power Ra...   \n",
       "3  {u'imdbID': u'tt3219170', u'Title': u'Harvey B...   \n",
       "4  {u'imdbID': u'tt4502154', u'Title': u'Make It ...   \n",
       "5  {u'imdbID': u'tt4452630', u'Title': u'Code Bla...   \n",
       "6  {u'imdbID': u'tt3443274', u'Title': u'Every Wi...   \n",
       "7  {u'imdbID': u'tt2657258', u'Title': u'Killer W...   \n",
       "8  {u'imdbID': u'tt2693776', u'Title': u'Intellig...   \n",
       "9  {u'imdbID': u'tt2758950', u'Title': u'Helix', ...   \n",
       "\n",
       "                              title_rough  check                      title  \\\n",
       "0            January 12 - Little Charmers      1            Little Charmers   \n",
       "1     January 17 - Bella and the Bulldogs      1     Bella and the Bulldogs   \n",
       "2  February 7 - Power Rangers Dino Charge      1  Power Rangers Dino Charge   \n",
       "3                 March 29 - Harvey Beaks      1               Harvey Beaks   \n",
       "4                   April 9 - Make It Pop      1                Make It Pop   \n",
       "5               September 30 - Code Black      1                 Code Black   \n",
       "6             January 1 - Every Witch Way      1            Every Witch Way   \n",
       "7                January 7 - Killer Women      1               Killer Women   \n",
       "8                January 8 - Intelligence      1               Intelligence   \n",
       "9                      January 10 - Helix      1                      Helix   \n",
       "\n",
       "     imdb_id                                           big_json  seasons  \\\n",
       "0  tt3523560  {u'totalSeasons': u'2', u'Plot': u'Hip and edg...        2   \n",
       "1  tt3596178  {u'totalSeasons': u'2', u'Plot': u'Follows a p...        2   \n",
       "2  tt3521854  {u'totalSeasons': u'2', u'Plot': u'On prehisto...        2   \n",
       "3  tt3219170  {u'totalSeasons': u'2', u'Plot': u'A mild-mann...        2   \n",
       "4  tt4502154  {u'totalSeasons': u'3', u'Plot': u'Sun Hi, Jod...        3   \n",
       "5  tt4452630  {u'totalSeasons': u'2', u'Plot': u'This show i...        2   \n",
       "6  tt3443274  {u'totalSeasons': u'4', u'Plot': u'When Emma a...        4   \n",
       "7  tt2657258  {u'totalSeasons': u'1', u'Plot': u'Centers on ...        1   \n",
       "8  tt2693776  {u'totalSeasons': u'1', u'Plot': u'A drama cen...        1   \n",
       "9  tt2758950  {u'totalSeasons': u'2', u'Plot': u'A team of s...        2   \n",
       "\n",
       "   cancelled runtime                      genres   ...   imdb_rating  \\\n",
       "0          0     NaN                   Animation   ...           6.4   \n",
       "1          0  30 min              Comedy, Family   ...           5.1   \n",
       "2          0  21 min  Action, Adventure, Fantasy   ...           7.0   \n",
       "3          0  22 min   Animation, Comedy, Family   ...           6.9   \n",
       "4          0  30 min      Comedy, Drama, Musical   ...           5.7   \n",
       "5          0  42 min                       Drama   ...           7.8   \n",
       "6          0  23 min       Comedy, Drama, Family   ...           4.8   \n",
       "7          1  60 min              Drama, Western   ...           6.0   \n",
       "8          1  42 min       Action, Drama, Sci-Fi   ...           7.0   \n",
       "9          0  40 min            Sci-Fi, Thriller   ...           6.9   \n",
       "\n",
       "   release_date                                               plot       year  \\\n",
       "0   12 Jan 2015  Hip and edge animation that welcomes to a worl...      2015–   \n",
       "1   17 Jan 2015  Follows a perky head cheerleader named Bella w...  2015–2016   \n",
       "2   07 Feb 2015  On prehistoric Earth, an alien entrusted power...      2015–   \n",
       "3   29 Mar 2015  A mild-mannered young bird and his best friend...      2015–   \n",
       "4   26 Mar 2015  Sun Hi, Jodi and Corki are three girls with di...      2015–   \n",
       "5   30 Sep 2015  This show is based on the award-winning docume...      2015–   \n",
       "6   01 Jan 2014  When Emma and her single father move to a new ...  2014–2015   \n",
       "7   07 Jan 2014  Centers on Molly Parker, one of only two women...       2014   \n",
       "8   07 Jan 2014  A drama centered on a high-tech intelligence o...       2014   \n",
       "9   10 Jan 2014  A team of scientists are thrust into a potenti...  2014–2015   \n",
       "\n",
       "     type   votes metascore  \\\n",
       "0  series      65       NaN   \n",
       "1  series     848       NaN   \n",
       "2  series     547       NaN   \n",
       "3  series     646       NaN   \n",
       "4  series     364       NaN   \n",
       "5  series   4,931       NaN   \n",
       "6  series   1,324       NaN   \n",
       "7  series   1,802       NaN   \n",
       "8  series  16,210       NaN   \n",
       "9  series  23,792       NaN   \n",
       "\n",
       "                                            keywords first_year  is_new  \n",
       "0                                                 []       2015       1  \n",
       "1  [texas, cheerleader, high school football, foo...       2015       1  \n",
       "2                                    [power rangers]       2015       1  \n",
       "3                                                 []       2015       1  \n",
       "4                                                 []       2015       1  \n",
       "5  [hospital, medical, los angeles california, la...       2015       1  \n",
       "6                                            [witch]       2014       0  \n",
       "7  [texas ranger, female lead, remake, based on t...       2014       0  \n",
       "8                                     [chip in head]       2014       0  \n",
       "9  [scientist, cdc, outbreak, arctic, pandemic, c...       2014       0  \n",
       "\n",
       "[10 rows x 21 columns]"
      ]
     },
     "execution_count": 3,
     "metadata": {},
     "output_type": "execute_result"
    }
   ],
   "source": [
    "shows.head(10)"
   ]
  },
  {
   "cell_type": "code",
   "execution_count": 4,
   "metadata": {
    "collapsed": false
   },
   "outputs": [
    {
     "data": {
      "text/plain": [
       "(2590, 21)"
      ]
     },
     "execution_count": 4,
     "metadata": {},
     "output_type": "execute_result"
    }
   ],
   "source": [
    "shows.shape"
   ]
  },
  {
   "cell_type": "code",
   "execution_count": 5,
   "metadata": {
    "collapsed": false,
    "scrolled": true
   },
   "outputs": [
    {
     "data": {
      "text/plain": [
       "0    1689\n",
       "1     901\n",
       "Name: cancelled, dtype: int64"
      ]
     },
     "execution_count": 5,
     "metadata": {},
     "output_type": "execute_result"
    }
   ],
   "source": [
    "## the number of cancelled vs not cancelled shows\n",
    "shows['cancelled'].value_counts()\n"
   ]
  },
  {
   "cell_type": "code",
   "execution_count": 6,
   "metadata": {
    "collapsed": false
   },
   "outputs": [
    {
     "name": "stdout",
     "output_type": "stream",
     "text": [
      "Baseline probability of a show being cancelling in season 1 is:  0.347876447876\n"
     ]
    }
   ],
   "source": [
    "print \"Baseline probability of a show being cancelling in season 1 is: \", 901.0/2590"
   ]
  },
  {
   "cell_type": "code",
   "execution_count": 7,
   "metadata": {
    "collapsed": false,
    "scrolled": true
   },
   "outputs": [
    {
     "data": {
      "text/plain": [
       "json                object\n",
       "title_rough         object\n",
       "check                int64\n",
       "title               object\n",
       "imdb_id             object\n",
       "big_json            object\n",
       "seasons              int64\n",
       "cancelled            int64\n",
       "runtime             object\n",
       "genres              object\n",
       "parental_rating     object\n",
       "imdb_rating        float64\n",
       "release_date        object\n",
       "plot                object\n",
       "year                object\n",
       "type                object\n",
       "votes               object\n",
       "metascore          float64\n",
       "keywords            object\n",
       "first_year           int64\n",
       "is_new               int64\n",
       "dtype: object"
      ]
     },
     "execution_count": 7,
     "metadata": {},
     "output_type": "execute_result"
    }
   ],
   "source": [
    "shows.dtypes"
   ]
  },
  {
   "cell_type": "code",
   "execution_count": 8,
   "metadata": {
    "collapsed": false
   },
   "outputs": [
    {
     "data": {
      "text/plain": [
       "json                  0\n",
       "title_rough           0\n",
       "check                 0\n",
       "title                 0\n",
       "imdb_id               0\n",
       "big_json              0\n",
       "seasons               0\n",
       "cancelled             0\n",
       "runtime             599\n",
       "genres               80\n",
       "parental_rating    1737\n",
       "imdb_rating          70\n",
       "release_date        221\n",
       "plot                473\n",
       "year                  0\n",
       "type                  0\n",
       "votes                71\n",
       "metascore          2590\n",
       "keywords              0\n",
       "first_year            0\n",
       "is_new                0\n",
       "dtype: int64"
      ]
     },
     "execution_count": 8,
     "metadata": {},
     "output_type": "execute_result"
    }
   ],
   "source": [
    "shows.isnull().sum()"
   ]
  },
  {
   "cell_type": "code",
   "execution_count": 9,
   "metadata": {
    "collapsed": false,
    "scrolled": true
   },
   "outputs": [
    {
     "data": {
      "text/plain": [
       "<matplotlib.text.Text at 0x117b292d0>"
      ]
     },
     "execution_count": 9,
     "metadata": {},
     "output_type": "execute_result"
    },
    {
     "data": {
      "image/png": "[encoded data removed]",
      "text/plain": [
       "<matplotlib.figure.Figure at 0x118eb5990>"
      ]
     },
     "metadata": {},
     "output_type": "display_data"
    }
   ],
   "source": [
    "## distribution of IMDB scores\n",
    "\n",
    "plt.hist(shows['imdb_rating'].dropna())\n",
    "plt.title('Distribution of IMDB Scores')\n",
    "plt.ylabel('Frequency')\n",
    "plt.xlabel('Score')"
   ]
  },
  {
   "cell_type": "code",
   "execution_count": null,
   "metadata": {
    "collapsed": true
   },
   "outputs": [],
   "source": []
  },
  {
   "cell_type": "code",
   "execution_count": 10,
   "metadata": {
    "collapsed": false
   },
   "outputs": [
    {
     "data": {
      "text/plain": [
       "(2590, 21)"
      ]
     },
     "execution_count": 10,
     "metadata": {},
     "output_type": "execute_result"
    }
   ],
   "source": [
    "shows.shape"
   ]
  },
  {
   "cell_type": "code",
   "execution_count": 11,
   "metadata": {
    "collapsed": false,
    "scrolled": true
   },
   "outputs": [
    {
     "data": {
      "text/plain": [
       "(2573, 21)"
      ]
     },
     "execution_count": 11,
     "metadata": {},
     "output_type": "execute_result"
    }
   ],
   "source": [
    "## there seem to be a few shows that started prior to 1980\n",
    "shows[shows['first_year'] >= 1980].shape"
   ]
  },
  {
   "cell_type": "code",
   "execution_count": 12,
   "metadata": {
    "collapsed": true
   },
   "outputs": [],
   "source": [
    "newshows = shows[shows['first_year'] >= 1980]"
   ]
  },
  {
   "cell_type": "code",
   "execution_count": 13,
   "metadata": {
    "collapsed": false,
    "scrolled": true
   },
   "outputs": [
    {
     "data": {
      "text/plain": [
       "<matplotlib.text.Text at 0x118173490>"
      ]
     },
     "execution_count": 13,
     "metadata": {},
     "output_type": "execute_result"
    },
    {
     "data": {
      "image/png": "[encoded data removed]",
      "text/plain": [
       "<matplotlib.figure.Figure at 0x1181d7c10>"
      ]
     },
     "metadata": {},
     "output_type": "display_data"
    }
   ],
   "source": [
    "## distribution of release year\n",
    "plt.hist(shows['first_year'].dropna())\n",
    "plt.title('Distribution of Release Years')\n",
    "plt.ylabel('Frequency')\n",
    "plt.xlabel('Year Released')"
   ]
  },
  {
   "cell_type": "code",
   "execution_count": 14,
   "metadata": {
    "collapsed": false
   },
   "outputs": [
    {
     "data": {
      "text/plain": [
       "2003.1471042471042"
      ]
     },
     "execution_count": 14,
     "metadata": {},
     "output_type": "execute_result"
    }
   ],
   "source": [
    "## mean year in dataset\n",
    "np.mean(shows['first_year'].dropna())"
   ]
  },
  {
   "cell_type": "code",
   "execution_count": 15,
   "metadata": {
    "collapsed": false
   },
   "outputs": [
    {
     "data": {
      "text/plain": [
       "2005.0"
      ]
     },
     "execution_count": 15,
     "metadata": {},
     "output_type": "execute_result"
    }
   ],
   "source": [
    "## median year in dataset\n",
    "np.median(shows['first_year'].dropna())"
   ]
  },
  {
   "cell_type": "code",
   "execution_count": 16,
   "metadata": {
    "collapsed": false
   },
   "outputs": [
    {
     "data": {
      "text/plain": [
       "<matplotlib.text.Text at 0x118e86c10>"
      ]
     },
     "execution_count": 16,
     "metadata": {},
     "output_type": "execute_result"
    },
    {
     "data": {
      "image/png": "[encoded data removed]",
      "text/plain": [
       "<matplotlib.figure.Figure at 0x1181b1c10>"
      ]
     },
     "metadata": {},
     "output_type": "display_data"
    }
   ],
   "source": [
    "## distribution of release year for only shows starting after 1980\n",
    "plt.hist(newshows['first_year'])\n",
    "plt.title('Distribution of Release Years')\n",
    "plt.ylabel('Frequency')\n",
    "plt.xlabel('Year Released')"
   ]
  },
  {
   "cell_type": "code",
   "execution_count": 17,
   "metadata": {
    "collapsed": true
   },
   "outputs": [],
   "source": [
    "## this funciton cleans runtime\n",
    "\n",
    "def fix_runtime(runtime):\n",
    "    return runtime.split(' ')[0]"
   ]
  },
  {
   "cell_type": "code",
   "execution_count": 18,
   "metadata": {
    "collapsed": true
   },
   "outputs": [],
   "source": [
    "## cleans the runtime column\n",
    "shows['fixed_runtime'] = shows['runtime'].dropna().apply(fix_runtime)"
   ]
  },
  {
   "cell_type": "code",
   "execution_count": 19,
   "metadata": {
    "collapsed": true
   },
   "outputs": [],
   "source": [
    "## converts cleaned runtime from str to int\n",
    "shows['fixed_runtime'] = shows['fixed_runtime'].dropna().apply(int)"
   ]
  },
  {
   "cell_type": "code",
   "execution_count": 20,
   "metadata": {
    "collapsed": false,
    "scrolled": false
   },
   "outputs": [
    {
     "data": {
      "text/plain": [
       "30.0     803\n",
       "60.0     573\n",
       "22.0     122\n",
       "44.0      61\n",
       "45.0      57\n",
       "43.0      47\n",
       "23.0      40\n",
       "25.0      28\n",
       "42.0      25\n",
       "11.0      22\n",
       "24.0      18\n",
       "120.0     17\n",
       "15.0      16\n",
       "55.0      13\n",
       "50.0      13\n",
       "28.0      10\n",
       "21.0       9\n",
       "46.0       8\n",
       "47.0       8\n",
       "20.0       6\n",
       "40.0       5\n",
       "90.0       5\n",
       "27.0       5\n",
       "41.0       4\n",
       "51.0       4\n",
       "65.0       3\n",
       "29.0       3\n",
       "26.0       3\n",
       "62.0       3\n",
       "59.0       3\n",
       "        ... \n",
       "522.0      1\n",
       "608.0      1\n",
       "376.0      1\n",
       "9.0        1\n",
       "306.0      1\n",
       "284.0      1\n",
       "272.0      1\n",
       "270.0      1\n",
       "467.0      1\n",
       "197.0      1\n",
       "75.0       1\n",
       "185.0      1\n",
       "86.0       1\n",
       "64.0       1\n",
       "94.0       1\n",
       "100.0      1\n",
       "650.0      1\n",
       "57.0       1\n",
       "56.0       1\n",
       "110.0      1\n",
       "53.0       1\n",
       "118.0      1\n",
       "125.0      1\n",
       "49.0       1\n",
       "48.0       1\n",
       "131.0      1\n",
       "136.0      1\n",
       "154.0      1\n",
       "156.0      1\n",
       "720.0      1\n",
       "Name: fixed_runtime, dtype: int64"
      ]
     },
     "execution_count": 20,
     "metadata": {},
     "output_type": "execute_result"
    }
   ],
   "source": [
    "## i'm pretty sure something is wrong here.\n",
    "shows['fixed_runtime'].value_counts()"
   ]
  },
  {
   "cell_type": "code",
   "execution_count": 21,
   "metadata": {
    "collapsed": false,
    "scrolled": true
   },
   "outputs": [
    {
     "data": {
      "text/plain": [
       "json                object\n",
       "title_rough         object\n",
       "check                int64\n",
       "title               object\n",
       "imdb_id             object\n",
       "big_json            object\n",
       "seasons              int64\n",
       "cancelled            int64\n",
       "runtime             object\n",
       "genres              object\n",
       "parental_rating     object\n",
       "imdb_rating        float64\n",
       "release_date        object\n",
       "plot                object\n",
       "year                object\n",
       "type                object\n",
       "votes               object\n",
       "metascore          float64\n",
       "keywords            object\n",
       "first_year           int64\n",
       "is_new               int64\n",
       "fixed_runtime      float64\n",
       "dtype: object"
      ]
     },
     "execution_count": 21,
     "metadata": {},
     "output_type": "execute_result"
    }
   ],
   "source": [
    "shows.dtypes"
   ]
  },
  {
   "cell_type": "code",
   "execution_count": 22,
   "metadata": {
    "collapsed": false,
    "scrolled": true
   },
   "outputs": [
    {
     "data": {
      "text/plain": [
       "<matplotlib.text.Text at 0x118989f50>"
      ]
     },
     "execution_count": 22,
     "metadata": {},
     "output_type": "execute_result"
    },
    {
     "data": {
      "image/png": "[encoded data removed]",
      "text/plain": [
       "<matplotlib.figure.Figure at 0x1189b05d0>"
      ]
     },
     "metadata": {},
     "output_type": "display_data"
    }
   ],
   "source": [
    "plt.hist(shows['fixed_runtime'].dropna())\n",
    "plt.title('Distribution of Runtime')\n",
    "plt.ylabel('Frequency')\n",
    "plt.xlabel('Runtime')"
   ]
  },
  {
   "cell_type": "code",
   "execution_count": 23,
   "metadata": {
    "collapsed": false,
    "scrolled": true
   },
   "outputs": [
    {
     "data": {
      "text/html": [
       "<div>\n",
       "<table border=\"1\" class=\"dataframe\">\n",
       "  <thead>\n",
       "    <tr style=\"text-align: right;\">\n",
       "      <th></th>\n",
       "      <th>json</th>\n",
       "      <th>title_rough</th>\n",
       "      <th>check</th>\n",
       "      <th>title</th>\n",
       "      <th>imdb_id</th>\n",
       "      <th>big_json</th>\n",
       "      <th>seasons</th>\n",
       "      <th>cancelled</th>\n",
       "      <th>runtime</th>\n",
       "      <th>genres</th>\n",
       "      <th>...</th>\n",
       "      <th>release_date</th>\n",
       "      <th>plot</th>\n",
       "      <th>year</th>\n",
       "      <th>type</th>\n",
       "      <th>votes</th>\n",
       "      <th>metascore</th>\n",
       "      <th>keywords</th>\n",
       "      <th>first_year</th>\n",
       "      <th>is_new</th>\n",
       "      <th>fixed_runtime</th>\n",
       "    </tr>\n",
       "  </thead>\n",
       "  <tbody>\n",
       "    <tr>\n",
       "      <th>1522</th>\n",
       "      <td>{u'imdbID': u'tt2431022', u'Title': u'Mankind ...</td>\n",
       "      <td>September 16 - All of Us</td>\n",
       "      <td>1</td>\n",
       "      <td>All of Us</td>\n",
       "      <td>tt2431022</td>\n",
       "      <td>{u'totalSeasons': u'1', u'Plot': u'Follow-up t...</td>\n",
       "      <td>1</td>\n",
       "      <td>1</td>\n",
       "      <td>720 min</td>\n",
       "      <td>Documentary, History</td>\n",
       "      <td>...</td>\n",
       "      <td>13 Nov 2012</td>\n",
       "      <td>Follow-up to America: The Story of the US (201...</td>\n",
       "      <td>2012</td>\n",
       "      <td>series</td>\n",
       "      <td>1,135</td>\n",
       "      <td>NaN</td>\n",
       "      <td>[tv mini series]</td>\n",
       "      <td>2012</td>\n",
       "      <td>0</td>\n",
       "      <td>720.0</td>\n",
       "    </tr>\n",
       "  </tbody>\n",
       "</table>\n",
       "<p>1 rows × 22 columns</p>\n",
       "</div>"
      ],
      "text/plain": [
       "                                                   json  \\\n",
       "1522  {u'imdbID': u'tt2431022', u'Title': u'Mankind ...   \n",
       "\n",
       "                   title_rough  check      title    imdb_id  \\\n",
       "1522  September 16 - All of Us      1  All of Us  tt2431022   \n",
       "\n",
       "                                               big_json  seasons  cancelled  \\\n",
       "1522  {u'totalSeasons': u'1', u'Plot': u'Follow-up t...        1          1   \n",
       "\n",
       "      runtime                genres      ...       release_date  \\\n",
       "1522  720 min  Documentary, History      ...        13 Nov 2012   \n",
       "\n",
       "                                                   plot  year    type  votes  \\\n",
       "1522  Follow-up to America: The Story of the US (201...  2012  series  1,135   \n",
       "\n",
       "     metascore          keywords  first_year is_new  fixed_runtime  \n",
       "1522       NaN  [tv mini series]        2012      0          720.0  \n",
       "\n",
       "[1 rows x 22 columns]"
      ]
     },
     "execution_count": 23,
     "metadata": {},
     "output_type": "execute_result"
    }
   ],
   "source": [
    "## the long runtimes may be giving total runtime, not runtime per episode\n",
    "shows[shows['fixed_runtime'] == 720]"
   ]
  },
  {
   "cell_type": "code",
   "execution_count": 24,
   "metadata": {
    "collapsed": false,
    "scrolled": true
   },
   "outputs": [
    {
     "data": {
      "text/html": [
       "<div>\n",
       "<table border=\"1\" class=\"dataframe\">\n",
       "  <thead>\n",
       "    <tr style=\"text-align: right;\">\n",
       "      <th></th>\n",
       "      <th>json</th>\n",
       "      <th>title_rough</th>\n",
       "      <th>check</th>\n",
       "      <th>title</th>\n",
       "      <th>imdb_id</th>\n",
       "      <th>big_json</th>\n",
       "      <th>seasons</th>\n",
       "      <th>cancelled</th>\n",
       "      <th>runtime</th>\n",
       "      <th>genres</th>\n",
       "      <th>...</th>\n",
       "      <th>release_date</th>\n",
       "      <th>plot</th>\n",
       "      <th>year</th>\n",
       "      <th>type</th>\n",
       "      <th>votes</th>\n",
       "      <th>metascore</th>\n",
       "      <th>keywords</th>\n",
       "      <th>first_year</th>\n",
       "      <th>is_new</th>\n",
       "      <th>fixed_runtime</th>\n",
       "    </tr>\n",
       "  </thead>\n",
       "  <tbody>\n",
       "    <tr>\n",
       "      <th>332</th>\n",
       "      <td>{u'imdbID': u'tt0266171', u'Title': u'Outlaw S...</td>\n",
       "      <td>September 15 - Outlaw</td>\n",
       "      <td>1</td>\n",
       "      <td>Outlaw</td>\n",
       "      <td>tt0266171</td>\n",
       "      <td>{u'totalSeasons': u'1', u'Plot': u'The adventu...</td>\n",
       "      <td>1</td>\n",
       "      <td>1</td>\n",
       "      <td>650 min</td>\n",
       "      <td>Animation, Comedy, Drama</td>\n",
       "      <td>...</td>\n",
       "      <td>15 Jan 2001</td>\n",
       "      <td>The adventures of an outlaw crew of an advance...</td>\n",
       "      <td>1998–</td>\n",
       "      <td>series</td>\n",
       "      <td>2,792</td>\n",
       "      <td>NaN</td>\n",
       "      <td>[spaceship, anime, outlaw, space, based on man...</td>\n",
       "      <td>1998</td>\n",
       "      <td>0</td>\n",
       "      <td>650.0</td>\n",
       "    </tr>\n",
       "    <tr>\n",
       "      <th>490</th>\n",
       "      <td>{u'imdbID': u'tt1379652', u'Title': u'The Grea...</td>\n",
       "      <td>July 6 - The Great Debate</td>\n",
       "      <td>1</td>\n",
       "      <td>The Great Debate</td>\n",
       "      <td>tt1379652</td>\n",
       "      <td>{u'totalSeasons': u'1', u'Plot': u'N/A', u'Rat...</td>\n",
       "      <td>1</td>\n",
       "      <td>1</td>\n",
       "      <td>300 min</td>\n",
       "      <td>Reality-TV</td>\n",
       "      <td>...</td>\n",
       "      <td>06 Jul 2009</td>\n",
       "      <td>NaN</td>\n",
       "      <td>2009–</td>\n",
       "      <td>series</td>\n",
       "      <td>24</td>\n",
       "      <td>NaN</td>\n",
       "      <td>[]</td>\n",
       "      <td>2009</td>\n",
       "      <td>0</td>\n",
       "      <td>300.0</td>\n",
       "    </tr>\n",
       "    <tr>\n",
       "      <th>535</th>\n",
       "      <td>{u'imdbID': u'tt0185906', u'Title': u'Band of ...</td>\n",
       "      <td>September 25 - Brothers</td>\n",
       "      <td>1</td>\n",
       "      <td>Brothers</td>\n",
       "      <td>tt0185906</td>\n",
       "      <td>{u'totalSeasons': u'1', u'Plot': u'This is the...</td>\n",
       "      <td>1</td>\n",
       "      <td>1</td>\n",
       "      <td>594 min</td>\n",
       "      <td>Action, Drama, History</td>\n",
       "      <td>...</td>\n",
       "      <td>09 Sep 2001</td>\n",
       "      <td>This is the story of \"E\" Easy Company, 506th R...</td>\n",
       "      <td>2001</td>\n",
       "      <td>series</td>\n",
       "      <td>239,408</td>\n",
       "      <td>NaN</td>\n",
       "      <td>[airborne troops, american abroad, u.s. soldie...</td>\n",
       "      <td>2001</td>\n",
       "      <td>0</td>\n",
       "      <td>594.0</td>\n",
       "    </tr>\n",
       "    <tr>\n",
       "      <th>558</th>\n",
       "      <td>{u'imdbID': u'tt1568937', u'Title': u'Ancients...</td>\n",
       "      <td>November 6 - Ancients Behaving Badly</td>\n",
       "      <td>1</td>\n",
       "      <td>Ancients Behaving Badly</td>\n",
       "      <td>tt1568937</td>\n",
       "      <td>{u'totalSeasons': u'1', u'Plot': u'This docume...</td>\n",
       "      <td>1</td>\n",
       "      <td>1</td>\n",
       "      <td>376 min</td>\n",
       "      <td>Documentary, Biography, History</td>\n",
       "      <td>...</td>\n",
       "      <td>06 Nov 2009</td>\n",
       "      <td>This documentary explores some of the psycholo...</td>\n",
       "      <td>2009–</td>\n",
       "      <td>series</td>\n",
       "      <td>123</td>\n",
       "      <td>NaN</td>\n",
       "      <td>[]</td>\n",
       "      <td>2009</td>\n",
       "      <td>0</td>\n",
       "      <td>376.0</td>\n",
       "    </tr>\n",
       "    <tr>\n",
       "      <th>931</th>\n",
       "      <td>{u'imdbID': u'tt0830361', u'Title': u'The Lost...</td>\n",
       "      <td>December 11 - The Lost Room</td>\n",
       "      <td>1</td>\n",
       "      <td>The Lost Room</td>\n",
       "      <td>tt0830361</td>\n",
       "      <td>{u'totalSeasons': u'1', u'Plot': u'Detective J...</td>\n",
       "      <td>1</td>\n",
       "      <td>1</td>\n",
       "      <td>270 min</td>\n",
       "      <td>Action, Fantasy, Mystery</td>\n",
       "      <td>...</td>\n",
       "      <td>11 Dec 2006</td>\n",
       "      <td>Detective Joe Miller comes into possession of ...</td>\n",
       "      <td>2006</td>\n",
       "      <td>series</td>\n",
       "      <td>24,005</td>\n",
       "      <td>NaN</td>\n",
       "      <td>[cursed object, teleportation, tv mini series]</td>\n",
       "      <td>2006</td>\n",
       "      <td>0</td>\n",
       "      <td>270.0</td>\n",
       "    </tr>\n",
       "    <tr>\n",
       "      <th>1245</th>\n",
       "      <td>{u'imdbID': u'tt0461110', u'Title': u'TransGen...</td>\n",
       "      <td>September 20 - TransGeneration</td>\n",
       "      <td>1</td>\n",
       "      <td>TransGeneration</td>\n",
       "      <td>tt0461110</td>\n",
       "      <td>{u'totalSeasons': u'1', u'Plot': u'A look at t...</td>\n",
       "      <td>1</td>\n",
       "      <td>1</td>\n",
       "      <td>272 min</td>\n",
       "      <td>Documentary</td>\n",
       "      <td>...</td>\n",
       "      <td>20 Sep 2005</td>\n",
       "      <td>A look at the lives of four college students u...</td>\n",
       "      <td>2005</td>\n",
       "      <td>series</td>\n",
       "      <td>308</td>\n",
       "      <td>NaN</td>\n",
       "      <td>[gender transition, gender, college student, c...</td>\n",
       "      <td>2005</td>\n",
       "      <td>0</td>\n",
       "      <td>272.0</td>\n",
       "    </tr>\n",
       "    <tr>\n",
       "      <th>1287</th>\n",
       "      <td>{u'imdbID': u'tt5275892', u'Title': u'O.J.: Ma...</td>\n",
       "      <td>January 6 - Made in America</td>\n",
       "      <td>1</td>\n",
       "      <td>Made in America</td>\n",
       "      <td>tt5275892</td>\n",
       "      <td>{u'totalSeasons': u'1', u'Plot': u'It is the d...</td>\n",
       "      <td>1</td>\n",
       "      <td>1</td>\n",
       "      <td>467 min</td>\n",
       "      <td>Documentary, Biography, Crime</td>\n",
       "      <td>...</td>\n",
       "      <td>11 Jun 2016</td>\n",
       "      <td>It is the defining cultural tale of modern Ame...</td>\n",
       "      <td>2016</td>\n",
       "      <td>series</td>\n",
       "      <td>3,076</td>\n",
       "      <td>NaN</td>\n",
       "      <td>[celebrity, racism, investigation, justice sys...</td>\n",
       "      <td>2016</td>\n",
       "      <td>1</td>\n",
       "      <td>467.0</td>\n",
       "    </tr>\n",
       "    <tr>\n",
       "      <th>1306</th>\n",
       "      <td>{u'imdbID': u'tt0324864', u'Title': u'Kingdom ...</td>\n",
       "      <td>March 3 - Kingdom Hospital</td>\n",
       "      <td>1</td>\n",
       "      <td>Kingdom Hospital</td>\n",
       "      <td>tt0324864</td>\n",
       "      <td>{u'totalSeasons': u'1', u'Plot': u'Shocking an...</td>\n",
       "      <td>1</td>\n",
       "      <td>1</td>\n",
       "      <td>608 min</td>\n",
       "      <td>Drama, Fantasy, Horror</td>\n",
       "      <td>...</td>\n",
       "      <td>03 Mar 2004</td>\n",
       "      <td>Shocking and frightening tale of a haunted hos...</td>\n",
       "      <td>2004–</td>\n",
       "      <td>series</td>\n",
       "      <td>6,147</td>\n",
       "      <td>NaN</td>\n",
       "      <td>[hospital, maine, talking animal, ambulance, g...</td>\n",
       "      <td>2004</td>\n",
       "      <td>0</td>\n",
       "      <td>608.0</td>\n",
       "    </tr>\n",
       "    <tr>\n",
       "      <th>1479</th>\n",
       "      <td>{u'imdbID': u'tt0329476', u'Title': u'Out of O...</td>\n",
       "      <td>June 1 - Out of Order</td>\n",
       "      <td>1</td>\n",
       "      <td>Out of Order</td>\n",
       "      <td>tt0329476</td>\n",
       "      <td>{u'totalSeasons': u'N/A', u'Plot': u'Mark Colm...</td>\n",
       "      <td>0</td>\n",
       "      <td>0</td>\n",
       "      <td>200 min</td>\n",
       "      <td>Drama, Romance</td>\n",
       "      <td>...</td>\n",
       "      <td>01 Jun 2003</td>\n",
       "      <td>Mark Colm is a family man torn between his lov...</td>\n",
       "      <td>2003</td>\n",
       "      <td>series</td>\n",
       "      <td>616</td>\n",
       "      <td>NaN</td>\n",
       "      <td>[female nudity, group sex, braless, unfaithful...</td>\n",
       "      <td>2003</td>\n",
       "      <td>0</td>\n",
       "      <td>200.0</td>\n",
       "    </tr>\n",
       "    <tr>\n",
       "      <th>1522</th>\n",
       "      <td>{u'imdbID': u'tt2431022', u'Title': u'Mankind ...</td>\n",
       "      <td>September 16 - All of Us</td>\n",
       "      <td>1</td>\n",
       "      <td>All of Us</td>\n",
       "      <td>tt2431022</td>\n",
       "      <td>{u'totalSeasons': u'1', u'Plot': u'Follow-up t...</td>\n",
       "      <td>1</td>\n",
       "      <td>1</td>\n",
       "      <td>720 min</td>\n",
       "      <td>Documentary, History</td>\n",
       "      <td>...</td>\n",
       "      <td>13 Nov 2012</td>\n",
       "      <td>Follow-up to America: The Story of the US (201...</td>\n",
       "      <td>2012</td>\n",
       "      <td>series</td>\n",
       "      <td>1,135</td>\n",
       "      <td>NaN</td>\n",
       "      <td>[tv mini series]</td>\n",
       "      <td>2012</td>\n",
       "      <td>0</td>\n",
       "      <td>720.0</td>\n",
       "    </tr>\n",
       "    <tr>\n",
       "      <th>1690</th>\n",
       "      <td>{u'imdbID': u'tt0219446', u'Title': u'The Oblo...</td>\n",
       "      <td>April 1 - The Oblongs</td>\n",
       "      <td>1</td>\n",
       "      <td>The Oblongs</td>\n",
       "      <td>tt0219446</td>\n",
       "      <td>{u'totalSeasons': u'1', u'Plot': u'The misadve...</td>\n",
       "      <td>1</td>\n",
       "      <td>1</td>\n",
       "      <td>284 min</td>\n",
       "      <td>Animation, Comedy, Sci-Fi</td>\n",
       "      <td>...</td>\n",
       "      <td>01 Apr 2001</td>\n",
       "      <td>The misadventures of a goofy family deformed b...</td>\n",
       "      <td>2001–2002</td>\n",
       "      <td>series</td>\n",
       "      <td>6,746</td>\n",
       "      <td>NaN</td>\n",
       "      <td>[surrealism, poor family, overweight child, co...</td>\n",
       "      <td>2001</td>\n",
       "      <td>0</td>\n",
       "      <td>284.0</td>\n",
       "    </tr>\n",
       "    <tr>\n",
       "      <th>1773</th>\n",
       "      <td>{u'imdbID': u'tt0299368', u'Title': u'Project ...</td>\n",
       "      <td>December 2 - Project Greenlight</td>\n",
       "      <td>1</td>\n",
       "      <td>Project Greenlight</td>\n",
       "      <td>tt0299368</td>\n",
       "      <td>{u'totalSeasons': u'4', u'Plot': u'The second ...</td>\n",
       "      <td>4</td>\n",
       "      <td>0</td>\n",
       "      <td>453 min</td>\n",
       "      <td>Reality-TV</td>\n",
       "      <td>...</td>\n",
       "      <td>02 Dec 2001</td>\n",
       "      <td>The second season of Matt Damon and Ben Afflec...</td>\n",
       "      <td>2001–2015</td>\n",
       "      <td>series</td>\n",
       "      <td>672</td>\n",
       "      <td>NaN</td>\n",
       "      <td>[two word title, filmmaking, non fiction]</td>\n",
       "      <td>2001</td>\n",
       "      <td>0</td>\n",
       "      <td>453.0</td>\n",
       "    </tr>\n",
       "    <tr>\n",
       "      <th>1795</th>\n",
       "      <td>{u'imdbID': u'tt0264263', u'Title': u'Jackass'...</td>\n",
       "      <td>April 12 - Jackass</td>\n",
       "      <td>1</td>\n",
       "      <td>Jackass</td>\n",
       "      <td>tt0264263</td>\n",
       "      <td>{u'totalSeasons': u'3', u'Plot': u'A reality s...</td>\n",
       "      <td>3</td>\n",
       "      <td>0</td>\n",
       "      <td>535 min</td>\n",
       "      <td>Action, Comedy, Reality-TV</td>\n",
       "      <td>...</td>\n",
       "      <td>12 Apr 2000</td>\n",
       "      <td>A reality show about a group of stunt men &amp; ex...</td>\n",
       "      <td>2000–2002</td>\n",
       "      <td>series</td>\n",
       "      <td>17,774</td>\n",
       "      <td>NaN</td>\n",
       "      <td>[bear, candid camera, prank, profanity in titl...</td>\n",
       "      <td>2000</td>\n",
       "      <td>0</td>\n",
       "      <td>535.0</td>\n",
       "    </tr>\n",
       "    <tr>\n",
       "      <th>1821</th>\n",
       "      <td>{u'imdbID': u'tt0299368', u'Title': u'Project ...</td>\n",
       "      <td>September - Project Greenlight</td>\n",
       "      <td>1</td>\n",
       "      <td>Project Greenlight</td>\n",
       "      <td>tt0299368</td>\n",
       "      <td>{u'totalSeasons': u'4', u'Plot': u'The second ...</td>\n",
       "      <td>4</td>\n",
       "      <td>0</td>\n",
       "      <td>453 min</td>\n",
       "      <td>Reality-TV</td>\n",
       "      <td>...</td>\n",
       "      <td>02 Dec 2001</td>\n",
       "      <td>The second season of Matt Damon and Ben Afflec...</td>\n",
       "      <td>2001–2015</td>\n",
       "      <td>series</td>\n",
       "      <td>672</td>\n",
       "      <td>NaN</td>\n",
       "      <td>[two word title, filmmaking, non fiction]</td>\n",
       "      <td>2001</td>\n",
       "      <td>0</td>\n",
       "      <td>453.0</td>\n",
       "    </tr>\n",
       "    <tr>\n",
       "      <th>2278</th>\n",
       "      <td>{u'imdbID': u'tt0108734', u'Title': u'The Crit...</td>\n",
       "      <td>January 24 - The Critic</td>\n",
       "      <td>1</td>\n",
       "      <td>The Critic</td>\n",
       "      <td>tt0108734</td>\n",
       "      <td>{u'totalSeasons': u'2', u'Plot': u'Jay Sherman...</td>\n",
       "      <td>2</td>\n",
       "      <td>0</td>\n",
       "      <td>522 min</td>\n",
       "      <td>Animation, Comedy, Drama</td>\n",
       "      <td>...</td>\n",
       "      <td>26 Jan 1994</td>\n",
       "      <td>Jay Sherman is a TV movie critic who is forced...</td>\n",
       "      <td>1994–1995</td>\n",
       "      <td>series</td>\n",
       "      <td>5,475</td>\n",
       "      <td>NaN</td>\n",
       "      <td>[critic, jay sherman, parody, two word title, ...</td>\n",
       "      <td>1994</td>\n",
       "      <td>0</td>\n",
       "      <td>522.0</td>\n",
       "    </tr>\n",
       "    <tr>\n",
       "      <th>2334</th>\n",
       "      <td>{u'imdbID': u'tt0770652', u'Title': u'The Stat...</td>\n",
       "      <td>- The State</td>\n",
       "      <td>1</td>\n",
       "      <td>The State</td>\n",
       "      <td>tt0770652</td>\n",
       "      <td>{u'totalSeasons': u'N/A', u'Plot': u'Ambassado...</td>\n",
       "      <td>0</td>\n",
       "      <td>0</td>\n",
       "      <td>360 min</td>\n",
       "      <td>Drama, Thriller, War</td>\n",
       "      <td>...</td>\n",
       "      <td>02 Nov 2006</td>\n",
       "      <td>Ambassador to Washington is the pinnacle of su...</td>\n",
       "      <td>2006</td>\n",
       "      <td>series</td>\n",
       "      <td>1,958</td>\n",
       "      <td>NaN</td>\n",
       "      <td>[ambassador, terrorist, terrorism, suicide bom...</td>\n",
       "      <td>2006</td>\n",
       "      <td>0</td>\n",
       "      <td>360.0</td>\n",
       "    </tr>\n",
       "    <tr>\n",
       "      <th>2389</th>\n",
       "      <td>{u'imdbID': u'tt0109537', u'Title': u'Family A...</td>\n",
       "      <td>September 24 - Family Album</td>\n",
       "      <td>1</td>\n",
       "      <td>Family Album</td>\n",
       "      <td>tt0109537</td>\n",
       "      <td>{u'totalSeasons': u'N/A', u'Plot': u'Based on ...</td>\n",
       "      <td>0</td>\n",
       "      <td>0</td>\n",
       "      <td>200 min</td>\n",
       "      <td>Drama, Romance</td>\n",
       "      <td>...</td>\n",
       "      <td>NaN</td>\n",
       "      <td>Based on Danielle Steel's novel of a celebrate...</td>\n",
       "      <td>1994–</td>\n",
       "      <td>series</td>\n",
       "      <td>366</td>\n",
       "      <td>NaN</td>\n",
       "      <td>[love test, gay son, daughters, playing footsi...</td>\n",
       "      <td>1994</td>\n",
       "      <td>0</td>\n",
       "      <td>200.0</td>\n",
       "    </tr>\n",
       "    <tr>\n",
       "      <th>2418</th>\n",
       "      <td>{u'imdbID': u'tt0435566', u'Title': u'Def Come...</td>\n",
       "      <td>July 1 - Def Comedy Jam</td>\n",
       "      <td>1</td>\n",
       "      <td>Def Comedy Jam</td>\n",
       "      <td>tt0435566</td>\n",
       "      <td>{u'totalSeasons': u'8', u'Plot': u'N/A', u'Rat...</td>\n",
       "      <td>8</td>\n",
       "      <td>0</td>\n",
       "      <td>300 min</td>\n",
       "      <td>Comedy</td>\n",
       "      <td>...</td>\n",
       "      <td>01 Jul 1992</td>\n",
       "      <td>NaN</td>\n",
       "      <td>1992–</td>\n",
       "      <td>series</td>\n",
       "      <td>252</td>\n",
       "      <td>NaN</td>\n",
       "      <td>[stereotype, stand up, stand up comedian, live...</td>\n",
       "      <td>1992</td>\n",
       "      <td>0</td>\n",
       "      <td>300.0</td>\n",
       "    </tr>\n",
       "    <tr>\n",
       "      <th>2426</th>\n",
       "      <td>{u'imdbID': u'tt0319210', u'Title': u'Commandi...</td>\n",
       "      <td>August 27 - The Heights</td>\n",
       "      <td>1</td>\n",
       "      <td>The Heights</td>\n",
       "      <td>tt0319210</td>\n",
       "      <td>{u'totalSeasons': u'N/A', u'Plot': u'The peopl...</td>\n",
       "      <td>0</td>\n",
       "      <td>0</td>\n",
       "      <td>360 min</td>\n",
       "      <td>Documentary, History</td>\n",
       "      <td>...</td>\n",
       "      <td>NaN</td>\n",
       "      <td>The people, ideas, and events that created our...</td>\n",
       "      <td>2002</td>\n",
       "      <td>series</td>\n",
       "      <td>433</td>\n",
       "      <td>NaN</td>\n",
       "      <td>[economy, stock market, great depression, worl...</td>\n",
       "      <td>2002</td>\n",
       "      <td>0</td>\n",
       "      <td>360.0</td>\n",
       "    </tr>\n",
       "    <tr>\n",
       "      <th>2454</th>\n",
       "      <td>{u'imdbID': u'tt0103360', u'Title': u'The Ben ...</td>\n",
       "      <td>September 27 - The Ben Stiller Show</td>\n",
       "      <td>1</td>\n",
       "      <td>The Ben Stiller Show</td>\n",
       "      <td>tt0103360</td>\n",
       "      <td>{u'totalSeasons': u'1', u'Plot': u'This comedy...</td>\n",
       "      <td>1</td>\n",
       "      <td>1</td>\n",
       "      <td>306 min</td>\n",
       "      <td>Comedy</td>\n",
       "      <td>...</td>\n",
       "      <td>27 Sep 1992</td>\n",
       "      <td>This comedy/variety show specialized in parodi...</td>\n",
       "      <td>1992–1993</td>\n",
       "      <td>series</td>\n",
       "      <td>1,150</td>\n",
       "      <td>NaN</td>\n",
       "      <td>[guest, commercial, actor, parody, name in tit...</td>\n",
       "      <td>1992</td>\n",
       "      <td>0</td>\n",
       "      <td>306.0</td>\n",
       "    </tr>\n",
       "  </tbody>\n",
       "</table>\n",
       "<p>20 rows × 22 columns</p>\n",
       "</div>"
      ],
      "text/plain": [
       "                                                   json  \\\n",
       "332   {u'imdbID': u'tt0266171', u'Title': u'Outlaw S...   \n",
       "490   {u'imdbID': u'tt1379652', u'Title': u'The Grea...   \n",
       "535   {u'imdbID': u'tt0185906', u'Title': u'Band of ...   \n",
       "558   {u'imdbID': u'tt1568937', u'Title': u'Ancients...   \n",
       "931   {u'imdbID': u'tt0830361', u'Title': u'The Lost...   \n",
       "1245  {u'imdbID': u'tt0461110', u'Title': u'TransGen...   \n",
       "1287  {u'imdbID': u'tt5275892', u'Title': u'O.J.: Ma...   \n",
       "1306  {u'imdbID': u'tt0324864', u'Title': u'Kingdom ...   \n",
       "1479  {u'imdbID': u'tt0329476', u'Title': u'Out of O...   \n",
       "1522  {u'imdbID': u'tt2431022', u'Title': u'Mankind ...   \n",
       "1690  {u'imdbID': u'tt0219446', u'Title': u'The Oblo...   \n",
       "1773  {u'imdbID': u'tt0299368', u'Title': u'Project ...   \n",
       "1795  {u'imdbID': u'tt0264263', u'Title': u'Jackass'...   \n",
       "1821  {u'imdbID': u'tt0299368', u'Title': u'Project ...   \n",
       "2278  {u'imdbID': u'tt0108734', u'Title': u'The Crit...   \n",
       "2334  {u'imdbID': u'tt0770652', u'Title': u'The Stat...   \n",
       "2389  {u'imdbID': u'tt0109537', u'Title': u'Family A...   \n",
       "2418  {u'imdbID': u'tt0435566', u'Title': u'Def Come...   \n",
       "2426  {u'imdbID': u'tt0319210', u'Title': u'Commandi...   \n",
       "2454  {u'imdbID': u'tt0103360', u'Title': u'The Ben ...   \n",
       "\n",
       "                               title_rough  check                    title  \\\n",
       "332                  September 15 - Outlaw      1                   Outlaw   \n",
       "490              July 6 - The Great Debate      1         The Great Debate   \n",
       "535                September 25 - Brothers      1                 Brothers   \n",
       "558   November 6 - Ancients Behaving Badly      1  Ancients Behaving Badly   \n",
       "931            December 11 - The Lost Room      1            The Lost Room   \n",
       "1245        September 20 - TransGeneration      1          TransGeneration   \n",
       "1287           January 6 - Made in America      1          Made in America   \n",
       "1306            March 3 - Kingdom Hospital      1         Kingdom Hospital   \n",
       "1479                 June 1 - Out of Order      1             Out of Order   \n",
       "1522              September 16 - All of Us      1                All of Us   \n",
       "1690                 April 1 - The Oblongs      1              The Oblongs   \n",
       "1773       December 2 - Project Greenlight      1       Project Greenlight   \n",
       "1795                    April 12 - Jackass      1                  Jackass   \n",
       "1821        September - Project Greenlight      1       Project Greenlight   \n",
       "2278               January 24 - The Critic      1               The Critic   \n",
       "2334                           - The State      1                The State   \n",
       "2389           September 24 - Family Album      1             Family Album   \n",
       "2418               July 1 - Def Comedy Jam      1           Def Comedy Jam   \n",
       "2426               August 27 - The Heights      1              The Heights   \n",
       "2454   September 27 - The Ben Stiller Show      1     The Ben Stiller Show   \n",
       "\n",
       "        imdb_id                                           big_json  seasons  \\\n",
       "332   tt0266171  {u'totalSeasons': u'1', u'Plot': u'The adventu...        1   \n",
       "490   tt1379652  {u'totalSeasons': u'1', u'Plot': u'N/A', u'Rat...        1   \n",
       "535   tt0185906  {u'totalSeasons': u'1', u'Plot': u'This is the...        1   \n",
       "558   tt1568937  {u'totalSeasons': u'1', u'Plot': u'This docume...        1   \n",
       "931   tt0830361  {u'totalSeasons': u'1', u'Plot': u'Detective J...        1   \n",
       "1245  tt0461110  {u'totalSeasons': u'1', u'Plot': u'A look at t...        1   \n",
       "1287  tt5275892  {u'totalSeasons': u'1', u'Plot': u'It is the d...        1   \n",
       "1306  tt0324864  {u'totalSeasons': u'1', u'Plot': u'Shocking an...        1   \n",
       "1479  tt0329476  {u'totalSeasons': u'N/A', u'Plot': u'Mark Colm...        0   \n",
       "1522  tt2431022  {u'totalSeasons': u'1', u'Plot': u'Follow-up t...        1   \n",
       "1690  tt0219446  {u'totalSeasons': u'1', u'Plot': u'The misadve...        1   \n",
       "1773  tt0299368  {u'totalSeasons': u'4', u'Plot': u'The second ...        4   \n",
       "1795  tt0264263  {u'totalSeasons': u'3', u'Plot': u'A reality s...        3   \n",
       "1821  tt0299368  {u'totalSeasons': u'4', u'Plot': u'The second ...        4   \n",
       "2278  tt0108734  {u'totalSeasons': u'2', u'Plot': u'Jay Sherman...        2   \n",
       "2334  tt0770652  {u'totalSeasons': u'N/A', u'Plot': u'Ambassado...        0   \n",
       "2389  tt0109537  {u'totalSeasons': u'N/A', u'Plot': u'Based on ...        0   \n",
       "2418  tt0435566  {u'totalSeasons': u'8', u'Plot': u'N/A', u'Rat...        8   \n",
       "2426  tt0319210  {u'totalSeasons': u'N/A', u'Plot': u'The peopl...        0   \n",
       "2454  tt0103360  {u'totalSeasons': u'1', u'Plot': u'This comedy...        1   \n",
       "\n",
       "      cancelled  runtime                           genres      ...        \\\n",
       "332           1  650 min         Animation, Comedy, Drama      ...         \n",
       "490           1  300 min                       Reality-TV      ...         \n",
       "535           1  594 min           Action, Drama, History      ...         \n",
       "558           1  376 min  Documentary, Biography, History      ...         \n",
       "931           1  270 min         Action, Fantasy, Mystery      ...         \n",
       "1245          1  272 min                      Documentary      ...         \n",
       "1287          1  467 min    Documentary, Biography, Crime      ...         \n",
       "1306          1  608 min           Drama, Fantasy, Horror      ...         \n",
       "1479          0  200 min                   Drama, Romance      ...         \n",
       "1522          1  720 min             Documentary, History      ...         \n",
       "1690          1  284 min        Animation, Comedy, Sci-Fi      ...         \n",
       "1773          0  453 min                       Reality-TV      ...         \n",
       "1795          0  535 min       Action, Comedy, Reality-TV      ...         \n",
       "1821          0  453 min                       Reality-TV      ...         \n",
       "2278          0  522 min         Animation, Comedy, Drama      ...         \n",
       "2334          0  360 min             Drama, Thriller, War      ...         \n",
       "2389          0  200 min                   Drama, Romance      ...         \n",
       "2418          0  300 min                           Comedy      ...         \n",
       "2426          0  360 min             Documentary, History      ...         \n",
       "2454          1  306 min                           Comedy      ...         \n",
       "\n",
       "     release_date                                               plot  \\\n",
       "332   15 Jan 2001  The adventures of an outlaw crew of an advance...   \n",
       "490   06 Jul 2009                                                NaN   \n",
       "535   09 Sep 2001  This is the story of \"E\" Easy Company, 506th R...   \n",
       "558   06 Nov 2009  This documentary explores some of the psycholo...   \n",
       "931   11 Dec 2006  Detective Joe Miller comes into possession of ...   \n",
       "1245  20 Sep 2005  A look at the lives of four college students u...   \n",
       "1287  11 Jun 2016  It is the defining cultural tale of modern Ame...   \n",
       "1306  03 Mar 2004  Shocking and frightening tale of a haunted hos...   \n",
       "1479  01 Jun 2003  Mark Colm is a family man torn between his lov...   \n",
       "1522  13 Nov 2012  Follow-up to America: The Story of the US (201...   \n",
       "1690  01 Apr 2001  The misadventures of a goofy family deformed b...   \n",
       "1773  02 Dec 2001  The second season of Matt Damon and Ben Afflec...   \n",
       "1795  12 Apr 2000  A reality show about a group of stunt men & ex...   \n",
       "1821  02 Dec 2001  The second season of Matt Damon and Ben Afflec...   \n",
       "2278  26 Jan 1994  Jay Sherman is a TV movie critic who is forced...   \n",
       "2334  02 Nov 2006  Ambassador to Washington is the pinnacle of su...   \n",
       "2389          NaN  Based on Danielle Steel's novel of a celebrate...   \n",
       "2418  01 Jul 1992                                                NaN   \n",
       "2426          NaN  The people, ideas, and events that created our...   \n",
       "2454  27 Sep 1992  This comedy/variety show specialized in parodi...   \n",
       "\n",
       "           year    type    votes metascore  \\\n",
       "332       1998–  series    2,792       NaN   \n",
       "490       2009–  series       24       NaN   \n",
       "535        2001  series  239,408       NaN   \n",
       "558       2009–  series      123       NaN   \n",
       "931        2006  series   24,005       NaN   \n",
       "1245       2005  series      308       NaN   \n",
       "1287       2016  series    3,076       NaN   \n",
       "1306      2004–  series    6,147       NaN   \n",
       "1479       2003  series      616       NaN   \n",
       "1522       2012  series    1,135       NaN   \n",
       "1690  2001–2002  series    6,746       NaN   \n",
       "1773  2001–2015  series      672       NaN   \n",
       "1795  2000–2002  series   17,774       NaN   \n",
       "1821  2001–2015  series      672       NaN   \n",
       "2278  1994–1995  series    5,475       NaN   \n",
       "2334       2006  series    1,958       NaN   \n",
       "2389      1994–  series      366       NaN   \n",
       "2418      1992–  series      252       NaN   \n",
       "2426       2002  series      433       NaN   \n",
       "2454  1992–1993  series    1,150       NaN   \n",
       "\n",
       "                                               keywords  first_year is_new  \\\n",
       "332   [spaceship, anime, outlaw, space, based on man...        1998      0   \n",
       "490                                                  []        2009      0   \n",
       "535   [airborne troops, american abroad, u.s. soldie...        2001      0   \n",
       "558                                                  []        2009      0   \n",
       "931      [cursed object, teleportation, tv mini series]        2006      0   \n",
       "1245  [gender transition, gender, college student, c...        2005      0   \n",
       "1287  [celebrity, racism, investigation, justice sys...        2016      1   \n",
       "1306  [hospital, maine, talking animal, ambulance, g...        2004      0   \n",
       "1479  [female nudity, group sex, braless, unfaithful...        2003      0   \n",
       "1522                                   [tv mini series]        2012      0   \n",
       "1690  [surrealism, poor family, overweight child, co...        2001      0   \n",
       "1773          [two word title, filmmaking, non fiction]        2001      0   \n",
       "1795  [bear, candid camera, prank, profanity in titl...        2000      0   \n",
       "1821          [two word title, filmmaking, non fiction]        2001      0   \n",
       "2278  [critic, jay sherman, parody, two word title, ...        1994      0   \n",
       "2334  [ambassador, terrorist, terrorism, suicide bom...        2006      0   \n",
       "2389  [love test, gay son, daughters, playing footsi...        1994      0   \n",
       "2418  [stereotype, stand up, stand up comedian, live...        1992      0   \n",
       "2426  [economy, stock market, great depression, worl...        2002      0   \n",
       "2454  [guest, commercial, actor, parody, name in tit...        1992      0   \n",
       "\n",
       "      fixed_runtime  \n",
       "332           650.0  \n",
       "490           300.0  \n",
       "535           594.0  \n",
       "558           376.0  \n",
       "931           270.0  \n",
       "1245          272.0  \n",
       "1287          467.0  \n",
       "1306          608.0  \n",
       "1479          200.0  \n",
       "1522          720.0  \n",
       "1690          284.0  \n",
       "1773          453.0  \n",
       "1795          535.0  \n",
       "1821          453.0  \n",
       "2278          522.0  \n",
       "2334          360.0  \n",
       "2389          200.0  \n",
       "2418          300.0  \n",
       "2426          360.0  \n",
       "2454          306.0  \n",
       "\n",
       "[20 rows x 22 columns]"
      ]
     },
     "execution_count": 24,
     "metadata": {},
     "output_type": "execute_result"
    }
   ],
   "source": [
    "## there are only about 20 shows with goofy runtimes. could probably drop them. \n",
    "## Maybe divide runtime by number of episodes (if I can get that)\n",
    "shows[shows['fixed_runtime'] >= 200]"
   ]
  },
  {
   "cell_type": "code",
   "execution_count": 25,
   "metadata": {
    "collapsed": true
   },
   "outputs": [],
   "source": [
    "real_runtimes = shows[shows['fixed_runtime'] <= 100]"
   ]
  },
  {
   "cell_type": "code",
   "execution_count": 26,
   "metadata": {
    "collapsed": false
   },
   "outputs": [
    {
     "data": {
      "text/plain": [
       "<matplotlib.text.Text at 0x11b258c50>"
      ]
     },
     "execution_count": 26,
     "metadata": {},
     "output_type": "execute_result"
    },
    {
     "data": {
      "image/png": "[encoded data removed]",
      "text/plain": [
       "<matplotlib.figure.Figure at 0x118b541d0>"
      ]
     },
     "metadata": {},
     "output_type": "display_data"
    }
   ],
   "source": [
    "## histogram of runtimes that are less than 100\n",
    "plt.hist(real_runtimes['fixed_runtime'].dropna())\n",
    "plt.title('Distribution of Runtime')\n",
    "plt.ylabel('Frequency')\n",
    "plt.xlabel('Runtime')"
   ]
  },
  {
   "cell_type": "markdown",
   "metadata": {},
   "source": [
    "## Keywords"
   ]
  },
  {
   "cell_type": "code",
   "execution_count": 27,
   "metadata": {
    "collapsed": true
   },
   "outputs": [],
   "source": [
    "## using count vectorizer to find the 50 most common keywords"
   ]
  },
  {
   "cell_type": "code",
   "execution_count": 28,
   "metadata": {
    "collapsed": true
   },
   "outputs": [],
   "source": [
    "cv = CountVectorizer(stop_words='english', max_features=50, binary=True)"
   ]
  },
  {
   "cell_type": "code",
   "execution_count": 29,
   "metadata": {
    "collapsed": false
   },
   "outputs": [],
   "source": [
    "vectorized = cv.fit_transform(shows['keywords']).todense()\n",
    "vectorized = pd.DataFrame(vectorized, columns=cv.get_feature_names())"
   ]
  },
  {
   "cell_type": "code",
   "execution_count": 30,
   "metadata": {
    "collapsed": false,
    "scrolled": false
   },
   "outputs": [
    {
     "data": {
      "text/plain": [
       "Index([u'2000s', u'actor', u'american', u'based', u'black', u'boy', u'brother',\n",
       "       u'california', u'character', u'child', u'city', u'comedy', u'cult',\n",
       "       u'daughter', u'death', u'family', u'father', u'female', u'fiction',\n",
       "       u'friend', u'friendship', u'girl', u'high', u'humor', u'husband',\n",
       "       u'interracial', u'love', u'man', u'mother', u'murder', u'new', u'non',\n",
       "       u'police', u'power', u'protagonist', u'relationship', u'relationships',\n",
       "       u'school', u'series', u'sex', u'sister', u'sitcom', u'son',\n",
       "       u'surrealism', u'teenage', u'teenager', u'title', u'tv', u'wife',\n",
       "       u'word'],\n",
       "      dtype='object')"
      ]
     },
     "execution_count": 30,
     "metadata": {},
     "output_type": "execute_result"
    }
   ],
   "source": [
    "vectorized.columns"
   ]
  },
  {
   "cell_type": "code",
   "execution_count": 31,
   "metadata": {
    "collapsed": false
   },
   "outputs": [
    {
     "name": "stdout",
     "output_type": "stream",
     "text": [
      "2000s 121\n",
      "actor 155\n",
      "american 182\n",
      "based 257\n",
      "black 109\n",
      "boy 144\n",
      "brother 196\n",
      "california 122\n",
      "character 558\n",
      "child 115\n",
      "city 146\n",
      "comedy 201\n",
      "cult 176\n",
      "daughter 170\n",
      "death 116\n",
      "family 284\n",
      "father 250\n",
      "female 298\n",
      "fiction 256\n",
      "friend 200\n",
      "friendship 249\n",
      "girl 189\n",
      "high 130\n",
      "humor 136\n",
      "husband 155\n",
      "interracial 110\n",
      "love 109\n",
      "man 150\n",
      "mother 193\n",
      "murder 111\n",
      "new 127\n",
      "non 249\n",
      "police 136\n",
      "power 113\n",
      "protagonist 144\n",
      "relationship 534\n",
      "relationships 221\n",
      "school 181\n",
      "series 219\n",
      "sex 124\n",
      "sister 164\n",
      "sitcom 244\n",
      "son 218\n",
      "surrealism 164\n",
      "teenage 156\n",
      "teenager 137\n",
      "title 910\n",
      "tv 317\n",
      "wife 158\n",
      "word 373\n"
     ]
    }
   ],
   "source": [
    "## number of times each keyword is used\n",
    "## maybe look at the top 100\n",
    "\n",
    "for i in vectorized.columns:\n",
    "    print i, vectorized[i].sum()"
   ]
  },
  {
   "cell_type": "markdown",
   "metadata": {},
   "source": [
    "## Genres"
   ]
  },
  {
   "cell_type": "code",
   "execution_count": 32,
   "metadata": {
    "collapsed": true
   },
   "outputs": [],
   "source": [
    "## using count vectorizer to get the genres"
   ]
  },
  {
   "cell_type": "code",
   "execution_count": null,
   "metadata": {
    "collapsed": true
   },
   "outputs": [],
   "source": []
  },
  {
   "cell_type": "code",
   "execution_count": 33,
   "metadata": {
    "collapsed": false
   },
   "outputs": [],
   "source": [
    "genre_vectors = cv.fit_transform(shows['genres'].dropna()).todense()\n",
    "genre_vectors = pd.DataFrame(genre_vectors, columns=cv.get_feature_names())"
   ]
  },
  {
   "cell_type": "code",
   "execution_count": 34,
   "metadata": {
    "collapsed": false
   },
   "outputs": [
    {
     "data": {
      "text/plain": [
       "(2510, 28)"
      ]
     },
     "execution_count": 34,
     "metadata": {},
     "output_type": "execute_result"
    }
   ],
   "source": [
    "genre_vectors.shape"
   ]
  },
  {
   "cell_type": "code",
   "execution_count": 35,
   "metadata": {
    "collapsed": false,
    "scrolled": true
   },
   "outputs": [
    {
     "data": {
      "text/plain": [
       "Index([u'action', u'adventure', u'animation', u'biography', u'comedy',\n",
       "       u'crime', u'documentary', u'drama', u'family', u'fantasy', u'fi',\n",
       "       u'game', u'history', u'horror', u'music', u'musical', u'mystery',\n",
       "       u'news', u'reality', u'romance', u'sci', u'short', u'sport', u'talk',\n",
       "       u'thriller', u'tv', u'war', u'western'],\n",
       "      dtype='object')"
      ]
     },
     "execution_count": 35,
     "metadata": {},
     "output_type": "execute_result"
    }
   ],
   "source": [
    "genre_vectors.columns"
   ]
  },
  {
   "cell_type": "code",
   "execution_count": 36,
   "metadata": {
    "collapsed": false
   },
   "outputs": [
    {
     "data": {
      "text/plain": [
       "28"
      ]
     },
     "execution_count": 36,
     "metadata": {},
     "output_type": "execute_result"
    }
   ],
   "source": [
    "len(genre_vectors.columns)"
   ]
  },
  {
   "cell_type": "code",
   "execution_count": 37,
   "metadata": {
    "collapsed": false
   },
   "outputs": [
    {
     "name": "stdout",
     "output_type": "stream",
     "text": [
      "action 262\n",
      "adventure 201\n",
      "animation 390\n",
      "biography 13\n",
      "comedy 1041\n",
      "crime 210\n",
      "documentary 164\n",
      "drama 637\n",
      "family 307\n",
      "fantasy 76\n",
      "fi 109\n",
      "game 128\n",
      "history 37\n",
      "horror 44\n",
      "music 83\n",
      "musical 14\n",
      "mystery 127\n",
      "news 38\n",
      "reality 500\n",
      "romance 142\n",
      "sci 109\n",
      "short 2\n",
      "sport 67\n",
      "talk 88\n",
      "thriller 46\n",
      "tv 500\n",
      "war 8\n",
      "western 9\n"
     ]
    }
   ],
   "source": [
    "for i in genre_vectors.columns:\n",
    "    print i, genre_vectors[i].sum()"
   ]
  },
  {
   "cell_type": "code",
   "execution_count": 38,
   "metadata": {
    "collapsed": false
   },
   "outputs": [],
   "source": [
    "## sci and fi are redundant, as are reality and tv"
   ]
  },
  {
   "cell_type": "code",
   "execution_count": 39,
   "metadata": {
    "collapsed": false
   },
   "outputs": [
    {
     "data": {
      "text/plain": [
       "Index([u'json', u'title_rough', u'check', u'title', u'imdb_id', u'big_json',\n",
       "       u'seasons', u'cancelled', u'runtime', u'genres', u'parental_rating',\n",
       "       u'imdb_rating', u'release_date', u'plot', u'year', u'type', u'votes',\n",
       "       u'metascore', u'keywords', u'first_year', u'is_new', u'fixed_runtime'],\n",
       "      dtype='object')"
      ]
     },
     "execution_count": 39,
     "metadata": {},
     "output_type": "execute_result"
    }
   ],
   "source": [
    "shows.columns"
   ]
  },
  {
   "cell_type": "code",
   "execution_count": 40,
   "metadata": {
    "collapsed": false
   },
   "outputs": [
    {
     "data": {
      "text/plain": [
       "json                object\n",
       "title_rough         object\n",
       "check                int64\n",
       "title               object\n",
       "imdb_id             object\n",
       "big_json            object\n",
       "seasons              int64\n",
       "cancelled            int64\n",
       "runtime             object\n",
       "genres              object\n",
       "parental_rating     object\n",
       "imdb_rating        float64\n",
       "release_date        object\n",
       "plot                object\n",
       "year                object\n",
       "type                object\n",
       "votes               object\n",
       "metascore          float64\n",
       "keywords            object\n",
       "first_year           int64\n",
       "is_new               int64\n",
       "fixed_runtime      float64\n",
       "dtype: object"
      ]
     },
     "execution_count": 40,
     "metadata": {},
     "output_type": "execute_result"
    }
   ],
   "source": [
    "shows.dtypes"
   ]
  },
  {
   "cell_type": "code",
   "execution_count": 41,
   "metadata": {
    "collapsed": false,
    "scrolled": true
   },
   "outputs": [
    {
     "data": {
      "text/plain": [
       "<matplotlib.axes._subplots.AxesSubplot at 0x118b3f7d0>"
      ]
     },
     "execution_count": 41,
     "metadata": {},
     "output_type": "execute_result"
    },
    {
     "data": {
      "image/png": "[encoded data removed]",
      "text/plain": [
       "<matplotlib.figure.Figure at 0x118990150>"
      ]
     },
     "metadata": {},
     "output_type": "display_data"
    }
   ],
   "source": [
    "## shows the correlations among all existing features\n",
    "sns.heatmap(shows.corr())"
   ]
  },
  {
   "cell_type": "code",
   "execution_count": 42,
   "metadata": {
    "collapsed": false,
    "scrolled": true
   },
   "outputs": [
    {
     "data": {
      "text/plain": [
       "json                  0\n",
       "title_rough           0\n",
       "check                 0\n",
       "title                 0\n",
       "imdb_id               0\n",
       "big_json              0\n",
       "seasons               0\n",
       "cancelled             0\n",
       "runtime             599\n",
       "genres               80\n",
       "parental_rating    1737\n",
       "imdb_rating          70\n",
       "release_date        221\n",
       "plot                473\n",
       "year                  0\n",
       "type                  0\n",
       "votes                71\n",
       "metascore          2590\n",
       "keywords              0\n",
       "first_year            0\n",
       "is_new                0\n",
       "fixed_runtime       599\n",
       "dtype: int64"
      ]
     },
     "execution_count": 42,
     "metadata": {},
     "output_type": "execute_result"
    }
   ],
   "source": [
    "shows.isnull().sum()"
   ]
  },
  {
   "cell_type": "code",
   "execution_count": 43,
   "metadata": {
    "collapsed": true
   },
   "outputs": [],
   "source": [
    "## fill NA in 'genres'\n",
    "shows['genres'].fillna('missing', inplace=True)"
   ]
  },
  {
   "cell_type": "code",
   "execution_count": 44,
   "metadata": {
    "collapsed": false
   },
   "outputs": [],
   "source": [
    "## create dummy variables of all of the genres\n",
    "genre_names = ['action', u'adventure', u'animation', u'biography', u'comedy',\n",
    "       u'crime', u'documentary', u'drama', u'family', u'fantasy',\n",
    "       u'game', u'history', u'horror', u'music', u'musical', u'mystery',\n",
    "       u'news', u'reality', u'romance', u'sci', u'short', u'sport', u'talk',\n",
    "       u'thriller', u'war', u'western']\n",
    "\n",
    "for i in genre_names:\n",
    "    shows['is_%s' % i] = shows['genres'].apply(lambda x: 1 if i in x.lower() else 0)"
   ]
  },
  {
   "cell_type": "code",
   "execution_count": 47,
   "metadata": {
    "collapsed": false,
    "scrolled": true
   },
   "outputs": [
    {
     "data": {
      "text/plain": [
       "check                2590.0\n",
       "seasons              9864.0\n",
       "cancelled             901.0\n",
       "imdb_rating         17260.7\n",
       "metascore               0.0\n",
       "first_year        5188151.0\n",
       "is_new                 19.0\n",
       "fixed_runtime       89688.0\n",
       "is_action             262.0\n",
       "is_adventure          201.0\n",
       "is_animation          390.0\n",
       "is_biography           13.0\n",
       "is_comedy            1041.0\n",
       "is_crime              210.0\n",
       "is_documentary        164.0\n",
       "is_drama              637.0\n",
       "is_family             307.0\n",
       "is_fantasy             76.0\n",
       "is_game               128.0\n",
       "is_history             37.0\n",
       "is_horror              44.0\n",
       "is_music               97.0\n",
       "is_musical             14.0\n",
       "is_mystery            127.0\n",
       "is_news                38.0\n",
       "is_reality            500.0\n",
       "is_romance            142.0\n",
       "is_sci                109.0\n",
       "is_short                2.0\n",
       "is_sport               67.0\n",
       "is_talk                88.0\n",
       "is_thriller            46.0\n",
       "is_war                  8.0\n",
       "is_western              9.0\n",
       "dtype: float64"
      ]
     },
     "execution_count": 47,
     "metadata": {},
     "output_type": "execute_result"
    }
   ],
   "source": [
    "shows.sum()"
   ]
  },
  {
   "cell_type": "code",
   "execution_count": 50,
   "metadata": {
    "collapsed": false,
    "scrolled": true
   },
   "outputs": [
    {
     "data": {
      "text/plain": [
       "<matplotlib.axes._subplots.AxesSubplot at 0x118ae8050>"
      ]
     },
     "execution_count": 50,
     "metadata": {},
     "output_type": "execute_result"
    },
    {
     "data": {
      "image/png": "[encoded data removed]",
      "text/plain": [
       "<matplotlib.figure.Figure at 0x11c0f9550>"
      ]
     },
     "metadata": {},
     "output_type": "display_data"
    }
   ],
   "source": [
    "sns.heatmap(shows.corr())"
   ]
  },
  {
   "cell_type": "code",
   "execution_count": 51,
   "metadata": {
    "collapsed": false,
    "scrolled": true
   },
   "outputs": [
    {
     "data": {
      "text/html": [
       "<div>\n",
       "<table border=\"1\" class=\"dataframe\">\n",
       "  <thead>\n",
       "    <tr style=\"text-align: right;\">\n",
       "      <th></th>\n",
       "      <th>json</th>\n",
       "      <th>title_rough</th>\n",
       "      <th>check</th>\n",
       "      <th>title</th>\n",
       "      <th>imdb_id</th>\n",
       "      <th>big_json</th>\n",
       "      <th>seasons</th>\n",
       "      <th>cancelled</th>\n",
       "      <th>runtime</th>\n",
       "      <th>genres</th>\n",
       "      <th>...</th>\n",
       "      <th>is_news</th>\n",
       "      <th>is_reality</th>\n",
       "      <th>is_romance</th>\n",
       "      <th>is_sci</th>\n",
       "      <th>is_short</th>\n",
       "      <th>is_sport</th>\n",
       "      <th>is_talk</th>\n",
       "      <th>is_thriller</th>\n",
       "      <th>is_war</th>\n",
       "      <th>is_western</th>\n",
       "    </tr>\n",
       "  </thead>\n",
       "  <tbody>\n",
       "    <tr>\n",
       "      <th>0</th>\n",
       "      <td>{u'imdbID': u'tt3523560', u'Title': u'Little C...</td>\n",
       "      <td>January 12 - Little Charmers</td>\n",
       "      <td>1</td>\n",
       "      <td>Little Charmers</td>\n",
       "      <td>tt3523560</td>\n",
       "      <td>{u'totalSeasons': u'2', u'Plot': u'Hip and edg...</td>\n",
       "      <td>2</td>\n",
       "      <td>0</td>\n",
       "      <td>NaN</td>\n",
       "      <td>Animation</td>\n",
       "      <td>...</td>\n",
       "      <td>0</td>\n",
       "      <td>0</td>\n",
       "      <td>0</td>\n",
       "      <td>0</td>\n",
       "      <td>0</td>\n",
       "      <td>0</td>\n",
       "      <td>0</td>\n",
       "      <td>0</td>\n",
       "      <td>0</td>\n",
       "      <td>0</td>\n",
       "    </tr>\n",
       "    <tr>\n",
       "      <th>1</th>\n",
       "      <td>{u'imdbID': u'tt3596178', u'Title': u'Bella an...</td>\n",
       "      <td>January 17 - Bella and the Bulldogs</td>\n",
       "      <td>1</td>\n",
       "      <td>Bella and the Bulldogs</td>\n",
       "      <td>tt3596178</td>\n",
       "      <td>{u'totalSeasons': u'2', u'Plot': u'Follows a p...</td>\n",
       "      <td>2</td>\n",
       "      <td>0</td>\n",
       "      <td>30 min</td>\n",
       "      <td>Comedy, Family</td>\n",
       "      <td>...</td>\n",
       "      <td>0</td>\n",
       "      <td>0</td>\n",
       "      <td>0</td>\n",
       "      <td>0</td>\n",
       "      <td>0</td>\n",
       "      <td>0</td>\n",
       "      <td>0</td>\n",
       "      <td>0</td>\n",
       "      <td>0</td>\n",
       "      <td>0</td>\n",
       "    </tr>\n",
       "    <tr>\n",
       "      <th>2</th>\n",
       "      <td>{u'imdbID': u'tt3521854', u'Title': u'Power Ra...</td>\n",
       "      <td>February 7 - Power Rangers Dino Charge</td>\n",
       "      <td>1</td>\n",
       "      <td>Power Rangers Dino Charge</td>\n",
       "      <td>tt3521854</td>\n",
       "      <td>{u'totalSeasons': u'2', u'Plot': u'On prehisto...</td>\n",
       "      <td>2</td>\n",
       "      <td>0</td>\n",
       "      <td>21 min</td>\n",
       "      <td>Action, Adventure, Fantasy</td>\n",
       "      <td>...</td>\n",
       "      <td>0</td>\n",
       "      <td>0</td>\n",
       "      <td>0</td>\n",
       "      <td>0</td>\n",
       "      <td>0</td>\n",
       "      <td>0</td>\n",
       "      <td>0</td>\n",
       "      <td>0</td>\n",
       "      <td>0</td>\n",
       "      <td>0</td>\n",
       "    </tr>\n",
       "    <tr>\n",
       "      <th>3</th>\n",
       "      <td>{u'imdbID': u'tt3219170', u'Title': u'Harvey B...</td>\n",
       "      <td>March 29 - Harvey Beaks</td>\n",
       "      <td>1</td>\n",
       "      <td>Harvey Beaks</td>\n",
       "      <td>tt3219170</td>\n",
       "      <td>{u'totalSeasons': u'2', u'Plot': u'A mild-mann...</td>\n",
       "      <td>2</td>\n",
       "      <td>0</td>\n",
       "      <td>22 min</td>\n",
       "      <td>Animation, Comedy, Family</td>\n",
       "      <td>...</td>\n",
       "      <td>0</td>\n",
       "      <td>0</td>\n",
       "      <td>0</td>\n",
       "      <td>0</td>\n",
       "      <td>0</td>\n",
       "      <td>0</td>\n",
       "      <td>0</td>\n",
       "      <td>0</td>\n",
       "      <td>0</td>\n",
       "      <td>0</td>\n",
       "    </tr>\n",
       "    <tr>\n",
       "      <th>4</th>\n",
       "      <td>{u'imdbID': u'tt4502154', u'Title': u'Make It ...</td>\n",
       "      <td>April 9 - Make It Pop</td>\n",
       "      <td>1</td>\n",
       "      <td>Make It Pop</td>\n",
       "      <td>tt4502154</td>\n",
       "      <td>{u'totalSeasons': u'3', u'Plot': u'Sun Hi, Jod...</td>\n",
       "      <td>3</td>\n",
       "      <td>0</td>\n",
       "      <td>30 min</td>\n",
       "      <td>Comedy, Drama, Musical</td>\n",
       "      <td>...</td>\n",
       "      <td>0</td>\n",
       "      <td>0</td>\n",
       "      <td>0</td>\n",
       "      <td>0</td>\n",
       "      <td>0</td>\n",
       "      <td>0</td>\n",
       "      <td>0</td>\n",
       "      <td>0</td>\n",
       "      <td>0</td>\n",
       "      <td>0</td>\n",
       "    </tr>\n",
       "  </tbody>\n",
       "</table>\n",
       "<p>5 rows × 48 columns</p>\n",
       "</div>"
      ],
      "text/plain": [
       "                                                json  \\\n",
       "0  {u'imdbID': u'tt3523560', u'Title': u'Little C...   \n",
       "1  {u'imdbID': u'tt3596178', u'Title': u'Bella an...   \n",
       "2  {u'imdbID': u'tt3521854', u'Title': u'Power Ra...   \n",
       "3  {u'imdbID': u'tt3219170', u'Title': u'Harvey B...   \n",
       "4  {u'imdbID': u'tt4502154', u'Title': u'Make It ...   \n",
       "\n",
       "                              title_rough  check                      title  \\\n",
       "0            January 12 - Little Charmers      1            Little Charmers   \n",
       "1     January 17 - Bella and the Bulldogs      1     Bella and the Bulldogs   \n",
       "2  February 7 - Power Rangers Dino Charge      1  Power Rangers Dino Charge   \n",
       "3                 March 29 - Harvey Beaks      1               Harvey Beaks   \n",
       "4                   April 9 - Make It Pop      1                Make It Pop   \n",
       "\n",
       "     imdb_id                                           big_json  seasons  \\\n",
       "0  tt3523560  {u'totalSeasons': u'2', u'Plot': u'Hip and edg...        2   \n",
       "1  tt3596178  {u'totalSeasons': u'2', u'Plot': u'Follows a p...        2   \n",
       "2  tt3521854  {u'totalSeasons': u'2', u'Plot': u'On prehisto...        2   \n",
       "3  tt3219170  {u'totalSeasons': u'2', u'Plot': u'A mild-mann...        2   \n",
       "4  tt4502154  {u'totalSeasons': u'3', u'Plot': u'Sun Hi, Jod...        3   \n",
       "\n",
       "   cancelled runtime                      genres     ...     is_news  \\\n",
       "0          0     NaN                   Animation     ...           0   \n",
       "1          0  30 min              Comedy, Family     ...           0   \n",
       "2          0  21 min  Action, Adventure, Fantasy     ...           0   \n",
       "3          0  22 min   Animation, Comedy, Family     ...           0   \n",
       "4          0  30 min      Comedy, Drama, Musical     ...           0   \n",
       "\n",
       "   is_reality is_romance is_sci is_short is_sport is_talk  is_thriller is_war  \\\n",
       "0           0          0      0        0        0       0            0      0   \n",
       "1           0          0      0        0        0       0            0      0   \n",
       "2           0          0      0        0        0       0            0      0   \n",
       "3           0          0      0        0        0       0            0      0   \n",
       "4           0          0      0        0        0       0            0      0   \n",
       "\n",
       "   is_western  \n",
       "0           0  \n",
       "1           0  \n",
       "2           0  \n",
       "3           0  \n",
       "4           0  \n",
       "\n",
       "[5 rows x 48 columns]"
      ]
     },
     "execution_count": 51,
     "metadata": {},
     "output_type": "execute_result"
    }
   ],
   "source": [
    "shows.head()"
   ]
  },
  {
   "cell_type": "code",
   "execution_count": null,
   "metadata": {
    "collapsed": true
   },
   "outputs": [],
   "source": []
  },
  {
   "cell_type": "markdown",
   "metadata": {
    "collapsed": true
   },
   "source": [
    "### Parsing dates"
   ]
  },
  {
   "cell_type": "code",
   "execution_count": null,
   "metadata": {
    "collapsed": true
   },
   "outputs": [],
   "source": [
    "shows['weekday'] = "
   ]
  }
 ],
 "metadata": {
  "anaconda-cloud": {},
  "kernelspec": {
   "display_name": "Python [Root]",
   "language": "python",
   "name": "Python [Root]"
  },
  "language_info": {
   "codemirror_mode": {
    "name": "ipython",
    "version": 2
   },
   "file_extension": ".py",
   "mimetype": "text/x-python",
   "name": "python",
   "nbconvert_exporter": "python",
   "pygments_lexer": "ipython2",
   "version": "2.7.12"
  }
 },
 "nbformat": 4,
 "nbformat_minor": 0
}
