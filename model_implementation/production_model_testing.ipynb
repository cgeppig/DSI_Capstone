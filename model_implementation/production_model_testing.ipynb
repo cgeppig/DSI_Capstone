{
 "cells": [
  {
   "cell_type": "code",
   "execution_count": 4,
   "metadata": {},
   "outputs": [],
   "source": [
    "import pandas as pd\n",
    "import numpy as np\n",
    "import urllib2\n",
    "from bs4 import BeautifulSoup\n",
    "from time import sleep\n",
    "import requests\n",
    "import json"
   ]
  },
  {
   "cell_type": "markdown",
   "metadata": {},
   "source": [
    "# Misc Functions"
   ]
  },
  {
   "cell_type": "code",
   "execution_count": 60,
   "metadata": {
    "collapsed": true
   },
   "outputs": [],
   "source": [
    "def bleach(string):\n",
    "    temp = \"\"\n",
    "    string = str(string)\n",
    "    for i in string:\n",
    "        if i in [\"1\",\"2\",\"3\",\"4\",\"5\",\"6\",\"7\",\"8\",\"9\",\"0\",\".\"]:\n",
    "            temp += i\n",
    "    if len(temp) > 0:\n",
    "        return float(temp)\n",
    "\n",
    "def combine_list(list):\n",
    "    temp = \"\"\n",
    "    for i in list:\n",
    "        temp += \" \" + i\n",
    "    return temp"
   ]
  },
  {
   "cell_type": "markdown",
   "metadata": {},
   "source": [
    "# Get API info from IMDBid"
   ]
  },
  {
   "cell_type": "code",
   "execution_count": 7,
   "metadata": {
    "collapsed": true
   },
   "outputs": [],
   "source": [
    "\n",
    "## gets complete information from omdbapi using the imdb id\n",
    "\n",
    "def get_api_from_id(title_id):\n",
    "    this_url = \"http://www.omdbapi.com/?i=\" + title_id + \"&plot=full&r=json&apikey=9f5296af\"\n",
    "    req = requests.get(this_url)\n",
    "    return req.json()\n",
    "#     print req.json()\n",
    "    sleep(2)"
   ]
  },
  {
   "cell_type": "code",
   "execution_count": 104,
   "metadata": {
    "collapsed": true
   },
   "outputs": [],
   "source": [
    "def df_from_api(title_id):\n",
    "    df = pd.DataFrame(data=[title_id], columns=['imdb_id'])\n",
    "    ## check the column names here against the column names in the dataset\n",
    "    df['json'] = df['imdb_id'].apply(get_api_from_id)\n",
    "    df['name'] = df['json'].apply(lambda x: x['Title'])\n",
    "    df['genres'] = df['json'].apply(lambda x: str.lower(str(x['Genre'])))\n",
    "    df['seasons'] = df['json'].apply(lambda x: bleach(x['totalSeasons']))\n",
    "    df['runtime'] = df['json'].apply(lambda x: bleach(x['Runtime']))\n",
    "    df['released'] = df['json'].apply(lambda x: x['Released'])\n",
    "    sleep(2)\n",
    "    return df"
   ]
  },
  {
   "cell_type": "markdown",
   "metadata": {},
   "source": [
    "# Parse Genres"
   ]
  },
  {
   "cell_type": "code",
   "execution_count": null,
   "metadata": {
    "collapsed": true
   },
   "outputs": [],
   "source": [
    "\n",
    "## create dummy variables of all of the genres\n",
    "# genre_names = ['action', u'adventure', u'animation', u'biography', u'comedy',\n",
    "#        u'crime', u'documentary', u'drama', u'family', u'fantasy',\n",
    "#        u'game', u'history', u'horror', u'music', u'musical', u'mystery',\n",
    "#        u'news', u'reality', u'romance', u'sci', u'short', u'sport', u'talk',\n",
    "#        u'thriller', u'war', u'western']\n",
    "\n",
    "# for i in genre_names:\n",
    "#     shows['is_%s' % i] = shows['genres'].apply(lambda x: 1 if i in x.lower() else 0)"
   ]
  },
  {
   "cell_type": "markdown",
   "metadata": {},
   "source": [
    "# Scrape Network"
   ]
  },
  {
   "cell_type": "code",
   "execution_count": 66,
   "metadata": {
    "collapsed": true
   },
   "outputs": [],
   "source": [
    "def scrape_network(id):\n",
    "    words = \"\"\n",
    "    url = \"http://www.imdb.com/title/\" + id + \"/companycredits?ref_=ttspec_sa_5\"\n",
    "    soup = BeautifulSoup(urllib2.urlopen(url))\n",
    "    simpleLists = soup.find_all('ul', {'class': 'simpleList'})\n",
    "    try:\n",
    "        for li in simpleLists[1]('li'):\n",
    "            for a in li('a'):\n",
    "                words += (a.get_text() + '\\n')\n",
    "        return words.split(\"\\n\")[0]\n",
    "#         print words.split(\"\\n\")[0]\n",
    "    except:\n",
    "        return \"unknown\"\n",
    "    sleep(2)"
   ]
  },
  {
   "cell_type": "markdown",
   "metadata": {},
   "source": [
    "# Scrape Keywords"
   ]
  },
  {
   "cell_type": "code",
   "execution_count": 67,
   "metadata": {
    "collapsed": true
   },
   "outputs": [],
   "source": [
    "## Accesses page based on imdb id\n",
    "\n",
    "def access_keyword_page(imdbID):\n",
    "    ## imdbID needs to be added in str format\n",
    "    return 'http://www.imdb.com/title/' + imdbID + '/keywords?ref_=tt_stry_kw'"
   ]
  },
  {
   "cell_type": "code",
   "execution_count": 68,
   "metadata": {
    "collapsed": true
   },
   "outputs": [],
   "source": [
    "def scrape_keywords(imdbID):\n",
    "    soup_for_keywords = BeautifulSoup(urllib2.urlopen(access_keyword_page(imdbID)))\n",
    "    temp_keywords = []\n",
    "    for div in soup_for_keywords('div', {'id':'keywords_content'}):\n",
    "        for text in div('div', {'class':'sodatext'}):\n",
    "            for a in text('a'):\n",
    "    #             print a.get_text()\n",
    "                temp_keywords.append(a.get_text())\n",
    "    return temp_keywords\n",
    "#     print temp_keywords\n",
    "    sleep(2)"
   ]
  },
  {
   "cell_type": "code",
   "execution_count": null,
   "metadata": {
    "collapsed": true
   },
   "outputs": [],
   "source": [
    "## for making keyword dummy variables\n",
    "\n",
    "# keywords_to_use_2 = [u'adult', u'african', u'alien',\n",
    "#        u'american', u'angel', u'anim', u'base', u'best', u'black', u'book',\n",
    "#        u'boy', u'boyfriend', u'brother', u'california', u'celebr', u'charact',\n",
    "#        u'child', u'citi', u'comedi', u'comedian', u'comic', u'cult',\n",
    "#        u'daughter', u'death', u'detect', u'doctor', u'evil', u'famili',\n",
    "#        u'father', u'femal', u'fiction',u'friend', u'friendship',\n",
    "#        u'gay', u'girl', u'girlfriend', u'hero', u'humor',\n",
    "#        u'husband', u'interraci', u'interview', u'investig', u'joke',\n",
    "#        u'life', u'live', u'love', u'male', u'man', u'marriag', u'mother',\n",
    "#        u'murder', u'new',u'offic', u'parent', u'parodi',\n",
    "#        u'play', u'polic', u'power', u'protagonist', u'relationship', u'satir',\n",
    "#        u'school', u'secret',u'sex', u'share', u'sister', u'sitcom',\n",
    "#        u'social', u'son', u'spoken', u'spoof', u'stand', u'student',\n",
    "#        u'superhero', u'supernatur', u'surreal', u'teenag',\n",
    "#        u'versu', u'villain', u'violenc', u'wife', u'woman',\n",
    "#        u'york']\n",
    "\n",
    "# for i in keywords_to_use_2:\n",
    "#     shows['keyword_%s' % i] = shows['stemmed_keywords'].apply(lambda x: 1 if i in x else 0)"
   ]
  },
  {
   "cell_type": "markdown",
   "metadata": {},
   "source": [
    "# Parse Dates"
   ]
  },
  {
   "cell_type": "code",
   "execution_count": null,
   "metadata": {
    "collapsed": true
   },
   "outputs": [],
   "source": [
    "## \n",
    "def parse_dates(df):\n",
    "    # shows['release_date'] = shows['release_date'].dropna().apply(lambda x: datetime.strptime(x, '%d %b %Y'))\n",
    "    shows['release_month'] = shows['release_date'].dropna().apply(lambda x: x.strftime('%m'))\n",
    "    shows['release_month'] = shows['release_month'].dropna().apply(lambda x: str(x))\n",
    "    shows['release_month'] = shows['release_month'].dropna().apply(lambda x: int(x))\n",
    "\n",
    "\n",
    "    ## adds release day of the week as int\n",
    "    shows['release_weekday'] = shows['release_date'].dropna().apply(lambda x: x.strftime('%w'))\n",
    "    shows['release_weekday'] = shows['release_weekday'].dropna().apply(lambda x: str(x))\n",
    "    shows['release_weekday'] = shows['release_weekday'].dropna().apply(lambda x: int(x))\n",
    "\n",
    "\n",
    "    ## adds release day of the month as int\n",
    "    shows['release_monthday'] = shows['release_date'].dropna().apply(lambda x: x.strftime('%d'))\n",
    "    shows['release_monthday'] = shows['release_monthday'].dropna().apply(lambda x: str(x))\n",
    "    shows['release_monthday'] = shows['release_monthday'].dropna().apply(lambda x: int(x))\n",
    "\n",
    "    ## day of the week \n",
    "    shows['release_date'] = shows['release_date'].dropna().apply(lambda x: datetime.strptime(x, '%Y-%m-%d'))\n",
    "    shows['release_month'] = shows['release_date'].dropna().apply(lambda x: x.strftime('%m'))\n",
    "    shows['release_month'] = shows['release_month'].dropna().apply(lambda x: int(x))\n",
    "    shows['release_weekday'] = shows['release_date'].dropna().apply(lambda x: x.strftime('%w'))\n",
    "    shows['release_weekday'] = shows['release_weekday'].dropna().apply(lambda x: int(x))\n",
    "\n",
    "    shows['started_sunday'] = shows['release_weekday'].dropna().apply(lambda x: 1 if int(x)==0 else 0)\n",
    "    shows['started_monday'] = shows['release_weekday'].dropna().apply(lambda x: 1 if int(x)==1 else 0)\n",
    "    shows['started_tuesday'] = shows['release_weekday'].dropna().apply(lambda x: 1 if int(x)==2 else 0)\n",
    "    shows['started_wednesday'] = shows['release_weekday'].dropna().apply(lambda x: 1 if int(x)==3 else 0)\n",
    "    shows['started_thursday'] = shows['release_weekday'].dropna().apply(lambda x: 1 if int(x)==4 else 0)\n",
    "    shows['started_friday'] = shows['release_weekday'].dropna().apply(lambda x: 1 if int(x)==5 else 0)\n",
    "    shows['started_saturday'] = shows['release_weekday'].dropna().apply(lambda x: 1 if int(x)==6 else 0)"
   ]
  },
  {
   "cell_type": "code",
   "execution_count": null,
   "metadata": {
    "collapsed": true
   },
   "outputs": [],
   "source": []
  },
  {
   "cell_type": "markdown",
   "metadata": {},
   "source": [
    "# Putting it all together"
   ]
  },
  {
   "cell_type": "code",
   "execution_count": 107,
   "metadata": {},
   "outputs": [],
   "source": [
    "def get_tv_prediction(imdb_id):\n",
    "    df1 = df_from_api(imdb_id)\n",
    "    df1['keywords'] = df1['imdb_id'].apply(lambda x: combine_list(scrape_keywords(x)))\n",
    "    df1['network'] = df1['imdb_id'].apply(lambda x: str.lower(str(scrape_network(x))))\n",
    "    return df1"
   ]
  },
  {
   "cell_type": "code",
   "execution_count": 108,
   "metadata": {
    "scrolled": true
   },
   "outputs": [
    {
     "data": {
      "text/html": [
       "<div>\n",
       "<table border=\"1\" class=\"dataframe\">\n",
       "  <thead>\n",
       "    <tr style=\"text-align: right;\">\n",
       "      <th></th>\n",
       "      <th>imdb_id</th>\n",
       "      <th>json</th>\n",
       "      <th>name</th>\n",
       "      <th>genres</th>\n",
       "      <th>seasons</th>\n",
       "      <th>runtime</th>\n",
       "      <th>released</th>\n",
       "      <th>keywords</th>\n",
       "      <th>network</th>\n",
       "    </tr>\n",
       "  </thead>\n",
       "  <tbody>\n",
       "    <tr>\n",
       "      <th>0</th>\n",
       "      <td>tt0303461</td>\n",
       "      <td>{u'Plot': u'Captain Malcolm 'Mal' Reynolds is ...</td>\n",
       "      <td>Firefly</td>\n",
       "      <td>adventure, drama, sci-fi</td>\n",
       "      <td>1.0</td>\n",
       "      <td>44.0</td>\n",
       "      <td>20 Sep 2002</td>\n",
       "      <td>future captain space psychic spacecraft preac...</td>\n",
       "      <td>fox film corporation</td>\n",
       "    </tr>\n",
       "  </tbody>\n",
       "</table>\n",
       "</div>"
      ],
      "text/plain": [
       "     imdb_id                                               json     name  \\\n",
       "0  tt0303461  {u'Plot': u'Captain Malcolm 'Mal' Reynolds is ...  Firefly   \n",
       "\n",
       "                     genres  seasons  runtime     released  \\\n",
       "0  adventure, drama, sci-fi      1.0     44.0  20 Sep 2002   \n",
       "\n",
       "                                            keywords               network  \n",
       "0   future captain space psychic spacecraft preac...  fox film corporation  "
      ]
     },
     "execution_count": 108,
     "metadata": {},
     "output_type": "execute_result"
    }
   ],
   "source": [
    "test_df = get_tv_prediction('tt0303461')\n",
    "test_df"
   ]
  }
 ],
 "metadata": {
  "anaconda-cloud": {},
  "kernelspec": {
   "display_name": "Python [Root]",
   "language": "python",
   "name": "Python [Root]"
  },
  "language_info": {
   "codemirror_mode": {
    "name": "ipython",
    "version": 2
   },
   "file_extension": ".py",
   "mimetype": "text/x-python",
   "name": "python",
   "nbconvert_exporter": "python",
   "pygments_lexer": "ipython2",
   "version": "2.7.12"
  }
 },
 "nbformat": 4,
 "nbformat_minor": 2
}
