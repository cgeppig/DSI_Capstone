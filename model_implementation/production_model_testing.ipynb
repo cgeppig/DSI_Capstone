{
 "cells": [
  {
   "cell_type": "code",
   "execution_count": 1,
   "metadata": {
    "collapsed": true
   },
   "outputs": [],
   "source": [
    "import pandas as pd\n",
    "import numpy as np\n",
    "import urllib2\n",
    "from bs4 import BeautifulSoup\n",
    "from time import sleep\n",
    "import requests\n",
    "import json\n",
    "from datetime import datetime\n",
    "import pickle"
   ]
  },
  {
   "cell_type": "code",
   "execution_count": 69,
   "metadata": {
    "collapsed": true
   },
   "outputs": [],
   "source": [
    "pd.set_option(\"display.max_columns\", 200)"
   ]
  },
  {
   "cell_type": "markdown",
   "metadata": {},
   "source": [
    "# Misc Functions"
   ]
  },
  {
   "cell_type": "code",
   "execution_count": 8,
   "metadata": {
    "collapsed": true
   },
   "outputs": [],
   "source": [
    "def bleach(string):\n",
    "    temp = \"\"\n",
    "    string = str(string)\n",
    "    for i in string:\n",
    "        if i in [\"1\",\"2\",\"3\",\"4\",\"5\",\"6\",\"7\",\"8\",\"9\",\"0\",\".\"]:\n",
    "            temp += i\n",
    "    if len(temp) > 0:\n",
    "        return float(temp)\n",
    "\n",
    "def combine_list(list):\n",
    "    temp = \"\"\n",
    "    for i in list:\n",
    "        temp += \" \" + i\n",
    "    return temp"
   ]
  },
  {
   "cell_type": "markdown",
   "metadata": {},
   "source": [
    "# Get API info from IMDBid"
   ]
  },
  {
   "cell_type": "code",
   "execution_count": 9,
   "metadata": {
    "collapsed": true
   },
   "outputs": [],
   "source": [
    "\n",
    "## gets complete information from omdbapi using the imdb id\n",
    "\n",
    "def get_api_from_id(title_id):\n",
    "    this_url = \"http://www.omdbapi.com/?i=\" + title_id + \"&plot=full&r=json&apikey=9f5296af\"\n",
    "    req = requests.get(this_url)\n",
    "    return req.json()\n",
    "#     print req.json()\n",
    "    sleep(2)"
   ]
  },
  {
   "cell_type": "code",
   "execution_count": 10,
   "metadata": {
    "collapsed": true
   },
   "outputs": [],
   "source": [
    "def df_from_api(title_id):\n",
    "    df = pd.DataFrame(data=[title_id], columns=['imdb_id'])\n",
    "    ## check the column names here against the column names in the dataset\n",
    "    df['json'] = df['imdb_id'].apply(get_api_from_id)\n",
    "    df['name'] = df['json'].apply(lambda x: x['Title'])\n",
    "    df['genres'] = df['json'].apply(lambda x: str.lower(str(x['Genre'])))\n",
    "    df['seasons'] = df['json'].apply(lambda x: bleach(x['totalSeasons']))\n",
    "    df['runtime'] = df['json'].apply(lambda x: bleach(x['Runtime']))\n",
    "    df['release_date'] = df['json'].apply(lambda x: x['Released'])\n",
    "    sleep(2)\n",
    "    return df"
   ]
  },
  {
   "cell_type": "markdown",
   "metadata": {},
   "source": [
    "# Parse Genres"
   ]
  },
  {
   "cell_type": "code",
   "execution_count": 11,
   "metadata": {
    "collapsed": true
   },
   "outputs": [],
   "source": [
    "def parse_genres(df):\n",
    "    # create dummy variables of all of the genres\n",
    "    genre_names = ['action', u'adventure', u'animation', u'biography', u'comedy',\n",
    "           u'crime', u'documentary', u'drama', u'family', u'fantasy',\n",
    "           u'game', u'history', u'horror', u'music', u'musical', u'mystery',\n",
    "           u'news', u'reality', u'romance', u'sci', u'short', u'sport', u'talk',\n",
    "           u'thriller', u'war', u'western']\n",
    "\n",
    "    for i in genre_names:\n",
    "        df['is_%s' % i] = df['genres'].apply(lambda x: 1 if i in x.lower() else 0)"
   ]
  },
  {
   "cell_type": "markdown",
   "metadata": {},
   "source": [
    "# Scrape Network"
   ]
  },
  {
   "cell_type": "code",
   "execution_count": 12,
   "metadata": {
    "collapsed": true
   },
   "outputs": [],
   "source": [
    "def scrape_network(id):\n",
    "    words = \"\"\n",
    "    url = \"http://www.imdb.com/title/\" + id + \"/companycredits?ref_=ttspec_sa_5\"\n",
    "    soup = BeautifulSoup(urllib2.urlopen(url))\n",
    "    simpleLists = soup.find_all('ul', {'class': 'simpleList'})\n",
    "    try:\n",
    "        for li in simpleLists[1]('li'):\n",
    "            for a in li('a'):\n",
    "                words += (a.get_text() + '\\n')\n",
    "        return words.split(\"\\n\")[0]\n",
    "#         print words.split(\"\\n\")[0]\n",
    "    except:\n",
    "        return \"unknown\"\n",
    "    sleep(2)"
   ]
  },
  {
   "cell_type": "markdown",
   "metadata": {},
   "source": [
    "# Scrape Keywords"
   ]
  },
  {
   "cell_type": "code",
   "execution_count": 13,
   "metadata": {
    "collapsed": true
   },
   "outputs": [],
   "source": [
    "## Accesses page based on imdb id\n",
    "\n",
    "def access_keyword_page(imdbID):\n",
    "    ## imdbID needs to be added in str format\n",
    "    return 'http://www.imdb.com/title/' + imdbID + '/keywords?ref_=tt_stry_kw'"
   ]
  },
  {
   "cell_type": "code",
   "execution_count": 14,
   "metadata": {
    "collapsed": true
   },
   "outputs": [],
   "source": [
    "def scrape_keywords(imdbID):\n",
    "    soup_for_keywords = BeautifulSoup(urllib2.urlopen(access_keyword_page(imdbID)))\n",
    "    temp_keywords = []\n",
    "    for div in soup_for_keywords('div', {'id':'keywords_content'}):\n",
    "        for text in div('div', {'class':'sodatext'}):\n",
    "            for a in text('a'):\n",
    "    #             print a.get_text()\n",
    "                temp_keywords.append(a.get_text())\n",
    "    return temp_keywords\n",
    "#     print temp_keywords\n",
    "    sleep(2)"
   ]
  },
  {
   "cell_type": "code",
   "execution_count": 57,
   "metadata": {
    "collapsed": true
   },
   "outputs": [],
   "source": [
    "def parse_keywords(df):\n",
    "    # for making keyword dummy variables\n",
    "    keywords_to_use_2 = [u'adult', u'african', u'alien',\n",
    "           u'american', u'angel', u'anim', u'base', u'best', u'black', u'book',\n",
    "           u'boy', u'boyfriend', u'brother', u'california', u'celebr', u'charact',\n",
    "           u'child', u'citi', u'comedi', u'comedian', u'comic', u'cult',\n",
    "           u'daughter', u'death', u'detect', u'doctor', u'evil', u'famili',\n",
    "           u'father', u'femal', u'fiction',u'friend', u'friendship',\n",
    "           u'gay', u'girl', u'girlfriend', u'hero', u'humor',\n",
    "           u'husband', u'interraci', u'interview', u'investig', u'joke',\n",
    "           u'life', u'live', u'love', u'male', u'man', u'marriag', u'mother',\n",
    "           u'murder', u'new',u'offic', u'parent', u'parodi',\n",
    "           u'play', u'polic', u'power', u'protagonist', u'relationship', u'satir',\n",
    "           u'school', u'secret',u'sex', u'share', u'sister', u'sitcom',\n",
    "           u'social', u'son', u'spoken', u'spoof', u'stand', u'student',\n",
    "           u'superhero', u'supernatur', u'surreal', u'teenag',\n",
    "           u'versu', u'villain', u'violenc', u'wife', u'woman',\n",
    "           u'york']\n",
    "\n",
    "    for i in keywords_to_use_2:\n",
    "        df['keyword_%s' % i] = df['keywords'].apply(lambda x: 1 if i in x else 0)"
   ]
  },
  {
   "cell_type": "markdown",
   "metadata": {},
   "source": [
    "# Parse Dates"
   ]
  },
  {
   "cell_type": "code",
   "execution_count": 65,
   "metadata": {
    "collapsed": true
   },
   "outputs": [],
   "source": [
    "def parse_dates(df):\n",
    "    df['release_date'] = df['release_date'].apply(lambda x: datetime.strptime(x, '%d %b %Y'))\n",
    "    df['release_month'] = df['release_date'].apply(lambda x: x.strftime('%m'))\n",
    "    df['release_weekday'] = df['release_date'].apply(lambda x: x.strftime('%w'))\n",
    "    ## day of the month\n",
    "    df['release_monthday'] = df['release_date'].apply(lambda x: x.strftime('%d'))\n",
    "    ## days of the week\n",
    "    df['started_sunday'] = df['release_weekday'].apply(lambda x: 1 if int(x)==0 else 0)\n",
    "    df['started_monday'] = df['release_weekday'].apply(lambda x: 1 if int(x)==1 else 0)\n",
    "    df['started_tuesday'] = df['release_weekday'].apply(lambda x: 1 if int(x)==2 else 0)\n",
    "    df['started_wednesday'] = df['release_weekday'].apply(lambda x: 1 if int(x)==3 else 0)\n",
    "    df['started_thursday'] = df['release_weekday'].apply(lambda x: 1 if int(x)==4 else 0)\n",
    "    df['started_friday'] = df['release_weekday'].apply(lambda x: 1 if int(x)==5 else 0)\n",
    "    df['started_saturday'] = df['release_weekday'].apply(lambda x: 1 if int(x)==6 else 0)\n",
    "    ## months\n",
    "    df['started_january'] = df['release_month'].apply(lambda x: 1 if int(x)==1 else 0)\n",
    "    df['started_february'] = df['release_month'].apply(lambda x: 1 if int(x)==2 else 0)\n",
    "    df['started_march'] = df['release_month'].apply(lambda x: 1 if int(x)==3 else 0)\n",
    "    df['started_april'] = df['release_month'].apply(lambda x: 1 if int(x)==4 else 0)\n",
    "    df['started_may'] = df['release_month'].apply(lambda x: 1 if int(x)==5 else 0)\n",
    "    df['started_june'] = df['release_month'].apply(lambda x: 1 if int(x)==6 else 0)\n",
    "    df['started_july'] = df['release_month'].apply(lambda x: 1 if int(x)==7 else 0)\n",
    "    df['started_august'] = df['release_month'].apply(lambda x: 1 if int(x)==8 else 0)\n",
    "    df['started_september'] = df['release_month'].apply(lambda x: 1 if int(x)==9 else 0)\n",
    "    df['started_october'] = df['release_month'].apply(lambda x: 1 if int(x)==10 else 0)\n",
    "    df['started_november'] = df['release_month'].apply(lambda x: 1 if int(x)==11 else 0)\n",
    "    df['started_december'] = df['release_month'].apply(lambda x: 1 if int(x)==12 else 0)\n",
    "    ## year\n",
    "    df['first_year'] = df['release_date'].apply(lambda x: int(x.strftime('%Y')))"
   ]
  },
  {
   "cell_type": "markdown",
   "metadata": {},
   "source": [
    "# Parsing runtime"
   ]
  },
  {
   "cell_type": "code",
   "execution_count": 17,
   "metadata": {
    "collapsed": true
   },
   "outputs": [],
   "source": [
    "def parse_runtime(df):\n",
    "    df['half_hour'] = df['runtime'].apply(lambda x: 1 if (int(x)<= 30) and (int(x)>= 20) else 0)\n",
    "    df['full_hour'] = df['runtime'].apply(lambda x: 1 if (int(x)<= 60) and (int(x)>= 40) else 0)"
   ]
  },
  {
   "cell_type": "markdown",
   "metadata": {},
   "source": [
    "# Parse network"
   ]
  },
  {
   "cell_type": "code",
   "execution_count": 86,
   "metadata": {
    "collapsed": true
   },
   "outputs": [],
   "source": [
    "def parse_network(df):\n",
    "    networks = ['ABC', 'NBC', 'CBS', 'Fox', 'Nickelodeon', 'Cartoon', 'Comedy', 'MTV',\n",
    "               'HBO', 'Disney', 'WB']\n",
    "    for i in networks:\n",
    "        df['from_' + i] = df['network'].apply(lambda x: 1 if i in x else 0)\n",
    "    \n",
    "# 'from_ABC', u'from_NBC', u'from_CBS', u'from_Fox', u'from_Nickelodeon',\n",
    "#        u'from_Cartoon', u'from_Comedy', u'from_MTV', u'from_HBO',\n",
    "#        u'from_Disney', u'from_WB'    "
   ]
  },
  {
   "cell_type": "code",
   "execution_count": null,
   "metadata": {
    "collapsed": true
   },
   "outputs": [],
   "source": []
  },
  {
   "cell_type": "markdown",
   "metadata": {},
   "source": [
    "# Prepare DF"
   ]
  },
  {
   "cell_type": "code",
   "execution_count": null,
   "metadata": {
    "collapsed": true
   },
   "outputs": [],
   "source": [
    "## delete errant columns\n",
    "## drop: name, runtime, imdb_id, json, genres, seasons, release_date, network, keywords, \n",
    "## keep original dataframe so the script can output the show title, and retrieve other information\n",
    "    ## like number of seasons"
   ]
  },
  {
   "cell_type": "code",
   "execution_count": 91,
   "metadata": {
    "collapsed": true
   },
   "outputs": [],
   "source": [
    "def define_features(df):\n",
    "    df2 = df\n",
    "    df2.drop(['name', 'runtime', 'imdb_id', 'json', 'genres', 'seasons', 'release_date', 'network', \n",
    "              'keywords', 'release_month', 'release_weekday'], inplace=True, axis=1)\n",
    "    return df2"
   ]
  },
  {
   "cell_type": "markdown",
   "metadata": {},
   "source": [
    "# Run through the model"
   ]
  },
  {
   "cell_type": "code",
   "execution_count": null,
   "metadata": {
    "collapsed": true
   },
   "outputs": [],
   "source": [
    "# import pickled model\n",
    "# "
   ]
  },
  {
   "cell_type": "code",
   "execution_count": null,
   "metadata": {
    "collapsed": true
   },
   "outputs": [],
   "source": []
  },
  {
   "cell_type": "markdown",
   "metadata": {},
   "source": [
    "# Putting it all together"
   ]
  },
  {
   "cell_type": "code",
   "execution_count": 99,
   "metadata": {
    "collapsed": true
   },
   "outputs": [],
   "source": [
    "## make a different function that opens the pickled model and runs the df through it\n",
    "\n",
    "def get_tv_prediction(imdb_id):\n",
    "    df1 = df_from_api(imdb_id)\n",
    "    df1['keywords'] = df1['imdb_id'].apply(lambda x: combine_list(scrape_keywords(x)))\n",
    "    df1['network'] = df1['imdb_id'].apply(lambda x: (str(scrape_network(x))))\n",
    "    parse_keywords(df1)\n",
    "    parse_network(df1)\n",
    "    parse_dates(df1)\n",
    "    parse_genres(df1)\n",
    "    parse_runtime(df1)\n",
    "    df2 = define_features(df1)\n",
    "#     print df1\n",
    "#     return df1\n",
    "#     print df2\n",
    "    return df2"
   ]
  },
  {
   "cell_type": "markdown",
   "metadata": {},
   "source": []
  },
  {
   "cell_type": "code",
   "execution_count": 94,
   "metadata": {
    "collapsed": true,
    "scrolled": false
   },
   "outputs": [],
   "source": [
    "test_df = get_tv_prediction('tt0303461')\n"
   ]
  },
  {
   "cell_type": "code",
   "execution_count": 98,
   "metadata": {},
   "outputs": [
    {
     "data": {
      "text/html": [
       "<div>\n",
       "<table border=\"1\" class=\"dataframe\">\n",
       "  <thead>\n",
       "    <tr style=\"text-align: right;\">\n",
       "      <th></th>\n",
       "      <th>keyword_adult</th>\n",
       "      <th>keyword_african</th>\n",
       "      <th>keyword_alien</th>\n",
       "      <th>keyword_american</th>\n",
       "      <th>keyword_angel</th>\n",
       "      <th>keyword_anim</th>\n",
       "      <th>keyword_base</th>\n",
       "      <th>keyword_best</th>\n",
       "      <th>keyword_black</th>\n",
       "      <th>keyword_book</th>\n",
       "      <th>keyword_boy</th>\n",
       "      <th>keyword_boyfriend</th>\n",
       "      <th>keyword_brother</th>\n",
       "      <th>keyword_california</th>\n",
       "      <th>keyword_celebr</th>\n",
       "      <th>keyword_charact</th>\n",
       "      <th>keyword_child</th>\n",
       "      <th>keyword_citi</th>\n",
       "      <th>keyword_comedi</th>\n",
       "      <th>keyword_comedian</th>\n",
       "      <th>keyword_comic</th>\n",
       "      <th>keyword_cult</th>\n",
       "      <th>keyword_daughter</th>\n",
       "      <th>keyword_death</th>\n",
       "      <th>keyword_detect</th>\n",
       "      <th>keyword_doctor</th>\n",
       "      <th>keyword_evil</th>\n",
       "      <th>keyword_famili</th>\n",
       "      <th>keyword_father</th>\n",
       "      <th>keyword_femal</th>\n",
       "      <th>keyword_fiction</th>\n",
       "      <th>keyword_friend</th>\n",
       "      <th>keyword_friendship</th>\n",
       "      <th>keyword_gay</th>\n",
       "      <th>keyword_girl</th>\n",
       "      <th>keyword_girlfriend</th>\n",
       "      <th>keyword_hero</th>\n",
       "      <th>keyword_humor</th>\n",
       "      <th>keyword_husband</th>\n",
       "      <th>keyword_interraci</th>\n",
       "      <th>keyword_interview</th>\n",
       "      <th>keyword_investig</th>\n",
       "      <th>keyword_joke</th>\n",
       "      <th>keyword_life</th>\n",
       "      <th>keyword_live</th>\n",
       "      <th>keyword_love</th>\n",
       "      <th>keyword_male</th>\n",
       "      <th>keyword_man</th>\n",
       "      <th>keyword_marriag</th>\n",
       "      <th>keyword_mother</th>\n",
       "      <th>keyword_murder</th>\n",
       "      <th>keyword_new</th>\n",
       "      <th>keyword_offic</th>\n",
       "      <th>keyword_parent</th>\n",
       "      <th>keyword_parodi</th>\n",
       "      <th>keyword_play</th>\n",
       "      <th>keyword_polic</th>\n",
       "      <th>keyword_power</th>\n",
       "      <th>keyword_protagonist</th>\n",
       "      <th>keyword_relationship</th>\n",
       "      <th>keyword_satir</th>\n",
       "      <th>keyword_school</th>\n",
       "      <th>keyword_secret</th>\n",
       "      <th>keyword_sex</th>\n",
       "      <th>keyword_share</th>\n",
       "      <th>keyword_sister</th>\n",
       "      <th>keyword_sitcom</th>\n",
       "      <th>keyword_social</th>\n",
       "      <th>keyword_son</th>\n",
       "      <th>keyword_spoken</th>\n",
       "      <th>keyword_spoof</th>\n",
       "      <th>keyword_stand</th>\n",
       "      <th>keyword_student</th>\n",
       "      <th>keyword_superhero</th>\n",
       "      <th>keyword_supernatur</th>\n",
       "      <th>keyword_surreal</th>\n",
       "      <th>keyword_teenag</th>\n",
       "      <th>keyword_versu</th>\n",
       "      <th>keyword_villain</th>\n",
       "      <th>keyword_violenc</th>\n",
       "      <th>keyword_wife</th>\n",
       "      <th>keyword_woman</th>\n",
       "      <th>keyword_york</th>\n",
       "      <th>from_ABC</th>\n",
       "      <th>from_NBC</th>\n",
       "      <th>from_CBS</th>\n",
       "      <th>from_Fox</th>\n",
       "      <th>from_Nickelodeon</th>\n",
       "      <th>from_Cartoon</th>\n",
       "      <th>from_Comedy</th>\n",
       "      <th>from_MTV</th>\n",
       "      <th>from_HBO</th>\n",
       "      <th>from_Disney</th>\n",
       "      <th>from_WB</th>\n",
       "      <th>release_monthday</th>\n",
       "      <th>started_sunday</th>\n",
       "      <th>started_monday</th>\n",
       "      <th>started_tuesday</th>\n",
       "      <th>started_wednesday</th>\n",
       "      <th>started_thursday</th>\n",
       "      <th>started_friday</th>\n",
       "      <th>started_saturday</th>\n",
       "      <th>started_january</th>\n",
       "      <th>started_february</th>\n",
       "      <th>started_march</th>\n",
       "      <th>started_april</th>\n",
       "      <th>started_may</th>\n",
       "      <th>started_june</th>\n",
       "      <th>started_july</th>\n",
       "      <th>started_august</th>\n",
       "      <th>started_september</th>\n",
       "      <th>started_october</th>\n",
       "      <th>started_november</th>\n",
       "      <th>started_december</th>\n",
       "      <th>first_year</th>\n",
       "      <th>is_action</th>\n",
       "      <th>is_adventure</th>\n",
       "      <th>is_animation</th>\n",
       "      <th>is_biography</th>\n",
       "      <th>is_comedy</th>\n",
       "      <th>is_crime</th>\n",
       "      <th>is_documentary</th>\n",
       "      <th>is_drama</th>\n",
       "      <th>is_family</th>\n",
       "      <th>is_fantasy</th>\n",
       "      <th>is_game</th>\n",
       "      <th>is_history</th>\n",
       "      <th>is_horror</th>\n",
       "      <th>is_music</th>\n",
       "      <th>is_musical</th>\n",
       "      <th>is_mystery</th>\n",
       "      <th>is_news</th>\n",
       "      <th>is_reality</th>\n",
       "      <th>is_romance</th>\n",
       "      <th>is_sci</th>\n",
       "      <th>is_short</th>\n",
       "      <th>is_sport</th>\n",
       "      <th>is_talk</th>\n",
       "      <th>is_thriller</th>\n",
       "      <th>is_war</th>\n",
       "      <th>is_western</th>\n",
       "      <th>half_hour</th>\n",
       "      <th>full_hour</th>\n",
       "    </tr>\n",
       "  </thead>\n",
       "  <tbody>\n",
       "    <tr>\n",
       "      <th>0</th>\n",
       "      <td>0</td>\n",
       "      <td>0</td>\n",
       "      <td>0</td>\n",
       "      <td>0</td>\n",
       "      <td>0</td>\n",
       "      <td>0</td>\n",
       "      <td>0</td>\n",
       "      <td>0</td>\n",
       "      <td>0</td>\n",
       "      <td>0</td>\n",
       "      <td>0</td>\n",
       "      <td>0</td>\n",
       "      <td>1</td>\n",
       "      <td>0</td>\n",
       "      <td>0</td>\n",
       "      <td>0</td>\n",
       "      <td>0</td>\n",
       "      <td>0</td>\n",
       "      <td>0</td>\n",
       "      <td>0</td>\n",
       "      <td>1</td>\n",
       "      <td>1</td>\n",
       "      <td>0</td>\n",
       "      <td>0</td>\n",
       "      <td>0</td>\n",
       "      <td>1</td>\n",
       "      <td>0</td>\n",
       "      <td>0</td>\n",
       "      <td>0</td>\n",
       "      <td>1</td>\n",
       "      <td>0</td>\n",
       "      <td>1</td>\n",
       "      <td>1</td>\n",
       "      <td>0</td>\n",
       "      <td>0</td>\n",
       "      <td>0</td>\n",
       "      <td>1</td>\n",
       "      <td>1</td>\n",
       "      <td>1</td>\n",
       "      <td>1</td>\n",
       "      <td>0</td>\n",
       "      <td>0</td>\n",
       "      <td>0</td>\n",
       "      <td>0</td>\n",
       "      <td>0</td>\n",
       "      <td>1</td>\n",
       "      <td>1</td>\n",
       "      <td>1</td>\n",
       "      <td>1</td>\n",
       "      <td>0</td>\n",
       "      <td>0</td>\n",
       "      <td>0</td>\n",
       "      <td>0</td>\n",
       "      <td>0</td>\n",
       "      <td>0</td>\n",
       "      <td>0</td>\n",
       "      <td>0</td>\n",
       "      <td>1</td>\n",
       "      <td>0</td>\n",
       "      <td>1</td>\n",
       "      <td>0</td>\n",
       "      <td>0</td>\n",
       "      <td>0</td>\n",
       "      <td>0</td>\n",
       "      <td>0</td>\n",
       "      <td>1</td>\n",
       "      <td>0</td>\n",
       "      <td>0</td>\n",
       "      <td>1</td>\n",
       "      <td>0</td>\n",
       "      <td>0</td>\n",
       "      <td>0</td>\n",
       "      <td>0</td>\n",
       "      <td>0</td>\n",
       "      <td>0</td>\n",
       "      <td>0</td>\n",
       "      <td>0</td>\n",
       "      <td>0</td>\n",
       "      <td>0</td>\n",
       "      <td>0</td>\n",
       "      <td>1</td>\n",
       "      <td>1</td>\n",
       "      <td>0</td>\n",
       "      <td>0</td>\n",
       "      <td>0</td>\n",
       "      <td>0</td>\n",
       "      <td>1</td>\n",
       "      <td>0</td>\n",
       "      <td>0</td>\n",
       "      <td>0</td>\n",
       "      <td>0</td>\n",
       "      <td>0</td>\n",
       "      <td>0</td>\n",
       "      <td>0</td>\n",
       "      <td>20</td>\n",
       "      <td>0</td>\n",
       "      <td>0</td>\n",
       "      <td>0</td>\n",
       "      <td>0</td>\n",
       "      <td>0</td>\n",
       "      <td>1</td>\n",
       "      <td>0</td>\n",
       "      <td>0</td>\n",
       "      <td>0</td>\n",
       "      <td>0</td>\n",
       "      <td>0</td>\n",
       "      <td>0</td>\n",
       "      <td>0</td>\n",
       "      <td>0</td>\n",
       "      <td>0</td>\n",
       "      <td>1</td>\n",
       "      <td>0</td>\n",
       "      <td>0</td>\n",
       "      <td>0</td>\n",
       "      <td>2002</td>\n",
       "      <td>0</td>\n",
       "      <td>1</td>\n",
       "      <td>0</td>\n",
       "      <td>0</td>\n",
       "      <td>0</td>\n",
       "      <td>0</td>\n",
       "      <td>0</td>\n",
       "      <td>1</td>\n",
       "      <td>0</td>\n",
       "      <td>0</td>\n",
       "      <td>0</td>\n",
       "      <td>0</td>\n",
       "      <td>0</td>\n",
       "      <td>0</td>\n",
       "      <td>0</td>\n",
       "      <td>0</td>\n",
       "      <td>0</td>\n",
       "      <td>0</td>\n",
       "      <td>0</td>\n",
       "      <td>1</td>\n",
       "      <td>0</td>\n",
       "      <td>0</td>\n",
       "      <td>0</td>\n",
       "      <td>0</td>\n",
       "      <td>0</td>\n",
       "      <td>0</td>\n",
       "      <td>0</td>\n",
       "      <td>1</td>\n",
       "    </tr>\n",
       "  </tbody>\n",
       "</table>\n",
       "</div>"
      ],
      "text/plain": [
       "   keyword_adult  keyword_african  keyword_alien  keyword_american  \\\n",
       "0              0                0              0                 0   \n",
       "\n",
       "   keyword_angel  keyword_anim  keyword_base  keyword_best  keyword_black  \\\n",
       "0              0             0             0             0              0   \n",
       "\n",
       "   keyword_book  keyword_boy  keyword_boyfriend  keyword_brother  \\\n",
       "0             0            0                  0                1   \n",
       "\n",
       "   keyword_california  keyword_celebr  keyword_charact  keyword_child  \\\n",
       "0                   0               0                0              0   \n",
       "\n",
       "   keyword_citi  keyword_comedi  keyword_comedian  keyword_comic  \\\n",
       "0             0               0                 0              1   \n",
       "\n",
       "   keyword_cult  keyword_daughter  keyword_death  keyword_detect  \\\n",
       "0             1                 0              0               0   \n",
       "\n",
       "   keyword_doctor  keyword_evil  keyword_famili  keyword_father  \\\n",
       "0               1             0               0               0   \n",
       "\n",
       "   keyword_femal  keyword_fiction  keyword_friend  keyword_friendship  \\\n",
       "0              1                0               1                   1   \n",
       "\n",
       "   keyword_gay  keyword_girl  keyword_girlfriend  keyword_hero  keyword_humor  \\\n",
       "0            0             0                   0             1              1   \n",
       "\n",
       "   keyword_husband  keyword_interraci  keyword_interview  keyword_investig  \\\n",
       "0                1                  1                  0                 0   \n",
       "\n",
       "   keyword_joke  keyword_life  keyword_live  keyword_love  keyword_male  \\\n",
       "0             0             0             0             1             1   \n",
       "\n",
       "   keyword_man  keyword_marriag  keyword_mother  keyword_murder  keyword_new  \\\n",
       "0            1                1               0               0            0   \n",
       "\n",
       "   keyword_offic  keyword_parent  keyword_parodi  keyword_play  keyword_polic  \\\n",
       "0              0               0               0             0              0   \n",
       "\n",
       "   keyword_power  keyword_protagonist  keyword_relationship  keyword_satir  \\\n",
       "0              1                    0                     1              0   \n",
       "\n",
       "   keyword_school  keyword_secret  keyword_sex  keyword_share  keyword_sister  \\\n",
       "0               0               0            0              0               1   \n",
       "\n",
       "   keyword_sitcom  keyword_social  keyword_son  keyword_spoken  keyword_spoof  \\\n",
       "0               0               0            1               0              0   \n",
       "\n",
       "   keyword_stand  keyword_student  keyword_superhero  keyword_supernatur  \\\n",
       "0              0                0                  0                   0   \n",
       "\n",
       "   keyword_surreal  keyword_teenag  keyword_versu  keyword_villain  \\\n",
       "0                0               0              0                0   \n",
       "\n",
       "   keyword_violenc  keyword_wife  keyword_woman  keyword_york  from_ABC  \\\n",
       "0                0             1              1             0         0   \n",
       "\n",
       "   from_NBC  from_CBS  from_Fox  from_Nickelodeon  from_Cartoon  from_Comedy  \\\n",
       "0         0         0         1                 0             0            0   \n",
       "\n",
       "   from_MTV  from_HBO  from_Disney  from_WB release_monthday  started_sunday  \\\n",
       "0         0         0            0        0               20               0   \n",
       "\n",
       "   started_monday  started_tuesday  started_wednesday  started_thursday  \\\n",
       "0               0                0                  0                 0   \n",
       "\n",
       "   started_friday  started_saturday  started_january  started_february  \\\n",
       "0               1                 0                0                 0   \n",
       "\n",
       "   started_march  started_april  started_may  started_june  started_july  \\\n",
       "0              0              0            0             0             0   \n",
       "\n",
       "   started_august  started_september  started_october  started_november  \\\n",
       "0               0                  1                0                 0   \n",
       "\n",
       "   started_december  first_year  is_action  is_adventure  is_animation  \\\n",
       "0                 0        2002          0             1             0   \n",
       "\n",
       "   is_biography  is_comedy  is_crime  is_documentary  is_drama  is_family  \\\n",
       "0             0          0         0               0         1          0   \n",
       "\n",
       "   is_fantasy  is_game  is_history  is_horror  is_music  is_musical  \\\n",
       "0           0        0           0          0         0           0   \n",
       "\n",
       "   is_mystery  is_news  is_reality  is_romance  is_sci  is_short  is_sport  \\\n",
       "0           0        0           0           0       1         0         0   \n",
       "\n",
       "   is_talk  is_thriller  is_war  is_western  half_hour  full_hour  \n",
       "0        0            0       0           0          0          1  "
      ]
     },
     "execution_count": 98,
     "metadata": {},
     "output_type": "execute_result"
    }
   ],
   "source": [
    "test_df"
   ]
  },
  {
   "cell_type": "code",
   "execution_count": 95,
   "metadata": {},
   "outputs": [
    {
     "data": {
      "text/plain": [
       "(1, 143)"
      ]
     },
     "execution_count": 95,
     "metadata": {},
     "output_type": "execute_result"
    }
   ],
   "source": [
    "test_df.shape"
   ]
  },
  {
   "cell_type": "code",
   "execution_count": 96,
   "metadata": {},
   "outputs": [
    {
     "data": {
      "text/plain": [
       "Index([       u'keyword_adult',      u'keyword_african',\n",
       "              u'keyword_alien',     u'keyword_american',\n",
       "              u'keyword_angel',         u'keyword_anim',\n",
       "               u'keyword_base',         u'keyword_best',\n",
       "              u'keyword_black',         u'keyword_book',\n",
       "                u'keyword_boy',    u'keyword_boyfriend',\n",
       "            u'keyword_brother',   u'keyword_california',\n",
       "             u'keyword_celebr',      u'keyword_charact',\n",
       "              u'keyword_child',         u'keyword_citi',\n",
       "             u'keyword_comedi',     u'keyword_comedian',\n",
       "              u'keyword_comic',         u'keyword_cult',\n",
       "           u'keyword_daughter',        u'keyword_death',\n",
       "             u'keyword_detect',       u'keyword_doctor',\n",
       "               u'keyword_evil',       u'keyword_famili',\n",
       "             u'keyword_father',        u'keyword_femal',\n",
       "            u'keyword_fiction',       u'keyword_friend',\n",
       "         u'keyword_friendship',          u'keyword_gay',\n",
       "               u'keyword_girl',   u'keyword_girlfriend',\n",
       "               u'keyword_hero',        u'keyword_humor',\n",
       "            u'keyword_husband',    u'keyword_interraci',\n",
       "          u'keyword_interview',     u'keyword_investig',\n",
       "               u'keyword_joke',         u'keyword_life',\n",
       "               u'keyword_live',         u'keyword_love',\n",
       "               u'keyword_male',          u'keyword_man',\n",
       "            u'keyword_marriag',       u'keyword_mother',\n",
       "             u'keyword_murder',          u'keyword_new',\n",
       "              u'keyword_offic',       u'keyword_parent',\n",
       "             u'keyword_parodi',         u'keyword_play',\n",
       "              u'keyword_polic',        u'keyword_power',\n",
       "        u'keyword_protagonist', u'keyword_relationship',\n",
       "              u'keyword_satir',       u'keyword_school',\n",
       "             u'keyword_secret',          u'keyword_sex',\n",
       "              u'keyword_share',       u'keyword_sister',\n",
       "             u'keyword_sitcom',       u'keyword_social',\n",
       "                u'keyword_son',       u'keyword_spoken',\n",
       "              u'keyword_spoof',        u'keyword_stand',\n",
       "            u'keyword_student',    u'keyword_superhero',\n",
       "         u'keyword_supernatur',      u'keyword_surreal',\n",
       "             u'keyword_teenag',        u'keyword_versu',\n",
       "            u'keyword_villain',      u'keyword_violenc',\n",
       "               u'keyword_wife',        u'keyword_woman',\n",
       "               u'keyword_york',             u'from_ABC',\n",
       "                   u'from_NBC',             u'from_CBS',\n",
       "                   u'from_Fox',     u'from_Nickelodeon',\n",
       "               u'from_Cartoon',          u'from_Comedy',\n",
       "                   u'from_MTV',             u'from_HBO',\n",
       "                u'from_Disney',              u'from_WB',\n",
       "           u'release_monthday',       u'started_sunday',\n",
       "             u'started_monday',      u'started_tuesday',\n",
       "          u'started_wednesday',     u'started_thursday',\n",
       "             u'started_friday',     u'started_saturday',\n",
       "            u'started_january',     u'started_february',\n",
       "              u'started_march',        u'started_april',\n",
       "                u'started_may',         u'started_june',\n",
       "               u'started_july',       u'started_august',\n",
       "          u'started_september',      u'started_october',\n",
       "           u'started_november',     u'started_december',\n",
       "                 u'first_year',            u'is_action',\n",
       "               u'is_adventure',         u'is_animation',\n",
       "               u'is_biography',            u'is_comedy',\n",
       "                   u'is_crime',       u'is_documentary',\n",
       "                   u'is_drama',            u'is_family',\n",
       "                 u'is_fantasy',              u'is_game',\n",
       "                 u'is_history',            u'is_horror',\n",
       "                   u'is_music',           u'is_musical',\n",
       "                 u'is_mystery',              u'is_news',\n",
       "                 u'is_reality',           u'is_romance',\n",
       "                     u'is_sci',             u'is_short',\n",
       "                   u'is_sport',              u'is_talk',\n",
       "                u'is_thriller',               u'is_war',\n",
       "                 u'is_western',            u'half_hour',\n",
       "                  u'full_hour'],\n",
       "      dtype='object')"
      ]
     },
     "execution_count": 96,
     "metadata": {},
     "output_type": "execute_result"
    }
   ],
   "source": [
    "test_df.columns"
   ]
  },
  {
   "cell_type": "code",
   "execution_count": 97,
   "metadata": {
    "collapsed": true
   },
   "outputs": [],
   "source": [
    "test = get_tv_prediction('tt0303461')"
   ]
  },
  {
   "cell_type": "code",
   "execution_count": 37,
   "metadata": {
    "scrolled": true
   },
   "outputs": [
    {
     "data": {
      "text/html": [
       "<div>\n",
       "<table border=\"1\" class=\"dataframe\">\n",
       "  <thead>\n",
       "    <tr style=\"text-align: right;\">\n",
       "      <th></th>\n",
       "      <th>imdb_id</th>\n",
       "      <th>json</th>\n",
       "      <th>name</th>\n",
       "      <th>genres</th>\n",
       "      <th>seasons</th>\n",
       "      <th>runtime</th>\n",
       "      <th>release_date</th>\n",
       "      <th>keywords</th>\n",
       "      <th>network</th>\n",
       "      <th>from_ABC</th>\n",
       "      <th>...</th>\n",
       "      <th>is_news</th>\n",
       "      <th>is_reality</th>\n",
       "      <th>is_romance</th>\n",
       "      <th>is_sci</th>\n",
       "      <th>is_short</th>\n",
       "      <th>is_sport</th>\n",
       "      <th>is_talk</th>\n",
       "      <th>is_thriller</th>\n",
       "      <th>is_war</th>\n",
       "      <th>is_western</th>\n",
       "    </tr>\n",
       "  </thead>\n",
       "  <tbody>\n",
       "    <tr>\n",
       "      <th>0</th>\n",
       "      <td>tt0303461</td>\n",
       "      <td>{u'Plot': u'Captain Malcolm 'Mal' Reynolds is ...</td>\n",
       "      <td>Firefly</td>\n",
       "      <td>adventure, drama, sci-fi</td>\n",
       "      <td>1.0</td>\n",
       "      <td>44.0</td>\n",
       "      <td>20 Sep 2002</td>\n",
       "      <td>future captain space psychic spacecraft preac...</td>\n",
       "      <td>fox film corporation</td>\n",
       "      <td>0</td>\n",
       "      <td>...</td>\n",
       "      <td>0</td>\n",
       "      <td>0</td>\n",
       "      <td>0</td>\n",
       "      <td>1</td>\n",
       "      <td>0</td>\n",
       "      <td>0</td>\n",
       "      <td>0</td>\n",
       "      <td>0</td>\n",
       "      <td>0</td>\n",
       "      <td>0</td>\n",
       "    </tr>\n",
       "  </tbody>\n",
       "</table>\n",
       "<p>1 rows × 46 columns</p>\n",
       "</div>"
      ],
      "text/plain": [
       "     imdb_id                                               json     name  \\\n",
       "0  tt0303461  {u'Plot': u'Captain Malcolm 'Mal' Reynolds is ...  Firefly   \n",
       "\n",
       "                     genres  seasons  runtime release_date  \\\n",
       "0  adventure, drama, sci-fi      1.0     44.0  20 Sep 2002   \n",
       "\n",
       "                                            keywords               network  \\\n",
       "0   future captain space psychic spacecraft preac...  fox film corporation   \n",
       "\n",
       "   from_ABC     ...      is_news  is_reality  is_romance  is_sci  is_short  \\\n",
       "0         0     ...            0           0           0       1         0   \n",
       "\n",
       "   is_sport  is_talk  is_thriller  is_war  is_western  \n",
       "0         0        0            0       0           0  \n",
       "\n",
       "[1 rows x 46 columns]"
      ]
     },
     "execution_count": 37,
     "metadata": {},
     "output_type": "execute_result"
    }
   ],
   "source": [
    "test"
   ]
  },
  {
   "cell_type": "code",
   "execution_count": 39,
   "metadata": {
    "collapsed": true
   },
   "outputs": [],
   "source": [
    "test['date_parse'] = test['release_date'].apply(lambda x: datetime.strptime(x, '%d %b %Y'))"
   ]
  },
  {
   "cell_type": "code",
   "execution_count": 40,
   "metadata": {},
   "outputs": [
    {
     "data": {
      "text/html": [
       "<div>\n",
       "<table border=\"1\" class=\"dataframe\">\n",
       "  <thead>\n",
       "    <tr style=\"text-align: right;\">\n",
       "      <th></th>\n",
       "      <th>imdb_id</th>\n",
       "      <th>json</th>\n",
       "      <th>name</th>\n",
       "      <th>genres</th>\n",
       "      <th>seasons</th>\n",
       "      <th>runtime</th>\n",
       "      <th>release_date</th>\n",
       "      <th>keywords</th>\n",
       "      <th>network</th>\n",
       "      <th>from_ABC</th>\n",
       "      <th>...</th>\n",
       "      <th>is_reality</th>\n",
       "      <th>is_romance</th>\n",
       "      <th>is_sci</th>\n",
       "      <th>is_short</th>\n",
       "      <th>is_sport</th>\n",
       "      <th>is_talk</th>\n",
       "      <th>is_thriller</th>\n",
       "      <th>is_war</th>\n",
       "      <th>is_western</th>\n",
       "      <th>date_parse</th>\n",
       "    </tr>\n",
       "  </thead>\n",
       "  <tbody>\n",
       "    <tr>\n",
       "      <th>0</th>\n",
       "      <td>tt0303461</td>\n",
       "      <td>{u'Plot': u'Captain Malcolm 'Mal' Reynolds is ...</td>\n",
       "      <td>Firefly</td>\n",
       "      <td>adventure, drama, sci-fi</td>\n",
       "      <td>1.0</td>\n",
       "      <td>44.0</td>\n",
       "      <td>20 Sep 2002</td>\n",
       "      <td>future captain space psychic spacecraft preac...</td>\n",
       "      <td>fox film corporation</td>\n",
       "      <td>0</td>\n",
       "      <td>...</td>\n",
       "      <td>0</td>\n",
       "      <td>0</td>\n",
       "      <td>1</td>\n",
       "      <td>0</td>\n",
       "      <td>0</td>\n",
       "      <td>0</td>\n",
       "      <td>0</td>\n",
       "      <td>0</td>\n",
       "      <td>0</td>\n",
       "      <td>2002-09-20</td>\n",
       "    </tr>\n",
       "  </tbody>\n",
       "</table>\n",
       "<p>1 rows × 47 columns</p>\n",
       "</div>"
      ],
      "text/plain": [
       "     imdb_id                                               json     name  \\\n",
       "0  tt0303461  {u'Plot': u'Captain Malcolm 'Mal' Reynolds is ...  Firefly   \n",
       "\n",
       "                     genres  seasons  runtime release_date  \\\n",
       "0  adventure, drama, sci-fi      1.0     44.0  20 Sep 2002   \n",
       "\n",
       "                                            keywords               network  \\\n",
       "0   future captain space psychic spacecraft preac...  fox film corporation   \n",
       "\n",
       "   from_ABC     ...      is_reality  is_romance  is_sci  is_short  is_sport  \\\n",
       "0         0     ...               0           0       1         0         0   \n",
       "\n",
       "   is_talk  is_thriller  is_war  is_western  date_parse  \n",
       "0        0            0       0           0  2002-09-20  \n",
       "\n",
       "[1 rows x 47 columns]"
      ]
     },
     "execution_count": 40,
     "metadata": {},
     "output_type": "execute_result"
    }
   ],
   "source": [
    "test"
   ]
  },
  {
   "cell_type": "markdown",
   "metadata": {},
   "source": [
    "# Dataset"
   ]
  },
  {
   "cell_type": "code",
   "execution_count": 3,
   "metadata": {
    "collapsed": true
   },
   "outputs": [],
   "source": [
    "shows = pd.read_csv('../good_shows_data2.csv')"
   ]
  },
  {
   "cell_type": "code",
   "execution_count": 5,
   "metadata": {
    "collapsed": true
   },
   "outputs": [],
   "source": [
    "pd.set_option('max_seq_items', 200)"
   ]
  },
  {
   "cell_type": "code",
   "execution_count": 6,
   "metadata": {},
   "outputs": [
    {
     "data": {
      "text/plain": [
       "Index([u'json', u'title_rough', u'check', u'title', u'imdb_id', u'big_json',\n",
       "       u'seasons', u'cancelled', u'runtime', u'genres', u'imdb_rating',\n",
       "       u'release_date', u'plot', u'year', u'type', u'votes', u'keywords',\n",
       "       u'first_year', u'is_new', u'fixed_runtime', u'is_action',\n",
       "       u'is_adventure', u'is_animation', u'is_biography', u'is_comedy',\n",
       "       u'is_crime', u'is_documentary', u'is_drama', u'is_family',\n",
       "       u'is_fantasy', u'is_game', u'is_history', u'is_horror', u'is_music',\n",
       "       u'is_musical', u'is_mystery', u'is_news', u'is_reality', u'is_romance',\n",
       "       u'is_sci', u'is_short', u'is_sport', u'is_talk', u'is_thriller',\n",
       "       u'is_war', u'is_western', u'release_month', u'release_weekday',\n",
       "       u'release_monthday', u'stemmed_plot', u'stemmed_keywords',\n",
       "       u'keyword_adult', u'keyword_african', u'keyword_alien',\n",
       "       u'keyword_american', u'keyword_angel', u'keyword_anim', u'keyword_base',\n",
       "       u'keyword_best', u'keyword_black', u'keyword_book', u'keyword_boy',\n",
       "       u'keyword_boyfriend', u'keyword_brother', u'keyword_california',\n",
       "       u'keyword_celebr', u'keyword_charact', u'keyword_child',\n",
       "       u'keyword_citi', u'keyword_comedi', u'keyword_comedian',\n",
       "       u'keyword_comic', u'keyword_cult', u'keyword_daughter',\n",
       "       u'keyword_death', u'keyword_detect', u'keyword_doctor', u'keyword_evil',\n",
       "       u'keyword_famili', u'keyword_father', u'keyword_femal',\n",
       "       u'keyword_fiction', u'keyword_friend', u'keyword_friendship',\n",
       "       u'keyword_gay', u'keyword_girl', u'keyword_girlfriend', u'keyword_hero',\n",
       "       u'keyword_humor', u'keyword_husband', u'keyword_interraci',\n",
       "       u'keyword_interview', u'keyword_investig', u'keyword_joke',\n",
       "       u'keyword_life', u'keyword_live', u'keyword_love', u'keyword_male',\n",
       "       u'keyword_man', u'keyword_marriag', u'keyword_mother',\n",
       "       u'keyword_murder', u'keyword_new', u'keyword_offic', u'keyword_parent',\n",
       "       u'keyword_parodi', u'keyword_play', u'keyword_polic', u'keyword_power',\n",
       "       u'keyword_protagonist', u'keyword_relationship', u'keyword_satir',\n",
       "       u'keyword_school', u'keyword_secret', u'keyword_sex', u'keyword_share',\n",
       "       u'keyword_sister', u'keyword_sitcom', u'keyword_social', u'keyword_son',\n",
       "       u'keyword_spoken', u'keyword_spoof', u'keyword_stand',\n",
       "       u'keyword_student', u'keyword_superhero', u'keyword_supernatur',\n",
       "       u'keyword_surreal', u'keyword_teenag', u'keyword_versu',\n",
       "       u'keyword_villain', u'keyword_violenc', u'keyword_wife',\n",
       "       u'keyword_woman', u'keyword_york', u'plot_cleaned', u'network',\n",
       "       u'from_ABC', u'from_NBC', u'from_CBS', u'from_Fox', u'from_Nickelodeon',\n",
       "       u'from_Cartoon', u'from_Comedy', u'from_MTV', u'from_HBO',\n",
       "       u'from_Disney', u'from_WB', u'started_sunday', u'started_monday',\n",
       "       u'started_tuesday', u'started_wednesday', u'started_thursday',\n",
       "       u'started_friday', u'started_saturday', u'started_january',\n",
       "       u'started_february', u'started_march', u'started_april', u'started_may',\n",
       "       u'started_june', u'started_july', u'started_august',\n",
       "       u'started_september', u'started_october', u'started_november',\n",
       "       u'started_december', u'half_hour', u'full_hour'],\n",
       "      dtype='object')"
      ]
     },
     "execution_count": 6,
     "metadata": {},
     "output_type": "execute_result"
    }
   ],
   "source": [
    "shows.columns"
   ]
  },
  {
   "cell_type": "code",
   "execution_count": null,
   "metadata": {
    "collapsed": true
   },
   "outputs": [],
   "source": []
  }
 ],
 "metadata": {
  "anaconda-cloud": {},
  "kernelspec": {
   "display_name": "Python [Root]",
   "language": "python",
   "name": "Python [Root]"
  },
  "language_info": {
   "codemirror_mode": {
    "name": "ipython",
    "version": 2
   },
   "file_extension": ".py",
   "mimetype": "text/x-python",
   "name": "python",
   "nbconvert_exporter": "python",
   "pygments_lexer": "ipython2",
   "version": "2.7.12"
  }
 },
 "nbformat": 4,
 "nbformat_minor": 2
}
