{
 "cells": [
  {
   "cell_type": "code",
   "execution_count": 1,
   "metadata": {
    "collapsed": true
   },
   "outputs": [],
   "source": [
    "import pandas as pd\n",
    "import numpy as np\n",
    "import urllib2\n",
    "from bs4 import BeautifulSoup\n",
    "from imdbpie import Imdb\n",
    "from time import sleep\n",
    "import time\n",
    "import requests\n",
    "import string\n",
    "import csv\n",
    "import json"
   ]
  },
  {
   "cell_type": "code",
   "execution_count": null,
   "metadata": {},
   "outputs": [],
   "source": [
    "# scrapes shows between 2000 and 201\n",
    "\n",
    "all_shows = []\n",
    "for page in range(1,111):\n",
    "    url2000 = urllib2.urlopen('http://www.imdb.com/search/title?count=250&countries=us&languages=en&production_status=released&release_date=2000,2015&title_type=tv_series&view=simple&sort=release_date,desc&page=' + str(page) + '&ref_=adv_nxt')\n",
    "    soup2000 = BeautifulSoup(url2000)\n",
    "    sleep(5)\n",
    "    for table in soup2000('div', {'class': 'lister-list'}):\n",
    "        for span in table('span', {'class': 'lister-item-header'}):\n",
    "            for title in span('a'):\n",
    "                imdbid = str(title).split('/')[2]\n",
    "                name = str(title).split('>')[1].split('<')[0]\n",
    "                all_shows.append([imdbid,name])\n",
    "                "
   ]
  },
  {
   "cell_type": "code",
   "execution_count": null,
   "metadata": {
    "collapsed": true
   },
   "outputs": [],
   "source": [
    "showsdf = df.DataFrame(all_shows, columns=['imdbid', 'title'])"
   ]
  },
  {
   "cell_type": "code",
   "execution_count": 36,
   "metadata": {},
   "outputs": [],
   "source": [
    "shows2015 = []\n",
    "\n",
    "for table in soup2000('div', {'class': 'lister-list'}):\n",
    "#     print table.prettify()\n",
    "    counter += 1\n",
    "    for span in table('span', {'class': 'lister-item-header'}):\n",
    "#         print span.prettify()\n",
    "        for title in span('a'):\n",
    "#             print title.prettify()\n",
    "            imdbid = str(title).split('/')[2]\n",
    "            name = str(title).split('>')[1].split('<')[0]\n",
    "            shows2015.append([imdbid, name])\n",
    "#             print name\n"
   ]
  },
  {
   "cell_type": "code",
   "execution_count": 37,
   "metadata": {},
   "outputs": [
    {
     "data": {
      "text/plain": [
       "50"
      ]
     },
     "execution_count": 37,
     "metadata": {},
     "output_type": "execute_result"
    }
   ],
   "source": [
    "len(shows2015)"
   ]
  },
  {
   "cell_type": "code",
   "execution_count": 39,
   "metadata": {
    "collapsed": true
   },
   "outputs": [],
   "source": [
    "pd.DataFrame?"
   ]
  },
  {
   "cell_type": "code",
   "execution_count": 41,
   "metadata": {},
   "outputs": [],
   "source": [
    "new_shows = pd.DataFrame(shows2015, columns=['id', 'title'])"
   ]
  },
  {
   "cell_type": "code",
   "execution_count": 42,
   "metadata": {},
   "outputs": [
    {
     "data": {
      "text/html": [
       "<div>\n",
       "<table border=\"1\" class=\"dataframe\">\n",
       "  <thead>\n",
       "    <tr style=\"text-align: right;\">\n",
       "      <th></th>\n",
       "      <th>id</th>\n",
       "      <th>title</th>\n",
       "    </tr>\n",
       "  </thead>\n",
       "  <tbody>\n",
       "    <tr>\n",
       "      <th>0</th>\n",
       "      <td>tt3524810</td>\n",
       "      <td>Point Society</td>\n",
       "    </tr>\n",
       "    <tr>\n",
       "      <th>1</th>\n",
       "      <td>tt4798620</td>\n",
       "      <td>The Pioneers</td>\n",
       "    </tr>\n",
       "    <tr>\n",
       "      <th>2</th>\n",
       "      <td>tt4908938</td>\n",
       "      <td>Star Trek: Outlaws</td>\n",
       "    </tr>\n",
       "    <tr>\n",
       "      <th>3</th>\n",
       "      <td>tt4655474</td>\n",
       "      <td>Joking Off</td>\n",
       "    </tr>\n",
       "    <tr>\n",
       "      <th>4</th>\n",
       "      <td>tt4708572</td>\n",
       "      <td>American Scandals</td>\n",
       "    </tr>\n",
       "  </tbody>\n",
       "</table>\n",
       "</div>"
      ],
      "text/plain": [
       "          id               title\n",
       "0  tt3524810       Point Society\n",
       "1  tt4798620        The Pioneers\n",
       "2  tt4908938  Star Trek: Outlaws\n",
       "3  tt4655474          Joking Off\n",
       "4  tt4708572   American Scandals"
      ]
     },
     "execution_count": 42,
     "metadata": {},
     "output_type": "execute_result"
    }
   ],
   "source": [
    "new_shows.head()"
   ]
  },
  {
   "cell_type": "code",
   "execution_count": null,
   "metadata": {
    "collapsed": true
   },
   "outputs": [],
   "source": []
  }
 ],
 "metadata": {
  "kernelspec": {
   "display_name": "Python [Root]",
   "language": "python",
   "name": "Python [Root]"
  },
  "language_info": {
   "codemirror_mode": {
    "name": "ipython",
    "version": 2
   },
   "file_extension": ".py",
   "mimetype": "text/x-python",
   "name": "python",
   "nbconvert_exporter": "python",
   "pygments_lexer": "ipython2",
   "version": "2.7.12"
  }
 },
 "nbformat": 4,
 "nbformat_minor": 2
}
