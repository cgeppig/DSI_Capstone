{
 "cells": [
  {
   "cell_type": "code",
   "execution_count": 6,
   "metadata": {
    "collapsed": true
   },
   "outputs": [],
   "source": [
    "import pandas as pd\n",
    "import numpy as np\n",
    "# import urllib2\n",
    "# from bs4 import BeautifulSoup\n",
    "# from imdbpie import Imdb\n",
    "# from time import sleep\n",
    "# import time\n",
    "# import requests\n",
    "import string\n",
    "import csv\n",
    "# import json\n",
    "from sklearn.feature_extraction.text import CountVectorizer\n",
    "from sklearn.feature_extraction.text import TfidfVectorizer\n",
    "# from nltk.corpus import stopwords\n",
    "# from nltk.stem import PorterStemmer\n",
    "import matplotlib.pyplot as plt\n",
    "%matplotlib inline\n",
    "import seaborn as sns\n",
    "from datetime import datetime\n",
    "from sklearn.cross_validation import train_test_split"
   ]
  },
  {
   "cell_type": "code",
   "execution_count": 2,
   "metadata": {
    "collapsed": true
   },
   "outputs": [],
   "source": [
    "shows = pd.read_csv('shows_good_data.csv')"
   ]
  },
  {
   "cell_type": "code",
   "execution_count": 3,
   "metadata": {
    "collapsed": false
   },
   "outputs": [
    {
     "data": {
      "text/html": [
       "<div>\n",
       "<table border=\"1\" class=\"dataframe\">\n",
       "  <thead>\n",
       "    <tr style=\"text-align: right;\">\n",
       "      <th></th>\n",
       "      <th>first_year</th>\n",
       "      <th>fixed_runtime</th>\n",
       "      <th>is_action</th>\n",
       "      <th>is_adventure</th>\n",
       "      <th>is_animation</th>\n",
       "      <th>is_biography</th>\n",
       "      <th>is_comedy</th>\n",
       "      <th>is_crime</th>\n",
       "      <th>is_documentary</th>\n",
       "      <th>is_drama</th>\n",
       "      <th>...</th>\n",
       "      <th>keyword_supernatur</th>\n",
       "      <th>keyword_surreal</th>\n",
       "      <th>keyword_teenag</th>\n",
       "      <th>keyword_versu</th>\n",
       "      <th>keyword_villain</th>\n",
       "      <th>keyword_violenc</th>\n",
       "      <th>keyword_wife</th>\n",
       "      <th>keyword_woman</th>\n",
       "      <th>keyword_york</th>\n",
       "      <th>cancelled</th>\n",
       "    </tr>\n",
       "  </thead>\n",
       "  <tbody>\n",
       "    <tr>\n",
       "      <th>0</th>\n",
       "      <td>2015</td>\n",
       "      <td>NaN</td>\n",
       "      <td>0</td>\n",
       "      <td>0</td>\n",
       "      <td>1</td>\n",
       "      <td>0</td>\n",
       "      <td>0</td>\n",
       "      <td>0</td>\n",
       "      <td>0</td>\n",
       "      <td>0</td>\n",
       "      <td>...</td>\n",
       "      <td>0</td>\n",
       "      <td>0</td>\n",
       "      <td>0</td>\n",
       "      <td>0</td>\n",
       "      <td>0</td>\n",
       "      <td>0</td>\n",
       "      <td>0</td>\n",
       "      <td>0</td>\n",
       "      <td>0</td>\n",
       "      <td>0</td>\n",
       "    </tr>\n",
       "    <tr>\n",
       "      <th>1</th>\n",
       "      <td>2015</td>\n",
       "      <td>30.0</td>\n",
       "      <td>0</td>\n",
       "      <td>0</td>\n",
       "      <td>0</td>\n",
       "      <td>0</td>\n",
       "      <td>1</td>\n",
       "      <td>0</td>\n",
       "      <td>0</td>\n",
       "      <td>0</td>\n",
       "      <td>...</td>\n",
       "      <td>0</td>\n",
       "      <td>0</td>\n",
       "      <td>1</td>\n",
       "      <td>0</td>\n",
       "      <td>0</td>\n",
       "      <td>0</td>\n",
       "      <td>0</td>\n",
       "      <td>1</td>\n",
       "      <td>0</td>\n",
       "      <td>0</td>\n",
       "    </tr>\n",
       "    <tr>\n",
       "      <th>2</th>\n",
       "      <td>2015</td>\n",
       "      <td>21.0</td>\n",
       "      <td>1</td>\n",
       "      <td>1</td>\n",
       "      <td>0</td>\n",
       "      <td>0</td>\n",
       "      <td>0</td>\n",
       "      <td>0</td>\n",
       "      <td>0</td>\n",
       "      <td>0</td>\n",
       "      <td>...</td>\n",
       "      <td>0</td>\n",
       "      <td>0</td>\n",
       "      <td>0</td>\n",
       "      <td>0</td>\n",
       "      <td>0</td>\n",
       "      <td>0</td>\n",
       "      <td>0</td>\n",
       "      <td>0</td>\n",
       "      <td>0</td>\n",
       "      <td>0</td>\n",
       "    </tr>\n",
       "    <tr>\n",
       "      <th>3</th>\n",
       "      <td>2015</td>\n",
       "      <td>22.0</td>\n",
       "      <td>0</td>\n",
       "      <td>0</td>\n",
       "      <td>1</td>\n",
       "      <td>0</td>\n",
       "      <td>1</td>\n",
       "      <td>0</td>\n",
       "      <td>0</td>\n",
       "      <td>0</td>\n",
       "      <td>...</td>\n",
       "      <td>0</td>\n",
       "      <td>0</td>\n",
       "      <td>0</td>\n",
       "      <td>0</td>\n",
       "      <td>0</td>\n",
       "      <td>0</td>\n",
       "      <td>0</td>\n",
       "      <td>0</td>\n",
       "      <td>0</td>\n",
       "      <td>0</td>\n",
       "    </tr>\n",
       "    <tr>\n",
       "      <th>4</th>\n",
       "      <td>2015</td>\n",
       "      <td>30.0</td>\n",
       "      <td>0</td>\n",
       "      <td>0</td>\n",
       "      <td>0</td>\n",
       "      <td>0</td>\n",
       "      <td>1</td>\n",
       "      <td>0</td>\n",
       "      <td>0</td>\n",
       "      <td>1</td>\n",
       "      <td>...</td>\n",
       "      <td>0</td>\n",
       "      <td>0</td>\n",
       "      <td>0</td>\n",
       "      <td>0</td>\n",
       "      <td>0</td>\n",
       "      <td>0</td>\n",
       "      <td>0</td>\n",
       "      <td>0</td>\n",
       "      <td>0</td>\n",
       "      <td>0</td>\n",
       "    </tr>\n",
       "  </tbody>\n",
       "</table>\n",
       "<p>5 rows × 116 columns</p>\n",
       "</div>"
      ],
      "text/plain": [
       "   first_year  fixed_runtime  is_action  is_adventure  is_animation  \\\n",
       "0        2015            NaN          0             0             1   \n",
       "1        2015           30.0          0             0             0   \n",
       "2        2015           21.0          1             1             0   \n",
       "3        2015           22.0          0             0             1   \n",
       "4        2015           30.0          0             0             0   \n",
       "\n",
       "   is_biography  is_comedy  is_crime  is_documentary  is_drama    ...      \\\n",
       "0             0          0         0               0         0    ...       \n",
       "1             0          1         0               0         0    ...       \n",
       "2             0          0         0               0         0    ...       \n",
       "3             0          1         0               0         0    ...       \n",
       "4             0          1         0               0         1    ...       \n",
       "\n",
       "   keyword_supernatur  keyword_surreal  keyword_teenag  keyword_versu  \\\n",
       "0                   0                0               0              0   \n",
       "1                   0                0               1              0   \n",
       "2                   0                0               0              0   \n",
       "3                   0                0               0              0   \n",
       "4                   0                0               0              0   \n",
       "\n",
       "   keyword_villain  keyword_violenc  keyword_wife  keyword_woman  \\\n",
       "0                0                0             0              0   \n",
       "1                0                0             0              1   \n",
       "2                0                0             0              0   \n",
       "3                0                0             0              0   \n",
       "4                0                0             0              0   \n",
       "\n",
       "   keyword_york  cancelled  \n",
       "0             0          0  \n",
       "1             0          0  \n",
       "2             0          0  \n",
       "3             0          0  \n",
       "4             0          0  \n",
       "\n",
       "[5 rows x 116 columns]"
      ]
     },
     "execution_count": 3,
     "metadata": {},
     "output_type": "execute_result"
    }
   ],
   "source": [
    "shows.head()"
   ]
  },
  {
   "cell_type": "code",
   "execution_count": 20,
   "metadata": {
    "collapsed": true
   },
   "outputs": [],
   "source": [
    "def remove_punctuation(text):\n",
    "    exclude = set(string.punctuation)\n",
    "    return \"\".join(ch for ch in text if ch not in exclude)"
   ]
  },
  {
   "cell_type": "code",
   "execution_count": 23,
   "metadata": {
    "collapsed": false
   },
   "outputs": [],
   "source": [
    "shows['stemmed_plot'] = shows['stemmed_plot'].dropna().apply(remove_punctuation)"
   ]
  },
  {
   "cell_type": "code",
   "execution_count": 24,
   "metadata": {
    "collapsed": false
   },
   "outputs": [],
   "source": [
    "y = shows['cancelled']\n",
    "x = shows[[u'first_year', u'fixed_runtime',\n",
    "                  u'is_action',         u'is_adventure',\n",
    "               u'is_animation',         u'is_biography',\n",
    "                  u'is_comedy',             u'is_crime',\n",
    "             u'is_documentary',             u'is_drama',\n",
    "                  u'is_family',           u'is_fantasy',\n",
    "                    u'is_game',           u'is_history',\n",
    "                  u'is_horror',             u'is_music',\n",
    "                 u'is_musical',           u'is_mystery',\n",
    "                    u'is_news',           u'is_reality',\n",
    "                 u'is_romance',               u'is_sci',\n",
    "                   u'is_short',             u'is_sport',\n",
    "                    u'is_talk',          u'is_thriller',\n",
    "                     u'is_war',           u'is_western',\n",
    "              u'release_month',      u'release_weekday',\n",
    "           u'release_monthday',         u'stemmed_plot',\n",
    "           u'stemmed_keywords',        u'keyword_adult',\n",
    "            u'keyword_african',        u'keyword_alien',\n",
    "           u'keyword_american',        u'keyword_angel',\n",
    "               u'keyword_anim',         u'keyword_base',\n",
    "               u'keyword_best',        u'keyword_black',\n",
    "               u'keyword_book',          u'keyword_boy',\n",
    "          u'keyword_boyfriend',      u'keyword_brother',\n",
    "         u'keyword_california',       u'keyword_celebr',\n",
    "            u'keyword_charact',        u'keyword_child',\n",
    "               u'keyword_citi',       u'keyword_comedi',\n",
    "           u'keyword_comedian',        u'keyword_comic',\n",
    "               u'keyword_cult',     u'keyword_daughter',\n",
    "              u'keyword_death',       u'keyword_detect',\n",
    "             u'keyword_doctor',         u'keyword_evil',\n",
    "             u'keyword_famili',       u'keyword_father',\n",
    "              u'keyword_femal',      u'keyword_fiction',\n",
    "             u'keyword_friend',   u'keyword_friendship',\n",
    "                u'keyword_gay',         u'keyword_girl',\n",
    "         u'keyword_girlfriend',         u'keyword_hero',\n",
    "              u'keyword_humor',      u'keyword_husband',\n",
    "          u'keyword_interraci',    u'keyword_interview',\n",
    "           u'keyword_investig',         u'keyword_joke',\n",
    "               u'keyword_life',         u'keyword_live',\n",
    "               u'keyword_love',         u'keyword_male',\n",
    "                u'keyword_man',      u'keyword_marriag',\n",
    "             u'keyword_mother',       u'keyword_murder',\n",
    "             u'keyword_offic',\n",
    "             u'keyword_parent',       u'keyword_parodi',\n",
    "               u'keyword_play',        u'keyword_polic',\n",
    "              u'keyword_power',  u'keyword_protagonist',\n",
    "       u'keyword_relationship',        u'keyword_satir',\n",
    "             u'keyword_school',       u'keyword_secret',\n",
    "                u'keyword_sex',        u'keyword_share',\n",
    "             u'keyword_sister',       u'keyword_sitcom',\n",
    "             u'keyword_social',          u'keyword_son',\n",
    "             u'keyword_spoken',        u'keyword_spoof',\n",
    "              u'keyword_stand',      u'keyword_student',\n",
    "          u'keyword_superhero',   u'keyword_supernatur',\n",
    "            u'keyword_surreal',       u'keyword_teenag',\n",
    "              u'keyword_versu',      u'keyword_villain',\n",
    "            u'keyword_violenc',         u'keyword_wife',\n",
    "              u'keyword_woman',         u'keyword_york']]"
   ]
  },
  {
   "cell_type": "code",
   "execution_count": 25,
   "metadata": {
    "collapsed": true
   },
   "outputs": [],
   "source": [
    "x_train, x_test, y_train, y_test = train_test_split(x,y)"
   ]
  },
  {
   "cell_type": "markdown",
   "metadata": {},
   "source": [
    "## TFIDF"
   ]
  },
  {
   "cell_type": "code",
   "execution_count": 10,
   "metadata": {
    "collapsed": true
   },
   "outputs": [],
   "source": [
    "## make lists of all plots before tfidf\n",
    "## new df joining xtrain and ytrain\n",
    "## subset of cancelled and renewed plots\n",
    "## single list of words for cancelled plots, single list of words for renewed plots"
   ]
  },
  {
   "cell_type": "code",
   "execution_count": null,
   "metadata": {
    "collapsed": true
   },
   "outputs": [],
   "source": []
  },
  {
   "cell_type": "code",
   "execution_count": 26,
   "metadata": {
    "collapsed": true
   },
   "outputs": [],
   "source": [
    "training_set_for_plots = pd.concat([x_train, y_train], axis=1)"
   ]
  },
  {
   "cell_type": "code",
   "execution_count": 30,
   "metadata": {
    "collapsed": true
   },
   "outputs": [],
   "source": [
    "cancelled = training_set_for_plots[training_set_for_plots['cancelled'] == 1].dropna()\n",
    "renewed = training_set_for_plots[training_set_for_plots['cancelled'] == 0].dropna()"
   ]
  },
  {
   "cell_type": "code",
   "execution_count": 39,
   "metadata": {
    "collapsed": true
   },
   "outputs": [],
   "source": [
    "cancelled_plots = list(cancelled['stemmed_plot'])\n",
    "renewed_plots = list(renewed['stemmed_plot'])"
   ]
  },
  {
   "cell_type": "code",
   "execution_count": 42,
   "metadata": {
    "collapsed": false
   },
   "outputs": [],
   "source": [
    "new_cancelled_plots = \"\"\n",
    "for i in cancelled_plots:\n",
    "    new_cancelled_plots += (i + \" \")"
   ]
  },
  {
   "cell_type": "code",
   "execution_count": 44,
   "metadata": {
    "collapsed": false
   },
   "outputs": [],
   "source": [
    "new_renewed_plots = \"\"\n",
    "for i in renewed_plots:\n",
    "    new_renewed_plots += (i + \" \")"
   ]
  },
  {
   "cell_type": "code",
   "execution_count": 46,
   "metadata": {
    "collapsed": false
   },
   "outputs": [
    {
     "data": {
      "text/plain": [
       "TfidfVectorizer(analyzer=u'word', binary=False, decode_error=u'strict',\n",
       "        dtype=<type 'numpy.int64'>, encoding=u'utf-8', input=u'content',\n",
       "        lowercase=True, max_df=1.0, max_features=None, min_df=1,\n",
       "        ngram_range=(1, 1), norm=u'l2', preprocessor=None, smooth_idf=True,\n",
       "        stop_words='english', strip_accents=None, sublinear_tf=False,\n",
       "        token_pattern=u'(?u)\\\\b\\\\w\\\\w+\\\\b', tokenizer=None, use_idf=True,\n",
       "        vocabulary=None)"
      ]
     },
     "execution_count": 46,
     "metadata": {},
     "output_type": "execute_result"
    }
   ],
   "source": [
    "tvec = TfidfVectorizer(stop_words='english')\n",
    "tvec.fit([new_cancelled_plots, new_renewed_plots])"
   ]
  },
  {
   "cell_type": "code",
   "execution_count": 50,
   "metadata": {
    "collapsed": false
   },
   "outputs": [],
   "source": [
    "tfidf_plotwords  = pd.DataFrame(tvec.transform([new_cancelled_plots, new_renewed_plots]).todense(),\n",
    "                   columns=tvec.get_feature_names(),\n",
    "                   index=['cancelled', 'renewed'])"
   ]
  },
  {
   "cell_type": "code",
   "execution_count": 51,
   "metadata": {
    "collapsed": false
   },
   "outputs": [
    {
     "data": {
      "text/html": [
       "<div>\n",
       "<table border=\"1\" class=\"dataframe\">\n",
       "  <thead>\n",
       "    <tr style=\"text-align: right;\">\n",
       "      <th></th>\n",
       "      <th>10</th>\n",
       "      <th>100</th>\n",
       "      <th>10000</th>\n",
       "      <th>100000</th>\n",
       "      <th>1000000</th>\n",
       "      <th>101</th>\n",
       "      <th>1013</th>\n",
       "      <th>101st</th>\n",
       "      <th>10hour</th>\n",
       "      <th>10store</th>\n",
       "      <th>...</th>\n",
       "      <th>zoe</th>\n",
       "      <th>zoey</th>\n",
       "      <th>zombro</th>\n",
       "      <th>zoo</th>\n",
       "      <th>zookeep</th>\n",
       "      <th>zorak</th>\n",
       "      <th>zord</th>\n",
       "      <th>zordon</th>\n",
       "      <th>zowi</th>\n",
       "      <th>zuri</th>\n",
       "    </tr>\n",
       "  </thead>\n",
       "  <tbody>\n",
       "    <tr>\n",
       "      <th>cancelled</th>\n",
       "      <td>0.002530</td>\n",
       "      <td>0.00000</td>\n",
       "      <td>0.000000</td>\n",
       "      <td>0.002530</td>\n",
       "      <td>0.000000</td>\n",
       "      <td>0.000000</td>\n",
       "      <td>0.000000</td>\n",
       "      <td>0.003555</td>\n",
       "      <td>0.003555</td>\n",
       "      <td>0.000000</td>\n",
       "      <td>...</td>\n",
       "      <td>0.010119</td>\n",
       "      <td>0.000000</td>\n",
       "      <td>0.000000</td>\n",
       "      <td>0.000000</td>\n",
       "      <td>0.000000</td>\n",
       "      <td>0.000000</td>\n",
       "      <td>0.000000</td>\n",
       "      <td>0.000000</td>\n",
       "      <td>0.000000</td>\n",
       "      <td>0.000000</td>\n",
       "    </tr>\n",
       "    <tr>\n",
       "      <th>renewed</th>\n",
       "      <td>0.005856</td>\n",
       "      <td>0.00823</td>\n",
       "      <td>0.001646</td>\n",
       "      <td>0.001171</td>\n",
       "      <td>0.001646</td>\n",
       "      <td>0.001646</td>\n",
       "      <td>0.001646</td>\n",
       "      <td>0.000000</td>\n",
       "      <td>0.000000</td>\n",
       "      <td>0.001646</td>\n",
       "      <td>...</td>\n",
       "      <td>0.001171</td>\n",
       "      <td>0.006584</td>\n",
       "      <td>0.001646</td>\n",
       "      <td>0.003292</td>\n",
       "      <td>0.001646</td>\n",
       "      <td>0.001646</td>\n",
       "      <td>0.001646</td>\n",
       "      <td>0.001646</td>\n",
       "      <td>0.001646</td>\n",
       "      <td>0.001646</td>\n",
       "    </tr>\n",
       "  </tbody>\n",
       "</table>\n",
       "<p>2 rows × 7444 columns</p>\n",
       "</div>"
      ],
      "text/plain": [
       "                 10      100     10000    100000   1000000       101  \\\n",
       "cancelled  0.002530  0.00000  0.000000  0.002530  0.000000  0.000000   \n",
       "renewed    0.005856  0.00823  0.001646  0.001171  0.001646  0.001646   \n",
       "\n",
       "               1013     101st    10hour   10store    ...          zoe  \\\n",
       "cancelled  0.000000  0.003555  0.003555  0.000000    ...     0.010119   \n",
       "renewed    0.001646  0.000000  0.000000  0.001646    ...     0.001171   \n",
       "\n",
       "               zoey    zombro       zoo   zookeep     zorak      zord  \\\n",
       "cancelled  0.000000  0.000000  0.000000  0.000000  0.000000  0.000000   \n",
       "renewed    0.006584  0.001646  0.003292  0.001646  0.001646  0.001646   \n",
       "\n",
       "             zordon      zowi      zuri  \n",
       "cancelled  0.000000  0.000000  0.000000  \n",
       "renewed    0.001646  0.001646  0.001646  \n",
       "\n",
       "[2 rows x 7444 columns]"
      ]
     },
     "execution_count": 51,
     "metadata": {},
     "output_type": "execute_result"
    }
   ],
   "source": [
    "tfidf_plotwords.head()"
   ]
  },
  {
   "cell_type": "code",
   "execution_count": 54,
   "metadata": {
    "collapsed": false
   },
   "outputs": [
    {
     "data": {
      "text/html": [
       "<div>\n",
       "<table border=\"1\" class=\"dataframe\">\n",
       "  <thead>\n",
       "    <tr style=\"text-align: right;\">\n",
       "      <th></th>\n",
       "      <th>hi</th>\n",
       "      <th>ha</th>\n",
       "      <th>thi</th>\n",
       "      <th>life</th>\n",
       "      <th>live</th>\n",
       "      <th>new</th>\n",
       "      <th>famili</th>\n",
       "      <th>seri</th>\n",
       "      <th>work</th>\n",
       "      <th>friend</th>\n",
       "      <th>world</th>\n",
       "      <th>tri</th>\n",
       "      <th>wa</th>\n",
       "      <th>onli</th>\n",
       "      <th>brother</th>\n",
       "      <th>young</th>\n",
       "      <th>school</th>\n",
       "      <th>man</th>\n",
       "      <th>year</th>\n",
       "      <th>help</th>\n",
       "    </tr>\n",
       "  </thead>\n",
       "  <tbody>\n",
       "    <tr>\n",
       "      <th>cancelled</th>\n",
       "      <td>0.612182</td>\n",
       "      <td>0.169488</td>\n",
       "      <td>0.146721</td>\n",
       "      <td>0.141662</td>\n",
       "      <td>0.141662</td>\n",
       "      <td>0.136602</td>\n",
       "      <td>0.134073</td>\n",
       "      <td>0.131543</td>\n",
       "      <td>0.126484</td>\n",
       "      <td>0.123954</td>\n",
       "      <td>0.116365</td>\n",
       "      <td>0.093598</td>\n",
       "      <td>0.091068</td>\n",
       "      <td>0.086009</td>\n",
       "      <td>0.083479</td>\n",
       "      <td>0.078420</td>\n",
       "      <td>0.075890</td>\n",
       "      <td>0.073361</td>\n",
       "      <td>0.070831</td>\n",
       "      <td>0.070831</td>\n",
       "    </tr>\n",
       "    <tr>\n",
       "      <th>renewed</th>\n",
       "      <td>0.553938</td>\n",
       "      <td>0.151074</td>\n",
       "      <td>0.151074</td>\n",
       "      <td>0.189721</td>\n",
       "      <td>0.195576</td>\n",
       "      <td>0.154587</td>\n",
       "      <td>0.161614</td>\n",
       "      <td>0.133507</td>\n",
       "      <td>0.106571</td>\n",
       "      <td>0.174496</td>\n",
       "      <td>0.097203</td>\n",
       "      <td>0.105400</td>\n",
       "      <td>0.073780</td>\n",
       "      <td>0.074951</td>\n",
       "      <td>0.053871</td>\n",
       "      <td>0.053871</td>\n",
       "      <td>0.101887</td>\n",
       "      <td>0.037476</td>\n",
       "      <td>0.066754</td>\n",
       "      <td>0.078465</td>\n",
       "    </tr>\n",
       "  </tbody>\n",
       "</table>\n",
       "</div>"
      ],
      "text/plain": [
       "                 hi        ha       thi      life      live       new  \\\n",
       "cancelled  0.612182  0.169488  0.146721  0.141662  0.141662  0.136602   \n",
       "renewed    0.553938  0.151074  0.151074  0.189721  0.195576  0.154587   \n",
       "\n",
       "             famili      seri      work    friend     world       tri  \\\n",
       "cancelled  0.134073  0.131543  0.126484  0.123954  0.116365  0.093598   \n",
       "renewed    0.161614  0.133507  0.106571  0.174496  0.097203  0.105400   \n",
       "\n",
       "                 wa      onli   brother     young    school       man  \\\n",
       "cancelled  0.091068  0.086009  0.083479  0.078420  0.075890  0.073361   \n",
       "renewed    0.073780  0.074951  0.053871  0.053871  0.101887  0.037476   \n",
       "\n",
       "               year      help  \n",
       "cancelled  0.070831  0.070831  \n",
       "renewed    0.066754  0.078465  "
      ]
     },
     "execution_count": 54,
     "metadata": {},
     "output_type": "execute_result"
    }
   ],
   "source": [
    "tfidf_plotwords.transpose().sort_values('cancelled', ascending=False).head(20).transpose()"
   ]
  },
  {
   "cell_type": "code",
   "execution_count": null,
   "metadata": {
    "collapsed": true
   },
   "outputs": [],
   "source": []
  }
 ],
 "metadata": {
  "anaconda-cloud": {},
  "kernelspec": {
   "display_name": "Python [Root]",
   "language": "python",
   "name": "Python [Root]"
  },
  "language_info": {
   "codemirror_mode": {
    "name": "ipython",
    "version": 2
   },
   "file_extension": ".py",
   "mimetype": "text/x-python",
   "name": "python",
   "nbconvert_exporter": "python",
   "pygments_lexer": "ipython2",
   "version": "2.7.12"
  }
 },
 "nbformat": 4,
 "nbformat_minor": 0
}
